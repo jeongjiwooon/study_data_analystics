{
 "cells": [
  {
   "cell_type": "code",
   "execution_count": 9,
   "id": "790f4525-26e0-4f3a-99af-60a79e903bdb",
   "metadata": {
    "tags": []
   },
   "outputs": [],
   "source": [
    "import pymongo as mg\n",
    "import pandas as pd"
   ]
  },
  {
   "cell_type": "code",
   "execution_count": 10,
   "id": "de172759-3fa5-40e9-90e4-4376dc242410",
   "metadata": {
    "tags": []
   },
   "outputs": [
    {
     "data": {
      "text/plain": [
       "MongoClient(host=['localhost:27017'], document_class=dict, tz_aware=False, connect=True)"
      ]
     },
     "execution_count": 10,
     "metadata": {},
     "output_type": "execute_result"
    }
   ],
   "source": [
    "client = mg.MongoClient(host='mongodb://localhost:27017/') # mongodb에 접속.\n",
    "client"
   ]
  },
  {
   "cell_type": "code",
   "execution_count": 11,
   "id": "ec21f78d-a14d-47bc-9db3-d1af0bfa224d",
   "metadata": {
    "tags": []
   },
   "outputs": [
    {
     "data": {
      "text/plain": [
       "Database(MongoClient(host=['localhost:27017'], document_class=dict, tz_aware=False, connect=True), 'db_medicals')"
      ]
     },
     "execution_count": 11,
     "metadata": {},
     "output_type": "execute_result"
    }
   ],
   "source": [
    "database = client['db_medicals'] # database 접속\n",
    "database "
   ]
  },
  {
   "cell_type": "code",
   "execution_count": 12,
   "id": "11e989be-ab29-4883-ad3e-06edc77edde8",
   "metadata": {
    "tags": []
   },
   "outputs": [
    {
     "data": {
      "text/plain": [
       "Collection(Database(MongoClient(host=['localhost:27017'], document_class=dict, tz_aware=False, connect=True), 'db_medicals'), 'RecurrenceOfSurgery')"
      ]
     },
     "execution_count": 12,
     "metadata": {},
     "output_type": "execute_result"
    }
   ],
   "source": [
    "collection = database['RecurrenceOfSurgery'] #collection 접속\n",
    "collection"
   ]
  },
  {
   "cell_type": "code",
   "execution_count": 13,
   "id": "d79ac57f-8ca7-4bc6-bc5d-2e671b7e6827",
   "metadata": {
    "tags": []
   },
   "outputs": [],
   "source": [
    "cursor = collection.find({}) # collection 내의 자료 확인\n",
    "data_list = list(cursor)"
   ]
  },
  {
   "cell_type": "code",
   "execution_count": 14,
   "id": "599c7e15-3127-4396-a810-b020a848970a",
   "metadata": {
    "tags": []
   },
   "outputs": [
    {
     "data": {
      "text/html": [
       "<div>\n",
       "<style scoped>\n",
       "    .dataframe tbody tr th:only-of-type {\n",
       "        vertical-align: middle;\n",
       "    }\n",
       "\n",
       "    .dataframe tbody tr th {\n",
       "        vertical-align: top;\n",
       "    }\n",
       "\n",
       "    .dataframe thead th {\n",
       "        text-align: right;\n",
       "    }\n",
       "</style>\n",
       "<table border=\"1\" class=\"dataframe\">\n",
       "  <thead>\n",
       "    <tr style=\"text-align: right;\">\n",
       "      <th></th>\n",
       "      <th>_id</th>\n",
       "      <th>Unnamed: 0</th>\n",
       "      <th>환자ID</th>\n",
       "      <th>Large Lymphocyte</th>\n",
       "      <th>Location of herniation</th>\n",
       "      <th>ODI</th>\n",
       "      <th>가족력</th>\n",
       "      <th>간질성폐질환</th>\n",
       "      <th>고혈압여부</th>\n",
       "      <th>과거수술횟수</th>\n",
       "      <th>...</th>\n",
       "      <th>Modic change</th>\n",
       "      <th>PI</th>\n",
       "      <th>PT</th>\n",
       "      <th>Seg Angle(raw)</th>\n",
       "      <th>Vaccum disc</th>\n",
       "      <th>골밀도</th>\n",
       "      <th>디스크단면적</th>\n",
       "      <th>디스크위치</th>\n",
       "      <th>척추이동척도</th>\n",
       "      <th>척추전방위증</th>\n",
       "    </tr>\n",
       "  </thead>\n",
       "  <tbody>\n",
       "    <tr>\n",
       "      <th>0</th>\n",
       "      <td>64d377f5db47ffb29e6cdbde</td>\n",
       "      <td>0</td>\n",
       "      <td>1PT</td>\n",
       "      <td>22.8</td>\n",
       "      <td>3</td>\n",
       "      <td>51.0</td>\n",
       "      <td>0.0</td>\n",
       "      <td>0</td>\n",
       "      <td>0</td>\n",
       "      <td>0</td>\n",
       "      <td>...</td>\n",
       "      <td>3</td>\n",
       "      <td>51.6</td>\n",
       "      <td>36.6</td>\n",
       "      <td>14.4</td>\n",
       "      <td>0</td>\n",
       "      <td>-1.01</td>\n",
       "      <td>2048.5</td>\n",
       "      <td>4</td>\n",
       "      <td>Down</td>\n",
       "      <td>0</td>\n",
       "    </tr>\n",
       "    <tr>\n",
       "      <th>1</th>\n",
       "      <td>64d377f5db47ffb29e6cdbdf</td>\n",
       "      <td>1</td>\n",
       "      <td>2PT</td>\n",
       "      <td>44.9</td>\n",
       "      <td>4</td>\n",
       "      <td>26.0</td>\n",
       "      <td>0.0</td>\n",
       "      <td>0</td>\n",
       "      <td>0</td>\n",
       "      <td>0</td>\n",
       "      <td>...</td>\n",
       "      <td>0</td>\n",
       "      <td>40.8</td>\n",
       "      <td>7.2</td>\n",
       "      <td>17.8</td>\n",
       "      <td>0</td>\n",
       "      <td>-1.14</td>\n",
       "      <td>1753.1</td>\n",
       "      <td>4</td>\n",
       "      <td>Up</td>\n",
       "      <td>0</td>\n",
       "    </tr>\n",
       "  </tbody>\n",
       "</table>\n",
       "<p>2 rows × 53 columns</p>\n",
       "</div>"
      ],
      "text/plain": [
       "                        _id  Unnamed: 0 환자ID  Large Lymphocyte  \\\n",
       "0  64d377f5db47ffb29e6cdbde           0  1PT              22.8   \n",
       "1  64d377f5db47ffb29e6cdbdf           1  2PT              44.9   \n",
       "\n",
       "   Location of herniation   ODI  가족력  간질성폐질환  고혈압여부  과거수술횟수  ...  \\\n",
       "0                       3  51.0  0.0       0      0       0  ...   \n",
       "1                       4  26.0  0.0       0      0       0  ...   \n",
       "\n",
       "   Modic change    PI    PT  Seg Angle(raw)  Vaccum disc   골밀도  디스크단면적  디스크위치  \\\n",
       "0             3  51.6  36.6            14.4            0 -1.01  2048.5      4   \n",
       "1             0  40.8   7.2            17.8            0 -1.14  1753.1      4   \n",
       "\n",
       "   척추이동척도  척추전방위증  \n",
       "0    Down       0  \n",
       "1      Up       0  \n",
       "\n",
       "[2 rows x 53 columns]"
      ]
     },
     "execution_count": 14,
     "metadata": {},
     "output_type": "execute_result"
    }
   ],
   "source": [
    "df_ROS = pd.DataFrame(data_list)\n",
    "df_ROS.head(2)"
   ]
  },
  {
   "cell_type": "code",
   "execution_count": 15,
   "id": "706f3514-9ddf-4ffc-820a-cd19993fe77a",
   "metadata": {
    "tags": []
   },
   "outputs": [
    {
     "data": {
      "text/plain": [
       "Index(['_id', 'Unnamed: 0', '환자ID', 'Large Lymphocyte',\n",
       "       'Location of herniation', 'ODI', '가족력', '간질성폐질환', '고혈압여부', '과거수술횟수',\n",
       "       '당뇨여부', '말초동맥질환여부', '빈혈여부', '성별', '스테로이드치료', '신부전여부', '신장', '심혈관질환',\n",
       "       '암발병여부', '연령', '우울증여부', '입원기간', '입원일자', '종양진행여부', '직업', '체중', '퇴원일자',\n",
       "       '헤모글로빈수치', '혈전합병증여부', '환자통증정도', '흡연여부', '통증기간(월)', '수술기법', '수술시간',\n",
       "       '수술실패여부', '수술일자', '재발여부', '혈액형', '전방디스크높이(mm)', '후방디스크높이(mm)', '지방축적도',\n",
       "       'Instability', 'MF + ES', 'Modic change', 'PI', 'PT', 'Seg Angle(raw)',\n",
       "       'Vaccum disc', '골밀도', '디스크단면적', '디스크위치', '척추이동척도', '척추전방위증'],\n",
       "      dtype='object')"
      ]
     },
     "execution_count": 15,
     "metadata": {},
     "output_type": "execute_result"
    }
   ],
   "source": [
    "df_ROS.columns"
   ]
  },
  {
   "cell_type": "code",
   "execution_count": 16,
   "id": "d9c5de1d-6ad7-4677-91c3-8d9f90e1a769",
   "metadata": {
    "tags": []
   },
   "outputs": [
    {
     "name": "stdout",
     "output_type": "stream",
     "text": [
      "<class 'pandas.core.frame.DataFrame'>\n",
      "RangeIndex: 1894 entries, 0 to 1893\n",
      "Data columns (total 53 columns):\n",
      " #   Column                  Non-Null Count  Dtype  \n",
      "---  ------                  --------------  -----  \n",
      " 0   _id                     1894 non-null   object \n",
      " 1   Unnamed: 0              1894 non-null   int64  \n",
      " 2   환자ID                    1894 non-null   object \n",
      " 3   Large Lymphocyte        1894 non-null   float64\n",
      " 4   Location of herniation  1894 non-null   int64  \n",
      " 5   ODI                     462 non-null    float64\n",
      " 6   가족력                     1843 non-null   float64\n",
      " 7   간질성폐질환                  1894 non-null   int64  \n",
      " 8   고혈압여부                   1894 non-null   int64  \n",
      " 9   과거수술횟수                  1894 non-null   int64  \n",
      " 10  당뇨여부                    1894 non-null   int64  \n",
      " 11  말초동맥질환여부                1894 non-null   int64  \n",
      " 12  빈혈여부                    1894 non-null   int64  \n",
      " 13  성별                      1894 non-null   int64  \n",
      " 14  스테로이드치료                 1894 non-null   int64  \n",
      " 15  신부전여부                   1894 non-null   int64  \n",
      " 16  신장                      1894 non-null   int64  \n",
      " 17  심혈관질환                   1894 non-null   int64  \n",
      " 18  암발병여부                   1894 non-null   int64  \n",
      " 19  연령                      1894 non-null   int64  \n",
      " 20  우울증여부                   1894 non-null   int64  \n",
      " 21  입원기간                    1894 non-null   int64  \n",
      " 22  입원일자                    1894 non-null   int64  \n",
      " 23  종양진행여부                  1894 non-null   int64  \n",
      " 24  직업                      1479 non-null   object \n",
      " 25  체중                      1894 non-null   float64\n",
      " 26  퇴원일자                    1894 non-null   int64  \n",
      " 27  헤모글로빈수치                 1893 non-null   float64\n",
      " 28  혈전합병증여부                 1894 non-null   int64  \n",
      " 29  환자통증정도                  1894 non-null   int64  \n",
      " 30  흡연여부                    1894 non-null   int64  \n",
      " 31  통증기간(월)                 1890 non-null   float64\n",
      " 32  수술기법                    1813 non-null   object \n",
      " 33  수술시간                    1840 non-null   float64\n",
      " 34  수술실패여부                  1894 non-null   int64  \n",
      " 35  수술일자                    1894 non-null   int64  \n",
      " 36  재발여부                    1894 non-null   int64  \n",
      " 37  혈액형                     1894 non-null   object \n",
      " 38  전방디스크높이(mm)             1894 non-null   float64\n",
      " 39  후방디스크높이(mm)             1894 non-null   float64\n",
      " 40  지방축적도                   1891 non-null   float64\n",
      " 41  Instability             1894 non-null   int64  \n",
      " 42  MF + ES                 1894 non-null   float64\n",
      " 43  Modic change            1894 non-null   int64  \n",
      " 44  PI                      1890 non-null   float64\n",
      " 45  PT                      1890 non-null   float64\n",
      " 46  Seg Angle(raw)          1893 non-null   float64\n",
      " 47  Vaccum disc             1894 non-null   int64  \n",
      " 48  골밀도                     998 non-null    float64\n",
      " 49  디스크단면적                  1893 non-null   float64\n",
      " 50  디스크위치                   1894 non-null   int64  \n",
      " 51  척추이동척도                  1894 non-null   object \n",
      " 52  척추전방위증                  1894 non-null   int64  \n",
      "dtypes: float64(16), int64(31), object(6)\n",
      "memory usage: 784.4+ KB\n"
     ]
    }
   ],
   "source": [
    "df_ROS.info()"
   ]
  },
  {
   "cell_type": "code",
   "execution_count": 17,
   "id": "b2a189e7-aa73-4c89-b750-022bfca58a85",
   "metadata": {
    "tags": []
   },
   "outputs": [
    {
     "data": {
      "text/html": [
       "<div>\n",
       "<style scoped>\n",
       "    .dataframe tbody tr th:only-of-type {\n",
       "        vertical-align: middle;\n",
       "    }\n",
       "\n",
       "    .dataframe tbody tr th {\n",
       "        vertical-align: top;\n",
       "    }\n",
       "\n",
       "    .dataframe thead th {\n",
       "        text-align: right;\n",
       "    }\n",
       "</style>\n",
       "<table border=\"1\" class=\"dataframe\">\n",
       "  <thead>\n",
       "    <tr style=\"text-align: right;\">\n",
       "      <th></th>\n",
       "      <th>환자ID</th>\n",
       "      <th>Large Lymphocyte</th>\n",
       "      <th>Location of herniation</th>\n",
       "      <th>ODI</th>\n",
       "      <th>가족력</th>\n",
       "      <th>간질성폐질환</th>\n",
       "      <th>고혈압여부</th>\n",
       "      <th>과거수술횟수</th>\n",
       "      <th>당뇨여부</th>\n",
       "      <th>말초동맥질환여부</th>\n",
       "      <th>...</th>\n",
       "      <th>Modic change</th>\n",
       "      <th>PI</th>\n",
       "      <th>PT</th>\n",
       "      <th>Seg Angle(raw)</th>\n",
       "      <th>Vaccum disc</th>\n",
       "      <th>골밀도</th>\n",
       "      <th>디스크단면적</th>\n",
       "      <th>디스크위치</th>\n",
       "      <th>척추이동척도</th>\n",
       "      <th>척추전방위증</th>\n",
       "    </tr>\n",
       "  </thead>\n",
       "  <tbody>\n",
       "    <tr>\n",
       "      <th>0</th>\n",
       "      <td>1PT</td>\n",
       "      <td>22.8</td>\n",
       "      <td>3</td>\n",
       "      <td>51.0</td>\n",
       "      <td>0.0</td>\n",
       "      <td>0</td>\n",
       "      <td>0</td>\n",
       "      <td>0</td>\n",
       "      <td>0</td>\n",
       "      <td>0</td>\n",
       "      <td>...</td>\n",
       "      <td>3</td>\n",
       "      <td>51.6</td>\n",
       "      <td>36.6</td>\n",
       "      <td>14.4</td>\n",
       "      <td>0</td>\n",
       "      <td>-1.01</td>\n",
       "      <td>2048.50</td>\n",
       "      <td>4</td>\n",
       "      <td>Down</td>\n",
       "      <td>0</td>\n",
       "    </tr>\n",
       "    <tr>\n",
       "      <th>1</th>\n",
       "      <td>2PT</td>\n",
       "      <td>44.9</td>\n",
       "      <td>4</td>\n",
       "      <td>26.0</td>\n",
       "      <td>0.0</td>\n",
       "      <td>0</td>\n",
       "      <td>0</td>\n",
       "      <td>0</td>\n",
       "      <td>0</td>\n",
       "      <td>0</td>\n",
       "      <td>...</td>\n",
       "      <td>0</td>\n",
       "      <td>40.8</td>\n",
       "      <td>7.2</td>\n",
       "      <td>17.8</td>\n",
       "      <td>0</td>\n",
       "      <td>-1.14</td>\n",
       "      <td>1753.10</td>\n",
       "      <td>4</td>\n",
       "      <td>Up</td>\n",
       "      <td>0</td>\n",
       "    </tr>\n",
       "    <tr>\n",
       "      <th>2</th>\n",
       "      <td>3PT</td>\n",
       "      <td>53.0</td>\n",
       "      <td>3</td>\n",
       "      <td>NaN</td>\n",
       "      <td>0.0</td>\n",
       "      <td>0</td>\n",
       "      <td>0</td>\n",
       "      <td>1</td>\n",
       "      <td>0</td>\n",
       "      <td>0</td>\n",
       "      <td>...</td>\n",
       "      <td>0</td>\n",
       "      <td>67.5</td>\n",
       "      <td>27.3</td>\n",
       "      <td>10.2</td>\n",
       "      <td>0</td>\n",
       "      <td>-1.77</td>\n",
       "      <td>1749.00</td>\n",
       "      <td>4</td>\n",
       "      <td>Down</td>\n",
       "      <td>0</td>\n",
       "    </tr>\n",
       "    <tr>\n",
       "      <th>3</th>\n",
       "      <td>4PT</td>\n",
       "      <td>54.7</td>\n",
       "      <td>4</td>\n",
       "      <td>18.0</td>\n",
       "      <td>0.0</td>\n",
       "      <td>0</td>\n",
       "      <td>1</td>\n",
       "      <td>0</td>\n",
       "      <td>0</td>\n",
       "      <td>0</td>\n",
       "      <td>...</td>\n",
       "      <td>0</td>\n",
       "      <td>49.2</td>\n",
       "      <td>18.7</td>\n",
       "      <td>19.9</td>\n",
       "      <td>0</td>\n",
       "      <td>-1.58</td>\n",
       "      <td>1796.20</td>\n",
       "      <td>4</td>\n",
       "      <td>Down</td>\n",
       "      <td>0</td>\n",
       "    </tr>\n",
       "    <tr>\n",
       "      <th>4</th>\n",
       "      <td>5PT</td>\n",
       "      <td>53.8</td>\n",
       "      <td>4</td>\n",
       "      <td>NaN</td>\n",
       "      <td>0.0</td>\n",
       "      <td>0</td>\n",
       "      <td>1</td>\n",
       "      <td>0</td>\n",
       "      <td>0</td>\n",
       "      <td>0</td>\n",
       "      <td>...</td>\n",
       "      <td>0</td>\n",
       "      <td>58.8</td>\n",
       "      <td>14.7</td>\n",
       "      <td>5.2</td>\n",
       "      <td>0</td>\n",
       "      <td>-0.79</td>\n",
       "      <td>2021.48</td>\n",
       "      <td>4</td>\n",
       "      <td>Up</td>\n",
       "      <td>0</td>\n",
       "    </tr>\n",
       "    <tr>\n",
       "      <th>...</th>\n",
       "      <td>...</td>\n",
       "      <td>...</td>\n",
       "      <td>...</td>\n",
       "      <td>...</td>\n",
       "      <td>...</td>\n",
       "      <td>...</td>\n",
       "      <td>...</td>\n",
       "      <td>...</td>\n",
       "      <td>...</td>\n",
       "      <td>...</td>\n",
       "      <td>...</td>\n",
       "      <td>...</td>\n",
       "      <td>...</td>\n",
       "      <td>...</td>\n",
       "      <td>...</td>\n",
       "      <td>...</td>\n",
       "      <td>...</td>\n",
       "      <td>...</td>\n",
       "      <td>...</td>\n",
       "      <td>...</td>\n",
       "      <td>...</td>\n",
       "    </tr>\n",
       "    <tr>\n",
       "      <th>1889</th>\n",
       "      <td>1890PT</td>\n",
       "      <td>44.0</td>\n",
       "      <td>1</td>\n",
       "      <td>NaN</td>\n",
       "      <td>0.0</td>\n",
       "      <td>0</td>\n",
       "      <td>0</td>\n",
       "      <td>0</td>\n",
       "      <td>0</td>\n",
       "      <td>0</td>\n",
       "      <td>...</td>\n",
       "      <td>2</td>\n",
       "      <td>59.5</td>\n",
       "      <td>23.0</td>\n",
       "      <td>21.8</td>\n",
       "      <td>0</td>\n",
       "      <td>NaN</td>\n",
       "      <td>2652.20</td>\n",
       "      <td>5</td>\n",
       "      <td>Middle</td>\n",
       "      <td>0</td>\n",
       "    </tr>\n",
       "    <tr>\n",
       "      <th>1890</th>\n",
       "      <td>1891PT</td>\n",
       "      <td>30.8</td>\n",
       "      <td>2</td>\n",
       "      <td>NaN</td>\n",
       "      <td>0.0</td>\n",
       "      <td>0</td>\n",
       "      <td>0</td>\n",
       "      <td>0</td>\n",
       "      <td>0</td>\n",
       "      <td>0</td>\n",
       "      <td>...</td>\n",
       "      <td>0</td>\n",
       "      <td>47.7</td>\n",
       "      <td>20.2</td>\n",
       "      <td>5.0</td>\n",
       "      <td>0</td>\n",
       "      <td>NaN</td>\n",
       "      <td>1795.80</td>\n",
       "      <td>4</td>\n",
       "      <td>Down</td>\n",
       "      <td>0</td>\n",
       "    </tr>\n",
       "    <tr>\n",
       "      <th>1891</th>\n",
       "      <td>1892PT</td>\n",
       "      <td>36.7</td>\n",
       "      <td>3</td>\n",
       "      <td>NaN</td>\n",
       "      <td>0.0</td>\n",
       "      <td>0</td>\n",
       "      <td>0</td>\n",
       "      <td>0</td>\n",
       "      <td>0</td>\n",
       "      <td>1</td>\n",
       "      <td>...</td>\n",
       "      <td>0</td>\n",
       "      <td>44.6</td>\n",
       "      <td>15.0</td>\n",
       "      <td>17.4</td>\n",
       "      <td>1</td>\n",
       "      <td>NaN</td>\n",
       "      <td>2624.40</td>\n",
       "      <td>4</td>\n",
       "      <td>Down</td>\n",
       "      <td>0</td>\n",
       "    </tr>\n",
       "    <tr>\n",
       "      <th>1892</th>\n",
       "      <td>1893PT</td>\n",
       "      <td>32.5</td>\n",
       "      <td>2</td>\n",
       "      <td>NaN</td>\n",
       "      <td>0.0</td>\n",
       "      <td>0</td>\n",
       "      <td>0</td>\n",
       "      <td>0</td>\n",
       "      <td>0</td>\n",
       "      <td>0</td>\n",
       "      <td>...</td>\n",
       "      <td>2</td>\n",
       "      <td>32.2</td>\n",
       "      <td>11.1</td>\n",
       "      <td>17.7</td>\n",
       "      <td>0</td>\n",
       "      <td>NaN</td>\n",
       "      <td>1972.50</td>\n",
       "      <td>5</td>\n",
       "      <td>Down</td>\n",
       "      <td>0</td>\n",
       "    </tr>\n",
       "    <tr>\n",
       "      <th>1893</th>\n",
       "      <td>1894PT</td>\n",
       "      <td>49.5</td>\n",
       "      <td>2</td>\n",
       "      <td>NaN</td>\n",
       "      <td>0.0</td>\n",
       "      <td>0</td>\n",
       "      <td>0</td>\n",
       "      <td>0</td>\n",
       "      <td>0</td>\n",
       "      <td>0</td>\n",
       "      <td>...</td>\n",
       "      <td>0</td>\n",
       "      <td>38.9</td>\n",
       "      <td>6.8</td>\n",
       "      <td>27.8</td>\n",
       "      <td>0</td>\n",
       "      <td>NaN</td>\n",
       "      <td>1574.40</td>\n",
       "      <td>5</td>\n",
       "      <td>Middle</td>\n",
       "      <td>0</td>\n",
       "    </tr>\n",
       "  </tbody>\n",
       "</table>\n",
       "<p>1894 rows × 51 columns</p>\n",
       "</div>"
      ],
      "text/plain": [
       "        환자ID  Large Lymphocyte  Location of herniation   ODI  가족력  간질성폐질환  \\\n",
       "0        1PT              22.8                       3  51.0  0.0       0   \n",
       "1        2PT              44.9                       4  26.0  0.0       0   \n",
       "2        3PT              53.0                       3   NaN  0.0       0   \n",
       "3        4PT              54.7                       4  18.0  0.0       0   \n",
       "4        5PT              53.8                       4   NaN  0.0       0   \n",
       "...      ...               ...                     ...   ...  ...     ...   \n",
       "1889  1890PT              44.0                       1   NaN  0.0       0   \n",
       "1890  1891PT              30.8                       2   NaN  0.0       0   \n",
       "1891  1892PT              36.7                       3   NaN  0.0       0   \n",
       "1892  1893PT              32.5                       2   NaN  0.0       0   \n",
       "1893  1894PT              49.5                       2   NaN  0.0       0   \n",
       "\n",
       "      고혈압여부  과거수술횟수  당뇨여부  말초동맥질환여부  ...  Modic change    PI    PT  \\\n",
       "0         0       0     0         0  ...             3  51.6  36.6   \n",
       "1         0       0     0         0  ...             0  40.8   7.2   \n",
       "2         0       1     0         0  ...             0  67.5  27.3   \n",
       "3         1       0     0         0  ...             0  49.2  18.7   \n",
       "4         1       0     0         0  ...             0  58.8  14.7   \n",
       "...     ...     ...   ...       ...  ...           ...   ...   ...   \n",
       "1889      0       0     0         0  ...             2  59.5  23.0   \n",
       "1890      0       0     0         0  ...             0  47.7  20.2   \n",
       "1891      0       0     0         1  ...             0  44.6  15.0   \n",
       "1892      0       0     0         0  ...             2  32.2  11.1   \n",
       "1893      0       0     0         0  ...             0  38.9   6.8   \n",
       "\n",
       "      Seg Angle(raw)  Vaccum disc   골밀도   디스크단면적  디스크위치  척추이동척도  척추전방위증  \n",
       "0               14.4            0 -1.01  2048.50      4    Down       0  \n",
       "1               17.8            0 -1.14  1753.10      4      Up       0  \n",
       "2               10.2            0 -1.77  1749.00      4    Down       0  \n",
       "3               19.9            0 -1.58  1796.20      4    Down       0  \n",
       "4                5.2            0 -0.79  2021.48      4      Up       0  \n",
       "...              ...          ...   ...      ...    ...     ...     ...  \n",
       "1889            21.8            0   NaN  2652.20      5  Middle       0  \n",
       "1890             5.0            0   NaN  1795.80      4    Down       0  \n",
       "1891            17.4            1   NaN  2624.40      4    Down       0  \n",
       "1892            17.7            0   NaN  1972.50      5    Down       0  \n",
       "1893            27.8            0   NaN  1574.40      5  Middle       0  \n",
       "\n",
       "[1894 rows x 51 columns]"
      ]
     },
     "execution_count": 17,
     "metadata": {},
     "output_type": "execute_result"
    }
   ],
   "source": [
    "df_ROS_drops = df_ROS.drop(columns=['_id', 'Unnamed: 0'])\n",
    "df_ROS_drops"
   ]
  },
  {
   "cell_type": "code",
   "execution_count": 18,
   "id": "e376862b-8b01-4b1e-9c77-ceb128926977",
   "metadata": {
    "tags": []
   },
   "outputs": [
    {
     "data": {
      "text/html": [
       "<div>\n",
       "<style scoped>\n",
       "    .dataframe tbody tr th:only-of-type {\n",
       "        vertical-align: middle;\n",
       "    }\n",
       "\n",
       "    .dataframe tbody tr th {\n",
       "        vertical-align: top;\n",
       "    }\n",
       "\n",
       "    .dataframe thead th {\n",
       "        text-align: right;\n",
       "    }\n",
       "</style>\n",
       "<table border=\"1\" class=\"dataframe\">\n",
       "  <thead>\n",
       "    <tr style=\"text-align: right;\">\n",
       "      <th></th>\n",
       "      <th>Large Lymphocyte</th>\n",
       "      <th>Location of herniation</th>\n",
       "      <th>ODI</th>\n",
       "      <th>가족력</th>\n",
       "      <th>간질성폐질환</th>\n",
       "      <th>고혈압여부</th>\n",
       "      <th>과거수술횟수</th>\n",
       "      <th>당뇨여부</th>\n",
       "      <th>말초동맥질환여부</th>\n",
       "      <th>빈혈여부</th>\n",
       "      <th>...</th>\n",
       "      <th>MF + ES</th>\n",
       "      <th>Modic change</th>\n",
       "      <th>PI</th>\n",
       "      <th>PT</th>\n",
       "      <th>Seg Angle(raw)</th>\n",
       "      <th>Vaccum disc</th>\n",
       "      <th>골밀도</th>\n",
       "      <th>디스크단면적</th>\n",
       "      <th>디스크위치</th>\n",
       "      <th>척추전방위증</th>\n",
       "    </tr>\n",
       "  </thead>\n",
       "  <tbody>\n",
       "    <tr>\n",
       "      <th>count</th>\n",
       "      <td>1894.000000</td>\n",
       "      <td>1894.000000</td>\n",
       "      <td>462.000000</td>\n",
       "      <td>1843.000000</td>\n",
       "      <td>1894.000000</td>\n",
       "      <td>1894.000000</td>\n",
       "      <td>1894.000000</td>\n",
       "      <td>1894.000000</td>\n",
       "      <td>1894.000000</td>\n",
       "      <td>1894.000000</td>\n",
       "      <td>...</td>\n",
       "      <td>1894.000000</td>\n",
       "      <td>1894.000000</td>\n",
       "      <td>1890.000000</td>\n",
       "      <td>1890.000000</td>\n",
       "      <td>1893.000000</td>\n",
       "      <td>1894.000000</td>\n",
       "      <td>998.000000</td>\n",
       "      <td>1893.000000</td>\n",
       "      <td>1894.000000</td>\n",
       "      <td>1894.000000</td>\n",
       "    </tr>\n",
       "    <tr>\n",
       "      <th>mean</th>\n",
       "      <td>39.270750</td>\n",
       "      <td>2.295671</td>\n",
       "      <td>31.142857</td>\n",
       "      <td>0.049919</td>\n",
       "      <td>0.020063</td>\n",
       "      <td>0.130940</td>\n",
       "      <td>0.302534</td>\n",
       "      <td>0.062830</td>\n",
       "      <td>0.004224</td>\n",
       "      <td>0.024287</td>\n",
       "      <td>...</td>\n",
       "      <td>2096.421600</td>\n",
       "      <td>0.247096</td>\n",
       "      <td>46.593651</td>\n",
       "      <td>16.329841</td>\n",
       "      <td>15.287934</td>\n",
       "      <td>0.056494</td>\n",
       "      <td>-1.507325</td>\n",
       "      <td>1989.788774</td>\n",
       "      <td>4.430834</td>\n",
       "      <td>0.032207</td>\n",
       "    </tr>\n",
       "    <tr>\n",
       "      <th>std</th>\n",
       "      <td>13.675874</td>\n",
       "      <td>0.996143</td>\n",
       "      <td>10.131304</td>\n",
       "      <td>0.217836</td>\n",
       "      <td>0.140254</td>\n",
       "      <td>0.337424</td>\n",
       "      <td>0.638461</td>\n",
       "      <td>0.242721</td>\n",
       "      <td>0.064871</td>\n",
       "      <td>0.153980</td>\n",
       "      <td>...</td>\n",
       "      <td>472.834488</td>\n",
       "      <td>0.661506</td>\n",
       "      <td>22.736211</td>\n",
       "      <td>8.421322</td>\n",
       "      <td>10.426397</td>\n",
       "      <td>0.230935</td>\n",
       "      <td>0.495867</td>\n",
       "      <td>314.478436</td>\n",
       "      <td>3.595680</td>\n",
       "      <td>0.176596</td>\n",
       "    </tr>\n",
       "    <tr>\n",
       "      <th>min</th>\n",
       "      <td>0.000000</td>\n",
       "      <td>1.000000</td>\n",
       "      <td>4.000000</td>\n",
       "      <td>0.000000</td>\n",
       "      <td>0.000000</td>\n",
       "      <td>0.000000</td>\n",
       "      <td>0.000000</td>\n",
       "      <td>0.000000</td>\n",
       "      <td>0.000000</td>\n",
       "      <td>0.000000</td>\n",
       "      <td>...</td>\n",
       "      <td>1016.800000</td>\n",
       "      <td>0.000000</td>\n",
       "      <td>11.900000</td>\n",
       "      <td>-10.600000</td>\n",
       "      <td>-27.400000</td>\n",
       "      <td>0.000000</td>\n",
       "      <td>-2.840000</td>\n",
       "      <td>1145.800000</td>\n",
       "      <td>1.000000</td>\n",
       "      <td>0.000000</td>\n",
       "    </tr>\n",
       "    <tr>\n",
       "      <th>25%</th>\n",
       "      <td>30.700000</td>\n",
       "      <td>1.000000</td>\n",
       "      <td>24.250000</td>\n",
       "      <td>0.000000</td>\n",
       "      <td>0.000000</td>\n",
       "      <td>0.000000</td>\n",
       "      <td>0.000000</td>\n",
       "      <td>0.000000</td>\n",
       "      <td>0.000000</td>\n",
       "      <td>0.000000</td>\n",
       "      <td>...</td>\n",
       "      <td>1765.285000</td>\n",
       "      <td>0.000000</td>\n",
       "      <td>38.700000</td>\n",
       "      <td>10.500000</td>\n",
       "      <td>8.800000</td>\n",
       "      <td>0.000000</td>\n",
       "      <td>-1.820000</td>\n",
       "      <td>1777.000000</td>\n",
       "      <td>4.000000</td>\n",
       "      <td>0.000000</td>\n",
       "    </tr>\n",
       "    <tr>\n",
       "      <th>50%</th>\n",
       "      <td>40.200000</td>\n",
       "      <td>2.000000</td>\n",
       "      <td>31.500000</td>\n",
       "      <td>0.000000</td>\n",
       "      <td>0.000000</td>\n",
       "      <td>0.000000</td>\n",
       "      <td>0.000000</td>\n",
       "      <td>0.000000</td>\n",
       "      <td>0.000000</td>\n",
       "      <td>0.000000</td>\n",
       "      <td>...</td>\n",
       "      <td>2056.500000</td>\n",
       "      <td>0.000000</td>\n",
       "      <td>45.100000</td>\n",
       "      <td>15.700000</td>\n",
       "      <td>14.500000</td>\n",
       "      <td>0.000000</td>\n",
       "      <td>-1.520000</td>\n",
       "      <td>1985.500000</td>\n",
       "      <td>4.000000</td>\n",
       "      <td>0.000000</td>\n",
       "    </tr>\n",
       "    <tr>\n",
       "      <th>75%</th>\n",
       "      <td>48.600000</td>\n",
       "      <td>3.000000</td>\n",
       "      <td>38.000000</td>\n",
       "      <td>0.000000</td>\n",
       "      <td>0.000000</td>\n",
       "      <td>0.000000</td>\n",
       "      <td>0.000000</td>\n",
       "      <td>0.000000</td>\n",
       "      <td>0.000000</td>\n",
       "      <td>0.000000</td>\n",
       "      <td>...</td>\n",
       "      <td>2374.350000</td>\n",
       "      <td>0.000000</td>\n",
       "      <td>52.000000</td>\n",
       "      <td>21.400000</td>\n",
       "      <td>21.100000</td>\n",
       "      <td>0.000000</td>\n",
       "      <td>-1.202500</td>\n",
       "      <td>2178.500000</td>\n",
       "      <td>4.000000</td>\n",
       "      <td>0.000000</td>\n",
       "    </tr>\n",
       "    <tr>\n",
       "      <th>max</th>\n",
       "      <td>89.000000</td>\n",
       "      <td>5.000000</td>\n",
       "      <td>68.000000</td>\n",
       "      <td>1.000000</td>\n",
       "      <td>1.000000</td>\n",
       "      <td>1.000000</td>\n",
       "      <td>3.000000</td>\n",
       "      <td>1.000000</td>\n",
       "      <td>1.000000</td>\n",
       "      <td>1.000000</td>\n",
       "      <td>...</td>\n",
       "      <td>5569.000000</td>\n",
       "      <td>3.000000</td>\n",
       "      <td>559.000000</td>\n",
       "      <td>48.700000</td>\n",
       "      <td>165.000000</td>\n",
       "      <td>1.000000</td>\n",
       "      <td>1.700000</td>\n",
       "      <td>3214.200000</td>\n",
       "      <td>45.000000</td>\n",
       "      <td>1.000000</td>\n",
       "    </tr>\n",
       "  </tbody>\n",
       "</table>\n",
       "<p>8 rows × 46 columns</p>\n",
       "</div>"
      ],
      "text/plain": [
       "       Large Lymphocyte  Location of herniation         ODI          가족력  \\\n",
       "count       1894.000000             1894.000000  462.000000  1843.000000   \n",
       "mean          39.270750                2.295671   31.142857     0.049919   \n",
       "std           13.675874                0.996143   10.131304     0.217836   \n",
       "min            0.000000                1.000000    4.000000     0.000000   \n",
       "25%           30.700000                1.000000   24.250000     0.000000   \n",
       "50%           40.200000                2.000000   31.500000     0.000000   \n",
       "75%           48.600000                3.000000   38.000000     0.000000   \n",
       "max           89.000000                5.000000   68.000000     1.000000   \n",
       "\n",
       "            간질성폐질환        고혈압여부       과거수술횟수         당뇨여부     말초동맥질환여부  \\\n",
       "count  1894.000000  1894.000000  1894.000000  1894.000000  1894.000000   \n",
       "mean      0.020063     0.130940     0.302534     0.062830     0.004224   \n",
       "std       0.140254     0.337424     0.638461     0.242721     0.064871   \n",
       "min       0.000000     0.000000     0.000000     0.000000     0.000000   \n",
       "25%       0.000000     0.000000     0.000000     0.000000     0.000000   \n",
       "50%       0.000000     0.000000     0.000000     0.000000     0.000000   \n",
       "75%       0.000000     0.000000     0.000000     0.000000     0.000000   \n",
       "max       1.000000     1.000000     3.000000     1.000000     1.000000   \n",
       "\n",
       "              빈혈여부  ...      MF + ES  Modic change           PI           PT  \\\n",
       "count  1894.000000  ...  1894.000000   1894.000000  1890.000000  1890.000000   \n",
       "mean      0.024287  ...  2096.421600      0.247096    46.593651    16.329841   \n",
       "std       0.153980  ...   472.834488      0.661506    22.736211     8.421322   \n",
       "min       0.000000  ...  1016.800000      0.000000    11.900000   -10.600000   \n",
       "25%       0.000000  ...  1765.285000      0.000000    38.700000    10.500000   \n",
       "50%       0.000000  ...  2056.500000      0.000000    45.100000    15.700000   \n",
       "75%       0.000000  ...  2374.350000      0.000000    52.000000    21.400000   \n",
       "max       1.000000  ...  5569.000000      3.000000   559.000000    48.700000   \n",
       "\n",
       "       Seg Angle(raw)  Vaccum disc         골밀도       디스크단면적        디스크위치  \\\n",
       "count     1893.000000  1894.000000  998.000000  1893.000000  1894.000000   \n",
       "mean        15.287934     0.056494   -1.507325  1989.788774     4.430834   \n",
       "std         10.426397     0.230935    0.495867   314.478436     3.595680   \n",
       "min        -27.400000     0.000000   -2.840000  1145.800000     1.000000   \n",
       "25%          8.800000     0.000000   -1.820000  1777.000000     4.000000   \n",
       "50%         14.500000     0.000000   -1.520000  1985.500000     4.000000   \n",
       "75%         21.100000     0.000000   -1.202500  2178.500000     4.000000   \n",
       "max        165.000000     1.000000    1.700000  3214.200000    45.000000   \n",
       "\n",
       "            척추전방위증  \n",
       "count  1894.000000  \n",
       "mean      0.032207  \n",
       "std       0.176596  \n",
       "min       0.000000  \n",
       "25%       0.000000  \n",
       "50%       0.000000  \n",
       "75%       0.000000  \n",
       "max       1.000000  \n",
       "\n",
       "[8 rows x 46 columns]"
      ]
     },
     "execution_count": 18,
     "metadata": {},
     "output_type": "execute_result"
    }
   ],
   "source": [
    "df_ROS_drops.describe()"
   ]
  },
  {
   "cell_type": "code",
   "execution_count": 50,
   "id": "04235445-7595-4361-a3c5-f1be5f515086",
   "metadata": {
    "tags": []
   },
   "outputs": [
    {
     "data": {
      "text/html": [
       "<div>\n",
       "<style scoped>\n",
       "    .dataframe tbody tr th:only-of-type {\n",
       "        vertical-align: middle;\n",
       "    }\n",
       "\n",
       "    .dataframe tbody tr th {\n",
       "        vertical-align: top;\n",
       "    }\n",
       "\n",
       "    .dataframe thead th {\n",
       "        text-align: right;\n",
       "    }\n",
       "</style>\n",
       "<table border=\"1\" class=\"dataframe\">\n",
       "  <thead>\n",
       "    <tr style=\"text-align: right;\">\n",
       "      <th></th>\n",
       "      <th>환자ID</th>\n",
       "      <th>직업</th>\n",
       "      <th>수술기법</th>\n",
       "      <th>혈액형</th>\n",
       "      <th>척추이동척도</th>\n",
       "    </tr>\n",
       "  </thead>\n",
       "  <tbody>\n",
       "    <tr>\n",
       "      <th>count</th>\n",
       "      <td>1894</td>\n",
       "      <td>1479</td>\n",
       "      <td>1813</td>\n",
       "      <td>1894</td>\n",
       "      <td>1894</td>\n",
       "    </tr>\n",
       "    <tr>\n",
       "      <th>unique</th>\n",
       "      <td>1894</td>\n",
       "      <td>17</td>\n",
       "      <td>2</td>\n",
       "      <td>4</td>\n",
       "      <td>5</td>\n",
       "    </tr>\n",
       "    <tr>\n",
       "      <th>top</th>\n",
       "      <td>1PT</td>\n",
       "      <td>사무직</td>\n",
       "      <td>TELD</td>\n",
       "      <td>RH+A</td>\n",
       "      <td>Middle</td>\n",
       "    </tr>\n",
       "    <tr>\n",
       "      <th>freq</th>\n",
       "      <td>1</td>\n",
       "      <td>449</td>\n",
       "      <td>1673</td>\n",
       "      <td>688</td>\n",
       "      <td>1260</td>\n",
       "    </tr>\n",
       "  </tbody>\n",
       "</table>\n",
       "</div>"
      ],
      "text/plain": [
       "        환자ID    직업  수술기법   혈액형  척추이동척도\n",
       "count   1894  1479  1813  1894    1894\n",
       "unique  1894    17     2     4       5\n",
       "top      1PT   사무직  TELD  RH+A  Middle\n",
       "freq       1   449  1673   688    1260"
      ]
     },
     "execution_count": 50,
     "metadata": {},
     "output_type": "execute_result"
    }
   ],
   "source": [
    "df_ROS_drops.describe(include=object)"
   ]
  },
  {
   "cell_type": "code",
   "execution_count": 19,
   "id": "9ee28175-4e60-4fc3-8552-29d709009f01",
   "metadata": {
    "tags": []
   },
   "outputs": [
    {
     "data": {
      "text/plain": [
       "사무직      449\n",
       "자영업      171\n",
       "무직       164\n",
       "학생       135\n",
       "주부       114\n",
       "군인        90\n",
       "공무원       51\n",
       "운수업       50\n",
       "노동직       42\n",
       "농업        40\n",
       "의료직       40\n",
       "사업가       39\n",
       "교사        30\n",
       "특수전문직     23\n",
       "건설업       17\n",
       "운동선수      14\n",
       "예술가       10\n",
       "Name: 직업, dtype: int64"
      ]
     },
     "execution_count": 19,
     "metadata": {},
     "output_type": "execute_result"
    }
   ],
   "source": [
    "df_ROS_drops['직업'].value_counts()"
   ]
  },
  {
   "cell_type": "code",
   "execution_count": 20,
   "id": "04fc5bf9-3987-4b59-ad98-17cc38daaba8",
   "metadata": {
    "tags": []
   },
   "outputs": [
    {
     "data": {
      "text/plain": [
       "RH+A     688\n",
       "RH+O     532\n",
       "RH+B     476\n",
       "RH+AB    198\n",
       "Name: 혈액형, dtype: int64"
      ]
     },
     "execution_count": 20,
     "metadata": {},
     "output_type": "execute_result"
    }
   ],
   "source": [
    "df_ROS_drops['혈액형'].value_counts()"
   ]
  },
  {
   "cell_type": "code",
   "execution_count": 24,
   "id": "ccefb8c6-15c3-458c-8632-16b149f7d350",
   "metadata": {
    "tags": []
   },
   "outputs": [
    {
     "data": {
      "text/plain": [
       "재발여부  척추이동척도        \n",
       "0     Middle            1110\n",
       "      Down               454\n",
       "1     Middle             150\n",
       "      Down                59\n",
       "0     Up                  53\n",
       "      Extremely down      34\n",
       "      Extremely up        16\n",
       "1     Up                  12\n",
       "      Extremely down       6\n",
       "dtype: int64"
      ]
     },
     "execution_count": 24,
     "metadata": {},
     "output_type": "execute_result"
    }
   ],
   "source": [
    "df_ROS_drops[['재발여부','척추이동척도']].value_counts()"
   ]
  },
  {
   "cell_type": "code",
   "execution_count": 25,
   "id": "e2c2e4ec-8877-4037-b077-1d10158f6444",
   "metadata": {
    "tags": []
   },
   "outputs": [
    {
     "data": {
      "text/plain": [
       "척추이동척도        \n",
       "Middle            1260\n",
       "Down               513\n",
       "Up                  65\n",
       "Extremely down      40\n",
       "Extremely up        16\n",
       "dtype: int64"
      ]
     },
     "execution_count": 25,
     "metadata": {},
     "output_type": "execute_result"
    }
   ],
   "source": [
    "df_ROS_drops[['척추이동척도']].value_counts()"
   ]
  },
  {
   "cell_type": "code",
   "execution_count": 26,
   "id": "f1b864c5-3052-43ee-8872-c43f51347e6a",
   "metadata": {
    "tags": []
   },
   "outputs": [
    {
     "data": {
      "text/plain": [
       "디스크위치\n",
       "4        1458\n",
       "5         271\n",
       "3         112\n",
       "2          27\n",
       "45          9\n",
       "34          8\n",
       "10          2\n",
       "11          2\n",
       "1           1\n",
       "12          1\n",
       "23          1\n",
       "25          1\n",
       "35          1\n",
       "dtype: int64"
      ]
     },
     "execution_count": 26,
     "metadata": {},
     "output_type": "execute_result"
    }
   ],
   "source": [
    "df_ROS_drops[['디스크위치']].value_counts()"
   ]
  },
  {
   "cell_type": "code",
   "execution_count": 27,
   "id": "96b5fa19-a3a1-416a-9a12-ab25242fa61c",
   "metadata": {
    "tags": []
   },
   "outputs": [
    {
     "data": {
      "text/plain": [
       "가족력\n",
       "0.0    1751\n",
       "1.0      92\n",
       "dtype: int64"
      ]
     },
     "execution_count": 27,
     "metadata": {},
     "output_type": "execute_result"
    }
   ],
   "source": [
    "df_ROS_drops[['가족력']].value_counts()"
   ]
  },
  {
   "cell_type": "code",
   "execution_count": 28,
   "id": "22c99664-ea18-45a3-8f8b-c8be7a29a839",
   "metadata": {
    "tags": []
   },
   "outputs": [
    {
     "data": {
      "text/plain": [
       "재발여부\n",
       "0       1667\n",
       "1        227\n",
       "dtype: int64"
      ]
     },
     "execution_count": 28,
     "metadata": {},
     "output_type": "execute_result"
    }
   ],
   "source": [
    "df_ROS_drops[['재발여부']].value_counts()"
   ]
  },
  {
   "cell_type": "code",
   "execution_count": 29,
   "id": "bbe87b5d-80f3-48da-a912-d4d53d95de1e",
   "metadata": {
    "tags": []
   },
   "outputs": [
    {
     "data": {
      "text/plain": [
       "재발여부  수술시간 \n",
       "0     45.0     112\n",
       "      60.0     108\n",
       "      40.0      88\n",
       "      35.0      85\n",
       "      30.0      81\n",
       "              ... \n",
       "      165.0      1\n",
       "      155.0      1\n",
       "      152.0      1\n",
       "      151.0      1\n",
       "1     145.0      1\n",
       "Length: 203, dtype: int64"
      ]
     },
     "execution_count": 29,
     "metadata": {},
     "output_type": "execute_result"
    }
   ],
   "source": [
    "df_ROS_drops[['재발여부','수술시간']].value_counts()"
   ]
  },
  {
   "cell_type": "code",
   "execution_count": 32,
   "id": "5e9f974c-b3a7-41f4-b5d7-0047546f8c8c",
   "metadata": {
    "tags": []
   },
   "outputs": [
    {
     "data": {
      "text/plain": [
       "수술기법  입원기간\n",
       "TELD  1       1046\n",
       "      2        429\n",
       "      3        140\n",
       "IELD  1         85\n",
       "      2         30\n",
       "TELD  4         29\n",
       "IELD  3         17\n",
       "TELD  8          5\n",
       "      5          5\n",
       "IELD  4          5\n",
       "TELD  0          3\n",
       "      7          3\n",
       "      6          2\n",
       "      11         2\n",
       "      17         2\n",
       "IELD  11         1\n",
       "      6          1\n",
       "      5          1\n",
       "TELD  9          1\n",
       "      12         1\n",
       "      16         1\n",
       "      18         1\n",
       "      27         1\n",
       "      44         1\n",
       "      46         1\n",
       "dtype: int64"
      ]
     },
     "execution_count": 32,
     "metadata": {},
     "output_type": "execute_result"
    }
   ],
   "source": [
    "df_ROS_drops[['수술기법','입원기간']].value_counts()"
   ]
  },
  {
   "cell_type": "code",
   "execution_count": 37,
   "id": "f60b9a54-7009-4314-a8a2-d1a712ef4cbf",
   "metadata": {
    "tags": []
   },
   "outputs": [
    {
     "data": {
      "text/plain": [
       "Vaccum disc\n",
       "0              1787\n",
       "1               107\n",
       "dtype: int64"
      ]
     },
     "execution_count": 37,
     "metadata": {},
     "output_type": "execute_result"
    }
   ],
   "source": [
    "df_ROS_drops[['Vaccum disc']].value_counts()"
   ]
  },
  {
   "cell_type": "code",
   "execution_count": 48,
   "id": "f9455e04-e49e-4355-a04b-5821b072062a",
   "metadata": {
    "tags": []
   },
   "outputs": [
    {
     "data": {
      "text/plain": [
       "골밀도    연령\n",
       "-1.24  48    4\n",
       "-1.70  46    3\n",
       "-1.15  47    3\n",
       "       48    3\n",
       "-1.42  40    3\n",
       "-1.89  41    3\n",
       "-1.12  45    3\n",
       "-1.60  48    3\n",
       "-1.18  29    3\n",
       "-1.63  39    3\n",
       "-1.70  62    3\n",
       "-1.27  23    3\n",
       "-1.36  39    3\n",
       "-1.69  39    3\n",
       "-1.80  47    3\n",
       "-1.00  47    2\n",
       "-1.35  39    2\n",
       "-1.90  46    2\n",
       "-1.11  40    2\n",
       "       25    2\n",
       "-1.99  49    2\n",
       "-1.59  34    2\n",
       "-2.16  33    2\n",
       "-1.14  47    2\n",
       "-0.95  35    2\n",
       "-2.19  47    2\n",
       "-1.58  47    2\n",
       "       48    2\n",
       "-1.57  21    2\n",
       "       40    2\n",
       "-1.35  46    2\n",
       "-1.68  47    2\n",
       "-1.61  47    2\n",
       "-1.10  52    2\n",
       "-1.05  38    2\n",
       "-0.99  39    2\n",
       "-1.37  42    2\n",
       "-2.04  48    2\n",
       "-1.65  46    2\n",
       "-1.37  38    2\n",
       "-1.33  52    2\n",
       "-1.00  73    2\n",
       "-1.95  46    2\n",
       "-1.70  55    2\n",
       "-1.38  21    2\n",
       "-1.93  46    2\n",
       "-1.07  40    2\n",
       "-1.74  30    2\n",
       "-1.38  35    2\n",
       "-2.00  46    2\n",
       "dtype: int64"
      ]
     },
     "execution_count": 48,
     "metadata": {},
     "output_type": "execute_result"
    }
   ],
   "source": [
    "df_ROS_drops[['골밀도','연령']].value_counts().head(50)"
   ]
  },
  {
   "cell_type": "code",
   "execution_count": 54,
   "id": "5f7fd393-b588-4eb4-b937-39342ac39717",
   "metadata": {
    "tags": []
   },
   "outputs": [
    {
     "data": {
      "text/html": [
       "<div>\n",
       "<style scoped>\n",
       "    .dataframe tbody tr th:only-of-type {\n",
       "        vertical-align: middle;\n",
       "    }\n",
       "\n",
       "    .dataframe tbody tr th {\n",
       "        vertical-align: top;\n",
       "    }\n",
       "\n",
       "    .dataframe thead th {\n",
       "        text-align: right;\n",
       "    }\n",
       "</style>\n",
       "<table border=\"1\" class=\"dataframe\">\n",
       "  <thead>\n",
       "    <tr style=\"text-align: right;\">\n",
       "      <th></th>\n",
       "      <th>Large Lymphocyte</th>\n",
       "      <th>Location of herniation</th>\n",
       "      <th>ODI</th>\n",
       "      <th>가족력</th>\n",
       "      <th>간질성폐질환</th>\n",
       "      <th>고혈압여부</th>\n",
       "      <th>과거수술횟수</th>\n",
       "      <th>당뇨여부</th>\n",
       "      <th>말초동맥질환여부</th>\n",
       "      <th>빈혈여부</th>\n",
       "      <th>...</th>\n",
       "      <th>MF + ES</th>\n",
       "      <th>Modic change</th>\n",
       "      <th>PI</th>\n",
       "      <th>PT</th>\n",
       "      <th>Seg Angle(raw)</th>\n",
       "      <th>Vaccum disc</th>\n",
       "      <th>골밀도</th>\n",
       "      <th>디스크단면적</th>\n",
       "      <th>디스크위치</th>\n",
       "      <th>척추전방위증</th>\n",
       "    </tr>\n",
       "  </thead>\n",
       "  <tbody>\n",
       "    <tr>\n",
       "      <th>count</th>\n",
       "      <td>1894.000000</td>\n",
       "      <td>1894.000000</td>\n",
       "      <td>462.000000</td>\n",
       "      <td>1843.000000</td>\n",
       "      <td>1894.000000</td>\n",
       "      <td>1894.000000</td>\n",
       "      <td>1894.000000</td>\n",
       "      <td>1894.000000</td>\n",
       "      <td>1894.000000</td>\n",
       "      <td>1894.000000</td>\n",
       "      <td>...</td>\n",
       "      <td>1894.000000</td>\n",
       "      <td>1894.000000</td>\n",
       "      <td>1890.000000</td>\n",
       "      <td>1890.000000</td>\n",
       "      <td>1893.000000</td>\n",
       "      <td>1894.000000</td>\n",
       "      <td>998.000000</td>\n",
       "      <td>1893.000000</td>\n",
       "      <td>1894.000000</td>\n",
       "      <td>1894.000000</td>\n",
       "    </tr>\n",
       "    <tr>\n",
       "      <th>mean</th>\n",
       "      <td>39.270750</td>\n",
       "      <td>2.295671</td>\n",
       "      <td>31.142857</td>\n",
       "      <td>0.049919</td>\n",
       "      <td>0.020063</td>\n",
       "      <td>0.130940</td>\n",
       "      <td>0.302534</td>\n",
       "      <td>0.062830</td>\n",
       "      <td>0.004224</td>\n",
       "      <td>0.024287</td>\n",
       "      <td>...</td>\n",
       "      <td>2096.421600</td>\n",
       "      <td>0.247096</td>\n",
       "      <td>46.593651</td>\n",
       "      <td>16.329841</td>\n",
       "      <td>15.287934</td>\n",
       "      <td>0.056494</td>\n",
       "      <td>-1.507325</td>\n",
       "      <td>1989.788774</td>\n",
       "      <td>4.430834</td>\n",
       "      <td>0.032207</td>\n",
       "    </tr>\n",
       "    <tr>\n",
       "      <th>std</th>\n",
       "      <td>13.675874</td>\n",
       "      <td>0.996143</td>\n",
       "      <td>10.131304</td>\n",
       "      <td>0.217836</td>\n",
       "      <td>0.140254</td>\n",
       "      <td>0.337424</td>\n",
       "      <td>0.638461</td>\n",
       "      <td>0.242721</td>\n",
       "      <td>0.064871</td>\n",
       "      <td>0.153980</td>\n",
       "      <td>...</td>\n",
       "      <td>472.834488</td>\n",
       "      <td>0.661506</td>\n",
       "      <td>22.736211</td>\n",
       "      <td>8.421322</td>\n",
       "      <td>10.426397</td>\n",
       "      <td>0.230935</td>\n",
       "      <td>0.495867</td>\n",
       "      <td>314.478436</td>\n",
       "      <td>3.595680</td>\n",
       "      <td>0.176596</td>\n",
       "    </tr>\n",
       "    <tr>\n",
       "      <th>min</th>\n",
       "      <td>0.000000</td>\n",
       "      <td>1.000000</td>\n",
       "      <td>4.000000</td>\n",
       "      <td>0.000000</td>\n",
       "      <td>0.000000</td>\n",
       "      <td>0.000000</td>\n",
       "      <td>0.000000</td>\n",
       "      <td>0.000000</td>\n",
       "      <td>0.000000</td>\n",
       "      <td>0.000000</td>\n",
       "      <td>...</td>\n",
       "      <td>1016.800000</td>\n",
       "      <td>0.000000</td>\n",
       "      <td>11.900000</td>\n",
       "      <td>-10.600000</td>\n",
       "      <td>-27.400000</td>\n",
       "      <td>0.000000</td>\n",
       "      <td>-2.840000</td>\n",
       "      <td>1145.800000</td>\n",
       "      <td>1.000000</td>\n",
       "      <td>0.000000</td>\n",
       "    </tr>\n",
       "    <tr>\n",
       "      <th>25%</th>\n",
       "      <td>30.700000</td>\n",
       "      <td>1.000000</td>\n",
       "      <td>24.250000</td>\n",
       "      <td>0.000000</td>\n",
       "      <td>0.000000</td>\n",
       "      <td>0.000000</td>\n",
       "      <td>0.000000</td>\n",
       "      <td>0.000000</td>\n",
       "      <td>0.000000</td>\n",
       "      <td>0.000000</td>\n",
       "      <td>...</td>\n",
       "      <td>1765.285000</td>\n",
       "      <td>0.000000</td>\n",
       "      <td>38.700000</td>\n",
       "      <td>10.500000</td>\n",
       "      <td>8.800000</td>\n",
       "      <td>0.000000</td>\n",
       "      <td>-1.820000</td>\n",
       "      <td>1777.000000</td>\n",
       "      <td>4.000000</td>\n",
       "      <td>0.000000</td>\n",
       "    </tr>\n",
       "    <tr>\n",
       "      <th>50%</th>\n",
       "      <td>40.200000</td>\n",
       "      <td>2.000000</td>\n",
       "      <td>31.500000</td>\n",
       "      <td>0.000000</td>\n",
       "      <td>0.000000</td>\n",
       "      <td>0.000000</td>\n",
       "      <td>0.000000</td>\n",
       "      <td>0.000000</td>\n",
       "      <td>0.000000</td>\n",
       "      <td>0.000000</td>\n",
       "      <td>...</td>\n",
       "      <td>2056.500000</td>\n",
       "      <td>0.000000</td>\n",
       "      <td>45.100000</td>\n",
       "      <td>15.700000</td>\n",
       "      <td>14.500000</td>\n",
       "      <td>0.000000</td>\n",
       "      <td>-1.520000</td>\n",
       "      <td>1985.500000</td>\n",
       "      <td>4.000000</td>\n",
       "      <td>0.000000</td>\n",
       "    </tr>\n",
       "    <tr>\n",
       "      <th>75%</th>\n",
       "      <td>48.600000</td>\n",
       "      <td>3.000000</td>\n",
       "      <td>38.000000</td>\n",
       "      <td>0.000000</td>\n",
       "      <td>0.000000</td>\n",
       "      <td>0.000000</td>\n",
       "      <td>0.000000</td>\n",
       "      <td>0.000000</td>\n",
       "      <td>0.000000</td>\n",
       "      <td>0.000000</td>\n",
       "      <td>...</td>\n",
       "      <td>2374.350000</td>\n",
       "      <td>0.000000</td>\n",
       "      <td>52.000000</td>\n",
       "      <td>21.400000</td>\n",
       "      <td>21.100000</td>\n",
       "      <td>0.000000</td>\n",
       "      <td>-1.202500</td>\n",
       "      <td>2178.500000</td>\n",
       "      <td>4.000000</td>\n",
       "      <td>0.000000</td>\n",
       "    </tr>\n",
       "    <tr>\n",
       "      <th>max</th>\n",
       "      <td>89.000000</td>\n",
       "      <td>5.000000</td>\n",
       "      <td>68.000000</td>\n",
       "      <td>1.000000</td>\n",
       "      <td>1.000000</td>\n",
       "      <td>1.000000</td>\n",
       "      <td>3.000000</td>\n",
       "      <td>1.000000</td>\n",
       "      <td>1.000000</td>\n",
       "      <td>1.000000</td>\n",
       "      <td>...</td>\n",
       "      <td>5569.000000</td>\n",
       "      <td>3.000000</td>\n",
       "      <td>559.000000</td>\n",
       "      <td>48.700000</td>\n",
       "      <td>165.000000</td>\n",
       "      <td>1.000000</td>\n",
       "      <td>1.700000</td>\n",
       "      <td>3214.200000</td>\n",
       "      <td>45.000000</td>\n",
       "      <td>1.000000</td>\n",
       "    </tr>\n",
       "  </tbody>\n",
       "</table>\n",
       "<p>8 rows × 46 columns</p>\n",
       "</div>"
      ],
      "text/plain": [
       "       Large Lymphocyte  Location of herniation         ODI          가족력  \\\n",
       "count       1894.000000             1894.000000  462.000000  1843.000000   \n",
       "mean          39.270750                2.295671   31.142857     0.049919   \n",
       "std           13.675874                0.996143   10.131304     0.217836   \n",
       "min            0.000000                1.000000    4.000000     0.000000   \n",
       "25%           30.700000                1.000000   24.250000     0.000000   \n",
       "50%           40.200000                2.000000   31.500000     0.000000   \n",
       "75%           48.600000                3.000000   38.000000     0.000000   \n",
       "max           89.000000                5.000000   68.000000     1.000000   \n",
       "\n",
       "            간질성폐질환        고혈압여부       과거수술횟수         당뇨여부     말초동맥질환여부  \\\n",
       "count  1894.000000  1894.000000  1894.000000  1894.000000  1894.000000   \n",
       "mean      0.020063     0.130940     0.302534     0.062830     0.004224   \n",
       "std       0.140254     0.337424     0.638461     0.242721     0.064871   \n",
       "min       0.000000     0.000000     0.000000     0.000000     0.000000   \n",
       "25%       0.000000     0.000000     0.000000     0.000000     0.000000   \n",
       "50%       0.000000     0.000000     0.000000     0.000000     0.000000   \n",
       "75%       0.000000     0.000000     0.000000     0.000000     0.000000   \n",
       "max       1.000000     1.000000     3.000000     1.000000     1.000000   \n",
       "\n",
       "              빈혈여부  ...      MF + ES  Modic change           PI           PT  \\\n",
       "count  1894.000000  ...  1894.000000   1894.000000  1890.000000  1890.000000   \n",
       "mean      0.024287  ...  2096.421600      0.247096    46.593651    16.329841   \n",
       "std       0.153980  ...   472.834488      0.661506    22.736211     8.421322   \n",
       "min       0.000000  ...  1016.800000      0.000000    11.900000   -10.600000   \n",
       "25%       0.000000  ...  1765.285000      0.000000    38.700000    10.500000   \n",
       "50%       0.000000  ...  2056.500000      0.000000    45.100000    15.700000   \n",
       "75%       0.000000  ...  2374.350000      0.000000    52.000000    21.400000   \n",
       "max       1.000000  ...  5569.000000      3.000000   559.000000    48.700000   \n",
       "\n",
       "       Seg Angle(raw)  Vaccum disc         골밀도       디스크단면적        디스크위치  \\\n",
       "count     1893.000000  1894.000000  998.000000  1893.000000  1894.000000   \n",
       "mean        15.287934     0.056494   -1.507325  1989.788774     4.430834   \n",
       "std         10.426397     0.230935    0.495867   314.478436     3.595680   \n",
       "min        -27.400000     0.000000   -2.840000  1145.800000     1.000000   \n",
       "25%          8.800000     0.000000   -1.820000  1777.000000     4.000000   \n",
       "50%         14.500000     0.000000   -1.520000  1985.500000     4.000000   \n",
       "75%         21.100000     0.000000   -1.202500  2178.500000     4.000000   \n",
       "max        165.000000     1.000000    1.700000  3214.200000    45.000000   \n",
       "\n",
       "            척추전방위증  \n",
       "count  1894.000000  \n",
       "mean      0.032207  \n",
       "std       0.176596  \n",
       "min       0.000000  \n",
       "25%       0.000000  \n",
       "50%       0.000000  \n",
       "75%       0.000000  \n",
       "max       1.000000  \n",
       "\n",
       "[8 rows x 46 columns]"
      ]
     },
     "execution_count": 54,
     "metadata": {},
     "output_type": "execute_result"
    }
   ],
   "source": [
    "df_ROS_drops.describe()"
   ]
  },
  {
   "cell_type": "code",
   "execution_count": 55,
   "id": "1042b119-f023-4418-8f0d-347fcfadd7b7",
   "metadata": {
    "tags": []
   },
   "outputs": [
    {
     "data": {
      "text/plain": [
       "Vaccum disc  재발여부\n",
       "0            0       1577\n",
       "             1        210\n",
       "1            0         90\n",
       "             1         17\n",
       "dtype: int64"
      ]
     },
     "execution_count": 55,
     "metadata": {},
     "output_type": "execute_result"
    }
   ],
   "source": [
    "df_ROS_drops[['Vaccum disc','재발여부']].value_counts()"
   ]
  },
  {
   "cell_type": "code",
   "execution_count": 56,
   "id": "67b02a35-6ec6-4807-9983-f6d51c19b6a0",
   "metadata": {
    "tags": []
   },
   "outputs": [
    {
     "data": {
      "text/plain": [
       "디스크단면적 \n",
       "2035.90    9\n",
       "1749.00    7\n",
       "1937.50    7\n",
       "2155.30    6\n",
       "2303.00    6\n",
       "          ..\n",
       "1925.70    1\n",
       "1926.86    1\n",
       "1930.10    1\n",
       "1931.10    1\n",
       "3214.20    1\n",
       "Length: 908, dtype: int64"
      ]
     },
     "execution_count": 56,
     "metadata": {},
     "output_type": "execute_result"
    }
   ],
   "source": [
    "df_ROS_drops[['디스크단면적']].value_counts()"
   ]
  },
  {
   "cell_type": "code",
   "execution_count": 57,
   "id": "410160a3-52c6-4c8a-8c5c-a344a6f962bf",
   "metadata": {
    "tags": []
   },
   "outputs": [
    {
     "data": {
      "text/plain": [
       "디스크단면적   PI    PT  \n",
       "2055.00  66.5  27.4    6\n",
       "1802.90  43.7  13.1    6\n",
       "2035.90  52.9  25.0    6\n",
       "2299.10  49.0  31.4    6\n",
       "2021.48  58.8  14.7    5\n",
       "                      ..\n",
       "1925.20  43.0  8.9     1\n",
       "1925.70  41.2  16.7    1\n",
       "1926.86  33.3  13.9    1\n",
       "1930.10  40.9  24.0    1\n",
       "3214.20  27.1  9.9     1\n",
       "Length: 929, dtype: int64"
      ]
     },
     "execution_count": 57,
     "metadata": {},
     "output_type": "execute_result"
    }
   ],
   "source": [
    "df_ROS_drops[['디스크단면적','PI','PT']].value_counts()"
   ]
  },
  {
   "cell_type": "code",
   "execution_count": 61,
   "id": "904e37bc-72f5-473f-97cd-063e30d81762",
   "metadata": {
    "tags": []
   },
   "outputs": [
    {
     "data": {
      "text/plain": [
       "재발여부  PI  \n",
       "0     41.9    19\n",
       "      37.1    15\n",
       "      51.1    14\n",
       "      41.8    14\n",
       "      49.7    14\n",
       "              ..\n",
       "      54.9     1\n",
       "1     33.1     1\n",
       "      32.6     1\n",
       "      32.4     1\n",
       "0     11.9     1\n",
       "Length: 467, dtype: int64"
      ]
     },
     "execution_count": 61,
     "metadata": {},
     "output_type": "execute_result"
    }
   ],
   "source": [
    "df_ROS_drops[['재발여부','PI']].value_counts()"
   ]
  },
  {
   "cell_type": "code",
   "execution_count": 66,
   "id": "95935c17-a89a-4960-a7cb-9d6363ebc54e",
   "metadata": {
    "tags": []
   },
   "outputs": [
    {
     "data": {
      "text/plain": [
       "Instability  연령\n",
       "0            47    102\n",
       "             48     81\n",
       "             46     71\n",
       "             39     69\n",
       "             38     61\n",
       "                  ... \n",
       "1            22      1\n",
       "             23      1\n",
       "             36      1\n",
       "             33      1\n",
       "0            15      1\n",
       "Length: 109, dtype: int64"
      ]
     },
     "execution_count": 66,
     "metadata": {},
     "output_type": "execute_result"
    }
   ],
   "source": [
    "df_ROS_drops[['Instability','연령']].value_counts()"
   ]
  },
  {
   "cell_type": "code",
   "execution_count": 67,
   "id": "b810e1bb-0164-4132-9485-2f035b515680",
   "metadata": {
    "tags": []
   },
   "outputs": [
    {
     "data": {
      "text/plain": [
       "MF + ES\n",
       "2146.80    7\n",
       "1991.00    6\n",
       "2523.00    6\n",
       "2286.70    6\n",
       "1972.75    6\n",
       "          ..\n",
       "1957.80    1\n",
       "1962.90    1\n",
       "1964.00    1\n",
       "1964.20    1\n",
       "5569.00    1\n",
       "Length: 911, dtype: int64"
      ]
     },
     "execution_count": 67,
     "metadata": {},
     "output_type": "execute_result"
    }
   ],
   "source": [
    "df_ROS_drops[['MF + ES']].value_counts()"
   ]
  },
  {
   "cell_type": "code",
   "execution_count": 68,
   "id": "038964d9-30b9-4595-babe-bb5e8fb07602",
   "metadata": {
    "tags": []
   },
   "outputs": [
    {
     "data": {
      "text/plain": [
       "Modic change\n",
       "0               1642\n",
       "2                172\n",
       "1                 58\n",
       "3                 22\n",
       "dtype: int64"
      ]
     },
     "execution_count": 68,
     "metadata": {},
     "output_type": "execute_result"
    }
   ],
   "source": [
    "df_ROS_drops[['Modic change']].value_counts()"
   ]
  },
  {
   "cell_type": "code",
   "execution_count": 69,
   "id": "38d737c2-4382-4072-a7d9-776c251cdbb8",
   "metadata": {
    "tags": []
   },
   "outputs": [
    {
     "data": {
      "text/plain": [
       "Modic change  재발여부\n",
       "0             0       1452\n",
       "              1        190\n",
       "2             0        148\n",
       "1             0         48\n",
       "2             1         24\n",
       "3             0         19\n",
       "1             1         10\n",
       "3             1          3\n",
       "dtype: int64"
      ]
     },
     "execution_count": 69,
     "metadata": {},
     "output_type": "execute_result"
    }
   ],
   "source": [
    "df_ROS_drops[['Modic change','재발여부']].value_counts()"
   ]
  },
  {
   "cell_type": "code",
   "execution_count": 71,
   "id": "4e897640-9bcd-4be9-9883-b79d3c4115fb",
   "metadata": {
    "tags": []
   },
   "outputs": [
    {
     "data": {
      "text/plain": [
       "헤모글로빈수치  입원기간\n",
       "14.70    1       22\n",
       "15.00    1       21\n",
       "15.50    1       20\n",
       "13.10    1       20\n",
       "15.20    1       18\n",
       "                 ..\n",
       "14.11    2        1\n",
       "14.12    2        1\n",
       "         3        1\n",
       "14.13    2        1\n",
       "19.38    1        1\n",
       "Length: 864, dtype: int64"
      ]
     },
     "execution_count": 71,
     "metadata": {},
     "output_type": "execute_result"
    }
   ],
   "source": [
    "df_ROS_drops[['헤모글로빈수치','입원기간']].value_counts()"
   ]
  },
  {
   "cell_type": "code",
   "execution_count": 76,
   "id": "1bb36e09-1405-4b27-b2ef-8585b6c8c9d7",
   "metadata": {
    "tags": []
   },
   "outputs": [
    {
     "data": {
      "text/plain": [
       "체중    재발여부\n",
       "70.0  0       65\n",
       "65.0  0       60\n",
       "60.0  0       53\n",
       "74.0  0       40\n",
       "75.0  0       38\n",
       "62.0  0       36\n",
       "67.0  0       36\n",
       "63.0  0       35\n",
       "72.0  0       35\n",
       "61.0  0       35\n",
       "78.0  0       34\n",
       "73.0  0       32\n",
       "80.0  0       32\n",
       "66.0  0       31\n",
       "55.0  0       30\n",
       "53.0  0       30\n",
       "57.0  0       29\n",
       "59.0  0       27\n",
       "68.0  0       26\n",
       "64.0  0       25\n",
       "56.0  0       25\n",
       "52.0  0       24\n",
       "58.0  0       23\n",
       "69.0  0       23\n",
       "76.0  0       22\n",
       "51.0  0       22\n",
       "71.0  0       21\n",
       "85.0  0       20\n",
       "79.0  0       20\n",
       "54.0  0       18\n",
       "77.0  0       18\n",
       "82.0  0       16\n",
       "81.0  0       16\n",
       "84.0  0       15\n",
       "83.0  0       13\n",
       "86.0  0       11\n",
       "50.0  0       11\n",
       "58.6  0       10\n",
       "60.0  1       10\n",
       "49.0  0       10\n",
       "86.0  1        9\n",
       "80.0  1        9\n",
       "58.9  0        9\n",
       "88.0  0        8\n",
       "72.0  1        8\n",
       "45.0  0        8\n",
       "66.0  1        8\n",
       "46.0  0        7\n",
       "59.7  0        7\n",
       "58.1  0        7\n",
       "dtype: int64"
      ]
     },
     "execution_count": 76,
     "metadata": {},
     "output_type": "execute_result"
    }
   ],
   "source": [
    "df_ROS_drops[['체중','재발여부']].value_counts().head(50)"
   ]
  },
  {
   "cell_type": "code",
   "execution_count": 77,
   "id": "b2503420-cd86-46bf-be4d-74d60d597f19",
   "metadata": {
    "tags": []
   },
   "outputs": [
    {
     "data": {
      "text/plain": [
       "종양진행여부\n",
       "0         1888\n",
       "1            6\n",
       "dtype: int64"
      ]
     },
     "execution_count": 77,
     "metadata": {},
     "output_type": "execute_result"
    }
   ],
   "source": [
    "df_ROS_drops[['종양진행여부']].value_counts()"
   ]
  },
  {
   "cell_type": "code",
   "execution_count": 78,
   "id": "137705d8-3499-4aa9-9318-514359f9d46f",
   "metadata": {
    "tags": []
   },
   "outputs": [
    {
     "data": {
      "text/plain": [
       "암발병여부\n",
       "0        1868\n",
       "1          26\n",
       "dtype: int64"
      ]
     },
     "execution_count": 78,
     "metadata": {},
     "output_type": "execute_result"
    }
   ],
   "source": [
    "df_ROS_drops[['암발병여부']].value_counts()"
   ]
  },
  {
   "cell_type": "code",
   "execution_count": 80,
   "id": "19f9d259-bf97-4ac8-a4c6-da45ace94f21",
   "metadata": {
    "tags": []
   },
   "outputs": [
    {
     "data": {
      "text/plain": [
       "가족력  재발여부\n",
       "0.0  0       1542\n",
       "     1        209\n",
       "1.0  0         80\n",
       "     1         12\n",
       "dtype: int64"
      ]
     },
     "execution_count": 80,
     "metadata": {},
     "output_type": "execute_result"
    }
   ],
   "source": [
    "df_ROS_drops[['가족력','재발여부']].value_counts()"
   ]
  },
  {
   "cell_type": "code",
   "execution_count": 83,
   "id": "c2c02d13-4852-4891-a923-c6e098006f16",
   "metadata": {
    "tags": []
   },
   "outputs": [
    {
     "data": {
      "text/plain": [
       "척추전방위증  재발여부\n",
       "0       0       1610\n",
       "        1        223\n",
       "1       0         57\n",
       "        1          4\n",
       "dtype: int64"
      ]
     },
     "execution_count": 83,
     "metadata": {},
     "output_type": "execute_result"
    }
   ],
   "source": [
    "df_ROS_drops[['척추전방위증','재발여부']].value_counts()"
   ]
  },
  {
   "cell_type": "code",
   "execution_count": 89,
   "id": "0ff66cd6-4bff-449a-8138-bede5c649bf1",
   "metadata": {
    "tags": []
   },
   "outputs": [
    {
     "data": {
      "text/plain": [
       "간질성폐질환  재발여부\n",
       "0       0       1636\n",
       "        1        220\n",
       "1       0         31\n",
       "        1          7\n",
       "dtype: int64"
      ]
     },
     "execution_count": 89,
     "metadata": {},
     "output_type": "execute_result"
    }
   ],
   "source": [
    "df_ROS_drops[['간질성폐질환','재발여부']].value_counts()"
   ]
  },
  {
   "cell_type": "code",
   "execution_count": 95,
   "id": "1dad1b79-696d-40ec-a297-02db9e3d5d1d",
   "metadata": {
    "tags": []
   },
   "outputs": [
    {
     "data": {
      "text/plain": [
       "ODI   연령\n",
       "43.0  34    4\n",
       "29.0  50    3\n",
       "36.0  35    3\n",
       "31.0  47    3\n",
       "35.0  29    3\n",
       "           ..\n",
       "27.0  24    1\n",
       "      19    1\n",
       "26.0  74    1\n",
       "      66    1\n",
       "68.0  38    1\n",
       "Length: 384, dtype: int64"
      ]
     },
     "execution_count": 95,
     "metadata": {},
     "output_type": "execute_result"
    }
   ],
   "source": [
    "df_ROS_drops[['ODI','연령']].value_counts()"
   ]
  },
  {
   "cell_type": "code",
   "execution_count": 98,
   "id": "d6b41d4b-f35b-49ff-91ee-5f74c6b71154",
   "metadata": {
    "tags": []
   },
   "outputs": [
    {
     "data": {
      "text/plain": [
       "고혈압여부  재발여부\n",
       "0      0       1465\n",
       "1      0        202\n",
       "0      1        181\n",
       "1      1         46\n",
       "dtype: int64"
      ]
     },
     "execution_count": 98,
     "metadata": {},
     "output_type": "execute_result"
    }
   ],
   "source": [
    "df_ROS_drops[['고혈압여부','재발여부']].value_counts()"
   ]
  },
  {
   "cell_type": "code",
   "execution_count": 100,
   "id": "95351f2f-2cb4-4da3-9f80-1d90d7f3d26d",
   "metadata": {
    "tags": []
   },
   "outputs": [
    {
     "data": {
      "text/plain": [
       "과거수술횟수  재발여부\n",
       "0       0       1331\n",
       "1       0        192\n",
       "0       1        168\n",
       "2       0        137\n",
       "1       1         33\n",
       "2       1         25\n",
       "3       0          7\n",
       "        1          1\n",
       "dtype: int64"
      ]
     },
     "execution_count": 100,
     "metadata": {},
     "output_type": "execute_result"
    }
   ],
   "source": [
    "df_ROS_drops[['과거수술횟수','재발여부']].value_counts()"
   ]
  },
  {
   "cell_type": "code",
   "execution_count": 102,
   "id": "6a9758f7-5ea5-482d-b441-e81ed4e789b0",
   "metadata": {
    "tags": []
   },
   "outputs": [
    {
     "data": {
      "text/plain": [
       "당뇨여부  재발여부\n",
       "0     0       1588\n",
       "      1        187\n",
       "1     0         79\n",
       "      1         40\n",
       "dtype: int64"
      ]
     },
     "execution_count": 102,
     "metadata": {},
     "output_type": "execute_result"
    }
   ],
   "source": [
    "df_ROS_drops[['당뇨여부','재발여부']].value_counts()"
   ]
  },
  {
   "cell_type": "code",
   "execution_count": 104,
   "id": "14f753d4-0ac3-4f95-ba68-8e7f199199d9",
   "metadata": {
    "tags": []
   },
   "outputs": [
    {
     "data": {
      "text/plain": [
       "말초동맥질환여부  재발여부\n",
       "0         0       1661\n",
       "          1        225\n",
       "1         0          6\n",
       "          1          2\n",
       "dtype: int64"
      ]
     },
     "execution_count": 104,
     "metadata": {},
     "output_type": "execute_result"
    }
   ],
   "source": [
    "df_ROS_drops[['말초동맥질환여부','재발여부']].value_counts()"
   ]
  },
  {
   "cell_type": "code",
   "execution_count": 106,
   "id": "73590432-76bc-4d08-bba1-e084eb78818c",
   "metadata": {
    "tags": []
   },
   "outputs": [
    {
     "data": {
      "text/plain": [
       "빈혈여부\n",
       "0       1848\n",
       "1         46\n",
       "dtype: int64"
      ]
     },
     "execution_count": 106,
     "metadata": {},
     "output_type": "execute_result"
    }
   ],
   "source": [
    "df_ROS_drops[['빈혈여부']].value_counts()"
   ]
  },
  {
   "cell_type": "code",
   "execution_count": 111,
   "id": "78a914cc-8261-47ea-99a8-758ac8c13805",
   "metadata": {
    "tags": []
   },
   "outputs": [
    {
     "data": {
      "text/plain": [
       "성별  직업   \n",
       "1   사무직      288\n",
       "2   사무직      161\n",
       "1   자영업      112\n",
       "2   무직        95\n",
       "1   학생        92\n",
       "2   주부        75\n",
       "1   군인        74\n",
       "    무직        69\n",
       "2   자영업       59\n",
       "    학생        43\n",
       "1   운수업       39\n",
       "    주부        39\n",
       "    공무원       35\n",
       "    노동직       30\n",
       "    농업        29\n",
       "    사업가       27\n",
       "    의료직       22\n",
       "2   의료직       18\n",
       "1   특수전문직     18\n",
       "2   교사        18\n",
       "1   건설업       16\n",
       "2   군인        16\n",
       "    공무원       16\n",
       "1   운동선수      13\n",
       "2   노동직       12\n",
       "    사업가       12\n",
       "1   교사        12\n",
       "2   농업        11\n",
       "    운수업       11\n",
       "1   예술가        8\n",
       "2   특수전문직      5\n",
       "    예술가        2\n",
       "    운동선수       1\n",
       "    건설업        1\n",
       "dtype: int64"
      ]
     },
     "execution_count": 111,
     "metadata": {},
     "output_type": "execute_result"
    }
   ],
   "source": [
    "df_ROS_drops[['성별','직업']].value_counts().head(50)"
   ]
  },
  {
   "cell_type": "code",
   "execution_count": 117,
   "id": "a43aa8dd-8f63-4c3e-9662-08a604efeb24",
   "metadata": {
    "tags": []
   },
   "outputs": [
    {
     "data": {
      "text/plain": [
       "스테로이드치료  성별\n",
       "1        1     707\n",
       "0        1     461\n",
       "1        2     427\n",
       "0        2     299\n",
       "dtype: int64"
      ]
     },
     "execution_count": 117,
     "metadata": {},
     "output_type": "execute_result"
    }
   ],
   "source": [
    "df_ROS_drops[['스테로이드치료','성별']].value_counts()"
   ]
  },
  {
   "cell_type": "code",
   "execution_count": 120,
   "id": "15abf044-68e8-462a-8164-daef551ed8e4",
   "metadata": {
    "tags": []
   },
   "outputs": [
    {
     "data": {
      "text/plain": [
       "신부전여부  재발여부\n",
       "0      0       1625\n",
       "       1        221\n",
       "1      0         42\n",
       "       1          6\n",
       "dtype: int64"
      ]
     },
     "execution_count": 120,
     "metadata": {},
     "output_type": "execute_result"
    }
   ],
   "source": [
    "df_ROS_drops[['신부전여부','재발여부']].value_counts()"
   ]
  },
  {
   "cell_type": "code",
   "execution_count": 126,
   "id": "3f50e25e-e584-4194-92e3-6e51c1707b33",
   "metadata": {
    "collapsed": true,
    "jupyter": {
     "outputs_hidden": true
    },
    "tags": []
   },
   "outputs": [
    {
     "data": {
      "text/plain": [
       "신장 \n",
       "170    112\n",
       "173     84\n",
       "175     82\n",
       "160     77\n",
       "174     76\n",
       "171     72\n",
       "168     72\n",
       "172     71\n",
       "167     71\n",
       "158     67\n",
       "176     62\n",
       "164     62\n",
       "161     58\n",
       "157     56\n",
       "180     56\n",
       "165     55\n",
       "177     53\n",
       "179     52\n",
       "178     50\n",
       "162     50\n",
       "169     49\n",
       "166     49\n",
       "163     47\n",
       "154     47\n",
       "159     39\n",
       "181     37\n",
       "153     37\n",
       "183     32\n",
       "155     30\n",
       "156     29\n",
       "182     25\n",
       "152     19\n",
       "185     16\n",
       "151     15\n",
       "184     13\n",
       "150     12\n",
       "149     11\n",
       "187      9\n",
       "186      9\n",
       "148      6\n",
       "188      4\n",
       "144      4\n",
       "145      3\n",
       "189      2\n",
       "140      2\n",
       "147      2\n",
       "146      2\n",
       "143      2\n",
       "142      1\n",
       "190      1\n",
       "191      1\n",
       "204      1\n",
       "dtype: int64"
      ]
     },
     "execution_count": 126,
     "metadata": {},
     "output_type": "execute_result"
    }
   ],
   "source": [
    "df_ROS_drops[['신장']].value_counts()"
   ]
  },
  {
   "cell_type": "code",
   "execution_count": 134,
   "id": "b028470e-4729-4f16-b1bc-1b64c1e27ec2",
   "metadata": {
    "tags": []
   },
   "outputs": [
    {
     "data": {
      "text/plain": [
       "심혈관질환  지방축적도 \n",
       "0      177.30    8\n",
       "       127.10    7\n",
       "       122.00    7\n",
       "       137.60    6\n",
       "       136.00    6\n",
       "                ..\n",
       "       169.16    1\n",
       "       169.20    1\n",
       "       171.00    1\n",
       "       171.55    1\n",
       "1      932.28    1\n",
       "Length: 929, dtype: int64"
      ]
     },
     "execution_count": 134,
     "metadata": {},
     "output_type": "execute_result"
    }
   ],
   "source": [
    "df_ROS_drops[['심혈관질환','지방축적도']].value_counts()"
   ]
  },
  {
   "cell_type": "code",
   "execution_count": 136,
   "id": "95cafebc-0041-495c-b31e-12a502273641",
   "metadata": {
    "tags": []
   },
   "outputs": [
    {
     "data": {
      "text/plain": [
       "연령\n",
       "47    106\n",
       "48     82\n",
       "46     73\n",
       "39     73\n",
       "38     63\n",
       "45     62\n",
       "40     61\n",
       "37     53\n",
       "35     47\n",
       "32     47\n",
       "30     46\n",
       "41     46\n",
       "34     45\n",
       "55     45\n",
       "50     44\n",
       "28     43\n",
       "42     41\n",
       "52     41\n",
       "49     41\n",
       "21     41\n",
       "20     36\n",
       "33     35\n",
       "27     35\n",
       "43     35\n",
       "36     35\n",
       "54     34\n",
       "44     34\n",
       "29     32\n",
       "56     32\n",
       "22     31\n",
       "23     29\n",
       "19     29\n",
       "24     28\n",
       "26     26\n",
       "62     26\n",
       "31     25\n",
       "25     23\n",
       "57     21\n",
       "18     20\n",
       "61     20\n",
       "51     19\n",
       "64     16\n",
       "58     15\n",
       "17     13\n",
       "60     13\n",
       "53     11\n",
       "76     11\n",
       "66     11\n",
       "59     10\n",
       "70     10\n",
       "dtype: int64"
      ]
     },
     "execution_count": 136,
     "metadata": {},
     "output_type": "execute_result"
    }
   ],
   "source": [
    "df_ROS_drops[['연령']].value_counts().head(50)"
   ]
  },
  {
   "cell_type": "code",
   "execution_count": 138,
   "id": "0aaf8d24-f287-45d9-81d3-6d59b2a6ac8d",
   "metadata": {
    "tags": []
   },
   "outputs": [
    {
     "data": {
      "text/plain": [
       "우울증여부  성별\n",
       "0      1     1138\n",
       "       2      713\n",
       "1      1       29\n",
       "       2       13\n",
       "2      1        1\n",
       "dtype: int64"
      ]
     },
     "execution_count": 138,
     "metadata": {},
     "output_type": "execute_result"
    }
   ],
   "source": [
    "df_ROS_drops[['우울증여부','성별']].value_counts()"
   ]
  },
  {
   "cell_type": "code",
   "execution_count": 140,
   "id": "4c1f0e34-6595-4391-8156-528beb4cfd9b",
   "metadata": {
    "tags": []
   },
   "outputs": [
    {
     "data": {
      "text/plain": [
       "혈전합병증여부  재발여부\n",
       "0        0       1665\n",
       "         1        225\n",
       "1        0          2\n",
       "         1          2\n",
       "dtype: int64"
      ]
     },
     "execution_count": 140,
     "metadata": {},
     "output_type": "execute_result"
    }
   ],
   "source": [
    "df_ROS_drops[['혈전합병증여부','재발여부']].value_counts()"
   ]
  },
  {
   "cell_type": "code",
   "execution_count": 143,
   "id": "bf5e3094-8d4f-4319-8b46-2ccf3a96f513",
   "metadata": {
    "tags": []
   },
   "outputs": [
    {
     "data": {
      "text/plain": [
       "환자통증정도  입원기간\n",
       "7       1       546\n",
       "        2       237\n",
       "8       1       211\n",
       "        2       110\n",
       "9       1        99\n",
       "               ... \n",
       "7       0         1\n",
       "6       7         1\n",
       "        4         1\n",
       "5       46        1\n",
       "10      44        1\n",
       "Length: 63, dtype: int64"
      ]
     },
     "execution_count": 143,
     "metadata": {},
     "output_type": "execute_result"
    }
   ],
   "source": [
    "df_ROS_drops[['환자통증정도','입원기간']].value_counts()"
   ]
  },
  {
   "cell_type": "code",
   "execution_count": 146,
   "id": "63c14e4c-8ab9-4c34-be2c-015b721623b3",
   "metadata": {
    "tags": []
   },
   "outputs": [
    {
     "data": {
      "text/plain": [
       "흡연여부  환자통증정도\n",
       "0     7         716\n",
       "      8         320\n",
       "1     7         169\n",
       "0     9         127\n",
       "      2          98\n",
       "1     8          90\n",
       "0     10         80\n",
       "1     9          45\n",
       "0     1          40\n",
       "      5          37\n",
       "      3          35\n",
       "1     2          32\n",
       "      10         27\n",
       "0     6          24\n",
       "1     6          16\n",
       "      1          12\n",
       "      5           9\n",
       "      3           9\n",
       "0     4           6\n",
       "1     4           2\n",
       "dtype: int64"
      ]
     },
     "execution_count": 146,
     "metadata": {},
     "output_type": "execute_result"
    }
   ],
   "source": [
    "df_ROS_drops[['흡연여부','환자통증정도']].value_counts()"
   ]
  },
  {
   "cell_type": "code",
   "execution_count": 150,
   "id": "d98a2927-a6ca-4d91-abc4-56178055d07d",
   "metadata": {
    "tags": []
   },
   "outputs": [
    {
     "data": {
      "text/plain": [
       "통증기간(월)\n",
       "1.0        805\n",
       "2.0        363\n",
       "3.0        167\n",
       "12.0        93\n",
       "6.0         91\n",
       "4.0         53\n",
       "5.0         51\n",
       "24.0        41\n",
       "10.0        25\n",
       "7.0         23\n",
       "dtype: int64"
      ]
     },
     "execution_count": 150,
     "metadata": {},
     "output_type": "execute_result"
    }
   ],
   "source": [
    "df_ROS_drops[['통증기간(월)']].value_counts().head(10)"
   ]
  },
  {
   "cell_type": "code",
   "execution_count": 154,
   "id": "f0588185-7151-4160-930d-e205bb1b60e0",
   "metadata": {
    "tags": []
   },
   "outputs": [
    {
     "data": {
      "text/plain": [
       "수술실패여부  환자통증정도\n",
       "0       7         839\n",
       "        8         386\n",
       "        9         155\n",
       "        2         120\n",
       "        10         90\n",
       "        1          52\n",
       "        5          46\n",
       "1       7          46\n",
       "0       3          43\n",
       "        6          40\n",
       "1       8          24\n",
       "        9          17\n",
       "        10         17\n",
       "        2          10\n",
       "0       4           8\n",
       "1       3           1\n",
       "dtype: int64"
      ]
     },
     "execution_count": 154,
     "metadata": {},
     "output_type": "execute_result"
    }
   ],
   "source": [
    "df_ROS_drops[['수술실패여부','환자통증정도']].value_counts()"
   ]
  },
  {
   "cell_type": "code",
   "execution_count": 160,
   "id": "09ad61b4-ac8f-45a2-a7a1-4fff630763e2",
   "metadata": {
    "tags": []
   },
   "outputs": [
    {
     "data": {
      "text/plain": [
       "수술일자    \n",
       "20190131    28\n",
       "20190103    20\n",
       "20190228    18\n",
       "20190201    14\n",
       "20190102    13\n",
       "            ..\n",
       "20140731     1\n",
       "20140805     1\n",
       "20140806     1\n",
       "20140807     1\n",
       "20200806     1\n",
       "Length: 976, dtype: int64"
      ]
     },
     "execution_count": 160,
     "metadata": {},
     "output_type": "execute_result"
    }
   ],
   "source": [
    "df_ROS_drops[['수술일자']].value_counts()"
   ]
  },
  {
   "cell_type": "code",
   "execution_count": 164,
   "id": "3a99e467-4e4c-4377-8191-d4f599bf0e08",
   "metadata": {
    "tags": []
   },
   "outputs": [
    {
     "data": {
      "text/plain": [
       "전방디스크높이(mm)  PI  \n",
       "13.7         40.8    7\n",
       "8.5          52.9    6\n",
       "12.6         66.5    6\n",
       "9.5          45.9    6\n",
       "11.2         49.0    6\n",
       "                    ..\n",
       "9.3          38.2    1\n",
       "             38.3    1\n",
       "11.8         28.1    1\n",
       "9.3          51.3    1\n",
       "11.2         46.4    1\n",
       "Length: 921, dtype: int64"
      ]
     },
     "execution_count": 164,
     "metadata": {},
     "output_type": "execute_result"
    }
   ],
   "source": [
    "df_ROS_drops[['전방디스크높이(mm)','PI']].value_counts()"
   ]
  },
  {
   "cell_type": "code",
   "execution_count": 166,
   "id": "0e6c8364-aeba-4b4a-9283-01a2e34cc9da",
   "metadata": {
    "tags": []
   },
   "outputs": [
    {
     "data": {
      "text/plain": [
       "후방디스크높이(mm)  재발여부\n",
       "8.20         0       51\n",
       "7.60         0       41\n",
       "8.80         0       40\n",
       "9.30         0       36\n",
       "9.40         0       36\n",
       "                     ..\n",
       "9.88         1        1\n",
       "6.90         1        1\n",
       "7.03         1        1\n",
       "9.73         0        1\n",
       "8.36         1        1\n",
       "Length: 295, dtype: int64"
      ]
     },
     "execution_count": 166,
     "metadata": {},
     "output_type": "execute_result"
    }
   ],
   "source": [
    "df_ROS_drops[['후방디스크높이(mm)','재발여부']].value_counts()"
   ]
  },
  {
   "cell_type": "code",
   "execution_count": 170,
   "id": "e75f88fa-6fcf-45ca-ba7d-210e66b635a8",
   "metadata": {
    "tags": []
   },
   "outputs": [
    {
     "data": {
      "text/plain": [
       "지방축적도   \n",
       "177.30      8\n",
       "122.00      7\n",
       "127.10      7\n",
       "148.50      6\n",
       "196.00      6\n",
       "           ..\n",
       "155.88      1\n",
       "155.45      1\n",
       "155.06      1\n",
       "154.72      1\n",
       "12113.47    1\n",
       "Length: 878, dtype: int64"
      ]
     },
     "execution_count": 170,
     "metadata": {},
     "output_type": "execute_result"
    }
   ],
   "source": [
    "df_ROS_drops[['지방축적도']].value_counts()"
   ]
  },
  {
   "cell_type": "code",
   "execution_count": 173,
   "id": "12c574cc-c93e-4215-b4be-79fefc39c7fc",
   "metadata": {
    "tags": []
   },
   "outputs": [
    {
     "data": {
      "text/plain": [
       "Instability  재발여부\n",
       "0            0       1599\n",
       "             1        218\n",
       "1            0         68\n",
       "             1          9\n",
       "dtype: int64"
      ]
     },
     "execution_count": 173,
     "metadata": {},
     "output_type": "execute_result"
    }
   ],
   "source": [
    "df_ROS_drops[['Instability','재발여부']].value_counts()"
   ]
  },
  {
   "cell_type": "code",
   "execution_count": 176,
   "id": "d3b473b5-fe28-4b78-a941-cad7bf28d4ba",
   "metadata": {
    "tags": []
   },
   "outputs": [
    {
     "data": {
      "text/plain": [
       "Seg Angle(raw)\n",
       "11.1              23\n",
       "14.0              20\n",
       "21.1              20\n",
       "16.8              19\n",
       "19.5              19\n",
       "                  ..\n",
       "3.2                1\n",
       "19.0               1\n",
       "30.8               1\n",
       "30.9               1\n",
       "22.3               1\n",
       "Length: 320, dtype: int64"
      ]
     },
     "execution_count": 176,
     "metadata": {},
     "output_type": "execute_result"
    }
   ],
   "source": [
    "df_ROS_drops[['Seg Angle(raw)']].value_counts()"
   ]
  },
  {
   "cell_type": "code",
   "execution_count": 180,
   "id": "442a262a-8324-4edd-87aa-2b53156a2391",
   "metadata": {
    "tags": []
   },
   "outputs": [
    {
     "data": {
      "text/plain": [
       "디스크단면적 \n",
       "2035.90    9\n",
       "1749.00    7\n",
       "1937.50    7\n",
       "2155.30    6\n",
       "2303.00    6\n",
       "          ..\n",
       "1925.70    1\n",
       "1926.86    1\n",
       "1930.10    1\n",
       "1931.10    1\n",
       "3214.20    1\n",
       "Length: 908, dtype: int64"
      ]
     },
     "execution_count": 180,
     "metadata": {},
     "output_type": "execute_result"
    }
   ],
   "source": [
    "df_ROS_drops[['디스크단면적']].value_counts()"
   ]
  },
  {
   "cell_type": "code",
   "execution_count": 182,
   "id": "6b1e6c10-36e3-41f1-841e-4297f4ee0fb2",
   "metadata": {
    "tags": []
   },
   "outputs": [
    {
     "data": {
      "text/plain": [
       "Large Lymphocyte  입원기간\n",
       "44.9              1       14\n",
       "34.4              1       11\n",
       "34.7              1       10\n",
       "40.3              1        9\n",
       "45.3              1        9\n",
       "                          ..\n",
       "36.3              2        1\n",
       "36.4              1        1\n",
       "36.5              1        1\n",
       "36.6              2        1\n",
       "89.0              3        1\n",
       "Length: 887, dtype: int64"
      ]
     },
     "execution_count": 182,
     "metadata": {},
     "output_type": "execute_result"
    }
   ],
   "source": [
    "df_ROS_drops[['Large Lymphocyte','입원기간']].value_counts()"
   ]
  },
  {
   "cell_type": "code",
   "execution_count": 185,
   "id": "5f61d760-8ecd-4be3-850b-c2721af2aa2b",
   "metadata": {
    "tags": []
   },
   "outputs": [
    {
     "data": {
      "text/plain": [
       "Location of herniation\n",
       "3                         657\n",
       "2                         563\n",
       "1                         493\n",
       "4                         147\n",
       "5                          34\n",
       "dtype: int64"
      ]
     },
     "execution_count": 185,
     "metadata": {},
     "output_type": "execute_result"
    }
   ],
   "source": [
    "df_ROS_drops[['Location of herniation']].value_counts()"
   ]
  },
  {
   "cell_type": "code",
   "execution_count": null,
   "id": "5aa448fa-eb98-43a1-bee6-6a7308ade509",
   "metadata": {},
   "outputs": [],
   "source": []
  }
 ],
 "metadata": {
  "kernelspec": {
   "display_name": "Python 3 (ipykernel)",
   "language": "python",
   "name": "python3"
  },
  "language_info": {
   "codemirror_mode": {
    "name": "ipython",
    "version": 3
   },
   "file_extension": ".py",
   "mimetype": "text/x-python",
   "name": "python",
   "nbconvert_exporter": "python",
   "pygments_lexer": "ipython3",
   "version": "3.11.4"
  }
 },
 "nbformat": 4,
 "nbformat_minor": 5
}
