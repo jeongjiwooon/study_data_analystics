{
 "cells": [
  {
   "cell_type": "code",
   "execution_count": 1,
   "id": "8022538b-6fe2-4d59-ad0d-c7e5267e7a23",
   "metadata": {
    "tags": []
   },
   "outputs": [],
   "source": [
    "sentences = [\n",
    "    \"오늘 날씨가 좋아서 나들이 가고 싶다.\", # -> [오늘, 날씨가, 좋아서 ...]\n",
    "    \"이 영화는 정말 재미있었어요.\",\n",
    "    \"맛있는 음식을 먹으러 갈까요?\",\n",
    "    \"운동을 하면 건강에 좋아지는 것 같아요.\",\n",
    "    \"공부하기 싫어서 미루고 있어요.\",\n",
    "    \"여행 계획을 세우고 있는데 어디로 갈까요?\",\n",
    "    \"좋은 책을 읽으면 마음이 편안해져요.\",\n",
    "    \"오늘은 친구들과 만나서 재미있게 놀았어요.\",\n",
    "    \"새로운 언어를 배우는 것은 어려워도 흥미로워요.\",\n",
    "    \"주말에 가족들과 함께 시간을 보내기로 했습니다.\"\n",
    "]\n",
    "# [(0, '0.092*\"것\" + 0.090*\"건강\" + 0.090*\"오늘\" + 0.089*\"운동\" + 0.089*\"친구\"'),\n",
    "#  (1, '0.073*\"계획\" + 0.073*\"여행\" + 0.073*\"어디\" + 0.073*\"가족\" + 0.073*\"시간\"'),\n",
    "#  (2, '0.113*\"것\" + 0.113*\"흥미\" + 0.112*\"언어\" + 0.103*\"음식\" + 0.038*\"공부\"')]"
   ]
  },
  {
   "cell_type": "code",
   "execution_count": 2,
   "id": "9c323513-e8d6-41f2-8344-ab69f963a7c2",
   "metadata": {
    "tags": []
   },
   "outputs": [],
   "source": [
    "from gensim.corpora import Dictionary\n",
    "from gensim.models import LdaModel # 주제어 확인"
   ]
  },
  {
   "cell_type": "markdown",
   "id": "60c5edce-ddcb-46a4-a1aa-a4028be0bc39",
   "metadata": {},
   "source": [
    "## 전처리(형태소 분석, 불용어 처리 등)"
   ]
  },
  {
   "cell_type": "code",
   "execution_count": 3,
   "id": "3fe0b6a3-dcb6-43b7-aa86-129b1bf06c3c",
   "metadata": {
    "tags": []
   },
   "outputs": [
    {
     "data": {
      "text/plain": [
       "[['날씨', '나'],\n",
       " ['영화'],\n",
       " ['음식'],\n",
       " ['운동', '건강', '것'],\n",
       " ['공부'],\n",
       " ['여행', '계획', '어디'],\n",
       " ['책', '마음', '편안'],\n",
       " ['오늘', '친구'],\n",
       " ['언어', '것', '흥미'],\n",
       " ['주말', '가족', '시간']]"
      ]
     },
     "execution_count": 3,
     "metadata": {},
     "output_type": "execute_result"
    }
   ],
   "source": [
    "from mecab import MeCab\n",
    "mecab = MeCab()\n",
    "# 형태분석기 사용해 명사만 추출\n",
    "morphs_list = list()\n",
    "for sentence in sentences :\n",
    "    morphs = mecab.nouns(sentence)\n",
    "    morphs_list.append(morphs)\n",
    "morphs_list"
   ]
  },
  {
   "cell_type": "code",
   "execution_count": 4,
   "id": "d594f495-89d9-4eee-b524-5f4eb654960e",
   "metadata": {
    "tags": []
   },
   "outputs": [],
   "source": [
    "preprocessed_sentences = morphs_list"
   ]
  },
  {
   "cell_type": "code",
   "execution_count": 5,
   "id": "0cd2087d-4ed4-4c38-84be-267ea1c123ae",
   "metadata": {
    "tags": []
   },
   "outputs": [
    {
     "data": {
      "text/plain": [
       "<gensim.corpora.dictionary.Dictionary at 0x22de6d6f510>"
      ]
     },
     "execution_count": 5,
     "metadata": {},
     "output_type": "execute_result"
    }
   ],
   "source": [
    "dictionary = Dictionary(preprocessed_sentences) # fix in like sklean\n",
    "dictionary"
   ]
  },
  {
   "cell_type": "markdown",
   "id": "245baedf-8f71-476d-b570-713db140c0c3",
   "metadata": {},
   "source": [
    "## transform with dictionary"
   ]
  },
  {
   "cell_type": "code",
   "execution_count": 6,
   "id": "969d52a0-14a4-4c52-aba5-05849aa32c44",
   "metadata": {
    "tags": []
   },
   "outputs": [
    {
     "data": {
      "text/plain": [
       "[(0, 1), (1, 1)]"
      ]
     },
     "execution_count": 6,
     "metadata": {},
     "output_type": "execute_result"
    }
   ],
   "source": [
    "# dictionary.token2id\n",
    "dictionary.doc2bow(preprocessed_sentences[0])  # transform"
   ]
  },
  {
   "cell_type": "code",
   "execution_count": 7,
   "id": "bd3975fa-a7ca-4b93-b230-0ff9310a9bdc",
   "metadata": {
    "tags": []
   },
   "outputs": [],
   "source": [
    "corpus_list = list()\n",
    "for sentence in preprocessed_sentences:\n",
    "    morphs_vector = dictionary.doc2bow(sentence)\n",
    "    corpus_list.append(morphs_vector)\n",
    "# corpus_list   "
   ]
  },
  {
   "cell_type": "code",
   "execution_count": 8,
   "id": "dbb12dfa-3703-4adf-b2c1-9cc75c9894b5",
   "metadata": {
    "tags": []
   },
   "outputs": [],
   "source": [
    "lda_model = LdaModel(corpus=corpus_list, id2word=dictionary, num_topics=3) # fix"
   ]
  },
  {
   "cell_type": "code",
   "execution_count": 9,
   "id": "fd53989d-b69b-4be2-8114-605cce83d78f",
   "metadata": {
    "tags": []
   },
   "outputs": [
    {
     "data": {
      "text/plain": [
       "[(0, '0.087*\"계획\" + 0.086*\"여행\" + 0.085*\"어디\" + 0.083*\"나\" + 0.081*\"날씨\"'),\n",
       " (1, '0.081*\"것\" + 0.079*\"가족\" + 0.078*\"주말\" + 0.078*\"친구\" + 0.078*\"오늘\"'),\n",
       " (2, '0.109*\"것\" + 0.108*\"건강\" + 0.106*\"운동\" + 0.104*\"음식\" + 0.048*\"마음\"')]"
      ]
     },
     "execution_count": 9,
     "metadata": {},
     "output_type": "execute_result"
    }
   ],
   "source": [
    "lda_model.print_topics(num_words=5)"
   ]
  },
  {
   "cell_type": "markdown",
   "id": "3ffa58c3-fba7-4974-8a5c-8b769c26353e",
   "metadata": {},
   "source": [
    "## 최적에 토픽 단어 수"
   ]
  },
  {
   "cell_type": "code",
   "execution_count": 12,
   "id": "e7fee3b8-bcea-423d-87ae-9fce93c582e3",
   "metadata": {
    "tags": []
   },
   "outputs": [
    {
     "data": {
      "text/plain": [
       "0.722823803113504"
      ]
     },
     "execution_count": 12,
     "metadata": {},
     "output_type": "execute_result"
    }
   ],
   "source": [
    "# 일관성 점수\n",
    "from gensim.models.coherencemodel import CoherenceModel\n",
    "coherenceModel = CoherenceModel(model=lda_model, texts=morphs_list, dictionary=dictionary)\n",
    "coherenceModel.get_coherence()"
   ]
  },
  {
   "cell_type": "code",
   "execution_count": 13,
   "id": "75639e9e-4ca6-47af-bfee-1b565ecbdee7",
   "metadata": {
    "tags": []
   },
   "outputs": [
    {
     "data": {
      "text/plain": [
       "-4.161200882665815"
      ]
     },
     "execution_count": 13,
     "metadata": {},
     "output_type": "execute_result"
    }
   ],
   "source": [
    "# 혼잡도 점수\n",
    "lda_model.log_perplexity(corpus_list)"
   ]
  },
  {
   "cell_type": "code",
   "execution_count": 17,
   "id": "b5536301-3dfb-4c29-b796-317277b13107",
   "metadata": {
    "tags": []
   },
   "outputs": [],
   "source": [
    "start_topic = 2\n",
    "end_topic = 10\n",
    "coherence_scores = list()\n",
    "perplexity_scores = list()\n",
    "for topic_number in range(start_topic, end_topic+1): \n",
    "    lda_model = LdaModel(corpus=corpus_list, id2word=dictionary, num_topics=topic_number) # fix\n",
    "    coherenceModel = CoherenceModel(model=lda_model, texts=morphs_list, dictionary=dictionary)\n",
    "    coherence_scores.append(coherenceModel.get_coherence()) # 일관성 점수\n",
    "    perplexity_scores.append(lda_model.log_perplexity(corpus_list)) # 혼잡도 점수"
   ]
  },
  {
   "cell_type": "code",
   "execution_count": 19,
   "id": "63b8c185-4ee0-4908-915d-83c8b5207f02",
   "metadata": {
    "tags": []
   },
   "outputs": [
    {
     "data": {
      "text/html": [
       "<div>\n",
       "<style scoped>\n",
       "    .dataframe tbody tr th:only-of-type {\n",
       "        vertical-align: middle;\n",
       "    }\n",
       "\n",
       "    .dataframe tbody tr th {\n",
       "        vertical-align: top;\n",
       "    }\n",
       "\n",
       "    .dataframe thead th {\n",
       "        text-align: right;\n",
       "    }\n",
       "</style>\n",
       "<table border=\"1\" class=\"dataframe\">\n",
       "  <thead>\n",
       "    <tr style=\"text-align: right;\">\n",
       "      <th></th>\n",
       "      <th>0</th>\n",
       "      <th>1</th>\n",
       "      <th>2</th>\n",
       "      <th>3</th>\n",
       "      <th>4</th>\n",
       "      <th>5</th>\n",
       "      <th>6</th>\n",
       "      <th>7</th>\n",
       "      <th>8</th>\n",
       "    </tr>\n",
       "  </thead>\n",
       "  <tbody>\n",
       "    <tr>\n",
       "      <th>0</th>\n",
       "      <td>0.718742</td>\n",
       "      <td>0.722824</td>\n",
       "      <td>0.723955</td>\n",
       "      <td>0.722598</td>\n",
       "      <td>0.723389</td>\n",
       "      <td>0.722016</td>\n",
       "      <td>0.723531</td>\n",
       "      <td>0.722070</td>\n",
       "      <td>0.722598</td>\n",
       "    </tr>\n",
       "    <tr>\n",
       "      <th>1</th>\n",
       "      <td>-3.995901</td>\n",
       "      <td>-4.128058</td>\n",
       "      <td>-4.236261</td>\n",
       "      <td>-4.485629</td>\n",
       "      <td>-4.587924</td>\n",
       "      <td>-4.557949</td>\n",
       "      <td>-4.742794</td>\n",
       "      <td>-4.684865</td>\n",
       "      <td>-5.023129</td>\n",
       "    </tr>\n",
       "  </tbody>\n",
       "</table>\n",
       "</div>"
      ],
      "text/plain": [
       "          0         1         2         3         4         5         6  \\\n",
       "0  0.718742  0.722824  0.723955  0.722598  0.723389  0.722016  0.723531   \n",
       "1 -3.995901 -4.128058 -4.236261 -4.485629 -4.587924 -4.557949 -4.742794   \n",
       "\n",
       "          7         8  \n",
       "0  0.722070  0.722598  \n",
       "1 -4.684865 -5.023129  "
      ]
     },
     "execution_count": 19,
     "metadata": {},
     "output_type": "execute_result"
    }
   ],
   "source": [
    "import pandas as pd\n",
    "pd.DataFrame([coherence_scores, perplexity_scores])"
   ]
  },
  {
   "cell_type": "code",
   "execution_count": 20,
   "id": "329defa6-b800-4d19-8a1e-d896a387498a",
   "metadata": {
    "tags": []
   },
   "outputs": [],
   "source": [
    "import seaborn as sns\n",
    "import matplotlib.pyplot as plt"
   ]
  },
  {
   "cell_type": "code",
   "execution_count": 27,
   "id": "2d5b4ccd-5b2d-4b6c-8d9c-2106dd34834e",
   "metadata": {
    "tags": []
   },
   "outputs": [
    {
     "data": {
      "text/plain": [
       "<Axes: >"
      ]
     },
     "execution_count": 27,
     "metadata": {},
     "output_type": "execute_result"
    },
    {
     "data": {
      "image/png": "[encoded data removed]",
      "text/plain": [
       "<Figure size 640x480 with 1 Axes>"
      ]
     },
     "metadata": {},
     "output_type": "display_data"
    }
   ],
   "source": [
    "sns.lineplot(coherence_scores)"
   ]
  },
  {
   "cell_type": "code",
   "execution_count": 28,
   "id": "00386e9e-88c2-4a4a-9cb4-563378624478",
   "metadata": {
    "tags": []
   },
   "outputs": [
    {
     "data": {
      "text/plain": [
       "<Axes: >"
      ]
     },
     "execution_count": 28,
     "metadata": {},
     "output_type": "execute_result"
    },
    {
     "data": {
      "image/png": "[encoded data removed]",
      "text/plain": [
       "<Figure size 640x480 with 1 Axes>"
      ]
     },
     "metadata": {},
     "output_type": "display_data"
    }
   ],
   "source": [
    "sns.lineplot(perplexity_scores)"
   ]
  },
  {
   "cell_type": "code",
   "execution_count": null,
   "id": "aeeebb4c-662e-48d1-a3c6-90d2719b6000",
   "metadata": {},
   "outputs": [],
   "source": []
  }
 ],
 "metadata": {
  "kernelspec": {
   "display_name": "Python 3 (ipykernel)",
   "language": "python",
   "name": "python3"
  },
  "language_info": {
   "codemirror_mode": {
    "name": "ipython",
    "version": 3
   },
   "file_extension": ".py",
   "mimetype": "text/x-python",
   "name": "python",
   "nbconvert_exporter": "python",
   "pygments_lexer": "ipython3",
   "version": "3.11.3"
  }
 },
 "nbformat": 4,
 "nbformat_minor": 5
}
