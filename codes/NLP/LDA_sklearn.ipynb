{
 "cells": [
  {
   "cell_type": "code",
   "execution_count": 1,
   "id": "eb82cda2-c8fe-4a9d-ae7e-90065d85a136",
   "metadata": {
    "tags": []
   },
   "outputs": [],
   "source": [
    "sentences = [\n",
    "    \"오늘 날씨가 좋아서 나들이 가고 싶다.\", # -> [오늘, 날씨가, 좋아서 ...]\n",
    "    \"이 영화는 정말 재미있었어요.\",\n",
    "    \"맛있는 음식을 먹으러 갈까요?\",\n",
    "    \"운동을 하면 건강에 좋아지는 것 같아요.\",\n",
    "    \"공부하기 싫어서 미루고 있어요.\",\n",
    "    \"여행 계획을 세우고 있는데 어디로 갈까요?\",\n",
    "    \"좋은 책을 읽으면 마음이 편안해져요.\",\n",
    "    \"오늘은 친구들과 만나서 재미있게 놀았어요.\",\n",
    "    \"새로운 언어를 배우는 것은 어려워도 흥미로워요.\",\n",
    "    \"주말에 가족들과 함께 시간을 보내기로 했습니다.\"\n",
    "]"
   ]
  },
  {
   "cell_type": "markdown",
   "id": "6cc29bf4-2e5b-427c-9382-63426fb25e0e",
   "metadata": {
    "tags": []
   },
   "source": [
    "## 자연어 전처리"
   ]
  },
  {
   "cell_type": "code",
   "execution_count": 2,
   "id": "ba2bbfe0-930e-46de-a7ae-e790c4226532",
   "metadata": {
    "tags": []
   },
   "outputs": [],
   "source": [
    "from mecab import MeCab\n",
    "mecab = MeCab()\n",
    "# 불용어 리스트 생성 (예시)\n",
    "stopwords = ['가', '고', '을', '를', '이', '는']\n",
    "from konlpy.tag import Okt\n",
    "\n",
    "# Okt 형태소 분석기 인스턴스 생성\n",
    "okt = Okt()\n",
    "\n",
    "# 불용어 리스트 생성 (예시)\n",
    "stopwords = ['가', '고', '을', '를', '이', '는']\n",
    "\n",
    "# 토크나이징 함수 정의\n",
    "def tokenizer(raw, pos=[\"Noun\",\"Alpha\",\"Verb\",\"Number\"], stopword=stopwords):\n",
    "    return [\n",
    "        word for word, tag in okt.pos(\n",
    "            raw, \n",
    "            norm=True,   # normalize 그랰ㅋㅏ -> 그래ㅋㅋ\n",
    "            stem=True    # stemming 바뀌나->바뀌다\n",
    "            )\n",
    "            if len(word) > 1 and tag in pos and word not in stopword\n",
    "\n",
    "    ]"
   ]
  },
  {
   "cell_type": "code",
   "execution_count": 3,
   "id": "554a44b7-5c8f-4df1-97ad-f1915f7728ac",
   "metadata": {
    "tags": []
   },
   "outputs": [
    {
     "name": "stderr",
     "output_type": "stream",
     "text": [
      "C:\\Users\\5-22\\anaconda3\\Lib\\site-packages\\sklearn\\feature_extraction\\text.py:528: UserWarning: The parameter 'token_pattern' will not be used since 'tokenizer' is not None'\n",
      "  warnings.warn(\n"
     ]
    },
    {
     "data": {
      "text/plain": [
       "array([[0.46015789, 0.        , 0.        , 0.        , 0.        ,\n",
       "        0.        , 0.46015789, 0.46015789, 0.        , 0.        ,\n",
       "        0.        , 0.        , 0.        , 0.        , 0.        ,\n",
       "        0.        , 0.        , 0.46015789, 0.        , 0.        ,\n",
       "        0.        , 0.        , 0.39117625, 0.        , 0.        ,\n",
       "        0.        , 0.        , 0.        , 0.        , 0.        ,\n",
       "        0.        ],\n",
       "       [0.        , 0.        , 0.        , 0.        , 0.        ,\n",
       "        0.        , 0.        , 0.        , 0.        , 0.        ,\n",
       "        0.        , 0.        , 0.        , 0.        , 0.        ,\n",
       "        0.        , 0.        , 0.        , 0.        , 0.        ,\n",
       "        0.        , 0.70710678, 0.        , 0.        , 0.        ,\n",
       "        0.        , 0.70710678, 0.        , 0.        , 0.        ,\n",
       "        0.        ],\n",
       "       [0.        , 0.        , 0.51519219, 0.        , 0.        ,\n",
       "        0.        , 0.        , 0.        , 0.        , 0.        ,\n",
       "        0.        , 0.60604332, 0.        , 0.        , 0.        ,\n",
       "        0.        , 0.        , 0.        , 0.        , 0.        ,\n",
       "        0.        , 0.        , 0.        , 0.        , 0.60604332,\n",
       "        0.        , 0.        , 0.        , 0.        , 0.        ,\n",
       "        0.        ],\n",
       "       [0.        , 0.        , 0.        , 0.53051081, 0.        ,\n",
       "        0.        , 0.        , 0.        , 0.        , 0.        ,\n",
       "        0.        , 0.        , 0.        , 0.        , 0.        ,\n",
       "        0.        , 0.        , 0.        , 0.        , 0.        ,\n",
       "        0.        , 0.        , 0.        , 0.53051081, 0.        ,\n",
       "        0.        , 0.        , 0.53051081, 0.        , 0.        ,\n",
       "        0.39455653],\n",
       "       [0.        , 0.        , 0.        , 0.        , 0.        ,\n",
       "        0.62583988, 0.        , 0.        , 0.        , 0.        ,\n",
       "        0.        , 0.        , 0.62583988, 0.        , 0.        ,\n",
       "        0.        , 0.        , 0.        , 0.        , 0.        ,\n",
       "        0.        , 0.        , 0.        , 0.        , 0.        ,\n",
       "        0.        , 0.        , 0.        , 0.        , 0.        ,\n",
       "        0.46545557],\n",
       "       [0.        , 0.        , 0.39117625, 0.        , 0.46015789,\n",
       "        0.        , 0.        , 0.        , 0.        , 0.        ,\n",
       "        0.        , 0.        , 0.        , 0.        , 0.        ,\n",
       "        0.46015789, 0.        , 0.        , 0.46015789, 0.        ,\n",
       "        0.46015789, 0.        , 0.        , 0.        , 0.        ,\n",
       "        0.        , 0.        , 0.        , 0.        , 0.        ,\n",
       "        0.        ],\n",
       "       [0.        , 0.        , 0.        , 0.        , 0.        ,\n",
       "        0.        , 0.        , 0.        , 0.        , 0.70710678,\n",
       "        0.        , 0.        , 0.        , 0.        , 0.        ,\n",
       "        0.        , 0.        , 0.        , 0.        , 0.        ,\n",
       "        0.        , 0.        , 0.        , 0.        , 0.        ,\n",
       "        0.70710678, 0.        , 0.        , 0.        , 0.        ,\n",
       "        0.        ],\n",
       "       [0.        , 0.        , 0.        , 0.        , 0.        ,\n",
       "        0.        , 0.        , 0.        , 0.5182909 , 0.        ,\n",
       "        0.5182909 , 0.        , 0.        , 0.        , 0.        ,\n",
       "        0.        , 0.        , 0.        , 0.        , 0.        ,\n",
       "        0.        , 0.        , 0.44059462, 0.        , 0.        ,\n",
       "        0.        , 0.        , 0.        , 0.        , 0.5182909 ,\n",
       "        0.        ],\n",
       "       [0.        , 0.        , 0.        , 0.        , 0.        ,\n",
       "        0.        , 0.        , 0.        , 0.        , 0.        ,\n",
       "        0.        , 0.        , 0.        , 0.70710678, 0.        ,\n",
       "        0.        , 0.        , 0.        , 0.        , 0.70710678,\n",
       "        0.        , 0.        , 0.        , 0.        , 0.        ,\n",
       "        0.        , 0.        , 0.        , 0.        , 0.        ,\n",
       "        0.        ],\n",
       "       [0.        , 0.46864588, 0.        , 0.        , 0.        ,\n",
       "        0.        , 0.        , 0.        , 0.        , 0.        ,\n",
       "        0.        , 0.        , 0.        , 0.        , 0.46864588,\n",
       "        0.        , 0.46864588, 0.        , 0.        , 0.        ,\n",
       "        0.        , 0.        , 0.        , 0.        , 0.        ,\n",
       "        0.        , 0.        , 0.        , 0.46864588, 0.        ,\n",
       "        0.34854576]])"
      ]
     },
     "execution_count": 3,
     "metadata": {},
     "output_type": "execute_result"
    }
   ],
   "source": [
    "from sklearn.feature_extraction.text import TfidfVectorizer\n",
    "vectorizer = TfidfVectorizer(tokenizer = tokenizer, use_idf=True)\n",
    "features = vectorizer.fit_transform(sentences)\n",
    "features.toarray()"
   ]
  },
  {
   "cell_type": "markdown",
   "id": "6c21053c-1dc5-4a99-a0ae-5c262803c59f",
   "metadata": {},
   "source": [
    "## LDA 적용"
   ]
  },
  {
   "cell_type": "code",
   "execution_count": 4,
   "id": "4debc01e-15c8-45c9-b347-018f0dc14414",
   "metadata": {
    "tags": []
   },
   "outputs": [],
   "source": [
    "from sklearn.decomposition import LatentDirichletAllocation\n",
    "lda_model = LatentDirichletAllocation(n_components=3, random_state=111)"
   ]
  },
  {
   "cell_type": "code",
   "execution_count": 5,
   "id": "f29e8dcb-2b1d-495d-9ccf-c1743e6c7566",
   "metadata": {
    "tags": []
   },
   "outputs": [
    {
     "data": {
      "text/html": [
       "<style>#sk-container-id-1 {color: black;background-color: white;}#sk-container-id-1 pre{padding: 0;}#sk-container-id-1 div.sk-toggleable {background-color: white;}#sk-container-id-1 label.sk-toggleable__label {cursor: pointer;display: block;width: 100%;margin-bottom: 0;padding: 0.3em;box-sizing: border-box;text-align: center;}#sk-container-id-1 label.sk-toggleable__label-arrow:before {content: \"▸\";float: left;margin-right: 0.25em;color: #696969;}#sk-container-id-1 label.sk-toggleable__label-arrow:hover:before {color: black;}#sk-container-id-1 div.sk-estimator:hover label.sk-toggleable__label-arrow:before {color: black;}#sk-container-id-1 div.sk-toggleable__content {max-height: 0;max-width: 0;overflow: hidden;text-align: left;background-color: #f0f8ff;}#sk-container-id-1 div.sk-toggleable__content pre {margin: 0.2em;color: black;border-radius: 0.25em;background-color: #f0f8ff;}#sk-container-id-1 input.sk-toggleable__control:checked~div.sk-toggleable__content {max-height: 200px;max-width: 100%;overflow: auto;}#sk-container-id-1 input.sk-toggleable__control:checked~label.sk-toggleable__label-arrow:before {content: \"▾\";}#sk-container-id-1 div.sk-estimator input.sk-toggleable__control:checked~label.sk-toggleable__label {background-color: #d4ebff;}#sk-container-id-1 div.sk-label input.sk-toggleable__control:checked~label.sk-toggleable__label {background-color: #d4ebff;}#sk-container-id-1 input.sk-hidden--visually {border: 0;clip: rect(1px 1px 1px 1px);clip: rect(1px, 1px, 1px, 1px);height: 1px;margin: -1px;overflow: hidden;padding: 0;position: absolute;width: 1px;}#sk-container-id-1 div.sk-estimator {font-family: monospace;background-color: #f0f8ff;border: 1px dotted black;border-radius: 0.25em;box-sizing: border-box;margin-bottom: 0.5em;}#sk-container-id-1 div.sk-estimator:hover {background-color: #d4ebff;}#sk-container-id-1 div.sk-parallel-item::after {content: \"\";width: 100%;border-bottom: 1px solid gray;flex-grow: 1;}#sk-container-id-1 div.sk-label:hover label.sk-toggleable__label {background-color: #d4ebff;}#sk-container-id-1 div.sk-serial::before {content: \"\";position: absolute;border-left: 1px solid gray;box-sizing: border-box;top: 0;bottom: 0;left: 50%;z-index: 0;}#sk-container-id-1 div.sk-serial {display: flex;flex-direction: column;align-items: center;background-color: white;padding-right: 0.2em;padding-left: 0.2em;position: relative;}#sk-container-id-1 div.sk-item {position: relative;z-index: 1;}#sk-container-id-1 div.sk-parallel {display: flex;align-items: stretch;justify-content: center;background-color: white;position: relative;}#sk-container-id-1 div.sk-item::before, #sk-container-id-1 div.sk-parallel-item::before {content: \"\";position: absolute;border-left: 1px solid gray;box-sizing: border-box;top: 0;bottom: 0;left: 50%;z-index: -1;}#sk-container-id-1 div.sk-parallel-item {display: flex;flex-direction: column;z-index: 1;position: relative;background-color: white;}#sk-container-id-1 div.sk-parallel-item:first-child::after {align-self: flex-end;width: 50%;}#sk-container-id-1 div.sk-parallel-item:last-child::after {align-self: flex-start;width: 50%;}#sk-container-id-1 div.sk-parallel-item:only-child::after {width: 0;}#sk-container-id-1 div.sk-dashed-wrapped {border: 1px dashed gray;margin: 0 0.4em 0.5em 0.4em;box-sizing: border-box;padding-bottom: 0.4em;background-color: white;}#sk-container-id-1 div.sk-label label {font-family: monospace;font-weight: bold;display: inline-block;line-height: 1.2em;}#sk-container-id-1 div.sk-label-container {text-align: center;}#sk-container-id-1 div.sk-container {/* jupyter's `normalize.less` sets `[hidden] { display: none; }` but bootstrap.min.css set `[hidden] { display: none !important; }` so we also need the `!important` here to be able to override the default hidden behavior on the sphinx rendered scikit-learn.org. See: https://github.com/scikit-learn/scikit-learn/issues/21755 */display: inline-block !important;position: relative;}#sk-container-id-1 div.sk-text-repr-fallback {display: none;}</style><div id=\"sk-container-id-1\" class=\"sk-top-container\"><div class=\"sk-text-repr-fallback\"><pre>LatentDirichletAllocation(n_components=3, random_state=111)</pre><b>In a Jupyter environment, please rerun this cell to show the HTML representation or trust the notebook. <br />On GitHub, the HTML representation is unable to render, please try loading this page with nbviewer.org.</b></div><div class=\"sk-container\" hidden><div class=\"sk-item\"><div class=\"sk-estimator sk-toggleable\"><input class=\"sk-toggleable__control sk-hidden--visually\" id=\"sk-estimator-id-1\" type=\"checkbox\" checked><label for=\"sk-estimator-id-1\" class=\"sk-toggleable__label sk-toggleable__label-arrow\">LatentDirichletAllocation</label><div class=\"sk-toggleable__content\"><pre>LatentDirichletAllocation(n_components=3, random_state=111)</pre></div></div></div></div></div>"
      ],
      "text/plain": [
       "LatentDirichletAllocation(n_components=3, random_state=111)"
      ]
     },
     "execution_count": 5,
     "metadata": {},
     "output_type": "execute_result"
    }
   ],
   "source": [
    "lda_model.fit(features)"
   ]
  },
  {
   "cell_type": "code",
   "execution_count": 6,
   "id": "0b421a90-edab-4a56-8eee-dcf2c5981dc9",
   "metadata": {
    "tags": []
   },
   "outputs": [
    {
     "data": {
      "text/plain": [
       "array([[0.33440991, 0.79926725, 0.33449536, 0.86083679, 0.33438975,\n",
       "        0.95573491, 0.33440991, 0.33440991, 0.33452947, 0.33498098,\n",
       "        0.33452947, 0.33467772, 0.95573491, 1.03622195, 0.79926725,\n",
       "        0.33438975, 0.79926725, 0.33440991, 0.33438975, 1.03622195,\n",
       "        0.33438975, 0.33501138, 0.33441824, 0.86083679, 0.33467772,\n",
       "        0.33498098, 0.33501138, 0.86083679, 0.79926725, 0.33452947,\n",
       "        1.53902864],\n",
       "       [0.79119095, 0.33467677, 0.33462884, 0.33482318, 0.33451201,\n",
       "        0.33503673, 0.79119095, 0.79119095, 0.8490693 , 0.33517004,\n",
       "        0.8490693 , 0.33483168, 0.33503673, 0.33542304, 0.33467677,\n",
       "        0.33451201, 0.33467677, 0.79119095, 0.33451201, 0.33542304,\n",
       "        0.33451201, 1.03685684, 1.16278664, 0.33482318, 0.33483168,\n",
       "        0.33517004, 1.03685684, 0.33482318, 0.33467677, 0.8490693 ,\n",
       "        0.33475147],\n",
       "       [0.33455703, 0.33470187, 1.23724423, 0.33485083, 0.79125614,\n",
       "        0.33506824, 0.33455703, 0.33455703, 0.33469213, 1.03695576,\n",
       "        0.33469213, 0.93653392, 0.33506824, 0.33546178, 0.33470187,\n",
       "        0.79125614, 0.33470187, 0.33455703, 0.79125614, 0.33546178,\n",
       "        0.79125614, 0.33523856, 0.33456599, 0.33485083, 0.93653392,\n",
       "        1.03695576, 0.33523856, 0.33485083, 0.33470187, 0.33469213,\n",
       "        0.33477776]])"
      ]
     },
     "execution_count": 6,
     "metadata": {},
     "output_type": "execute_result"
    }
   ],
   "source": [
    "lda_model.components_\n",
    "# len(lda_model.components_[0])\n",
    "# topics_list = lda_model.components_[0]  # 첫번째 토픽"
   ]
  },
  {
   "cell_type": "markdown",
   "id": "a3fa837c-b509-4ca2-9830-5b9a30db809e",
   "metadata": {},
   "source": [
    "## 토픽별 단어 표시"
   ]
  },
  {
   "cell_type": "code",
   "execution_count": 7,
   "id": "32a02cd1-ec86-47a5-9d64-9cdd2b64ae66",
   "metadata": {
    "tags": []
   },
   "outputs": [
    {
     "data": {
      "text/plain": [
       "array(['가다', '가족', '갈다', '건강', '계획', '공부', '나들이', '날씨', '놀다', '마음', '만나다',\n",
       "       '먹다', '미루다', '배우다', '보내다', '세우다', '시간', '싶다', '어디', '언어', '여행',\n",
       "       '영화', '오늘', '운동', '음식', '읽다', '정말', '좋아지다', '주말', '친구', '하다'],\n",
       "      dtype=object)"
      ]
     },
     "execution_count": 7,
     "metadata": {},
     "output_type": "execute_result"
    }
   ],
   "source": [
    "dictionary_list = vectorizer.get_feature_names_out()\n",
    "dictionary_list\n",
    "# len(vectorizer.get_feature_names_out())"
   ]
  },
  {
   "cell_type": "code",
   "execution_count": 12,
   "id": "3e52d7d1-5263-4974-b8a1-e9d202787fa0",
   "metadata": {
    "tags": []
   },
   "outputs": [],
   "source": [
    "import pandas as pd\n",
    "# df_datas = [topics_list, dictionary_list]\n",
    "# df_topics = pd.DataFrame(data=df_datas)\n",
    "# df_topics = df_topics.T\n",
    "# df_topics[:2]"
   ]
  },
  {
   "cell_type": "code",
   "execution_count": 9,
   "id": "7e65602a-9e10-44b5-9839-05924057983e",
   "metadata": {
    "tags": []
   },
   "outputs": [],
   "source": [
    "# df_topics.columns"
   ]
  },
  {
   "cell_type": "code",
   "execution_count": 10,
   "id": "ae1cd4f4-40b4-4ff8-b3c6-e3a3ad42b8db",
   "metadata": {
    "tags": []
   },
   "outputs": [],
   "source": [
    "# df_topics.sort_values(0, ascending=False)"
   ]
  },
  {
   "cell_type": "markdown",
   "id": "13c80416-3436-4ee7-b7c4-6f8347cc6f0b",
   "metadata": {},
   "source": [
    "## 댓글과 주요 토픽 연결"
   ]
  },
  {
   "cell_type": "markdown",
   "id": "5b39127f-3f2f-4160-bd59-ed800e4e4d0f",
   "metadata": {},
   "source": [
    "## 상위 단어 추출\n",
    "topics_list = list()\n",
    "for topic in lda_model.components_: \n",
    "    df_datas = [topic, dictionary_list]\n",
    "    df_topics = pd.DataFrame(data=df_datas)\n",
    "    df_topics = df_topics.T\n",
    "    df_topics = df_topics.sort_values(0, ascending=False)\n",
    "    # print(df_topics[:3])\n",
    "    topics_text = ' '.join(df_topics[1].values[:4]) # get values form Series (4 = word 갯수)\n",
    "    print(topics_text)\n",
    "    topics_list.append(topics_text)"
   ]
  },
  {
   "cell_type": "code",
   "execution_count": 14,
   "id": "83b512bc-fc5c-473b-a7bd-0f83e83b021b",
   "metadata": {
    "tags": []
   },
   "outputs": [],
   "source": [
    "# ' '.join(df_topics[1].values[:4]) # 시리즈를 하나의 문장 생성"
   ]
  },
  {
   "cell_type": "code",
   "execution_count": 16,
   "id": "53ac3f3f-8c9a-4126-98c4-185dc7d073a3",
   "metadata": {
    "tags": []
   },
   "outputs": [],
   "source": [
    "# topics_list_add = [topics_list, ['Topic0', 'Topic1', 'Topic2']]\n",
    "# df_topic_keywords = pd.DataFrame(topics_list_add)\n",
    "# df_topic_keywords.T"
   ]
  },
  {
   "cell_type": "code",
   "execution_count": 17,
   "id": "2188c938-b09d-4079-b11f-0c86d30d1eec",
   "metadata": {
    "tags": []
   },
   "outputs": [
    {
     "data": {
      "text/plain": [
       "array([[0.10462299, 0.7905512 , 0.10482582],\n",
       "       [0.13946382, 0.72088285, 0.13965333],\n",
       "       [0.12347941, 0.12362429, 0.7528963 ],\n",
       "       [0.77339137, 0.11328861, 0.11332002],\n",
       "       [0.75164634, 0.12416304, 0.12419063],\n",
       "       [0.10458222, 0.10474923, 0.79066855],\n",
       "       [0.13943843, 0.13959605, 0.72096551],\n",
       "       [0.11268585, 0.77443415, 0.11288   ],\n",
       "       [0.72035161, 0.13980797, 0.13984042],\n",
       "       [0.78957076, 0.10519796, 0.10523128]])"
      ]
     },
     "execution_count": 17,
     "metadata": {},
     "output_type": "execute_result"
    }
   ],
   "source": [
    "topics_output = lda_model.transform(features)\n",
    "topics_output"
   ]
  },
  {
   "cell_type": "markdown",
   "id": "9b545f33-513e-4eb6-9af1-3bd10be84903",
   "metadata": {},
   "source": [
    "## 각 댓글별 topic 분류"
   ]
  },
  {
   "cell_type": "code",
   "execution_count": 18,
   "id": "e5e1f8ad-3e73-4796-9796-493e19c73a3d",
   "metadata": {
    "tags": []
   },
   "outputs": [
    {
     "data": {
      "text/plain": [
       "3"
      ]
     },
     "execution_count": 18,
     "metadata": {},
     "output_type": "execute_result"
    }
   ],
   "source": [
    "lda_model.n_components"
   ]
  },
  {
   "cell_type": "code",
   "execution_count": 19,
   "id": "00cfa1fc-a365-4718-a81d-7c48b97e74fe",
   "metadata": {
    "tags": []
   },
   "outputs": [
    {
     "data": {
      "text/html": [
       "<div>\n",
       "<style scoped>\n",
       "    .dataframe tbody tr th:only-of-type {\n",
       "        vertical-align: middle;\n",
       "    }\n",
       "\n",
       "    .dataframe tbody tr th {\n",
       "        vertical-align: top;\n",
       "    }\n",
       "\n",
       "    .dataframe thead th {\n",
       "        text-align: right;\n",
       "    }\n",
       "</style>\n",
       "<table border=\"1\" class=\"dataframe\">\n",
       "  <thead>\n",
       "    <tr style=\"text-align: right;\">\n",
       "      <th></th>\n",
       "      <th>0</th>\n",
       "      <th>1</th>\n",
       "      <th>2</th>\n",
       "    </tr>\n",
       "  </thead>\n",
       "  <tbody>\n",
       "    <tr>\n",
       "      <th>0</th>\n",
       "      <td>0.104623</td>\n",
       "      <td>0.790551</td>\n",
       "      <td>0.104826</td>\n",
       "    </tr>\n",
       "    <tr>\n",
       "      <th>1</th>\n",
       "      <td>0.139464</td>\n",
       "      <td>0.720883</td>\n",
       "      <td>0.139653</td>\n",
       "    </tr>\n",
       "    <tr>\n",
       "      <th>2</th>\n",
       "      <td>0.123479</td>\n",
       "      <td>0.123624</td>\n",
       "      <td>0.752896</td>\n",
       "    </tr>\n",
       "    <tr>\n",
       "      <th>3</th>\n",
       "      <td>0.773391</td>\n",
       "      <td>0.113289</td>\n",
       "      <td>0.113320</td>\n",
       "    </tr>\n",
       "    <tr>\n",
       "      <th>4</th>\n",
       "      <td>0.751646</td>\n",
       "      <td>0.124163</td>\n",
       "      <td>0.124191</td>\n",
       "    </tr>\n",
       "    <tr>\n",
       "      <th>5</th>\n",
       "      <td>0.104582</td>\n",
       "      <td>0.104749</td>\n",
       "      <td>0.790669</td>\n",
       "    </tr>\n",
       "    <tr>\n",
       "      <th>6</th>\n",
       "      <td>0.139438</td>\n",
       "      <td>0.139596</td>\n",
       "      <td>0.720966</td>\n",
       "    </tr>\n",
       "    <tr>\n",
       "      <th>7</th>\n",
       "      <td>0.112686</td>\n",
       "      <td>0.774434</td>\n",
       "      <td>0.112880</td>\n",
       "    </tr>\n",
       "    <tr>\n",
       "      <th>8</th>\n",
       "      <td>0.720352</td>\n",
       "      <td>0.139808</td>\n",
       "      <td>0.139840</td>\n",
       "    </tr>\n",
       "    <tr>\n",
       "      <th>9</th>\n",
       "      <td>0.789571</td>\n",
       "      <td>0.105198</td>\n",
       "      <td>0.105231</td>\n",
       "    </tr>\n",
       "  </tbody>\n",
       "</table>\n",
       "</div>"
      ],
      "text/plain": [
       "          0         1         2\n",
       "0  0.104623  0.790551  0.104826\n",
       "1  0.139464  0.720883  0.139653\n",
       "2  0.123479  0.123624  0.752896\n",
       "3  0.773391  0.113289  0.113320\n",
       "4  0.751646  0.124163  0.124191\n",
       "5  0.104582  0.104749  0.790669\n",
       "6  0.139438  0.139596  0.720966\n",
       "7  0.112686  0.774434  0.112880\n",
       "8  0.720352  0.139808  0.139840\n",
       "9  0.789571  0.105198  0.105231"
      ]
     },
     "execution_count": 19,
     "metadata": {},
     "output_type": "execute_result"
    }
   ],
   "source": [
    "df_topics_score = pd.DataFrame(topics_output) # 각 댓글 당 토픽 분류 점수\n",
    "df_topics_score"
   ]
  },
  {
   "cell_type": "code",
   "execution_count": 20,
   "id": "91624870-7295-4043-b68a-71d4309b0888",
   "metadata": {
    "tags": []
   },
   "outputs": [
    {
     "data": {
      "text/plain": [
       "17"
      ]
     },
     "execution_count": 20,
     "metadata": {},
     "output_type": "execute_result"
    }
   ],
   "source": [
    "# 각 댓글 마다 토픽 분류 지정\n",
    "import numpy as np\n",
    "dominant_in_topic = np.argmax(topics_output)\n",
    "dominant_in_topic"
   ]
  },
  {
   "cell_type": "code",
   "execution_count": 21,
   "id": "76baec77-2e08-4478-a63d-30213ff7e331",
   "metadata": {
    "tags": []
   },
   "outputs": [
    {
     "data": {
      "text/html": [
       "<div>\n",
       "<style scoped>\n",
       "    .dataframe tbody tr th:only-of-type {\n",
       "        vertical-align: middle;\n",
       "    }\n",
       "\n",
       "    .dataframe tbody tr th {\n",
       "        vertical-align: top;\n",
       "    }\n",
       "\n",
       "    .dataframe thead th {\n",
       "        text-align: right;\n",
       "    }\n",
       "</style>\n",
       "<table border=\"1\" class=\"dataframe\">\n",
       "  <thead>\n",
       "    <tr style=\"text-align: right;\">\n",
       "      <th></th>\n",
       "      <th>0</th>\n",
       "      <th>1</th>\n",
       "      <th>2</th>\n",
       "      <th>dominant_topic</th>\n",
       "    </tr>\n",
       "  </thead>\n",
       "  <tbody>\n",
       "    <tr>\n",
       "      <th>0</th>\n",
       "      <td>0.104623</td>\n",
       "      <td>0.790551</td>\n",
       "      <td>0.104826</td>\n",
       "      <td>17</td>\n",
       "    </tr>\n",
       "    <tr>\n",
       "      <th>1</th>\n",
       "      <td>0.139464</td>\n",
       "      <td>0.720883</td>\n",
       "      <td>0.139653</td>\n",
       "      <td>17</td>\n",
       "    </tr>\n",
       "    <tr>\n",
       "      <th>2</th>\n",
       "      <td>0.123479</td>\n",
       "      <td>0.123624</td>\n",
       "      <td>0.752896</td>\n",
       "      <td>17</td>\n",
       "    </tr>\n",
       "  </tbody>\n",
       "</table>\n",
       "</div>"
      ],
      "text/plain": [
       "          0         1         2  dominant_topic\n",
       "0  0.104623  0.790551  0.104826              17\n",
       "1  0.139464  0.720883  0.139653              17\n",
       "2  0.123479  0.123624  0.752896              17"
      ]
     },
     "execution_count": 21,
     "metadata": {},
     "output_type": "execute_result"
    }
   ],
   "source": [
    "df_topics_score['dominant_topic'] = dominant_in_topic\n",
    "df_topics_score[:3]"
   ]
  },
  {
   "cell_type": "code",
   "execution_count": 23,
   "id": "e09ffef4-4283-44c1-ab05-294bffa95fe9",
   "metadata": {
    "tags": []
   },
   "outputs": [],
   "source": [
    "df_topics_score['sentences'] = sentences\n",
    "# df_topics_score[:3]"
   ]
  },
  {
   "cell_type": "code",
   "execution_count": 24,
   "id": "79211f56-eb96-43a5-babe-d32bd84d1b27",
   "metadata": {
    "tags": []
   },
   "outputs": [
    {
     "data": {
      "text/html": [
       "<div>\n",
       "<style scoped>\n",
       "    .dataframe tbody tr th:only-of-type {\n",
       "        vertical-align: middle;\n",
       "    }\n",
       "\n",
       "    .dataframe tbody tr th {\n",
       "        vertical-align: top;\n",
       "    }\n",
       "\n",
       "    .dataframe thead th {\n",
       "        text-align: right;\n",
       "    }\n",
       "</style>\n",
       "<table border=\"1\" class=\"dataframe\">\n",
       "  <thead>\n",
       "    <tr style=\"text-align: right;\">\n",
       "      <th></th>\n",
       "      <th>0</th>\n",
       "      <th>1</th>\n",
       "      <th>2</th>\n",
       "      <th>dominant_topic</th>\n",
       "      <th>sentences</th>\n",
       "    </tr>\n",
       "  </thead>\n",
       "  <tbody>\n",
       "    <tr>\n",
       "      <th>0</th>\n",
       "      <td>0.104623</td>\n",
       "      <td>0.790551</td>\n",
       "      <td>0.104826</td>\n",
       "      <td>17</td>\n",
       "      <td>오늘 날씨가 좋아서 나들이 가고 싶다.</td>\n",
       "    </tr>\n",
       "    <tr>\n",
       "      <th>1</th>\n",
       "      <td>0.139464</td>\n",
       "      <td>0.720883</td>\n",
       "      <td>0.139653</td>\n",
       "      <td>17</td>\n",
       "      <td>이 영화는 정말 재미있었어요.</td>\n",
       "    </tr>\n",
       "    <tr>\n",
       "      <th>2</th>\n",
       "      <td>0.123479</td>\n",
       "      <td>0.123624</td>\n",
       "      <td>0.752896</td>\n",
       "      <td>17</td>\n",
       "      <td>맛있는 음식을 먹으러 갈까요?</td>\n",
       "    </tr>\n",
       "    <tr>\n",
       "      <th>3</th>\n",
       "      <td>0.773391</td>\n",
       "      <td>0.113289</td>\n",
       "      <td>0.113320</td>\n",
       "      <td>17</td>\n",
       "      <td>운동을 하면 건강에 좋아지는 것 같아요.</td>\n",
       "    </tr>\n",
       "    <tr>\n",
       "      <th>4</th>\n",
       "      <td>0.751646</td>\n",
       "      <td>0.124163</td>\n",
       "      <td>0.124191</td>\n",
       "      <td>17</td>\n",
       "      <td>공부하기 싫어서 미루고 있어요.</td>\n",
       "    </tr>\n",
       "    <tr>\n",
       "      <th>5</th>\n",
       "      <td>0.104582</td>\n",
       "      <td>0.104749</td>\n",
       "      <td>0.790669</td>\n",
       "      <td>17</td>\n",
       "      <td>여행 계획을 세우고 있는데 어디로 갈까요?</td>\n",
       "    </tr>\n",
       "    <tr>\n",
       "      <th>6</th>\n",
       "      <td>0.139438</td>\n",
       "      <td>0.139596</td>\n",
       "      <td>0.720966</td>\n",
       "      <td>17</td>\n",
       "      <td>좋은 책을 읽으면 마음이 편안해져요.</td>\n",
       "    </tr>\n",
       "    <tr>\n",
       "      <th>7</th>\n",
       "      <td>0.112686</td>\n",
       "      <td>0.774434</td>\n",
       "      <td>0.112880</td>\n",
       "      <td>17</td>\n",
       "      <td>오늘은 친구들과 만나서 재미있게 놀았어요.</td>\n",
       "    </tr>\n",
       "    <tr>\n",
       "      <th>8</th>\n",
       "      <td>0.720352</td>\n",
       "      <td>0.139808</td>\n",
       "      <td>0.139840</td>\n",
       "      <td>17</td>\n",
       "      <td>새로운 언어를 배우는 것은 어려워도 흥미로워요.</td>\n",
       "    </tr>\n",
       "    <tr>\n",
       "      <th>9</th>\n",
       "      <td>0.789571</td>\n",
       "      <td>0.105198</td>\n",
       "      <td>0.105231</td>\n",
       "      <td>17</td>\n",
       "      <td>주말에 가족들과 함께 시간을 보내기로 했습니다.</td>\n",
       "    </tr>\n",
       "  </tbody>\n",
       "</table>\n",
       "</div>"
      ],
      "text/plain": [
       "          0         1         2  dominant_topic                   sentences\n",
       "0  0.104623  0.790551  0.104826              17       오늘 날씨가 좋아서 나들이 가고 싶다.\n",
       "1  0.139464  0.720883  0.139653              17            이 영화는 정말 재미있었어요.\n",
       "2  0.123479  0.123624  0.752896              17            맛있는 음식을 먹으러 갈까요?\n",
       "3  0.773391  0.113289  0.113320              17      운동을 하면 건강에 좋아지는 것 같아요.\n",
       "4  0.751646  0.124163  0.124191              17           공부하기 싫어서 미루고 있어요.\n",
       "5  0.104582  0.104749  0.790669              17     여행 계획을 세우고 있는데 어디로 갈까요?\n",
       "6  0.139438  0.139596  0.720966              17        좋은 책을 읽으면 마음이 편안해져요.\n",
       "7  0.112686  0.774434  0.112880              17     오늘은 친구들과 만나서 재미있게 놀았어요.\n",
       "8  0.720352  0.139808  0.139840              17  새로운 언어를 배우는 것은 어려워도 흥미로워요.\n",
       "9  0.789571  0.105198  0.105231              17  주말에 가족들과 함께 시간을 보내기로 했습니다."
      ]
     },
     "execution_count": 24,
     "metadata": {},
     "output_type": "execute_result"
    }
   ],
   "source": [
    "df_topics_score"
   ]
  },
  {
   "cell_type": "code",
   "execution_count": null,
   "id": "e222fee5-765c-46be-92a1-ee1cfc35204b",
   "metadata": {},
   "outputs": [],
   "source": []
  }
 ],
 "metadata": {
  "kernelspec": {
   "display_name": "Python 3 (ipykernel)",
   "language": "python",
   "name": "python3"
  },
  "language_info": {
   "codemirror_mode": {
    "name": "ipython",
    "version": 3
   },
   "file_extension": ".py",
   "mimetype": "text/x-python",
   "name": "python",
   "nbconvert_exporter": "python",
   "pygments_lexer": "ipython3",
   "version": "3.11.3"
  }
 },
 "nbformat": 4,
 "nbformat_minor": 5
}
