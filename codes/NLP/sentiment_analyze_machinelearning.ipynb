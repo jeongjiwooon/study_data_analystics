{
 "cells": [
  {
   "cell_type": "markdown",
   "id": "97bc46d5-ffea-45e6-af41-8528e24be406",
   "metadata": {},
   "source": [
    "## 머신러닝에 의한 감성 분석"
   ]
  },
  {
   "cell_type": "code",
   "execution_count": 1,
   "id": "4e28224b-4f4b-43c6-9313-b15d387f7c4f",
   "metadata": {
    "tags": []
   },
   "outputs": [],
   "source": [
    "comments_positive = [\n",
    "    \"맛이 정말 풍부하고, 재료도 신선해서 좋았어요. 서비스도 훌륭했습니다.\",  # 음식\n",
    "    \"해변이 너무 깨끗하고 아름다웠습니다. 다음 여행에서는 더 오래 머물고 싶네요.\",  # 여행지\n",
    "    \"연기력이 대단했고, 스토리 전개가 매우 재미있었습니다. 강력 추천합니다!\",  # 영화\n",
    "    \"노래의 가사와 멜로디가 너무 좋아요, 계속 듣게 되네요.\",  # 음악\n",
    "    \"핸들링이 매우 부드럽고 연비도 좋습니다. 차량 내부 디자인도 세련되었어요.\",  # 자동차\n",
    "    \"배터리 수명이 길고 카메라 기능이 우수합니다. 사용하기 편리한 UI가 마음에 듭니다.\",  # 스마트폰\n",
    "    \"교수님 설명이 명확하시고 이해하기 쉽습니다, 추가 자료도 유용했습니다.\",  # 강의\n",
    "    \"성능 대비 가격이 아주 만족스러워요, 게임을 할 때 지연 없이 부드럽게 실행됩니다.\",  # 컴퓨터 \n",
    "    \"분위기가 정말 좋아서 친구들과 수다 떨기 좋아요, 커피 맛도 최상입니다!\",   #카페 \n",
    "     \"글쓰기 스타일과 주제 모두 제 취향에 딱 맞아서 한 번 읽기 시작하면 멈출 수 없어요.\"   #서적 \n",
    "]\n",
    "\n",
    "comments_negative = [\n",
    "    \"음식이 너무 짜고, 서비스도 별로였어요. 다시 가고 싶지 않네요.\",  # 음식\n",
    "    \"해변이 너무 더러웠고, 주변 시설도 부족했습니다. 다시는 방문하고 싶지 않아요.\",  # 여행지\n",
    "    \"연기력이 별로였고, 스토리 전개도 지루했습니다. 비추합니다!\",  # 영화\n",
    "    \"노래 가사가 이해가 안 가고, 멜로디도 재미없어요. 듣기 싫네요.\",  # 음악\n",
    "    \"핸들링이 너무 뻑뻑하고 연비도 나쁩니다. 차량 내부 디자인도 구식이에요.\",  # 자동차\n",
    "    \"배터리 수명이 짧고 카메라 기능도 별로입니다. 사용하기 어렵습니다.\",  # 스마트폰\n",
    "    \"교수님 설명이 애매하시고 이해하기 어렵습니다, 추가 자료도 도움되지 않았어요.\",  # 강의\n",
    "    \"성능 대비 가격이 너무 비싸요, 게임을 할 때 계속 지연됩니다.\",  # 컴퓨터 \n",
    "    \"분위기가 시끄럽서 친구들과 수다 떨기 힘들었어요, 커피 맛도 그다지...\",   #카페 \n",
    "     \"글쓰기 스타일과 주제 모두 제 취향과 맞지 않아서 한 페이지 읽는 것조차 힘들었어요.\"   #서적 \n",
    "]"
   ]
  },
  {
   "cell_type": "code",
   "execution_count": 2,
   "id": "5358fcd7-3f15-4485-a742-5c0304e83400",
   "metadata": {
    "tags": []
   },
   "outputs": [
    {
     "data": {
      "text/plain": [
       "(10, 10)"
      ]
     },
     "execution_count": 2,
     "metadata": {},
     "output_type": "execute_result"
    }
   ],
   "source": [
    "len(comments_positive), len(comments_negative)"
   ]
  },
  {
   "cell_type": "code",
   "execution_count": 3,
   "id": "20b30362-27f0-4e97-b19e-f774077a148f",
   "metadata": {
    "tags": []
   },
   "outputs": [
    {
     "data": {
      "text/plain": [
       "['맛이 정말 풍부하고, 재료도 신선해서 좋았어요. 서비스도 훌륭했습니다.',\n",
       " '해변이 너무 깨끗하고 아름다웠습니다. 다음 여행에서는 더 오래 머물고 싶네요.',\n",
       " '연기력이 대단했고, 스토리 전개가 매우 재미있었습니다. 강력 추천합니다!',\n",
       " '노래의 가사와 멜로디가 너무 좋아요, 계속 듣게 되네요.',\n",
       " '핸들링이 매우 부드럽고 연비도 좋습니다. 차량 내부 디자인도 세련되었어요.',\n",
       " '배터리 수명이 길고 카메라 기능이 우수합니다. 사용하기 편리한 UI가 마음에 듭니다.',\n",
       " '교수님 설명이 명확하시고 이해하기 쉽습니다, 추가 자료도 유용했습니다.',\n",
       " '성능 대비 가격이 아주 만족스러워요, 게임을 할 때 지연 없이 부드럽게 실행됩니다.',\n",
       " '분위기가 정말 좋아서 친구들과 수다 떨기 좋아요, 커피 맛도 최상입니다!',\n",
       " '글쓰기 스타일과 주제 모두 제 취향에 딱 맞아서 한 번 읽기 시작하면 멈출 수 없어요.',\n",
       " '음식이 너무 짜고, 서비스도 별로였어요. 다시 가고 싶지 않네요.',\n",
       " '해변이 너무 더러웠고, 주변 시설도 부족했습니다. 다시는 방문하고 싶지 않아요.',\n",
       " '연기력이 별로였고, 스토리 전개도 지루했습니다. 비추합니다!',\n",
       " '노래 가사가 이해가 안 가고, 멜로디도 재미없어요. 듣기 싫네요.',\n",
       " '핸들링이 너무 뻑뻑하고 연비도 나쁩니다. 차량 내부 디자인도 구식이에요.',\n",
       " '배터리 수명이 짧고 카메라 기능도 별로입니다. 사용하기 어렵습니다.',\n",
       " '교수님 설명이 애매하시고 이해하기 어렵습니다, 추가 자료도 도움되지 않았어요.',\n",
       " '성능 대비 가격이 너무 비싸요, 게임을 할 때 계속 지연됩니다.',\n",
       " '분위기가 시끄럽서 친구들과 수다 떨기 힘들었어요, 커피 맛도 그다지...',\n",
       " '글쓰기 스타일과 주제 모두 제 취향과 맞지 않아서 한 페이지 읽는 것조차 힘들었어요.']"
      ]
     },
     "execution_count": 3,
     "metadata": {},
     "output_type": "execute_result"
    }
   ],
   "source": [
    "comments_list = comments_positive + comments_negative\n",
    "comments_list"
   ]
  },
  {
   "cell_type": "markdown",
   "id": "a4ea1a91-f05d-4264-a3e1-fa3dd6f770f1",
   "metadata": {},
   "source": [
    "### 형태소 분석기 통한 품사 분류"
   ]
  },
  {
   "cell_type": "code",
   "execution_count": 10,
   "id": "7cc7ef3a-10b6-4b3c-b960-9b1de715d29d",
   "metadata": {
    "collapsed": true,
    "jupyter": {
     "outputs_hidden": true
    },
    "tags": []
   },
   "outputs": [
    {
     "data": {
      "text/plain": [
       "[['맛',\n",
       "  '이',\n",
       "  '정말',\n",
       "  '풍부',\n",
       "  '하',\n",
       "  '고',\n",
       "  ',',\n",
       "  '재료',\n",
       "  '도',\n",
       "  '신선',\n",
       "  '해서',\n",
       "  '좋',\n",
       "  '았',\n",
       "  '어요',\n",
       "  '.',\n",
       "  '서비스',\n",
       "  '도',\n",
       "  '훌륭',\n",
       "  '했',\n",
       "  '습니다',\n",
       "  '.'],\n",
       " ['해변',\n",
       "  '이',\n",
       "  '너무',\n",
       "  '깨끗',\n",
       "  '하',\n",
       "  '고',\n",
       "  '아름다웠',\n",
       "  '습니다',\n",
       "  '.',\n",
       "  '다음',\n",
       "  '여행',\n",
       "  '에서',\n",
       "  '는',\n",
       "  '더',\n",
       "  '오래',\n",
       "  '머물',\n",
       "  '고',\n",
       "  '싶',\n",
       "  '네요',\n",
       "  '.'],\n",
       " ['연기력',\n",
       "  '이',\n",
       "  '대단',\n",
       "  '했',\n",
       "  '고',\n",
       "  ',',\n",
       "  '스토리',\n",
       "  '전개',\n",
       "  '가',\n",
       "  '매우',\n",
       "  '재미있',\n",
       "  '었',\n",
       "  '습니다',\n",
       "  '.',\n",
       "  '강력',\n",
       "  '추천',\n",
       "  '합니다',\n",
       "  '!'],\n",
       " ['노래',\n",
       "  '의',\n",
       "  '가사',\n",
       "  '와',\n",
       "  '멜로디',\n",
       "  '가',\n",
       "  '너무',\n",
       "  '좋',\n",
       "  '아요',\n",
       "  ',',\n",
       "  '계속',\n",
       "  '듣',\n",
       "  '게',\n",
       "  '되',\n",
       "  '네요',\n",
       "  '.'],\n",
       " ['핸들링',\n",
       "  '이',\n",
       "  '매우',\n",
       "  '부드럽',\n",
       "  '고',\n",
       "  '연비',\n",
       "  '도',\n",
       "  '좋',\n",
       "  '습니다',\n",
       "  '.',\n",
       "  '차량',\n",
       "  '내부',\n",
       "  '디자인',\n",
       "  '도',\n",
       "  '세련',\n",
       "  '되',\n",
       "  '었',\n",
       "  '어요',\n",
       "  '.'],\n",
       " ['배터리',\n",
       "  '수명',\n",
       "  '이',\n",
       "  '길',\n",
       "  '고',\n",
       "  '카메라',\n",
       "  '기능',\n",
       "  '이',\n",
       "  '우수',\n",
       "  '합니다',\n",
       "  '.',\n",
       "  '사용',\n",
       "  '하',\n",
       "  '기',\n",
       "  '편리',\n",
       "  '한',\n",
       "  'UI',\n",
       "  '가',\n",
       "  '마음',\n",
       "  '에',\n",
       "  '듭니다',\n",
       "  '.'],\n",
       " ['교수',\n",
       "  '님',\n",
       "  '설명',\n",
       "  '이',\n",
       "  '명확',\n",
       "  '하',\n",
       "  '시',\n",
       "  '고',\n",
       "  '이해',\n",
       "  '하',\n",
       "  '기',\n",
       "  '쉽',\n",
       "  '습니다',\n",
       "  ',',\n",
       "  '추가',\n",
       "  '자료',\n",
       "  '도',\n",
       "  '유용',\n",
       "  '했',\n",
       "  '습니다',\n",
       "  '.'],\n",
       " ['성능',\n",
       "  '대비',\n",
       "  '가격',\n",
       "  '이',\n",
       "  '아주',\n",
       "  '만족',\n",
       "  '스러워',\n",
       "  '요',\n",
       "  ',',\n",
       "  '게임',\n",
       "  '을',\n",
       "  '할',\n",
       "  '때',\n",
       "  '지연',\n",
       "  '없이',\n",
       "  '부드럽',\n",
       "  '게',\n",
       "  '실행',\n",
       "  '됩니다',\n",
       "  '.'],\n",
       " ['분위기',\n",
       "  '가',\n",
       "  '정말',\n",
       "  '좋',\n",
       "  '아서',\n",
       "  '친구',\n",
       "  '들',\n",
       "  '과',\n",
       "  '수다',\n",
       "  '떨기',\n",
       "  '좋',\n",
       "  '아요',\n",
       "  ',',\n",
       "  '커피',\n",
       "  '맛',\n",
       "  '도',\n",
       "  '최상',\n",
       "  '입니다',\n",
       "  '!'],\n",
       " ['글쓰기',\n",
       "  '스타일',\n",
       "  '과',\n",
       "  '주제',\n",
       "  '모두',\n",
       "  '제',\n",
       "  '취향',\n",
       "  '에',\n",
       "  '딱',\n",
       "  '맞',\n",
       "  '아서',\n",
       "  '한',\n",
       "  '번',\n",
       "  '읽',\n",
       "  '기',\n",
       "  '시작',\n",
       "  '하',\n",
       "  '면',\n",
       "  '멈출',\n",
       "  '수',\n",
       "  '없',\n",
       "  '어요',\n",
       "  '.'],\n",
       " ['음식',\n",
       "  '이',\n",
       "  '너무',\n",
       "  '짜',\n",
       "  '고',\n",
       "  ',',\n",
       "  '서비스',\n",
       "  '도',\n",
       "  '별로',\n",
       "  '였',\n",
       "  '어요',\n",
       "  '.',\n",
       "  '다시',\n",
       "  '가',\n",
       "  '고',\n",
       "  '싶',\n",
       "  '지',\n",
       "  '않',\n",
       "  '네요',\n",
       "  '.'],\n",
       " ['해변',\n",
       "  '이',\n",
       "  '너무',\n",
       "  '더러웠',\n",
       "  '고',\n",
       "  ',',\n",
       "  '주변',\n",
       "  '시설',\n",
       "  '도',\n",
       "  '부족',\n",
       "  '했',\n",
       "  '습니다',\n",
       "  '.',\n",
       "  '다시',\n",
       "  '는',\n",
       "  '방문',\n",
       "  '하',\n",
       "  '고',\n",
       "  '싶',\n",
       "  '지',\n",
       "  '않',\n",
       "  '아요',\n",
       "  '.'],\n",
       " ['연기력',\n",
       "  '이',\n",
       "  '별로',\n",
       "  '였',\n",
       "  '고',\n",
       "  ',',\n",
       "  '스토리',\n",
       "  '전개',\n",
       "  '도',\n",
       "  '지루',\n",
       "  '했',\n",
       "  '습니다',\n",
       "  '.',\n",
       "  '비추',\n",
       "  '합니다',\n",
       "  '!'],\n",
       " ['노래',\n",
       "  '가사',\n",
       "  '가',\n",
       "  '이해',\n",
       "  '가',\n",
       "  '안',\n",
       "  '가',\n",
       "  '고',\n",
       "  ',',\n",
       "  '멜로디',\n",
       "  '도',\n",
       "  '재미없',\n",
       "  '어요',\n",
       "  '.',\n",
       "  '듣',\n",
       "  '기',\n",
       "  '싫',\n",
       "  '네요',\n",
       "  '.'],\n",
       " ['핸들링',\n",
       "  '이',\n",
       "  '너무',\n",
       "  '뻑뻑',\n",
       "  '하',\n",
       "  '고',\n",
       "  '연비',\n",
       "  '도',\n",
       "  '나쁩니다',\n",
       "  '.',\n",
       "  '차량',\n",
       "  '내부',\n",
       "  '디자인',\n",
       "  '도',\n",
       "  '구식',\n",
       "  '이',\n",
       "  '에요',\n",
       "  '.'],\n",
       " ['배터리',\n",
       "  '수명',\n",
       "  '이',\n",
       "  '짧',\n",
       "  '고',\n",
       "  '카메라',\n",
       "  '기능',\n",
       "  '도',\n",
       "  '별로',\n",
       "  '입니다',\n",
       "  '.',\n",
       "  '사용',\n",
       "  '하',\n",
       "  '기',\n",
       "  '어렵',\n",
       "  '습니다',\n",
       "  '.'],\n",
       " ['교수',\n",
       "  '님',\n",
       "  '설명',\n",
       "  '이',\n",
       "  '애매',\n",
       "  '하',\n",
       "  '시',\n",
       "  '고',\n",
       "  '이해',\n",
       "  '하',\n",
       "  '기',\n",
       "  '어렵',\n",
       "  '습니다',\n",
       "  ',',\n",
       "  '추가',\n",
       "  '자료',\n",
       "  '도',\n",
       "  '도움',\n",
       "  '되',\n",
       "  '지',\n",
       "  '않',\n",
       "  '았',\n",
       "  '어요',\n",
       "  '.'],\n",
       " ['성능',\n",
       "  '대비',\n",
       "  '가격',\n",
       "  '이',\n",
       "  '너무',\n",
       "  '비싸',\n",
       "  '요',\n",
       "  ',',\n",
       "  '게임',\n",
       "  '을',\n",
       "  '할',\n",
       "  '때',\n",
       "  '계속',\n",
       "  '지연',\n",
       "  '됩니다',\n",
       "  '.'],\n",
       " ['분위기',\n",
       "  '가',\n",
       "  '시끄럽',\n",
       "  '서',\n",
       "  '친구',\n",
       "  '들',\n",
       "  '과',\n",
       "  '수다',\n",
       "  '떨기',\n",
       "  '힘들',\n",
       "  '었',\n",
       "  '어요',\n",
       "  ',',\n",
       "  '커피',\n",
       "  '맛',\n",
       "  '도',\n",
       "  '그다지',\n",
       "  '.',\n",
       "  '..'],\n",
       " ['글쓰기',\n",
       "  '스타일',\n",
       "  '과',\n",
       "  '주제',\n",
       "  '모두',\n",
       "  '제',\n",
       "  '취향',\n",
       "  '과',\n",
       "  '맞',\n",
       "  '지',\n",
       "  '않',\n",
       "  '아서',\n",
       "  '한',\n",
       "  '페이지',\n",
       "  '읽',\n",
       "  '는',\n",
       "  '것',\n",
       "  '조차',\n",
       "  '힘들',\n",
       "  '었',\n",
       "  '어요',\n",
       "  '.']]"
      ]
     },
     "execution_count": 10,
     "metadata": {},
     "output_type": "execute_result"
    }
   ],
   "source": [
    "from mecab import MeCab\n",
    "mecab = MeCab()\n",
    "\n",
    "tokenized_comments = list()\n",
    "for comment in comments_list : \n",
    "    comment_morphs = mecab.morphs(comment)\n",
    "    # print(' '.join(comment_morphs))\n",
    "    # 추가로 불용어 처리 필요\n",
    "    tokenized_comments.append(comment_morphs)\n",
    "tokenized_comments"
   ]
  },
  {
   "cell_type": "markdown",
   "id": "eafb5729-034d-4ed9-a634-bf63db64e261",
   "metadata": {},
   "source": [
    "### 벡터 토큰화 (단어 숫자화)"
   ]
  },
  {
   "cell_type": "code",
   "execution_count": 9,
   "id": "67a68d6f-1d81-4c2d-af59-a06870b47de8",
   "metadata": {
    "tags": []
   },
   "outputs": [],
   "source": [
    "from sklearn.feature_extraction.text import CountVectorizer, TfidfVectorizer"
   ]
  },
  {
   "cell_type": "code",
   "execution_count": 21,
   "id": "a7d74a76-a58d-424c-b91d-f015c317d01c",
   "metadata": {
    "tags": []
   },
   "outputs": [],
   "source": [
    "comments = list()\n",
    "for token in tokenized_comments :\n",
    "    comments.append(' '.join(token))"
   ]
  },
  {
   "cell_type": "code",
   "execution_count": 22,
   "id": "256ed2c7-b7af-402f-b548-ebd34614fbc1",
   "metadata": {
    "tags": []
   },
   "outputs": [
    {
     "data": {
      "text/html": [
       "<style>#sk-container-id-5 {color: black;background-color: white;}#sk-container-id-5 pre{padding: 0;}#sk-container-id-5 div.sk-toggleable {background-color: white;}#sk-container-id-5 label.sk-toggleable__label {cursor: pointer;display: block;width: 100%;margin-bottom: 0;padding: 0.3em;box-sizing: border-box;text-align: center;}#sk-container-id-5 label.sk-toggleable__label-arrow:before {content: \"▸\";float: left;margin-right: 0.25em;color: #696969;}#sk-container-id-5 label.sk-toggleable__label-arrow:hover:before {color: black;}#sk-container-id-5 div.sk-estimator:hover label.sk-toggleable__label-arrow:before {color: black;}#sk-container-id-5 div.sk-toggleable__content {max-height: 0;max-width: 0;overflow: hidden;text-align: left;background-color: #f0f8ff;}#sk-container-id-5 div.sk-toggleable__content pre {margin: 0.2em;color: black;border-radius: 0.25em;background-color: #f0f8ff;}#sk-container-id-5 input.sk-toggleable__control:checked~div.sk-toggleable__content {max-height: 200px;max-width: 100%;overflow: auto;}#sk-container-id-5 input.sk-toggleable__control:checked~label.sk-toggleable__label-arrow:before {content: \"▾\";}#sk-container-id-5 div.sk-estimator input.sk-toggleable__control:checked~label.sk-toggleable__label {background-color: #d4ebff;}#sk-container-id-5 div.sk-label input.sk-toggleable__control:checked~label.sk-toggleable__label {background-color: #d4ebff;}#sk-container-id-5 input.sk-hidden--visually {border: 0;clip: rect(1px 1px 1px 1px);clip: rect(1px, 1px, 1px, 1px);height: 1px;margin: -1px;overflow: hidden;padding: 0;position: absolute;width: 1px;}#sk-container-id-5 div.sk-estimator {font-family: monospace;background-color: #f0f8ff;border: 1px dotted black;border-radius: 0.25em;box-sizing: border-box;margin-bottom: 0.5em;}#sk-container-id-5 div.sk-estimator:hover {background-color: #d4ebff;}#sk-container-id-5 div.sk-parallel-item::after {content: \"\";width: 100%;border-bottom: 1px solid gray;flex-grow: 1;}#sk-container-id-5 div.sk-label:hover label.sk-toggleable__label {background-color: #d4ebff;}#sk-container-id-5 div.sk-serial::before {content: \"\";position: absolute;border-left: 1px solid gray;box-sizing: border-box;top: 0;bottom: 0;left: 50%;z-index: 0;}#sk-container-id-5 div.sk-serial {display: flex;flex-direction: column;align-items: center;background-color: white;padding-right: 0.2em;padding-left: 0.2em;position: relative;}#sk-container-id-5 div.sk-item {position: relative;z-index: 1;}#sk-container-id-5 div.sk-parallel {display: flex;align-items: stretch;justify-content: center;background-color: white;position: relative;}#sk-container-id-5 div.sk-item::before, #sk-container-id-5 div.sk-parallel-item::before {content: \"\";position: absolute;border-left: 1px solid gray;box-sizing: border-box;top: 0;bottom: 0;left: 50%;z-index: -1;}#sk-container-id-5 div.sk-parallel-item {display: flex;flex-direction: column;z-index: 1;position: relative;background-color: white;}#sk-container-id-5 div.sk-parallel-item:first-child::after {align-self: flex-end;width: 50%;}#sk-container-id-5 div.sk-parallel-item:last-child::after {align-self: flex-start;width: 50%;}#sk-container-id-5 div.sk-parallel-item:only-child::after {width: 0;}#sk-container-id-5 div.sk-dashed-wrapped {border: 1px dashed gray;margin: 0 0.4em 0.5em 0.4em;box-sizing: border-box;padding-bottom: 0.4em;background-color: white;}#sk-container-id-5 div.sk-label label {font-family: monospace;font-weight: bold;display: inline-block;line-height: 1.2em;}#sk-container-id-5 div.sk-label-container {text-align: center;}#sk-container-id-5 div.sk-container {/* jupyter's `normalize.less` sets `[hidden] { display: none; }` but bootstrap.min.css set `[hidden] { display: none !important; }` so we also need the `!important` here to be able to override the default hidden behavior on the sphinx rendered scikit-learn.org. See: https://github.com/scikit-learn/scikit-learn/issues/21755 */display: inline-block !important;position: relative;}#sk-container-id-5 div.sk-text-repr-fallback {display: none;}</style><div id=\"sk-container-id-5\" class=\"sk-top-container\"><div class=\"sk-text-repr-fallback\"><pre>CountVectorizer()</pre><b>In a Jupyter environment, please rerun this cell to show the HTML representation or trust the notebook. <br />On GitHub, the HTML representation is unable to render, please try loading this page with nbviewer.org.</b></div><div class=\"sk-container\" hidden><div class=\"sk-item\"><div class=\"sk-estimator sk-toggleable\"><input class=\"sk-toggleable__control sk-hidden--visually\" id=\"sk-estimator-id-5\" type=\"checkbox\" checked><label for=\"sk-estimator-id-5\" class=\"sk-toggleable__label sk-toggleable__label-arrow\">CountVectorizer</label><div class=\"sk-toggleable__content\"><pre>CountVectorizer()</pre></div></div></div></div></div>"
      ],
      "text/plain": [
       "CountVectorizer()"
      ]
     },
     "execution_count": 22,
     "metadata": {},
     "output_type": "execute_result"
    }
   ],
   "source": [
    "countVectorizer = CountVectorizer()\n",
    "countVectorizer.fit(comments)"
   ]
  },
  {
   "cell_type": "code",
   "execution_count": 23,
   "id": "93500d39-fe0d-468e-9d62-7accbf08701f",
   "metadata": {
    "collapsed": true,
    "jupyter": {
     "outputs_hidden": true
    },
    "tags": []
   },
   "outputs": [
    {
     "data": {
      "text/plain": [
       "{'정말': 84,\n",
       " '풍부': 100,\n",
       " '재료': 80,\n",
       " '신선': 58,\n",
       " '해서': 103,\n",
       " '어요': 66,\n",
       " '서비스': 45,\n",
       " '훌륭': 105,\n",
       " '습니다': 54,\n",
       " '해변': 102,\n",
       " '너무': 14,\n",
       " '깨끗': 11,\n",
       " '아름다웠': 60,\n",
       " '다음': 18,\n",
       " '여행': 70,\n",
       " '에서': 68,\n",
       " '오래': 73,\n",
       " '머물': 30,\n",
       " '네요': 15,\n",
       " '연기력': 71,\n",
       " '대단': 19,\n",
       " '스토리': 53,\n",
       " '전개': 83,\n",
       " '매우': 29,\n",
       " '재미있': 82,\n",
       " '강력': 3,\n",
       " '추천': 93,\n",
       " '합니다': 101,\n",
       " '노래': 16,\n",
       " '가사': 2,\n",
       " '멜로디': 32,\n",
       " '아요': 62,\n",
       " '계속': 5,\n",
       " '핸들링': 104,\n",
       " '부드럽': 38,\n",
       " '연비': 72,\n",
       " '차량': 90,\n",
       " '내부': 13,\n",
       " '디자인': 25,\n",
       " '세련': 48,\n",
       " '배터리': 36,\n",
       " '수명': 50,\n",
       " '카메라': 96,\n",
       " '기능': 10,\n",
       " '우수': 74,\n",
       " '사용': 44,\n",
       " '편리': 99,\n",
       " 'ui': 0,\n",
       " '마음': 27,\n",
       " '듭니다': 24,\n",
       " '교수': 6,\n",
       " '설명': 46,\n",
       " '명확': 33,\n",
       " '이해': 77,\n",
       " '추가': 92,\n",
       " '자료': 79,\n",
       " '유용': 75,\n",
       " '성능': 47,\n",
       " '대비': 20,\n",
       " '가격': 1,\n",
       " '아주': 63,\n",
       " '만족': 28,\n",
       " '스러워': 51,\n",
       " '게임': 4,\n",
       " '지연': 89,\n",
       " '없이': 67,\n",
       " '실행': 59,\n",
       " '됩니다': 23,\n",
       " '분위기': 40,\n",
       " '아서': 61,\n",
       " '친구': 95,\n",
       " '수다': 49,\n",
       " '떨기': 26,\n",
       " '커피': 97,\n",
       " '최상': 91,\n",
       " '입니다': 78,\n",
       " '글쓰기': 9,\n",
       " '스타일': 52,\n",
       " '주제': 87,\n",
       " '모두': 34,\n",
       " '취향': 94,\n",
       " '시작': 57,\n",
       " '멈출': 31,\n",
       " '음식': 76,\n",
       " '별로': 37,\n",
       " '다시': 17,\n",
       " '더러웠': 21,\n",
       " '주변': 86,\n",
       " '시설': 56,\n",
       " '부족': 39,\n",
       " '방문': 35,\n",
       " '지루': 88,\n",
       " '비추': 42,\n",
       " '재미없': 81,\n",
       " '뻑뻑': 43,\n",
       " '나쁩니다': 12,\n",
       " '구식': 7,\n",
       " '에요': 69,\n",
       " '어렵': 65,\n",
       " '애매': 64,\n",
       " '도움': 22,\n",
       " '비싸': 41,\n",
       " '시끄럽': 55,\n",
       " '힘들': 106,\n",
       " '그다지': 8,\n",
       " '페이지': 98,\n",
       " '조차': 85}"
      ]
     },
     "execution_count": 23,
     "metadata": {},
     "output_type": "execute_result"
    }
   ],
   "source": [
    "countVectorizer.vocabulary_"
   ]
  },
  {
   "cell_type": "code",
   "execution_count": 35,
   "id": "80a4457b-9049-47b9-b903-c49bb25a2a4a",
   "metadata": {
    "tags": []
   },
   "outputs": [
    {
     "data": {
      "text/html": [
       "<style>#sk-container-id-6 {color: black;background-color: white;}#sk-container-id-6 pre{padding: 0;}#sk-container-id-6 div.sk-toggleable {background-color: white;}#sk-container-id-6 label.sk-toggleable__label {cursor: pointer;display: block;width: 100%;margin-bottom: 0;padding: 0.3em;box-sizing: border-box;text-align: center;}#sk-container-id-6 label.sk-toggleable__label-arrow:before {content: \"▸\";float: left;margin-right: 0.25em;color: #696969;}#sk-container-id-6 label.sk-toggleable__label-arrow:hover:before {color: black;}#sk-container-id-6 div.sk-estimator:hover label.sk-toggleable__label-arrow:before {color: black;}#sk-container-id-6 div.sk-toggleable__content {max-height: 0;max-width: 0;overflow: hidden;text-align: left;background-color: #f0f8ff;}#sk-container-id-6 div.sk-toggleable__content pre {margin: 0.2em;color: black;border-radius: 0.25em;background-color: #f0f8ff;}#sk-container-id-6 input.sk-toggleable__control:checked~div.sk-toggleable__content {max-height: 200px;max-width: 100%;overflow: auto;}#sk-container-id-6 input.sk-toggleable__control:checked~label.sk-toggleable__label-arrow:before {content: \"▾\";}#sk-container-id-6 div.sk-estimator input.sk-toggleable__control:checked~label.sk-toggleable__label {background-color: #d4ebff;}#sk-container-id-6 div.sk-label input.sk-toggleable__control:checked~label.sk-toggleable__label {background-color: #d4ebff;}#sk-container-id-6 input.sk-hidden--visually {border: 0;clip: rect(1px 1px 1px 1px);clip: rect(1px, 1px, 1px, 1px);height: 1px;margin: -1px;overflow: hidden;padding: 0;position: absolute;width: 1px;}#sk-container-id-6 div.sk-estimator {font-family: monospace;background-color: #f0f8ff;border: 1px dotted black;border-radius: 0.25em;box-sizing: border-box;margin-bottom: 0.5em;}#sk-container-id-6 div.sk-estimator:hover {background-color: #d4ebff;}#sk-container-id-6 div.sk-parallel-item::after {content: \"\";width: 100%;border-bottom: 1px solid gray;flex-grow: 1;}#sk-container-id-6 div.sk-label:hover label.sk-toggleable__label {background-color: #d4ebff;}#sk-container-id-6 div.sk-serial::before {content: \"\";position: absolute;border-left: 1px solid gray;box-sizing: border-box;top: 0;bottom: 0;left: 50%;z-index: 0;}#sk-container-id-6 div.sk-serial {display: flex;flex-direction: column;align-items: center;background-color: white;padding-right: 0.2em;padding-left: 0.2em;position: relative;}#sk-container-id-6 div.sk-item {position: relative;z-index: 1;}#sk-container-id-6 div.sk-parallel {display: flex;align-items: stretch;justify-content: center;background-color: white;position: relative;}#sk-container-id-6 div.sk-item::before, #sk-container-id-6 div.sk-parallel-item::before {content: \"\";position: absolute;border-left: 1px solid gray;box-sizing: border-box;top: 0;bottom: 0;left: 50%;z-index: -1;}#sk-container-id-6 div.sk-parallel-item {display: flex;flex-direction: column;z-index: 1;position: relative;background-color: white;}#sk-container-id-6 div.sk-parallel-item:first-child::after {align-self: flex-end;width: 50%;}#sk-container-id-6 div.sk-parallel-item:last-child::after {align-self: flex-start;width: 50%;}#sk-container-id-6 div.sk-parallel-item:only-child::after {width: 0;}#sk-container-id-6 div.sk-dashed-wrapped {border: 1px dashed gray;margin: 0 0.4em 0.5em 0.4em;box-sizing: border-box;padding-bottom: 0.4em;background-color: white;}#sk-container-id-6 div.sk-label label {font-family: monospace;font-weight: bold;display: inline-block;line-height: 1.2em;}#sk-container-id-6 div.sk-label-container {text-align: center;}#sk-container-id-6 div.sk-container {/* jupyter's `normalize.less` sets `[hidden] { display: none; }` but bootstrap.min.css set `[hidden] { display: none !important; }` so we also need the `!important` here to be able to override the default hidden behavior on the sphinx rendered scikit-learn.org. See: https://github.com/scikit-learn/scikit-learn/issues/21755 */display: inline-block !important;position: relative;}#sk-container-id-6 div.sk-text-repr-fallback {display: none;}</style><div id=\"sk-container-id-6\" class=\"sk-top-container\"><div class=\"sk-text-repr-fallback\"><pre>TfidfVectorizer()</pre><b>In a Jupyter environment, please rerun this cell to show the HTML representation or trust the notebook. <br />On GitHub, the HTML representation is unable to render, please try loading this page with nbviewer.org.</b></div><div class=\"sk-container\" hidden><div class=\"sk-item\"><div class=\"sk-estimator sk-toggleable\"><input class=\"sk-toggleable__control sk-hidden--visually\" id=\"sk-estimator-id-6\" type=\"checkbox\" checked><label for=\"sk-estimator-id-6\" class=\"sk-toggleable__label sk-toggleable__label-arrow\">TfidfVectorizer</label><div class=\"sk-toggleable__content\"><pre>TfidfVectorizer()</pre></div></div></div></div></div>"
      ],
      "text/plain": [
       "TfidfVectorizer()"
      ]
     },
     "execution_count": 35,
     "metadata": {},
     "output_type": "execute_result"
    }
   ],
   "source": [
    "tfidfVectorizer = TfidfVectorizer(use_idf=True)\n",
    "tfidfVectorizer.fit(comments)"
   ]
  },
  {
   "cell_type": "code",
   "execution_count": 36,
   "id": "d947320f-e60f-457f-9e5b-4c9da5c04a03",
   "metadata": {
    "collapsed": true,
    "jupyter": {
     "outputs_hidden": true
    },
    "tags": []
   },
   "outputs": [
    {
     "data": {
      "text/plain": [
       "array([3.35137526, 2.94591015, 2.94591015, 3.35137526, 2.94591015,\n",
       "       2.94591015, 2.94591015, 3.35137526, 3.35137526, 2.94591015,\n",
       "       2.94591015, 3.35137526, 3.35137526, 2.94591015, 2.09861229,\n",
       "       2.43508453, 2.94591015, 2.94591015, 3.35137526, 3.35137526,\n",
       "       2.94591015, 3.35137526, 3.35137526, 2.94591015, 3.35137526,\n",
       "       2.94591015, 2.94591015, 3.35137526, 3.35137526, 2.94591015,\n",
       "       3.35137526, 3.35137526, 2.94591015, 3.35137526, 2.94591015,\n",
       "       3.35137526, 2.94591015, 2.65822808, 2.94591015, 3.35137526,\n",
       "       2.94591015, 3.35137526, 3.35137526, 3.35137526, 2.94591015,\n",
       "       2.94591015, 2.94591015, 2.94591015, 3.35137526, 2.94591015,\n",
       "       2.94591015, 3.35137526, 2.94591015, 2.94591015, 1.74193734,\n",
       "       3.35137526, 3.35137526, 3.35137526, 3.35137526, 3.35137526,\n",
       "       3.35137526, 2.65822808, 2.65822808, 3.35137526, 3.35137526,\n",
       "       2.94591015, 1.84729786, 3.35137526, 3.35137526, 3.35137526,\n",
       "       3.35137526, 2.94591015, 2.94591015, 3.35137526, 3.35137526,\n",
       "       3.35137526, 3.35137526, 2.65822808, 2.94591015, 2.94591015,\n",
       "       3.35137526, 3.35137526, 3.35137526, 2.94591015, 2.94591015,\n",
       "       3.35137526, 3.35137526, 2.94591015, 3.35137526, 2.94591015,\n",
       "       2.94591015, 3.35137526, 2.94591015, 3.35137526, 2.94591015,\n",
       "       2.94591015, 2.94591015, 2.94591015, 3.35137526, 3.35137526,\n",
       "       3.35137526, 2.65822808, 2.94591015, 3.35137526, 2.94591015,\n",
       "       3.35137526, 2.94591015])"
      ]
     },
     "execution_count": 36,
     "metadata": {},
     "output_type": "execute_result"
    }
   ],
   "source": [
    "tfidfVectorizer.idf_"
   ]
  },
  {
   "cell_type": "code",
   "execution_count": 37,
   "id": "28dd6e26-6843-4891-b4a0-e25efec52ce5",
   "metadata": {
    "collapsed": true,
    "jupyter": {
     "outputs_hidden": true
    },
    "tags": []
   },
   "outputs": [
    {
     "data": {
      "text/plain": [
       "array([[0.        , 0.        , 0.        , 0.        , 0.        ,\n",
       "        0.        , 0.        , 0.        , 0.        , 0.33717886,\n",
       "        0.        , 0.        , 0.        , 0.        , 0.        ,\n",
       "        0.        , 0.        , 0.        , 0.        , 0.        ,\n",
       "        0.        , 0.        , 0.        , 0.        , 0.        ,\n",
       "        0.        , 0.        , 0.        , 0.        , 0.        ,\n",
       "        0.        , 0.38358702, 0.        , 0.        , 0.33717886,\n",
       "        0.        , 0.        , 0.        , 0.        , 0.        ,\n",
       "        0.        , 0.        , 0.        , 0.        , 0.        ,\n",
       "        0.        , 0.        , 0.        , 0.        , 0.        ,\n",
       "        0.        , 0.        , 0.33717886, 0.        , 0.        ,\n",
       "        0.        , 0.        , 0.38358702, 0.        , 0.        ,\n",
       "        0.        , 0.30425175, 0.        , 0.        , 0.        ,\n",
       "        0.        , 0.21143543, 0.        , 0.        , 0.        ,\n",
       "        0.        , 0.        , 0.        , 0.        , 0.        ,\n",
       "        0.        , 0.        , 0.        , 0.        , 0.        ,\n",
       "        0.        , 0.        , 0.        , 0.        , 0.        ,\n",
       "        0.        , 0.        , 0.33717886, 0.        , 0.        ,\n",
       "        0.        , 0.        , 0.        , 0.        , 0.33717886,\n",
       "        0.        , 0.        , 0.        , 0.        , 0.        ,\n",
       "        0.        , 0.        , 0.        , 0.        , 0.        ,\n",
       "        0.        , 0.        ]])"
      ]
     },
     "execution_count": 37,
     "metadata": {},
     "output_type": "execute_result"
    }
   ],
   "source": [
    "feature = tfidfVectorizer.transform([comments[9]]) # 학습 시 2차원을 이용했으므로 변환도 2차원 적용\n",
    "feature.toarray()"
   ]
  },
  {
   "cell_type": "code",
   "execution_count": 45,
   "id": "c6efccdd-2d7d-4e93-a31f-9b83f753461d",
   "metadata": {
    "tags": []
   },
   "outputs": [],
   "source": [
    "features = tfidfVectorizer.transform(comments) # 댓글 전체 벡터화"
   ]
  },
  {
   "cell_type": "markdown",
   "id": "7a3f1b6d-9407-4a7f-9732-8d510ccfee29",
   "metadata": {},
   "source": [
    "### 목표 변수 생성"
   ]
  },
  {
   "cell_type": "code",
   "execution_count": 38,
   "id": "cac18831-b17b-472b-9115-0b321bdd2e95",
   "metadata": {
    "collapsed": true,
    "jupyter": {
     "outputs_hidden": true
    },
    "tags": []
   },
   "outputs": [
    {
     "data": {
      "text/plain": [
       "['긍정',\n",
       " '긍정',\n",
       " '긍정',\n",
       " '긍정',\n",
       " '긍정',\n",
       " '긍정',\n",
       " '긍정',\n",
       " '긍정',\n",
       " '긍정',\n",
       " '긍정',\n",
       " '부정',\n",
       " '부정',\n",
       " '부정',\n",
       " '부정',\n",
       " '부정',\n",
       " '부정',\n",
       " '부정',\n",
       " '부정',\n",
       " '부정',\n",
       " '부정']"
      ]
     },
     "execution_count": 38,
     "metadata": {},
     "output_type": "execute_result"
    }
   ],
   "source": [
    "target = ['긍정'] * len(comments_positive) + ['부정'] * len(comments_negative)\n",
    "target"
   ]
  },
  {
   "cell_type": "markdown",
   "id": "35c79f75-2762-40bb-b5b4-c1f7522ba1db",
   "metadata": {},
   "source": [
    "### 머신러닝 학습"
   ]
  },
  {
   "cell_type": "code",
   "execution_count": 42,
   "id": "6866e245-d8a5-44c1-a119-338b6f556e7f",
   "metadata": {
    "tags": []
   },
   "outputs": [],
   "source": [
    "# %pip install --user lightgbm"
   ]
  },
  {
   "cell_type": "code",
   "execution_count": 43,
   "id": "00f57e86-0749-4869-b8c3-5edb12695b03",
   "metadata": {
    "tags": []
   },
   "outputs": [],
   "source": [
    "from sklearn.svm import SVC"
   ]
  },
  {
   "cell_type": "code",
   "execution_count": 48,
   "id": "3480e4ec-2022-428d-a3e3-448f6bc9d59c",
   "metadata": {
    "tags": []
   },
   "outputs": [
    {
     "data": {
      "text/html": [
       "<style>#sk-container-id-7 {color: black;background-color: white;}#sk-container-id-7 pre{padding: 0;}#sk-container-id-7 div.sk-toggleable {background-color: white;}#sk-container-id-7 label.sk-toggleable__label {cursor: pointer;display: block;width: 100%;margin-bottom: 0;padding: 0.3em;box-sizing: border-box;text-align: center;}#sk-container-id-7 label.sk-toggleable__label-arrow:before {content: \"▸\";float: left;margin-right: 0.25em;color: #696969;}#sk-container-id-7 label.sk-toggleable__label-arrow:hover:before {color: black;}#sk-container-id-7 div.sk-estimator:hover label.sk-toggleable__label-arrow:before {color: black;}#sk-container-id-7 div.sk-toggleable__content {max-height: 0;max-width: 0;overflow: hidden;text-align: left;background-color: #f0f8ff;}#sk-container-id-7 div.sk-toggleable__content pre {margin: 0.2em;color: black;border-radius: 0.25em;background-color: #f0f8ff;}#sk-container-id-7 input.sk-toggleable__control:checked~div.sk-toggleable__content {max-height: 200px;max-width: 100%;overflow: auto;}#sk-container-id-7 input.sk-toggleable__control:checked~label.sk-toggleable__label-arrow:before {content: \"▾\";}#sk-container-id-7 div.sk-estimator input.sk-toggleable__control:checked~label.sk-toggleable__label {background-color: #d4ebff;}#sk-container-id-7 div.sk-label input.sk-toggleable__control:checked~label.sk-toggleable__label {background-color: #d4ebff;}#sk-container-id-7 input.sk-hidden--visually {border: 0;clip: rect(1px 1px 1px 1px);clip: rect(1px, 1px, 1px, 1px);height: 1px;margin: -1px;overflow: hidden;padding: 0;position: absolute;width: 1px;}#sk-container-id-7 div.sk-estimator {font-family: monospace;background-color: #f0f8ff;border: 1px dotted black;border-radius: 0.25em;box-sizing: border-box;margin-bottom: 0.5em;}#sk-container-id-7 div.sk-estimator:hover {background-color: #d4ebff;}#sk-container-id-7 div.sk-parallel-item::after {content: \"\";width: 100%;border-bottom: 1px solid gray;flex-grow: 1;}#sk-container-id-7 div.sk-label:hover label.sk-toggleable__label {background-color: #d4ebff;}#sk-container-id-7 div.sk-serial::before {content: \"\";position: absolute;border-left: 1px solid gray;box-sizing: border-box;top: 0;bottom: 0;left: 50%;z-index: 0;}#sk-container-id-7 div.sk-serial {display: flex;flex-direction: column;align-items: center;background-color: white;padding-right: 0.2em;padding-left: 0.2em;position: relative;}#sk-container-id-7 div.sk-item {position: relative;z-index: 1;}#sk-container-id-7 div.sk-parallel {display: flex;align-items: stretch;justify-content: center;background-color: white;position: relative;}#sk-container-id-7 div.sk-item::before, #sk-container-id-7 div.sk-parallel-item::before {content: \"\";position: absolute;border-left: 1px solid gray;box-sizing: border-box;top: 0;bottom: 0;left: 50%;z-index: -1;}#sk-container-id-7 div.sk-parallel-item {display: flex;flex-direction: column;z-index: 1;position: relative;background-color: white;}#sk-container-id-7 div.sk-parallel-item:first-child::after {align-self: flex-end;width: 50%;}#sk-container-id-7 div.sk-parallel-item:last-child::after {align-self: flex-start;width: 50%;}#sk-container-id-7 div.sk-parallel-item:only-child::after {width: 0;}#sk-container-id-7 div.sk-dashed-wrapped {border: 1px dashed gray;margin: 0 0.4em 0.5em 0.4em;box-sizing: border-box;padding-bottom: 0.4em;background-color: white;}#sk-container-id-7 div.sk-label label {font-family: monospace;font-weight: bold;display: inline-block;line-height: 1.2em;}#sk-container-id-7 div.sk-label-container {text-align: center;}#sk-container-id-7 div.sk-container {/* jupyter's `normalize.less` sets `[hidden] { display: none; }` but bootstrap.min.css set `[hidden] { display: none !important; }` so we also need the `!important` here to be able to override the default hidden behavior on the sphinx rendered scikit-learn.org. See: https://github.com/scikit-learn/scikit-learn/issues/21755 */display: inline-block !important;position: relative;}#sk-container-id-7 div.sk-text-repr-fallback {display: none;}</style><div id=\"sk-container-id-7\" class=\"sk-top-container\"><div class=\"sk-text-repr-fallback\"><pre>SVC()</pre><b>In a Jupyter environment, please rerun this cell to show the HTML representation or trust the notebook. <br />On GitHub, the HTML representation is unable to render, please try loading this page with nbviewer.org.</b></div><div class=\"sk-container\" hidden><div class=\"sk-item\"><div class=\"sk-estimator sk-toggleable\"><input class=\"sk-toggleable__control sk-hidden--visually\" id=\"sk-estimator-id-7\" type=\"checkbox\" checked><label for=\"sk-estimator-id-7\" class=\"sk-toggleable__label sk-toggleable__label-arrow\">SVC</label><div class=\"sk-toggleable__content\"><pre>SVC()</pre></div></div></div></div></div>"
      ],
      "text/plain": [
       "SVC()"
      ]
     },
     "execution_count": 48,
     "metadata": {},
     "output_type": "execute_result"
    }
   ],
   "source": [
    "model = SVC()\n",
    "model.fit(features.toarray(), target)"
   ]
  },
  {
   "cell_type": "markdown",
   "id": "c4e55687-fa04-4f9e-8351-0a5e0b520a5d",
   "metadata": {},
   "source": [
    "### 머신러닝 통한 예측"
   ]
  },
  {
   "cell_type": "code",
   "execution_count": 49,
   "id": "601d4285-ec73-4fab-96fb-978d6b0bb7b5",
   "metadata": {
    "tags": []
   },
   "outputs": [],
   "source": [
    "comment = '코로나19의 여파로 전 세계 교사들과 학생들 모두 혼란스러운 시기를 보내고 있습니다. 어려움 속에서도 학생들을 위해 안간힘을 쓰고 있는 모든 선생님들에게, 응원과 박수를 함께 보냅니다.'"
   ]
  },
  {
   "cell_type": "code",
   "execution_count": 50,
   "id": "37279361-f326-4f4f-81f4-b230b00bb959",
   "metadata": {
    "tags": []
   },
   "outputs": [],
   "source": [
    "tokenized_comment = mecab.morphs(comment)"
   ]
  },
  {
   "cell_type": "code",
   "execution_count": 53,
   "id": "af4d709f-7476-4488-b457-18674f071591",
   "metadata": {
    "tags": []
   },
   "outputs": [
    {
     "data": {
      "text/plain": [
       "array([[0.        , 0.        , 0.        , 0.        , 0.        ,\n",
       "        0.        , 0.        , 0.        , 0.        , 0.        ,\n",
       "        0.        , 0.        , 0.        , 0.        , 0.        ,\n",
       "        0.        , 0.        , 0.        , 0.        , 0.        ,\n",
       "        0.        , 0.        , 0.        , 0.        , 0.        ,\n",
       "        0.        , 0.        , 0.        , 0.        , 0.        ,\n",
       "        0.        , 0.        , 0.        , 0.        , 0.61500789,\n",
       "        0.        , 0.        , 0.        , 0.        , 0.        ,\n",
       "        0.        , 0.        , 0.        , 0.        , 0.        ,\n",
       "        0.        , 0.        , 0.        , 0.        , 0.        ,\n",
       "        0.        , 0.        , 0.        , 0.        , 0.36365848,\n",
       "        0.        , 0.        , 0.        , 0.        , 0.        ,\n",
       "        0.        , 0.        , 0.        , 0.        , 0.        ,\n",
       "        0.        , 0.        , 0.        , 0.69965549, 0.        ,\n",
       "        0.        , 0.        , 0.        , 0.        , 0.        ,\n",
       "        0.        , 0.        , 0.        , 0.        , 0.        ,\n",
       "        0.        , 0.        , 0.        , 0.        , 0.        ,\n",
       "        0.        , 0.        , 0.        , 0.        , 0.        ,\n",
       "        0.        , 0.        , 0.        , 0.        , 0.        ,\n",
       "        0.        , 0.        , 0.        , 0.        , 0.        ,\n",
       "        0.        , 0.        , 0.        , 0.        , 0.        ,\n",
       "        0.        , 0.        ]])"
      ]
     },
     "execution_count": 53,
     "metadata": {},
     "output_type": "execute_result"
    }
   ],
   "source": [
    "vectorized_comment = tfidfVectorizer.transform([' '.join(tokenized_comment)])\n",
    "vectorized_comment.toarray()"
   ]
  },
  {
   "cell_type": "code",
   "execution_count": 54,
   "id": "1318d00e-f03a-4f74-bbd5-1c71dbbb51f2",
   "metadata": {
    "tags": []
   },
   "outputs": [
    {
     "data": {
      "text/plain": [
       "array(['긍정'], dtype='<U2')"
      ]
     },
     "execution_count": 54,
     "metadata": {},
     "output_type": "execute_result"
    }
   ],
   "source": [
    "model.predict(vectorized_comment.toarray())"
   ]
  },
  {
   "cell_type": "code",
   "execution_count": null,
   "id": "5391dd6e-2e0c-4933-940d-43aa9d0fb374",
   "metadata": {},
   "outputs": [],
   "source": []
  }
 ],
 "metadata": {
  "kernelspec": {
   "display_name": "Python 3 (ipykernel)",
   "language": "python",
   "name": "python3"
  },
  "language_info": {
   "codemirror_mode": {
    "name": "ipython",
    "version": 3
   },
   "file_extension": ".py",
   "mimetype": "text/x-python",
   "name": "python",
   "nbconvert_exporter": "python",
   "pygments_lexer": "ipython3",
   "version": "3.11.3"
  }
 },
 "nbformat": 4,
 "nbformat_minor": 5
}
