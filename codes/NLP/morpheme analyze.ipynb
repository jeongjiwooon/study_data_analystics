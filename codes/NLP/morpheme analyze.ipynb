{
 "cells": [
  {
   "cell_type": "markdown",
   "id": "3c4049f3-39cf-4483-91f5-49203c950a30",
   "metadata": {},
   "source": [
    "## 한글 형태소 분석기\n",
    "- refer : https://konlpy.org/ko/v0.6.0/"
   ]
  },
  {
   "cell_type": "code",
   "execution_count": 1,
   "id": "c202e2b8-5354-4306-a21a-f449f12e251e",
   "metadata": {
    "collapsed": true,
    "jupyter": {
     "outputs_hidden": true
    },
    "tags": []
   },
   "outputs": [
    {
     "name": "stdout",
     "output_type": "stream",
     "text": [
      "Collecting konlpy\n",
      "  Downloading konlpy-0.6.0-py2.py3-none-any.whl (19.4 MB)\n",
      "                                              0.0/19.4 MB ? eta -:--:--\n",
      "                                              0.0/19.4 MB ? eta -:--:--\n",
      "                                              0.1/19.4 MB 2.0 MB/s eta 0:00:10\n",
      "                                              0.2/19.4 MB 2.3 MB/s eta 0:00:09\n",
      "                                              0.4/19.4 MB 2.9 MB/s eta 0:00:07\n",
      "     -                                        0.6/19.4 MB 3.3 MB/s eta 0:00:06\n",
      "     -                                        0.8/19.4 MB 3.4 MB/s eta 0:00:06\n",
      "     -                                        1.0/19.4 MB 3.4 MB/s eta 0:00:06\n",
      "     --                                       1.1/19.4 MB 3.4 MB/s eta 0:00:06\n",
      "     --                                       1.3/19.4 MB 3.4 MB/s eta 0:00:06\n",
      "     --                                       1.4/19.4 MB 3.4 MB/s eta 0:00:06\n",
      "     ---                                      1.6/19.4 MB 3.4 MB/s eta 0:00:06\n",
      "     ---                                      1.7/19.4 MB 3.4 MB/s eta 0:00:06\n",
      "     ---                                      1.9/19.4 MB 3.3 MB/s eta 0:00:06\n",
      "     ----                                     2.0/19.4 MB 3.3 MB/s eta 0:00:06\n",
      "     ----                                     2.1/19.4 MB 3.2 MB/s eta 0:00:06\n",
      "     ----                                     2.2/19.4 MB 3.2 MB/s eta 0:00:06\n",
      "     ----                                     2.3/19.4 MB 3.1 MB/s eta 0:00:06\n",
      "     ----                                     2.4/19.4 MB 3.1 MB/s eta 0:00:06\n",
      "     -----                                    2.5/19.4 MB 3.0 MB/s eta 0:00:06\n",
      "     -----                                    2.6/19.4 MB 3.0 MB/s eta 0:00:06\n",
      "     -----                                    2.7/19.4 MB 2.9 MB/s eta 0:00:06\n",
      "     -----                                    2.8/19.4 MB 2.9 MB/s eta 0:00:06\n",
      "     -----                                    2.9/19.4 MB 2.8 MB/s eta 0:00:06\n",
      "     ------                                   3.0/19.4 MB 2.8 MB/s eta 0:00:06\n",
      "     ------                                   3.1/19.4 MB 2.8 MB/s eta 0:00:06\n",
      "     ------                                   3.2/19.4 MB 2.7 MB/s eta 0:00:06\n",
      "     ------                                   3.3/19.4 MB 2.7 MB/s eta 0:00:06\n",
      "     ------                                   3.4/19.4 MB 2.7 MB/s eta 0:00:06\n",
      "     -------                                  3.5/19.4 MB 2.7 MB/s eta 0:00:06\n",
      "     -------                                  3.6/19.4 MB 2.6 MB/s eta 0:00:07\n",
      "     -------                                  3.6/19.4 MB 2.6 MB/s eta 0:00:07\n",
      "     -------                                  3.7/19.4 MB 2.6 MB/s eta 0:00:07\n",
      "     -------                                  3.8/19.4 MB 2.6 MB/s eta 0:00:07\n",
      "     --------                                 3.9/19.4 MB 2.6 MB/s eta 0:00:07\n",
      "     --------                                 4.0/19.4 MB 2.6 MB/s eta 0:00:07\n",
      "     --------                                 4.1/19.4 MB 2.5 MB/s eta 0:00:07\n",
      "     --------                                 4.2/19.4 MB 2.5 MB/s eta 0:00:07\n",
      "     --------                                 4.2/19.4 MB 2.5 MB/s eta 0:00:07\n",
      "     --------                                 4.3/19.4 MB 2.4 MB/s eta 0:00:07\n",
      "     ---------                                4.4/19.4 MB 2.4 MB/s eta 0:00:07\n",
      "     ---------                                4.5/19.4 MB 2.4 MB/s eta 0:00:07\n",
      "     ---------                                4.6/19.4 MB 2.4 MB/s eta 0:00:07\n",
      "     ---------                                4.7/19.4 MB 2.4 MB/s eta 0:00:07\n",
      "     ---------                                4.7/19.4 MB 2.4 MB/s eta 0:00:07\n",
      "     ---------                                4.8/19.4 MB 2.4 MB/s eta 0:00:07\n",
      "     ----------                               4.9/19.4 MB 2.4 MB/s eta 0:00:07\n",
      "     ----------                               5.0/19.4 MB 2.4 MB/s eta 0:00:07\n",
      "     ----------                               5.1/19.4 MB 2.4 MB/s eta 0:00:07\n",
      "     ----------                               5.3/19.4 MB 2.4 MB/s eta 0:00:06\n",
      "     ----------                               5.3/19.4 MB 2.3 MB/s eta 0:00:07\n",
      "     -----------                              5.4/19.4 MB 2.3 MB/s eta 0:00:07\n",
      "     -----------                              5.4/19.4 MB 2.3 MB/s eta 0:00:07\n",
      "     -----------                              5.5/19.4 MB 2.3 MB/s eta 0:00:07\n",
      "     -----------                              5.6/19.4 MB 2.3 MB/s eta 0:00:07\n",
      "     -----------                              5.6/19.4 MB 2.3 MB/s eta 0:00:07\n",
      "     -----------                              5.7/19.4 MB 2.2 MB/s eta 0:00:07\n",
      "     -----------                              5.8/19.4 MB 2.2 MB/s eta 0:00:07\n",
      "     -----------                              5.8/19.4 MB 2.2 MB/s eta 0:00:07\n",
      "     ------------                             5.9/19.4 MB 2.2 MB/s eta 0:00:07\n",
      "     ------------                             5.9/19.4 MB 2.2 MB/s eta 0:00:07\n",
      "     ------------                             6.0/19.4 MB 2.2 MB/s eta 0:00:07\n",
      "     ------------                             6.1/19.4 MB 2.1 MB/s eta 0:00:07\n",
      "     ------------                             6.1/19.4 MB 2.1 MB/s eta 0:00:07\n",
      "     ------------                             6.2/19.4 MB 2.1 MB/s eta 0:00:07\n",
      "     ------------                             6.3/19.4 MB 2.1 MB/s eta 0:00:07\n",
      "     -------------                            6.3/19.4 MB 2.1 MB/s eta 0:00:07\n",
      "     -------------                            6.4/19.4 MB 2.1 MB/s eta 0:00:07\n",
      "     -------------                            6.5/19.4 MB 2.1 MB/s eta 0:00:07\n",
      "     -------------                            6.5/19.4 MB 2.1 MB/s eta 0:00:07\n",
      "     -------------                            6.6/19.4 MB 2.1 MB/s eta 0:00:07\n",
      "     -------------                            6.6/19.4 MB 2.1 MB/s eta 0:00:07\n",
      "     -------------                            6.7/19.4 MB 2.0 MB/s eta 0:00:07\n",
      "     -------------                            6.8/19.4 MB 2.0 MB/s eta 0:00:07\n",
      "     --------------                           6.8/19.4 MB 2.0 MB/s eta 0:00:07\n",
      "     --------------                           6.9/19.4 MB 2.0 MB/s eta 0:00:07\n",
      "     --------------                           7.0/19.4 MB 2.0 MB/s eta 0:00:07\n",
      "     --------------                           7.1/19.4 MB 2.0 MB/s eta 0:00:07\n",
      "     --------------                           7.2/19.4 MB 2.0 MB/s eta 0:00:07\n",
      "     ---------------                          7.3/19.4 MB 2.0 MB/s eta 0:00:07\n",
      "     ---------------                          7.4/19.4 MB 2.0 MB/s eta 0:00:06\n",
      "     ---------------                          7.5/19.4 MB 2.0 MB/s eta 0:00:06\n",
      "     ---------------                          7.6/19.4 MB 2.0 MB/s eta 0:00:06\n",
      "     ----------------                         7.8/19.4 MB 2.1 MB/s eta 0:00:06\n",
      "     ----------------                         8.0/19.4 MB 2.1 MB/s eta 0:00:06\n",
      "     ----------------                         8.2/19.4 MB 2.1 MB/s eta 0:00:06\n",
      "     -----------------                        8.4/19.4 MB 2.1 MB/s eta 0:00:06\n",
      "     -----------------                        8.6/19.4 MB 2.2 MB/s eta 0:00:05\n",
      "     ------------------                       8.8/19.4 MB 2.2 MB/s eta 0:00:05\n",
      "     ------------------                       9.0/19.4 MB 2.2 MB/s eta 0:00:05\n",
      "     ------------------                       9.1/19.4 MB 2.2 MB/s eta 0:00:05\n",
      "     -------------------                      9.3/19.4 MB 2.2 MB/s eta 0:00:05\n",
      "     -------------------                      9.6/19.4 MB 2.3 MB/s eta 0:00:05\n",
      "     --------------------                     9.9/19.4 MB 2.3 MB/s eta 0:00:05\n",
      "     --------------------                     10.1/19.4 MB 2.3 MB/s eta 0:00:04\n",
      "     ---------------------                    10.4/19.4 MB 2.4 MB/s eta 0:00:04\n",
      "     ---------------------                    10.6/19.4 MB 2.4 MB/s eta 0:00:04\n",
      "     ----------------------                   10.9/19.4 MB 2.4 MB/s eta 0:00:04\n",
      "     -----------------------                  11.2/19.4 MB 2.4 MB/s eta 0:00:04\n",
      "     ------------------------                 11.7/19.4 MB 2.5 MB/s eta 0:00:04\n",
      "     -------------------------                12.2/19.4 MB 2.6 MB/s eta 0:00:03\n",
      "     --------------------------               12.7/19.4 MB 2.7 MB/s eta 0:00:03\n",
      "     --------------------------               13.0/19.4 MB 2.8 MB/s eta 0:00:03\n",
      "     ---------------------------              13.4/19.4 MB 2.9 MB/s eta 0:00:03\n",
      "     ----------------------------             13.7/19.4 MB 2.9 MB/s eta 0:00:02\n",
      "     -----------------------------            14.2/19.4 MB 3.1 MB/s eta 0:00:02\n",
      "     ------------------------------           14.6/19.4 MB 3.3 MB/s eta 0:00:02\n",
      "     -------------------------------          15.1/19.4 MB 3.6 MB/s eta 0:00:02\n",
      "     -------------------------------          15.5/19.4 MB 3.8 MB/s eta 0:00:02\n",
      "     --------------------------------         15.9/19.4 MB 4.1 MB/s eta 0:00:01\n",
      "     ---------------------------------        16.1/19.4 MB 4.4 MB/s eta 0:00:01\n",
      "     ---------------------------------        16.4/19.4 MB 4.6 MB/s eta 0:00:01\n",
      "     ----------------------------------       16.7/19.4 MB 5.0 MB/s eta 0:00:01\n",
      "     -----------------------------------      17.0/19.4 MB 5.5 MB/s eta 0:00:01\n",
      "     -----------------------------------      17.4/19.4 MB 6.0 MB/s eta 0:00:01\n",
      "     ------------------------------------     17.7/19.4 MB 6.3 MB/s eta 0:00:01\n",
      "     ------------------------------------     17.9/19.4 MB 6.5 MB/s eta 0:00:01\n",
      "     -------------------------------------    18.2/19.4 MB 6.6 MB/s eta 0:00:01\n",
      "     --------------------------------------   18.5/19.4 MB 6.7 MB/s eta 0:00:01\n",
      "     --------------------------------------   18.9/19.4 MB 6.9 MB/s eta 0:00:01\n",
      "     ---------------------------------------  19.4/19.4 MB 7.4 MB/s eta 0:00:01\n",
      "     ---------------------------------------- 19.4/19.4 MB 7.2 MB/s eta 0:00:00\n",
      "Collecting JPype1>=0.7.0 (from konlpy)\n",
      "  Downloading JPype1-1.4.1-cp311-cp311-win_amd64.whl (345 kB)\n",
      "                                              0.0/345.1 kB ? eta -:--:--\n",
      "     ------------------------------------- 345.1/345.1 kB 10.5 MB/s eta 0:00:00\n",
      "Requirement already satisfied: lxml>=4.1.0 in c:\\users\\5-22\\anaconda3\\lib\\site-packages (from konlpy) (4.9.2)\n",
      "Requirement already satisfied: numpy>=1.6 in c:\\users\\5-22\\anaconda3\\lib\\site-packages (from konlpy) (1.24.3)\n",
      "Requirement already satisfied: packaging in c:\\users\\5-22\\anaconda3\\lib\\site-packages (from JPype1>=0.7.0->konlpy) (23.0)\n",
      "Installing collected packages: JPype1, konlpy\n",
      "Successfully installed JPype1-1.4.1 konlpy-0.6.0\n"
     ]
    }
   ],
   "source": [
    "!pip install konlpy"
   ]
  },
  {
   "cell_type": "code",
   "execution_count": 2,
   "id": "35862419-33c5-4e46-be84-75a16d095698",
   "metadata": {
    "tags": []
   },
   "outputs": [],
   "source": [
    "from konlpy.tag import Okt"
   ]
  },
  {
   "cell_type": "code",
   "execution_count": 5,
   "id": "eb899584-02ce-41d8-8e17-2bb22814abeb",
   "metadata": {
    "tags": []
   },
   "outputs": [],
   "source": [
    "okt = Okt() # 형태소 분석기 선택"
   ]
  },
  {
   "cell_type": "code",
   "execution_count": 7,
   "id": "11ae2833-18d7-4440-9e66-54cc18c7568d",
   "metadata": {
    "tags": []
   },
   "outputs": [],
   "source": [
    "sentences_list = [\n",
    "'아버지가방에들어가신다',\n",
    "'나는 밥을 먹는다',\n",
    "'하늘을 나는 자동차',\n",
    "'아이폰 기다리다 지쳐 애플공홈에서 언락폰질러버렸다 6+ 128기가실버ㅋ']"
   ]
  },
  {
   "cell_type": "code",
   "execution_count": 14,
   "id": "bd2b5a5d-7359-46d0-930f-e05a29bde8df",
   "metadata": {
    "tags": []
   },
   "outputs": [
    {
     "data": {
      "text/plain": [
       "['나', '는', '밥', '을', '먹는다']"
      ]
     },
     "execution_count": 14,
     "metadata": {},
     "output_type": "execute_result"
    }
   ],
   "source": [
    "morphs_list = okt.morphs(sentence_list[1]) # 토큰화\n",
    "morphs_list"
   ]
  },
  {
   "cell_type": "code",
   "execution_count": 15,
   "id": "6730d7d7-68fc-4d0c-973d-36d427eba8e4",
   "metadata": {
    "tags": []
   },
   "outputs": [
    {
     "data": {
      "text/plain": [
       "[('나', 'Noun'), ('는', 'Josa'), ('밥', 'Noun'), ('을', 'Josa'), ('먹는다', 'Verb')]"
      ]
     },
     "execution_count": 15,
     "metadata": {},
     "output_type": "execute_result"
    }
   ],
   "source": [
    "okt.pos(sentence_list[1]) # 품사 달기"
   ]
  },
  {
   "cell_type": "code",
   "execution_count": 17,
   "id": "b6195eb1-e8df-4463-98ee-e779a585131e",
   "metadata": {
    "tags": []
   },
   "outputs": [
    {
     "data": {
      "text/plain": [
       "['나', '밥']"
      ]
     },
     "execution_count": 17,
     "metadata": {},
     "output_type": "execute_result"
    }
   ],
   "source": [
    "okt.nouns(sentence_list[1]) # 명사만 가져오기"
   ]
  },
  {
   "cell_type": "code",
   "execution_count": 20,
   "id": "4457bfa1-5e33-43d6-875e-6de902fc71b3",
   "metadata": {
    "tags": []
   },
   "outputs": [
    {
     "data": {
      "text/plain": [
       "['애플공홈', '애플', '공홈']"
      ]
     },
     "execution_count": 20,
     "metadata": {},
     "output_type": "execute_result"
    }
   ],
   "source": [
    "okt.phrases('애플공홈') # 결함 명사 포함"
   ]
  },
  {
   "cell_type": "code",
   "execution_count": null,
   "id": "f814f8c1-ac2e-4660-b229-e0a13355c2d3",
   "metadata": {},
   "outputs": [],
   "source": []
  }
 ],
 "metadata": {
  "kernelspec": {
   "display_name": "Python 3 (ipykernel)",
   "language": "python",
   "name": "python3"
  },
  "language_info": {
   "codemirror_mode": {
    "name": "ipython",
    "version": 3
   },
   "file_extension": ".py",
   "mimetype": "text/x-python",
   "name": "python",
   "nbconvert_exporter": "python",
   "pygments_lexer": "ipython3",
   "version": "3.11.3"
  }
 },
 "nbformat": 4,
 "nbformat_minor": 5
}
