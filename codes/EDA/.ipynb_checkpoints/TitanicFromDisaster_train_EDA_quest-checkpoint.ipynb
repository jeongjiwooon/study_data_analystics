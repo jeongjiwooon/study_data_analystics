{
 "cells": [
  {
   "cell_type": "code",
   "execution_count": 45,
   "id": "5c043496-c349-4fe3-a53d-e63e8755e34c",
   "metadata": {
    "tags": []
   },
   "outputs": [
    {
     "data": {
      "text/html": [
       "<div>\n",
       "<style scoped>\n",
       "    .dataframe tbody tr th:only-of-type {\n",
       "        vertical-align: middle;\n",
       "    }\n",
       "\n",
       "    .dataframe tbody tr th {\n",
       "        vertical-align: top;\n",
       "    }\n",
       "\n",
       "    .dataframe thead th {\n",
       "        text-align: right;\n",
       "    }\n",
       "</style>\n",
       "<table border=\"1\" class=\"dataframe\">\n",
       "  <thead>\n",
       "    <tr style=\"text-align: right;\">\n",
       "      <th></th>\n",
       "      <th>PassengerId</th>\n",
       "      <th>Survived</th>\n",
       "      <th>Pclass</th>\n",
       "      <th>Name</th>\n",
       "      <th>Sex</th>\n",
       "      <th>Age</th>\n",
       "      <th>SibSp</th>\n",
       "      <th>Parch</th>\n",
       "      <th>Ticket</th>\n",
       "      <th>Fare</th>\n",
       "      <th>Cabin</th>\n",
       "      <th>Embarked</th>\n",
       "    </tr>\n",
       "  </thead>\n",
       "  <tbody>\n",
       "    <tr>\n",
       "      <th>0</th>\n",
       "      <td>1</td>\n",
       "      <td>0</td>\n",
       "      <td>3</td>\n",
       "      <td>Braund, Mr. Owen Harris</td>\n",
       "      <td>male</td>\n",
       "      <td>22.0</td>\n",
       "      <td>1</td>\n",
       "      <td>0</td>\n",
       "      <td>A/5 21171</td>\n",
       "      <td>7.2500</td>\n",
       "      <td>NaN</td>\n",
       "      <td>S</td>\n",
       "    </tr>\n",
       "    <tr>\n",
       "      <th>1</th>\n",
       "      <td>2</td>\n",
       "      <td>1</td>\n",
       "      <td>1</td>\n",
       "      <td>Cumings, Mrs. John Bradley (Florence Briggs Th...</td>\n",
       "      <td>female</td>\n",
       "      <td>38.0</td>\n",
       "      <td>1</td>\n",
       "      <td>0</td>\n",
       "      <td>PC 17599</td>\n",
       "      <td>71.2833</td>\n",
       "      <td>C85</td>\n",
       "      <td>C</td>\n",
       "    </tr>\n",
       "    <tr>\n",
       "      <th>2</th>\n",
       "      <td>3</td>\n",
       "      <td>1</td>\n",
       "      <td>3</td>\n",
       "      <td>Heikkinen, Miss. Laina</td>\n",
       "      <td>female</td>\n",
       "      <td>26.0</td>\n",
       "      <td>0</td>\n",
       "      <td>0</td>\n",
       "      <td>STON/O2. 3101282</td>\n",
       "      <td>7.9250</td>\n",
       "      <td>NaN</td>\n",
       "      <td>S</td>\n",
       "    </tr>\n",
       "    <tr>\n",
       "      <th>3</th>\n",
       "      <td>4</td>\n",
       "      <td>1</td>\n",
       "      <td>1</td>\n",
       "      <td>Futrelle, Mrs. Jacques Heath (Lily May Peel)</td>\n",
       "      <td>female</td>\n",
       "      <td>35.0</td>\n",
       "      <td>1</td>\n",
       "      <td>0</td>\n",
       "      <td>113803</td>\n",
       "      <td>53.1000</td>\n",
       "      <td>C123</td>\n",
       "      <td>S</td>\n",
       "    </tr>\n",
       "  </tbody>\n",
       "</table>\n",
       "</div>"
      ],
      "text/plain": [
       "   PassengerId  Survived  Pclass  \\\n",
       "0            1         0       3   \n",
       "1            2         1       1   \n",
       "2            3         1       3   \n",
       "3            4         1       1   \n",
       "\n",
       "                                                Name     Sex   Age  SibSp  \\\n",
       "0                            Braund, Mr. Owen Harris    male  22.0      1   \n",
       "1  Cumings, Mrs. John Bradley (Florence Briggs Th...  female  38.0      1   \n",
       "2                             Heikkinen, Miss. Laina  female  26.0      0   \n",
       "3       Futrelle, Mrs. Jacques Heath (Lily May Peel)  female  35.0      1   \n",
       "\n",
       "   Parch            Ticket     Fare Cabin Embarked  \n",
       "0      0         A/5 21171   7.2500   NaN        S  \n",
       "1      0          PC 17599  71.2833   C85        C  \n",
       "2      0  STON/O2. 3101282   7.9250   NaN        S  \n",
       "3      0            113803  53.1000  C123        S  "
      ]
     },
     "execution_count": 45,
     "metadata": {},
     "output_type": "execute_result"
    }
   ],
   "source": [
    "import pandas as pd\n",
    "import numpy as np\n",
    "import matplotlib.pyplot as plt\n",
    "import matplotlib as mpl\n",
    "mpl.rc('font',family='Malgun Gothic')\n",
    "import seaborn as sns\n",
    "df_ROS = pd.read_csv('../../datasets/TitanicFromDisaster_train.csv')\n",
    "df_ROS.head(4)"
   ]
  },
  {
   "cell_type": "code",
   "execution_count": 46,
   "id": "d06af7b6-2d27-40d3-ba04-dfc96417dfa2",
   "metadata": {
    "tags": []
   },
   "outputs": [
    {
     "name": "stdout",
     "output_type": "stream",
     "text": [
      "<class 'pandas.core.frame.DataFrame'>\n",
      "RangeIndex: 891 entries, 0 to 890\n",
      "Data columns (total 12 columns):\n",
      " #   Column       Non-Null Count  Dtype  \n",
      "---  ------       --------------  -----  \n",
      " 0   PassengerId  891 non-null    int64  \n",
      " 1   Survived     891 non-null    int64  \n",
      " 2   Pclass       891 non-null    int64  \n",
      " 3   Name         891 non-null    object \n",
      " 4   Sex          891 non-null    object \n",
      " 5   Age          714 non-null    float64\n",
      " 6   SibSp        891 non-null    int64  \n",
      " 7   Parch        891 non-null    int64  \n",
      " 8   Ticket       891 non-null    object \n",
      " 9   Fare         891 non-null    float64\n",
      " 10  Cabin        204 non-null    object \n",
      " 11  Embarked     889 non-null    object \n",
      "dtypes: float64(2), int64(5), object(5)\n",
      "memory usage: 83.7+ KB\n"
     ]
    }
   ],
   "source": [
    "df_ROS.info()"
   ]
  },
  {
   "cell_type": "code",
   "execution_count": 47,
   "id": "065a647e-c1e2-4aff-9a5a-61283bcf5863",
   "metadata": {
    "tags": []
   },
   "outputs": [
    {
     "data": {
      "text/plain": [
       "PassengerId      0\n",
       "Survived         0\n",
       "Pclass           0\n",
       "Name             0\n",
       "Sex              0\n",
       "Age            177\n",
       "SibSp            0\n",
       "Parch            0\n",
       "Ticket           0\n",
       "Fare             0\n",
       "Cabin          687\n",
       "Embarked         2\n",
       "dtype: int64"
      ]
     },
     "execution_count": 47,
     "metadata": {},
     "output_type": "execute_result"
    }
   ],
   "source": [
    "df_ROS.isnull().sum()"
   ]
  },
  {
   "cell_type": "code",
   "execution_count": 48,
   "id": "ff11a017-12c2-4837-a3b8-b058556cdaa5",
   "metadata": {
    "tags": []
   },
   "outputs": [
    {
     "name": "stdout",
     "output_type": "stream",
     "text": [
      "<class 'pandas.core.frame.DataFrame'>\n",
      "RangeIndex: 891 entries, 0 to 890\n",
      "Data columns (total 12 columns):\n",
      " #   Column       Non-Null Count  Dtype  \n",
      "---  ------       --------------  -----  \n",
      " 0   PassengerId  891 non-null    int64  \n",
      " 1   Survived     891 non-null    object \n",
      " 2   Pclass       891 non-null    int64  \n",
      " 3   Name         891 non-null    object \n",
      " 4   Sex          891 non-null    object \n",
      " 5   Age          714 non-null    float64\n",
      " 6   SibSp        891 non-null    int64  \n",
      " 7   Parch        891 non-null    int64  \n",
      " 8   Ticket       891 non-null    object \n",
      " 9   Fare         891 non-null    float64\n",
      " 10  Cabin        204 non-null    object \n",
      " 11  Embarked     889 non-null    object \n",
      "dtypes: float64(2), int64(4), object(6)\n",
      "memory usage: 83.7+ KB\n"
     ]
    }
   ],
   "source": [
    "df_ROS['Survived']=df_ROS['Survived'].astype(object)\n",
    "df_ROS.info()"
   ]
  },
  {
   "cell_type": "code",
   "execution_count": 49,
   "id": "d321e384-4717-4c64-8665-0b914eb8427c",
   "metadata": {
    "tags": []
   },
   "outputs": [],
   "source": [
    "df_ROS = df_ROS.drop(columns = ['Cabin','Age'])"
   ]
  },
  {
   "cell_type": "code",
   "execution_count": 50,
   "id": "9f2ec8f8-91b6-4f0d-b2e8-6c1385558237",
   "metadata": {
    "tags": []
   },
   "outputs": [
    {
     "name": "stdout",
     "output_type": "stream",
     "text": [
      "<class 'pandas.core.frame.DataFrame'>\n",
      "RangeIndex: 891 entries, 0 to 890\n",
      "Data columns (total 10 columns):\n",
      " #   Column       Non-Null Count  Dtype  \n",
      "---  ------       --------------  -----  \n",
      " 0   PassengerId  891 non-null    int64  \n",
      " 1   Survived     891 non-null    object \n",
      " 2   Pclass       891 non-null    int64  \n",
      " 3   Name         891 non-null    object \n",
      " 4   Sex          891 non-null    object \n",
      " 5   SibSp        891 non-null    int64  \n",
      " 6   Parch        891 non-null    int64  \n",
      " 7   Ticket       891 non-null    object \n",
      " 8   Fare         891 non-null    float64\n",
      " 9   Embarked     889 non-null    object \n",
      "dtypes: float64(1), int64(4), object(5)\n",
      "memory usage: 69.7+ KB\n"
     ]
    }
   ],
   "source": [
    "df_ROS.info()"
   ]
  },
  {
   "cell_type": "code",
   "execution_count": 51,
   "id": "08f870ea-c548-471f-95e4-ed2bae21aba5",
   "metadata": {
    "tags": []
   },
   "outputs": [],
   "source": [
    "df_ROS = df_ROS.dropna()"
   ]
  },
  {
   "cell_type": "code",
   "execution_count": 52,
   "id": "ec2912a6-4b4d-4b9b-9f8f-c9cb2ee1d6d4",
   "metadata": {
    "tags": []
   },
   "outputs": [],
   "source": [
    "df_ROS['Pclass'] = df_ROS['Pclass'].astype(object)"
   ]
  },
  {
   "cell_type": "code",
   "execution_count": 53,
   "id": "83a23438-9360-4f28-a80c-627e94601ed6",
   "metadata": {
    "tags": []
   },
   "outputs": [
    {
     "name": "stdout",
     "output_type": "stream",
     "text": [
      "<class 'pandas.core.frame.DataFrame'>\n",
      "Int64Index: 889 entries, 0 to 890\n",
      "Data columns (total 10 columns):\n",
      " #   Column       Non-Null Count  Dtype  \n",
      "---  ------       --------------  -----  \n",
      " 0   PassengerId  889 non-null    int64  \n",
      " 1   Survived     889 non-null    object \n",
      " 2   Pclass       889 non-null    object \n",
      " 3   Name         889 non-null    object \n",
      " 4   Sex          889 non-null    object \n",
      " 5   SibSp        889 non-null    int64  \n",
      " 6   Parch        889 non-null    int64  \n",
      " 7   Ticket       889 non-null    object \n",
      " 8   Fare         889 non-null    float64\n",
      " 9   Embarked     889 non-null    object \n",
      "dtypes: float64(1), int64(3), object(6)\n",
      "memory usage: 76.4+ KB\n"
     ]
    }
   ],
   "source": [
    "df_ROS.info()"
   ]
  },
  {
   "cell_type": "markdown",
   "id": "db8ef615-2857-40e5-b0db-20cd3b058613",
   "metadata": {},
   "source": [
    "### 상관관계 확인\n",
    "- 목표변수 : 'Survived'_분포: 불균형 (연속형: 정규화 확인, 범주형: 균형 확인) \n",
    "- 설명변수 : \n",
    "    - Pclass : 등급에 따른 생존률의 관계성이 높은 것으로 보여지고, 1등석의 생존률이 높은 것으로 보인다.\n",
    "    - Sex : 성별에 따른 생존률의 관계성이 높은 것으로 보여지고 여성의 생존률이 높은 것으로 보인다.\n",
    "    - Ticket : 생존률과의 관계성을 찾아보는 것에 유의미한 분석을 할 수 없는 것으로 보인다.\n",
    "    - Fare : 높은 요금에 따른 생존률의 관계성이 높은 것으로 보여진다.\n",
    "    - Embarked : 탑승 지역에 따른 생존률 과의 관계가 높은 것으로 보여지고 Cherbourg에서 탑승한 인원이 높은 생존률을 보인다.\n",
    "    - SibSp : 형제자매간의 탑승은 생존률과의 상관관계가 낮은 것으로 보인다.\n",
    "    - Parch : 부모자식간의 탑승은 생존률과의 상관관계가 높은 것으로 보인다.\n",
    "- 분석 스토리 : 타이타닉 사고에서 높은 생존률을 가진 사람들은 높은 등급의 클래스를 구매하여 부모님과 같이 여행을 하는 것이 생존에 \n",
    "    유리 한것으로 보여진다ㅏ."
   ]
  },
  {
   "cell_type": "code",
   "execution_count": 54,
   "id": "3d1280ee-287f-45f7-b9f0-ba647785d83d",
   "metadata": {
    "tags": []
   },
   "outputs": [
    {
     "data": {
      "text/plain": [
       "['PassengerId', 'SibSp', 'Parch', 'Fare']"
      ]
     },
     "execution_count": 54,
     "metadata": {},
     "output_type": "execute_result"
    }
   ],
   "source": [
    "df_ROS_list = df_ROS.describe().columns.to_list()\n",
    "df_ROS_list"
   ]
  },
  {
   "cell_type": "code",
   "execution_count": 55,
   "id": "6b24e9f6-6e97-42c3-93cc-81f4a0759e17",
   "metadata": {
    "tags": []
   },
   "outputs": [
    {
     "data": {
      "text/plain": [
       "<Axes: xlabel='Survived', ylabel='SibSp'>"
      ]
     },
     "execution_count": 55,
     "metadata": {},
     "output_type": "execute_result"
    },
    {
     "data": {
      "image/png": "[encoded data removed]",
      "text/plain": [
       "<Figure size 640x480 with 1 Axes>"
      ]
     },
     "metadata": {},
     "output_type": "display_data"
    }
   ],
   "source": [
    "sns.boxplot(data=df_ROS, x='Survived', y='SibSp')"
   ]
  },
  {
   "cell_type": "code",
   "execution_count": 127,
   "id": "c3caf021-aa3f-4426-8a41-eb6aae11abbb",
   "metadata": {
    "tags": []
   },
   "outputs": [
    {
     "data": {
      "image/png": "[encoded data removed]",
      "text/plain": [
       "<Figure size 640x480 with 1 Axes>"
      ]
     },
     "metadata": {},
     "output_type": "display_data"
    },
    {
     "data": {
      "image/png": "[encoded data removed]",
      "text/plain": [
       "<Figure size 640x480 with 1 Axes>"
      ]
     },
     "metadata": {},
     "output_type": "display_data"
    },
    {
     "data": {
      "image/png": "[encoded data removed]",
      "text/plain": [
       "<Figure size 640x480 with 1 Axes>"
      ]
     },
     "metadata": {},
     "output_type": "display_data"
    },
    {
     "data": {
      "image/png": "[encoded data removed]",
      "text/plain": [
       "<Figure size 640x480 with 1 Axes>"
      ]
     },
     "metadata": {},
     "output_type": "display_data"
    }
   ],
   "source": [
    "for item in df_ROS_list :\n",
    "    sns.boxplot(data=df_ROS, x=item, y='Survived', orient='h')\n",
    "    plt.show()"
   ]
  },
  {
   "cell_type": "code",
   "execution_count": 70,
   "id": "3f1879f7-507f-4e6a-b0c4-215e69235eca",
   "metadata": {
    "tags": []
   },
   "outputs": [
    {
     "data": {
      "text/plain": [
       "count    843.000000\n",
       "mean      31.004339\n",
       "std       48.973300\n",
       "min        0.000000\n",
       "25%        7.895800\n",
       "50%       13.000000\n",
       "75%       29.700000\n",
       "max      512.329200\n",
       "Name: Fare, dtype: float64"
      ]
     },
     "execution_count": 70,
     "metadata": {},
     "output_type": "execute_result"
    }
   ],
   "source": [
    "df_ROS['Fare'].describe()"
   ]
  },
  {
   "cell_type": "code",
   "execution_count": 71,
   "id": "ecd18fea-244b-4680-b06c-aa156241e8df",
   "metadata": {
    "tags": []
   },
   "outputs": [
    {
     "data": {
      "text/plain": [
       "(7.8958, 29.7, 21.804199999999998)"
      ]
     },
     "execution_count": 71,
     "metadata": {},
     "output_type": "execute_result"
    }
   ],
   "source": [
    "Q1 = df_ROS['Fare'].describe()['25%']\n",
    "Q3 = df_ROS['Fare'].describe()['75%']\n",
    "IQR = Q3 - Q1\n",
    "Q1,Q3,IQR"
   ]
  },
  {
   "cell_type": "code",
   "execution_count": 73,
   "id": "1f349e9a-3641-4bf8-babb-cc0f1fdbb96b",
   "metadata": {
    "tags": []
   },
   "outputs": [
    {
     "data": {
      "text/plain": [
       "(-24.810499999999998, 62.4063)"
      ]
     },
     "execution_count": 73,
     "metadata": {},
     "output_type": "execute_result"
    }
   ],
   "source": [
    "bound_up = Q3 + 1.5 * IQR\n",
    "bound_low = Q1 - 1.5 * IQR\n",
    "bound_low,bound_up"
   ]
  },
  {
   "cell_type": "code",
   "execution_count": 74,
   "id": "7bf8ad06-4036-4957-812e-9d383691af60",
   "metadata": {
    "tags": []
   },
   "outputs": [
    {
     "data": {
      "text/plain": [
       "0       True\n",
       "1      False\n",
       "2       True\n",
       "3       True\n",
       "4       True\n",
       "       ...  \n",
       "886     True\n",
       "887     True\n",
       "888     True\n",
       "889     True\n",
       "890     True\n",
       "Name: Fare, Length: 843, dtype: bool"
      ]
     },
     "execution_count": 74,
     "metadata": {},
     "output_type": "execute_result"
    }
   ],
   "source": [
    "condition = (df_ROS['Fare'] <= bound_up) #긍정 조건 변환\n",
    "condition"
   ]
  },
  {
   "cell_type": "code",
   "execution_count": 67,
   "id": "0d56fb0d-48c6-421f-bd1c-53d22075bbd9",
   "metadata": {
    "tags": []
   },
   "outputs": [],
   "source": [
    "df_ROS_filter = df_ROS[condition]"
   ]
  },
  {
   "cell_type": "code",
   "execution_count": 77,
   "id": "2512fbb4-4f49-44b7-ae54-9f348018c35c",
   "metadata": {
    "tags": []
   },
   "outputs": [
    {
     "data": {
      "text/plain": [
       "<Axes: xlabel='Survived', ylabel='Fare'>"
      ]
     },
     "execution_count": 77,
     "metadata": {},
     "output_type": "execute_result"
    },
    {
     "data": {
      "image/png": "[encoded data removed]",
      "text/plain": [
       "<Figure size 640x480 with 1 Axes>"
      ]
     },
     "metadata": {},
     "output_type": "display_data"
    }
   ],
   "source": [
    "sns.boxplot(data=df_ROS_filter,x='Survived', y='Fare')"
   ]
  },
  {
   "cell_type": "code",
   "execution_count": 78,
   "id": "d18ee67b-d1a9-48e4-83d6-71a7e902b91f",
   "metadata": {
    "tags": []
   },
   "outputs": [
    {
     "data": {
      "text/plain": [
       "(7.885425, 25.671875, 17.786450000000002)"
      ]
     },
     "execution_count": 78,
     "metadata": {},
     "output_type": "execute_result"
    }
   ],
   "source": [
    "Q1 = df_ROS_filter['Fare'].describe()['25%']\n",
    "Q3 = df_ROS_filter['Fare'].describe()['75%']\n",
    "IQR = Q3 - Q1\n",
    "Q1,Q3,IQR"
   ]
  },
  {
   "cell_type": "code",
   "execution_count": 79,
   "id": "9d447fed-e74d-4271-8e0e-85a75ad6f751",
   "metadata": {
    "tags": []
   },
   "outputs": [
    {
     "data": {
      "text/plain": [
       "(-18.794250000000005, 52.35155)"
      ]
     },
     "execution_count": 79,
     "metadata": {},
     "output_type": "execute_result"
    }
   ],
   "source": [
    "bound_up = Q3 + 1.5 * IQR\n",
    "bound_low = Q1 - 1.5 * IQR\n",
    "bound_low,bound_up"
   ]
  },
  {
   "cell_type": "code",
   "execution_count": 82,
   "id": "6f3c8c46-1bc0-4196-b1c1-5c6d349dd587",
   "metadata": {
    "tags": []
   },
   "outputs": [
    {
     "data": {
      "text/plain": [
       "0       True\n",
       "2       True\n",
       "3      False\n",
       "4       True\n",
       "5       True\n",
       "       ...  \n",
       "886     True\n",
       "887     True\n",
       "888     True\n",
       "889     True\n",
       "890     True\n",
       "Name: Fare, Length: 736, dtype: bool"
      ]
     },
     "execution_count": 82,
     "metadata": {},
     "output_type": "execute_result"
    }
   ],
   "source": [
    "condition = (df_ROS_filter['Fare'] <= bound_up) #긍정 조건 변환\n",
    "condition"
   ]
  },
  {
   "cell_type": "code",
   "execution_count": 83,
   "id": "2dbc1f04-5428-4e6c-8532-a1a79275f132",
   "metadata": {
    "tags": []
   },
   "outputs": [],
   "source": [
    "df_ROS_refilter = df_ROS_filter[condition]"
   ]
  },
  {
   "cell_type": "code",
   "execution_count": 84,
   "id": "3b1f52cc-7cd6-4718-90a2-2f15e6f7cf40",
   "metadata": {
    "tags": []
   },
   "outputs": [
    {
     "data": {
      "text/plain": [
       "<Axes: xlabel='Survived', ylabel='Fare'>"
      ]
     },
     "execution_count": 84,
     "metadata": {},
     "output_type": "execute_result"
    },
    {
     "data": {
      "image/png": "[encoded data removed]",
      "text/plain": [
       "<Figure size 640x480 with 1 Axes>"
      ]
     },
     "metadata": {},
     "output_type": "display_data"
    }
   ],
   "source": [
    "sns.boxplot(data = df_ROS_refilter ,x='Survived', y='Fare')"
   ]
  },
  {
   "cell_type": "code",
   "execution_count": 90,
   "id": "676686db-093d-4322-ba2e-52b19dcc5c42",
   "metadata": {
    "tags": []
   },
   "outputs": [
    {
     "data": {
      "text/plain": [
       "['Pclass', 'Sex', 'Ticket', 'Embarked']"
      ]
     },
     "execution_count": 90,
     "metadata": {},
     "output_type": "execute_result"
    }
   ],
   "source": [
    "df_ROS_object_list = df_ROS.describe(include=object).drop(columns=['Survived','Name']).columns.to_list()\n",
    "df_ROS_object_list"
   ]
  },
  {
   "cell_type": "code",
   "execution_count": 129,
   "id": "4acc35d5-8a8a-49e4-9fc5-eaf01b1f9360",
   "metadata": {
    "tags": []
   },
   "outputs": [
    {
     "data": {
      "image/png": "[encoded data removed]",
      "text/plain": [
       "<Figure size 640x480 with 1 Axes>"
      ]
     },
     "metadata": {},
     "output_type": "display_data"
    },
    {
     "data": {
      "image/png": "[encoded data removed]",
      "text/plain": [
       "<Figure size 640x480 with 1 Axes>"
      ]
     },
     "metadata": {},
     "output_type": "display_data"
    },
    {
     "data": {
      "image/png": "[encoded data removed]",
      "text/plain": [
       "<Figure size 640x480 with 1 Axes>"
      ]
     },
     "metadata": {},
     "output_type": "display_data"
    },
    {
     "data": {
      "image/png": "[encoded data removed]",
      "text/plain": [
       "<Figure size 640x480 with 1 Axes>"
      ]
     },
     "metadata": {},
     "output_type": "display_data"
    }
   ],
   "source": [
    "for item in df_ROS_object_list :\n",
    "    sns.barplot(data = df_ROS ,x=item, y='Survived')\n",
    "    plt.show()"
   ]
  },
  {
   "cell_type": "code",
   "execution_count": 125,
   "id": "8764e745-0606-4b06-8fce-6a57dcdd52ec",
   "metadata": {
    "tags": []
   },
   "outputs": [
    {
     "data": {
      "text/plain": [
       "count      843\n",
       "unique     677\n",
       "top       1601\n",
       "freq         7\n",
       "Name: Ticket, dtype: object"
      ]
     },
     "execution_count": 125,
     "metadata": {},
     "output_type": "execute_result"
    }
   ],
   "source": [
    "df_ROS['Ticket'].describe()"
   ]
  },
  {
   "cell_type": "code",
   "execution_count": 131,
   "id": "3e0585dc-2e7b-4e6d-a70b-25f06e220b74",
   "metadata": {
    "tags": []
   },
   "outputs": [
    {
     "data": {
      "text/plain": [
       "<Axes: xlabel='SibSp', ylabel='count'>"
      ]
     },
     "execution_count": 131,
     "metadata": {},
     "output_type": "execute_result"
    },
    {
     "data": {
      "image/png": "[encoded data removed]",
      "text/plain": [
       "<Figure size 640x480 with 1 Axes>"
      ]
     },
     "metadata": {},
     "output_type": "display_data"
    }
   ],
   "source": [
    "sns.countplot(data=df_ROS,x='SibSp')"
   ]
  },
  {
   "cell_type": "code",
   "execution_count": 132,
   "id": "cf04672f-d3e5-417c-9400-092533d9dc8b",
   "metadata": {
    "tags": []
   },
   "outputs": [
    {
     "data": {
      "text/plain": [
       "0    606\n",
       "1    209\n",
       "2     28\n",
       "Name: SibSp, dtype: int64"
      ]
     },
     "execution_count": 132,
     "metadata": {},
     "output_type": "execute_result"
    }
   ],
   "source": [
    "df_ROS['SibSp'].value_counts()"
   ]
  },
  {
   "cell_type": "code",
   "execution_count": null,
   "id": "c43241b2-73f7-40c3-a61e-42d3c399cda7",
   "metadata": {},
   "outputs": [],
   "source": []
  }
 ],
 "metadata": {
  "kernelspec": {
   "display_name": "Python 3 (ipykernel)",
   "language": "python",
   "name": "python3"
  },
  "language_info": {
   "codemirror_mode": {
    "name": "ipython",
    "version": 3
   },
   "file_extension": ".py",
   "mimetype": "text/x-python",
   "name": "python",
   "nbconvert_exporter": "python",
   "pygments_lexer": "ipython3",
   "version": "3.11.3"
  }
 },
 "nbformat": 4,
 "nbformat_minor": 5
}
