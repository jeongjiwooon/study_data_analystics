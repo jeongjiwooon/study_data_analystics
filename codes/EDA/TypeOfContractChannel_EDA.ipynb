{
 "cells": [
  {
   "cell_type": "code",
   "execution_count": 1,
   "id": "f82d2e5b-240b-47df-b21f-5347899c46f2",
   "metadata": {
    "tags": []
   },
   "outputs": [],
   "source": [
    "import pandas as pd\n",
    "import numpy as np"
   ]
  },
  {
   "cell_type": "code",
   "execution_count": 3,
   "id": "e735d6e3-1ed8-4665-9291-f22055c89e61",
   "metadata": {
    "tags": []
   },
   "outputs": [],
   "source": [
    "import matplotlib.pyplot as plt\n",
    "import matplotlib as mpl\n",
    "mpl.rc('font',family='Malgun Gothic')\n",
    "import seaborn as sns"
   ]
  },
  {
   "cell_type": "markdown",
   "id": "17d3d30f-fe1f-4406-ad2a-3954a789e070",
   "metadata": {},
   "source": [
    "#### load dataset"
   ]
  },
  {
   "cell_type": "code",
   "execution_count": 5,
   "id": "ada63d66-2712-4fb7-b139-4c938032ba33",
   "metadata": {
    "tags": []
   },
   "outputs": [
    {
     "data": {
      "text/html": [
       "<div>\n",
       "<style scoped>\n",
       "    .dataframe tbody tr th:only-of-type {\n",
       "        vertical-align: middle;\n",
       "    }\n",
       "\n",
       "    .dataframe tbody tr th {\n",
       "        vertical-align: top;\n",
       "    }\n",
       "\n",
       "    .dataframe thead th {\n",
       "        text-align: right;\n",
       "    }\n",
       "</style>\n",
       "<table border=\"1\" class=\"dataframe\">\n",
       "  <thead>\n",
       "    <tr style=\"text-align: right;\">\n",
       "      <th></th>\n",
       "      <th>id</th>\n",
       "      <th>type_of_contract</th>\n",
       "      <th>type_of_contract2</th>\n",
       "      <th>channel</th>\n",
       "      <th>datetime</th>\n",
       "      <th>Term</th>\n",
       "      <th>payment_type</th>\n",
       "      <th>product</th>\n",
       "      <th>amount</th>\n",
       "      <th>state</th>\n",
       "      <th>overdue_count</th>\n",
       "      <th>overdue</th>\n",
       "      <th>credit rating</th>\n",
       "      <th>bank</th>\n",
       "      <th>cancellation</th>\n",
       "      <th>age</th>\n",
       "      <th>Mileage</th>\n",
       "    </tr>\n",
       "  </thead>\n",
       "  <tbody>\n",
       "    <tr>\n",
       "      <th>0</th>\n",
       "      <td>66758234</td>\n",
       "      <td>렌탈</td>\n",
       "      <td>Normal</td>\n",
       "      <td>서비스 방문</td>\n",
       "      <td>2019-10-20</td>\n",
       "      <td>60</td>\n",
       "      <td>CMS</td>\n",
       "      <td>K1</td>\n",
       "      <td>96900</td>\n",
       "      <td>계약확정</td>\n",
       "      <td>0</td>\n",
       "      <td>없음</td>\n",
       "      <td>9.0</td>\n",
       "      <td>새마을금고</td>\n",
       "      <td>정상</td>\n",
       "      <td>43.0</td>\n",
       "      <td>1862.0</td>\n",
       "    </tr>\n",
       "    <tr>\n",
       "      <th>1</th>\n",
       "      <td>66755948</td>\n",
       "      <td>렌탈</td>\n",
       "      <td>Extension_Rental</td>\n",
       "      <td>서비스 방문</td>\n",
       "      <td>2019-10-20</td>\n",
       "      <td>60</td>\n",
       "      <td>카드이체</td>\n",
       "      <td>K1</td>\n",
       "      <td>102900</td>\n",
       "      <td>계약확정</td>\n",
       "      <td>0</td>\n",
       "      <td>없음</td>\n",
       "      <td>2.0</td>\n",
       "      <td>현대카드</td>\n",
       "      <td>정상</td>\n",
       "      <td>62.0</td>\n",
       "      <td>2532.0</td>\n",
       "    </tr>\n",
       "    <tr>\n",
       "      <th>2</th>\n",
       "      <td>66756657</td>\n",
       "      <td>렌탈</td>\n",
       "      <td>Normal</td>\n",
       "      <td>홈쇼핑/방송</td>\n",
       "      <td>2019-10-20</td>\n",
       "      <td>60</td>\n",
       "      <td>CMS</td>\n",
       "      <td>K1</td>\n",
       "      <td>96900</td>\n",
       "      <td>계약확정</td>\n",
       "      <td>0</td>\n",
       "      <td>없음</td>\n",
       "      <td>8.0</td>\n",
       "      <td>우리은행</td>\n",
       "      <td>정상</td>\n",
       "      <td>60.0</td>\n",
       "      <td>2363.0</td>\n",
       "    </tr>\n",
       "  </tbody>\n",
       "</table>\n",
       "</div>"
      ],
      "text/plain": [
       "         id type_of_contract type_of_contract2 channel    datetime  Term  \\\n",
       "0  66758234               렌탈            Normal  서비스 방문  2019-10-20    60   \n",
       "1  66755948               렌탈  Extension_Rental  서비스 방문  2019-10-20    60   \n",
       "2  66756657               렌탈            Normal  홈쇼핑/방송  2019-10-20    60   \n",
       "\n",
       "  payment_type product  amount state  overdue_count overdue  credit rating  \\\n",
       "0          CMS      K1   96900  계약확정              0      없음            9.0   \n",
       "1         카드이체      K1  102900  계약확정              0      없음            2.0   \n",
       "2          CMS      K1   96900  계약확정              0      없음            8.0   \n",
       "\n",
       "    bank cancellation   age  Mileage  \n",
       "0  새마을금고           정상  43.0   1862.0  \n",
       "1   현대카드           정상  62.0   2532.0  \n",
       "2   우리은행           정상  60.0   2363.0  "
      ]
     },
     "execution_count": 5,
     "metadata": {},
     "output_type": "execute_result"
    }
   ],
   "source": [
    "df_TOCC = pd.read_csv('../../datasets/TypeOfContractChannel.csv')\n",
    "df_TOCC[:3]"
   ]
  },
  {
   "cell_type": "markdown",
   "id": "a620dc47-2a18-44cc-ac8c-5fffa8090bf1",
   "metadata": {},
   "source": [
    "### 분석 대상\n",
    " ⇒ 궁금한 점: 한 건의 거래 내역당 영향 준 변수는 무엇일까?\n",
    "- 목표 변수: amount \n",
    "- 설명 변수: 'type_of_contract','datetime', 'product', 'age'"
   ]
  },
  {
   "cell_type": "code",
   "execution_count": 6,
   "id": "642f3af6-58f7-4b8a-b250-0d252b48a7ed",
   "metadata": {},
   "outputs": [
    {
     "data": {
      "text/plain": [
       "Index(['id', 'type_of_contract', 'type_of_contract2', 'channel', 'datetime',\n",
       "       'Term', 'payment_type', 'product', 'amount', 'state', 'overdue_count',\n",
       "       'overdue', 'credit rating', 'bank', 'cancellation', 'age', 'Mileage'],\n",
       "      dtype='object')"
      ]
     },
     "execution_count": 6,
     "metadata": {},
     "output_type": "execute_result"
    }
   ],
   "source": [
    "df_TOCC.columns"
   ]
  },
  {
   "cell_type": "markdown",
   "id": "c6f7248d-5039-4949-9f86-69cde5326818",
   "metadata": {},
   "source": [
    "### 1. EDA 전략"
   ]
  },
  {
   "cell_type": "markdown",
   "id": "933917f9-57d6-4d1c-9bbb-9e09b1f11590",
   "metadata": {},
   "source": [
    "#### 해당 변수(목표 변수와 설명 변수) 선택\n",
    "    - 이상치와 결측치 처리\n",
    "    "
   ]
  },
  {
   "cell_type": "code",
   "execution_count": 10,
   "id": "c88243dd-1649-4ddd-a8a9-0cfd9a2d617d",
   "metadata": {
    "tags": []
   },
   "outputs": [
    {
     "data": {
      "text/html": [
       "<div>\n",
       "<style scoped>\n",
       "    .dataframe tbody tr th:only-of-type {\n",
       "        vertical-align: middle;\n",
       "    }\n",
       "\n",
       "    .dataframe tbody tr th {\n",
       "        vertical-align: top;\n",
       "    }\n",
       "\n",
       "    .dataframe thead th {\n",
       "        text-align: right;\n",
       "    }\n",
       "</style>\n",
       "<table border=\"1\" class=\"dataframe\">\n",
       "  <thead>\n",
       "    <tr style=\"text-align: right;\">\n",
       "      <th></th>\n",
       "      <th>type_of_contract</th>\n",
       "      <th>datetime</th>\n",
       "      <th>product</th>\n",
       "      <th>amount</th>\n",
       "      <th>age</th>\n",
       "    </tr>\n",
       "  </thead>\n",
       "  <tbody>\n",
       "    <tr>\n",
       "      <th>0</th>\n",
       "      <td>렌탈</td>\n",
       "      <td>2019-10-20</td>\n",
       "      <td>K1</td>\n",
       "      <td>96900</td>\n",
       "      <td>43.0</td>\n",
       "    </tr>\n",
       "    <tr>\n",
       "      <th>1</th>\n",
       "      <td>렌탈</td>\n",
       "      <td>2019-10-20</td>\n",
       "      <td>K1</td>\n",
       "      <td>102900</td>\n",
       "      <td>62.0</td>\n",
       "    </tr>\n",
       "  </tbody>\n",
       "</table>\n",
       "</div>"
      ],
      "text/plain": [
       "  type_of_contract    datetime product  amount   age\n",
       "0               렌탈  2019-10-20      K1   96900  43.0\n",
       "1               렌탈  2019-10-20      K1  102900  62.0"
      ]
     },
     "execution_count": 10,
     "metadata": {},
     "output_type": "execute_result"
    }
   ],
   "source": [
    "df_TOCC[['type_of_contract','datetime', 'product', 'amount', 'age']].iloc[:2]"
   ]
  },
  {
   "cell_type": "code",
   "execution_count": 11,
   "id": "e183588a-1592-41ce-a56b-72cddbbbf66c",
   "metadata": {
    "tags": []
   },
   "outputs": [
    {
     "data": {
      "text/html": [
       "<div>\n",
       "<style scoped>\n",
       "    .dataframe tbody tr th:only-of-type {\n",
       "        vertical-align: middle;\n",
       "    }\n",
       "\n",
       "    .dataframe tbody tr th {\n",
       "        vertical-align: top;\n",
       "    }\n",
       "\n",
       "    .dataframe thead th {\n",
       "        text-align: right;\n",
       "    }\n",
       "</style>\n",
       "<table border=\"1\" class=\"dataframe\">\n",
       "  <thead>\n",
       "    <tr style=\"text-align: right;\">\n",
       "      <th></th>\n",
       "      <th>type_of_contract</th>\n",
       "      <th>datetime</th>\n",
       "      <th>product</th>\n",
       "      <th>amount</th>\n",
       "      <th>age</th>\n",
       "    </tr>\n",
       "  </thead>\n",
       "  <tbody>\n",
       "    <tr>\n",
       "      <th>0</th>\n",
       "      <td>렌탈</td>\n",
       "      <td>2019-10-20</td>\n",
       "      <td>K1</td>\n",
       "      <td>96900</td>\n",
       "      <td>43.0</td>\n",
       "    </tr>\n",
       "    <tr>\n",
       "      <th>1</th>\n",
       "      <td>렌탈</td>\n",
       "      <td>2019-10-20</td>\n",
       "      <td>K1</td>\n",
       "      <td>102900</td>\n",
       "      <td>62.0</td>\n",
       "    </tr>\n",
       "  </tbody>\n",
       "</table>\n",
       "</div>"
      ],
      "text/plain": [
       "  type_of_contract    datetime product  amount   age\n",
       "0               렌탈  2019-10-20      K1   96900  43.0\n",
       "1               렌탈  2019-10-20      K1  102900  62.0"
      ]
     },
     "execution_count": 11,
     "metadata": {},
     "output_type": "execute_result"
    }
   ],
   "source": [
    "df_TOCC_choose = df_TOCC[['type_of_contract','datetime', 'product', 'amount', 'age']]\n",
    "df_TOCC_choose[:2]"
   ]
  },
  {
   "cell_type": "code",
   "execution_count": 14,
   "id": "b6588273-e3b9-4e4b-8ff2-a3a79b0b4b90",
   "metadata": {
    "tags": []
   },
   "outputs": [
    {
     "data": {
      "text/plain": [
       "type_of_contract        4\n",
       "datetime                0\n",
       "product                 1\n",
       "amount                  0\n",
       "age                 10795\n",
       "dtype: int64"
      ]
     },
     "execution_count": 14,
     "metadata": {},
     "output_type": "execute_result"
    }
   ],
   "source": [
    "# df_TOCC_choose.info()\n",
    "## isnull().sum()을 통해 null 값이 얼마나 빠져있는지 확인할것. \n",
    "df_TOCC_choose.isnull().sum()"
   ]
  },
  {
   "cell_type": "code",
   "execution_count": 20,
   "id": "ce3d21f9-d727-400e-83c7-75762a8faec6",
   "metadata": {
    "tags": []
   },
   "outputs": [
    {
     "data": {
      "text/plain": [
       "type_of_contract    0\n",
       "datetime            0\n",
       "product             0\n",
       "amount              0\n",
       "age                 0\n",
       "dtype: int64"
      ]
     },
     "execution_count": 20,
     "metadata": {},
     "output_type": "execute_result"
    }
   ],
   "source": [
    "## 일단 null 값은 drop 시키는걸로 결정\n",
    "# df_TOCC_choose = df_TOCC_choose.dropna()\n",
    "df_TOCC_choose.isnull().sum()"
   ]
  },
  {
   "cell_type": "markdown",
   "id": "1e99eb5e-9521-46de-a0eb-14b33a84492c",
   "metadata": {
    "tags": []
   },
   "source": [
    "####범주형과 연속형(순서형)으로 dtype 변형"
   ]
  },
  {
   "cell_type": "code",
   "execution_count": 22,
   "id": "41f83ba3-c9d4-4fd7-b3be-0a64db93119c",
   "metadata": {
    "tags": []
   },
   "outputs": [],
   "source": [
    "# datetime을 datetime으로 바꾸기\n",
    "df_TOCC_choose['datetime'] = pd.to_datetime(df_TOCC_choose['datetime'])"
   ]
  },
  {
   "cell_type": "code",
   "execution_count": 23,
   "id": "73306611-540e-4b80-8cea-5cb94d34c919",
   "metadata": {
    "tags": []
   },
   "outputs": [
    {
     "data": {
      "text/plain": [
       "type_of_contract            object\n",
       "datetime            datetime64[ns]\n",
       "product                     object\n",
       "amount                       int64\n",
       "age                        float64\n",
       "dtype: object"
      ]
     },
     "execution_count": 23,
     "metadata": {},
     "output_type": "execute_result"
    }
   ],
   "source": [
    "df_TOCC_choose.dtypes"
   ]
  },
  {
   "cell_type": "code",
   "execution_count": 24,
   "id": "6755667c-5b6a-4f05-abc7-0c83ce1a8a9e",
   "metadata": {
    "tags": []
   },
   "outputs": [
    {
     "data": {
      "text/html": [
       "<div>\n",
       "<style scoped>\n",
       "    .dataframe tbody tr th:only-of-type {\n",
       "        vertical-align: middle;\n",
       "    }\n",
       "\n",
       "    .dataframe tbody tr th {\n",
       "        vertical-align: top;\n",
       "    }\n",
       "\n",
       "    .dataframe thead th {\n",
       "        text-align: right;\n",
       "    }\n",
       "</style>\n",
       "<table border=\"1\" class=\"dataframe\">\n",
       "  <thead>\n",
       "    <tr style=\"text-align: right;\">\n",
       "      <th></th>\n",
       "      <th>amount</th>\n",
       "      <th>age</th>\n",
       "    </tr>\n",
       "  </thead>\n",
       "  <tbody>\n",
       "    <tr>\n",
       "      <th>count</th>\n",
       "      <td>40505.000000</td>\n",
       "      <td>40505.000000</td>\n",
       "    </tr>\n",
       "    <tr>\n",
       "      <th>mean</th>\n",
       "      <td>94919.192174</td>\n",
       "      <td>46.608098</td>\n",
       "    </tr>\n",
       "    <tr>\n",
       "      <th>std</th>\n",
       "      <td>12618.603722</td>\n",
       "      <td>13.466188</td>\n",
       "    </tr>\n",
       "    <tr>\n",
       "      <th>min</th>\n",
       "      <td>55200.000000</td>\n",
       "      <td>20.000000</td>\n",
       "    </tr>\n",
       "    <tr>\n",
       "      <th>25%</th>\n",
       "      <td>87900.000000</td>\n",
       "      <td>37.000000</td>\n",
       "    </tr>\n",
       "    <tr>\n",
       "      <th>50%</th>\n",
       "      <td>96900.000000</td>\n",
       "      <td>46.000000</td>\n",
       "    </tr>\n",
       "    <tr>\n",
       "      <th>75%</th>\n",
       "      <td>98400.000000</td>\n",
       "      <td>56.000000</td>\n",
       "    </tr>\n",
       "    <tr>\n",
       "      <th>max</th>\n",
       "      <td>215700.000000</td>\n",
       "      <td>107.000000</td>\n",
       "    </tr>\n",
       "  </tbody>\n",
       "</table>\n",
       "</div>"
      ],
      "text/plain": [
       "              amount           age\n",
       "count   40505.000000  40505.000000\n",
       "mean    94919.192174     46.608098\n",
       "std     12618.603722     13.466188\n",
       "min     55200.000000     20.000000\n",
       "25%     87900.000000     37.000000\n",
       "50%     96900.000000     46.000000\n",
       "75%     98400.000000     56.000000\n",
       "max    215700.000000    107.000000"
      ]
     },
     "execution_count": 24,
     "metadata": {},
     "output_type": "execute_result"
    }
   ],
   "source": [
    "df_TOCC_choose.describe()"
   ]
  },
  {
   "cell_type": "code",
   "execution_count": 30,
   "id": "daaab450-7c1e-4131-b864-e1d6144d82b0",
   "metadata": {
    "collapsed": true,
    "jupyter": {
     "outputs_hidden": true
    },
    "tags": []
   },
   "outputs": [
    {
     "name": "stderr",
     "output_type": "stream",
     "text": [
      "C:\\Users\\01-15\\AppData\\Local\\Temp\\ipykernel_960\\2768377583.py:1: FutureWarning: Treating datetime data as categorical rather than numeric in `.describe` is deprecated and will be removed in a future version of pandas. Specify `datetime_is_numeric=True` to silence this warning and adopt the future behavior now.\n",
      "  df_TOCC_choose.describe(include='all')\n"
     ]
    },
    {
     "data": {
      "text/html": [
       "<div>\n",
       "<style scoped>\n",
       "    .dataframe tbody tr th:only-of-type {\n",
       "        vertical-align: middle;\n",
       "    }\n",
       "\n",
       "    .dataframe tbody tr th {\n",
       "        vertical-align: top;\n",
       "    }\n",
       "\n",
       "    .dataframe thead th {\n",
       "        text-align: right;\n",
       "    }\n",
       "</style>\n",
       "<table border=\"1\" class=\"dataframe\">\n",
       "  <thead>\n",
       "    <tr style=\"text-align: right;\">\n",
       "      <th></th>\n",
       "      <th>type_of_contract</th>\n",
       "      <th>datetime</th>\n",
       "      <th>product</th>\n",
       "      <th>amount</th>\n",
       "      <th>age</th>\n",
       "    </tr>\n",
       "  </thead>\n",
       "  <tbody>\n",
       "    <tr>\n",
       "      <th>count</th>\n",
       "      <td>40505</td>\n",
       "      <td>40505</td>\n",
       "      <td>40505</td>\n",
       "      <td>40505.000000</td>\n",
       "      <td>40505.000000</td>\n",
       "    </tr>\n",
       "    <tr>\n",
       "      <th>unique</th>\n",
       "      <td>2</td>\n",
       "      <td>101</td>\n",
       "      <td>6</td>\n",
       "      <td>NaN</td>\n",
       "      <td>NaN</td>\n",
       "    </tr>\n",
       "    <tr>\n",
       "      <th>top</th>\n",
       "      <td>렌탈</td>\n",
       "      <td>2019-10-25 00:00:00</td>\n",
       "      <td>K1</td>\n",
       "      <td>NaN</td>\n",
       "      <td>NaN</td>\n",
       "    </tr>\n",
       "    <tr>\n",
       "      <th>freq</th>\n",
       "      <td>38449</td>\n",
       "      <td>702</td>\n",
       "      <td>30135</td>\n",
       "      <td>NaN</td>\n",
       "      <td>NaN</td>\n",
       "    </tr>\n",
       "    <tr>\n",
       "      <th>first</th>\n",
       "      <td>NaN</td>\n",
       "      <td>2019-10-20 00:00:00</td>\n",
       "      <td>NaN</td>\n",
       "      <td>NaN</td>\n",
       "      <td>NaN</td>\n",
       "    </tr>\n",
       "    <tr>\n",
       "      <th>last</th>\n",
       "      <td>NaN</td>\n",
       "      <td>2020-02-03 00:00:00</td>\n",
       "      <td>NaN</td>\n",
       "      <td>NaN</td>\n",
       "      <td>NaN</td>\n",
       "    </tr>\n",
       "    <tr>\n",
       "      <th>mean</th>\n",
       "      <td>NaN</td>\n",
       "      <td>NaN</td>\n",
       "      <td>NaN</td>\n",
       "      <td>94919.192174</td>\n",
       "      <td>46.608098</td>\n",
       "    </tr>\n",
       "    <tr>\n",
       "      <th>std</th>\n",
       "      <td>NaN</td>\n",
       "      <td>NaN</td>\n",
       "      <td>NaN</td>\n",
       "      <td>12618.603722</td>\n",
       "      <td>13.466188</td>\n",
       "    </tr>\n",
       "    <tr>\n",
       "      <th>min</th>\n",
       "      <td>NaN</td>\n",
       "      <td>NaN</td>\n",
       "      <td>NaN</td>\n",
       "      <td>55200.000000</td>\n",
       "      <td>20.000000</td>\n",
       "    </tr>\n",
       "    <tr>\n",
       "      <th>25%</th>\n",
       "      <td>NaN</td>\n",
       "      <td>NaN</td>\n",
       "      <td>NaN</td>\n",
       "      <td>87900.000000</td>\n",
       "      <td>37.000000</td>\n",
       "    </tr>\n",
       "    <tr>\n",
       "      <th>50%</th>\n",
       "      <td>NaN</td>\n",
       "      <td>NaN</td>\n",
       "      <td>NaN</td>\n",
       "      <td>96900.000000</td>\n",
       "      <td>46.000000</td>\n",
       "    </tr>\n",
       "    <tr>\n",
       "      <th>75%</th>\n",
       "      <td>NaN</td>\n",
       "      <td>NaN</td>\n",
       "      <td>NaN</td>\n",
       "      <td>98400.000000</td>\n",
       "      <td>56.000000</td>\n",
       "    </tr>\n",
       "    <tr>\n",
       "      <th>max</th>\n",
       "      <td>NaN</td>\n",
       "      <td>NaN</td>\n",
       "      <td>NaN</td>\n",
       "      <td>215700.000000</td>\n",
       "      <td>107.000000</td>\n",
       "    </tr>\n",
       "  </tbody>\n",
       "</table>\n",
       "</div>"
      ],
      "text/plain": [
       "       type_of_contract             datetime product         amount  \\\n",
       "count             40505                40505   40505   40505.000000   \n",
       "unique                2                  101       6            NaN   \n",
       "top                  렌탈  2019-10-25 00:00:00      K1            NaN   \n",
       "freq              38449                  702   30135            NaN   \n",
       "first               NaN  2019-10-20 00:00:00     NaN            NaN   \n",
       "last                NaN  2020-02-03 00:00:00     NaN            NaN   \n",
       "mean                NaN                  NaN     NaN   94919.192174   \n",
       "std                 NaN                  NaN     NaN   12618.603722   \n",
       "min                 NaN                  NaN     NaN   55200.000000   \n",
       "25%                 NaN                  NaN     NaN   87900.000000   \n",
       "50%                 NaN                  NaN     NaN   96900.000000   \n",
       "75%                 NaN                  NaN     NaN   98400.000000   \n",
       "max                 NaN                  NaN     NaN  215700.000000   \n",
       "\n",
       "                 age  \n",
       "count   40505.000000  \n",
       "unique           NaN  \n",
       "top              NaN  \n",
       "freq             NaN  \n",
       "first            NaN  \n",
       "last             NaN  \n",
       "mean       46.608098  \n",
       "std        13.466188  \n",
       "min        20.000000  \n",
       "25%        37.000000  \n",
       "50%        46.000000  \n",
       "75%        56.000000  \n",
       "max       107.000000  "
      ]
     },
     "execution_count": 30,
     "metadata": {},
     "output_type": "execute_result"
    }
   ],
   "source": [
    "df_TOCC_choose.describe(include='all')"
   ]
  },
  {
   "cell_type": "markdown",
   "id": "114ef343-3507-4c6a-be10-fe762802065d",
   "metadata": {},
   "source": [
    "#### 변수간의 상관성 확인\n",
    "    - 목표 변수: 정규화 여부 판단\n",
    "    - 목표 변수와 각 설명 변수 간에 관계 확인"
   ]
  },
  {
   "cell_type": "code",
   "execution_count": 35,
   "id": "832dde61-8c58-492d-bb92-564a2813a85b",
   "metadata": {
    "tags": []
   },
   "outputs": [
    {
     "data": {
      "text/plain": [
       "<Axes: xlabel='amount', ylabel='Count'>"
      ]
     },
     "execution_count": 35,
     "metadata": {},
     "output_type": "execute_result"
    },
    {
     "data": {
      "image/png": "[encoded data removed]",
      "text/plain": [
       "<Figure size 640x480 with 1 Axes>"
      ]
     },
     "metadata": {},
     "output_type": "display_data"
    }
   ],
   "source": [
    "# 먼저 단일변수로 목표변수 확인해보기\n",
    "sns.histplot(data=df_TOCC_choose, x='amount', kde=True)\n",
    "## 일단 모양은 비정규분포처럼 보임_여기선 판별이 불가능 > 추후 검증 필요"
   ]
  },
  {
   "cell_type": "markdown",
   "id": "fb7a7882-5ad4-4ece-acac-a6c080d35f49",
   "metadata": {},
   "source": [
    "## 연속형/연속형 일때\n",
    "⇒ 상관관계 corr() correlation 먼저 확인하기"
   ]
  },
  {
   "cell_type": "code",
   "execution_count": 37,
   "id": "87d691e3-f49a-456a-9e6f-eb78680f00a3",
   "metadata": {
    "tags": []
   },
   "outputs": [
    {
     "name": "stderr",
     "output_type": "stream",
     "text": [
      "C:\\Users\\01-15\\AppData\\Local\\Temp\\ipykernel_960\\3286698209.py:1: FutureWarning: The default value of numeric_only in DataFrame.corr is deprecated. In a future version, it will default to False. Select only valid columns or specify the value of numeric_only to silence this warning.\n",
      "  df_TOCC_choose.corr()\n"
     ]
    },
    {
     "data": {
      "text/html": [
       "<div>\n",
       "<style scoped>\n",
       "    .dataframe tbody tr th:only-of-type {\n",
       "        vertical-align: middle;\n",
       "    }\n",
       "\n",
       "    .dataframe tbody tr th {\n",
       "        vertical-align: top;\n",
       "    }\n",
       "\n",
       "    .dataframe thead th {\n",
       "        text-align: right;\n",
       "    }\n",
       "</style>\n",
       "<table border=\"1\" class=\"dataframe\">\n",
       "  <thead>\n",
       "    <tr style=\"text-align: right;\">\n",
       "      <th></th>\n",
       "      <th>amount</th>\n",
       "      <th>age</th>\n",
       "    </tr>\n",
       "  </thead>\n",
       "  <tbody>\n",
       "    <tr>\n",
       "      <th>amount</th>\n",
       "      <td>1.000000</td>\n",
       "      <td>-0.003539</td>\n",
       "    </tr>\n",
       "    <tr>\n",
       "      <th>age</th>\n",
       "      <td>-0.003539</td>\n",
       "      <td>1.000000</td>\n",
       "    </tr>\n",
       "  </tbody>\n",
       "</table>\n",
       "</div>"
      ],
      "text/plain": [
       "          amount       age\n",
       "amount  1.000000 -0.003539\n",
       "age    -0.003539  1.000000"
      ]
     },
     "execution_count": 37,
     "metadata": {},
     "output_type": "execute_result"
    }
   ],
   "source": [
    "df_TOCC_choose.corr() ## 관계성이 있을 경우 pairplot()"
   ]
  },
  {
   "cell_type": "markdown",
   "id": "0f78f936-ac87-4497-86af-9e99bf4ccee3",
   "metadata": {},
   "source": [
    "### 범주형 /연속형\n",
    "⇒ 최상 or 최하 해당하는 개수 선택\n",
    "  = 항목 중에 영향을 주는 것을 선택\n",
    "  ** 이때 각 변수 안에는 항목 2개 이상이 필요함. "
   ]
  },
  {
   "cell_type": "code",
   "execution_count": 39,
   "id": "fc7b37b8-7480-4815-b026-3870b20e8ec1",
   "metadata": {
    "tags": []
   },
   "outputs": [
    {
     "data": {
      "text/plain": [
       "<Axes: xlabel='type_of_contract', ylabel='amount'>"
      ]
     },
     "execution_count": 39,
     "metadata": {},
     "output_type": "execute_result"
    },
    {
     "data": {
      "image/png": "[encoded data removed]",
      "text/plain": [
       "<Figure size 640x480 with 1 Axes>"
      ]
     },
     "metadata": {},
     "output_type": "display_data"
    }
   ],
   "source": [
    "## 범주_type_of_contract, 연속형 : 범주형에 2개 존재. \n",
    "sns.barplot(data=df_TOCC_choose, x='type_of_contract', y='amount')"
   ]
  },
  {
   "cell_type": "code",
   "execution_count": 41,
   "id": "17174baf-66f6-470f-879a-ad4bfbcb4121",
   "metadata": {
    "tags": []
   },
   "outputs": [
    {
     "data": {
      "text/plain": [
       "<Axes: xlabel='product', ylabel='amount'>"
      ]
     },
     "execution_count": 41,
     "metadata": {},
     "output_type": "execute_result"
    },
    {
     "data": {
      "image/png": "[encoded data removed]",
      "text/plain": [
       "<Figure size 640x480 with 1 Axes>"
      ]
     },
     "metadata": {},
     "output_type": "display_data"
    }
   ],
   "source": [
    "## 범주_product, 연속형 : 범주형에 6개 존재. 이 중에 기준을 정해서 변수의 항목을 선택하면 됨. \n",
    "#### 여기서 상위 2개만 추출. 이때는 condition을 이용해서 걸러낼수있다. \n",
    "sns.barplot(data=df_TOCC_choose, x='product', y='amount')"
   ]
  },
  {
   "cell_type": "code",
   "execution_count": 57,
   "id": "497ff272-173c-4ee6-82ec-a4c63b100e8e",
   "metadata": {
    "tags": []
   },
   "outputs": [
    {
     "data": {
      "text/html": [
       "<div>\n",
       "<style scoped>\n",
       "    .dataframe tbody tr th:only-of-type {\n",
       "        vertical-align: middle;\n",
       "    }\n",
       "\n",
       "    .dataframe tbody tr th {\n",
       "        vertical-align: top;\n",
       "    }\n",
       "\n",
       "    .dataframe thead th {\n",
       "        text-align: right;\n",
       "    }\n",
       "</style>\n",
       "<table border=\"1\" class=\"dataframe\">\n",
       "  <thead>\n",
       "    <tr style=\"text-align: right;\">\n",
       "      <th></th>\n",
       "      <th>type_of_contract</th>\n",
       "      <th>datetime</th>\n",
       "      <th>product</th>\n",
       "      <th>amount</th>\n",
       "      <th>age</th>\n",
       "    </tr>\n",
       "  </thead>\n",
       "  <tbody>\n",
       "    <tr>\n",
       "      <th>58</th>\n",
       "      <td>렌탈</td>\n",
       "      <td>2019-10-21</td>\n",
       "      <td>K4</td>\n",
       "      <td>126900</td>\n",
       "      <td>28.0</td>\n",
       "    </tr>\n",
       "    <tr>\n",
       "      <th>110</th>\n",
       "      <td>렌탈</td>\n",
       "      <td>2019-10-21</td>\n",
       "      <td>K4</td>\n",
       "      <td>125700</td>\n",
       "      <td>23.0</td>\n",
       "    </tr>\n",
       "    <tr>\n",
       "      <th>156</th>\n",
       "      <td>렌탈</td>\n",
       "      <td>2019-10-21</td>\n",
       "      <td>K4</td>\n",
       "      <td>125700</td>\n",
       "      <td>41.0</td>\n",
       "    </tr>\n",
       "  </tbody>\n",
       "</table>\n",
       "</div>"
      ],
      "text/plain": [
       "    type_of_contract   datetime product  amount   age\n",
       "58                렌탈 2019-10-21      K4  126900  28.0\n",
       "110               렌탈 2019-10-21      K4  125700  23.0\n",
       "156               렌탈 2019-10-21      K4  125700  41.0"
      ]
     },
     "execution_count": 57,
     "metadata": {},
     "output_type": "execute_result"
    }
   ],
   "source": [
    "## 변수 안에 있는 원하는 항목 필터링_ 이때 이건 product의 평균의 TOP3를 걸러내는것임. \n",
    "conditions = (df_TOCC_choose['product'] == 'K4') | (df_TOCC_choose['product'] == 'K5') | (df_TOCC_choose['product'] == 'K6')\n",
    "df_TOCC_choose_product = df_TOCC_choose.loc[conditions]\n",
    "df_TOCC_choose_product[:3]"
   ]
  },
  {
   "cell_type": "code",
   "execution_count": 58,
   "id": "a48dc2fe-2bf3-4462-a2fa-390a3691cc56",
   "metadata": {
    "tags": []
   },
   "outputs": [
    {
     "data": {
      "text/plain": [
       "<Axes: xlabel='product', ylabel='amount'>"
      ]
     },
     "execution_count": 58,
     "metadata": {},
     "output_type": "execute_result"
    },
    {
     "data": {
      "image/png": "[encoded data removed]",
      "text/plain": [
       "<Figure size 640x480 with 1 Axes>"
      ]
     },
     "metadata": {},
     "output_type": "display_data"
    }
   ],
   "source": [
    "sns.barplot(data=df_TOCC_choose_product, x='product', y='amount')"
   ]
  },
  {
   "cell_type": "code",
   "execution_count": 59,
   "id": "ebebf688-b91a-447c-9b40-207b6fada43b",
   "metadata": {
    "tags": []
   },
   "outputs": [
    {
     "data": {
      "text/plain": [
       "<Axes: xlabel='datetime', ylabel='amount'>"
      ]
     },
     "execution_count": 59,
     "metadata": {},
     "output_type": "execute_result"
    },
    {
     "data": {
      "image/png": "[encoded data removed]",
      "text/plain": [
       "<Figure size 640x480 with 1 Axes>"
      ]
     },
     "metadata": {},
     "output_type": "display_data"
    }
   ],
   "source": [
    "## 순서형 /연속형\n",
    "sns.lineplot(data=df_TOCC_choose_product, x='datetime', y='amount')"
   ]
  },
  {
   "cell_type": "code",
   "execution_count": 69,
   "id": "9810b417-d912-4ddf-a43d-114079824d88",
   "metadata": {
    "tags": []
   },
   "outputs": [
    {
     "name": "stderr",
     "output_type": "stream",
     "text": [
      "C:\\Users\\01-15\\AppData\\Local\\Temp\\ipykernel_960\\3244256561.py:3: SettingWithCopyWarning: \n",
      "A value is trying to be set on a copy of a slice from a DataFrame.\n",
      "Try using .loc[row_indexer,col_indexer] = value instead\n",
      "\n",
      "See the caveats in the documentation: https://pandas.pydata.org/pandas-docs/stable/user_guide/indexing.html#returning-a-view-versus-a-copy\n",
      "  df_TOCC_choose_product['day_name']= df_TOCC_choose_product['datetime'].dt.day_name()\n"
     ]
    },
    {
     "data": {
      "text/plain": [
       "Thursday     177\n",
       "Friday       170\n",
       "Wednesday    157\n",
       "Tuesday      156\n",
       "Monday       149\n",
       "Sunday       136\n",
       "Saturday       5\n",
       "Name: day_name, dtype: int64"
      ]
     },
     "execution_count": 69,
     "metadata": {},
     "output_type": "execute_result"
    }
   ],
   "source": [
    "## 요일별로\n",
    "#### .loc[]: column이 없는 경우, 있는 경우 []\n",
    "df_TOCC_choose_product['day_name']= df_TOCC_choose_product['datetime'].dt.day_name()\n",
    "df_TOCC_choose_product['day_name'].value_counts()"
   ]
  },
  {
   "cell_type": "code",
   "execution_count": 70,
   "id": "919f114e-ac30-447c-aa16-6b2d7dc4bd1c",
   "metadata": {
    "tags": []
   },
   "outputs": [
    {
     "data": {
      "text/plain": [
       "<Axes: xlabel='day_name', ylabel='amount'>"
      ]
     },
     "execution_count": 70,
     "metadata": {},
     "output_type": "execute_result"
    },
    {
     "data": {
      "image/png": "[encoded data removed]",
      "text/plain": [
       "<Figure size 640x480 with 1 Axes>"
      ]
     },
     "metadata": {},
     "output_type": "display_data"
    }
   ],
   "source": [
    "## 위의 요일별로 나눠버리면 범주형 / 연속형\n",
    "sns.barplot(data=df_TOCC_choose_product, x='day_name', y='amount')"
   ]
  },
  {
   "cell_type": "markdown",
   "id": "c7399202-4083-4478-884c-7baf20ee7dc4",
   "metadata": {},
   "source": [
    "#### 보고서\n",
    "    → 변수간 상관성 확인검증 여부\n",
    "        1. 목표 변수 : 비정규 분포 형태를 띔\n",
    "        2. 설명 변수 \n",
    "            - type_of_contract: 범주형, 2개 항목\n",
    "            - product: 범주형, 6개 항목_평균 top 3개 항목\n",
    "            - age: 연속형, 상관계수: -0.003539 < 0.5보다? 작아서 설명 변수 채택 어려움. \n",
    "            - datetime: 순서형, 분포 특성상 요일별로 변환. \n",
    "            - day_name: 요일별 분석 위한 컬럼 추가"
   ]
  },
  {
   "cell_type": "code",
   "execution_count": null,
   "id": "300fe845-a0d4-452c-9968-0486779583ff",
   "metadata": {},
   "outputs": [],
   "source": []
  }
 ],
 "metadata": {
  "kernelspec": {
   "display_name": "Python 3 (ipykernel)",
   "language": "python",
   "name": "python3"
  },
  "language_info": {
   "codemirror_mode": {
    "name": "ipython",
    "version": 3
   },
   "file_extension": ".py",
   "mimetype": "text/x-python",
   "name": "python",
   "nbconvert_exporter": "python",
   "pygments_lexer": "ipython3",
   "version": "3.11.3"
  }
 },
 "nbformat": 4,
 "nbformat_minor": 5
}
