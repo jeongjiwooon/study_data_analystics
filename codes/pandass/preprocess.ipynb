{
 "cells": [
  {
   "cell_type": "markdown",
   "id": "7ff3a8b4-0f5e-452d-8d73-de7420eff869",
   "metadata": {},
   "source": [
    "### 전처리 : 특성 공학 기법 사용!"
   ]
  },
  {
   "cell_type": "code",
   "execution_count": 3,
   "id": "fe4ab1e5-e157-4fd3-ae90-e5ea687f3aea",
   "metadata": {
    "tags": []
   },
   "outputs": [
    {
     "data": {
      "text/html": [
       "<div>\n",
       "<style scoped>\n",
       "    .dataframe tbody tr th:only-of-type {\n",
       "        vertical-align: middle;\n",
       "    }\n",
       "\n",
       "    .dataframe tbody tr th {\n",
       "        vertical-align: top;\n",
       "    }\n",
       "\n",
       "    .dataframe thead th {\n",
       "        text-align: right;\n",
       "    }\n",
       "</style>\n",
       "<table border=\"1\" class=\"dataframe\">\n",
       "  <thead>\n",
       "    <tr style=\"text-align: right;\">\n",
       "      <th></th>\n",
       "      <th>id</th>\n",
       "      <th>type_of_contract</th>\n",
       "      <th>type_of_contract2</th>\n",
       "      <th>channel</th>\n",
       "      <th>datetime</th>\n",
       "      <th>Term</th>\n",
       "      <th>payment_type</th>\n",
       "      <th>product</th>\n",
       "      <th>amount</th>\n",
       "      <th>state</th>\n",
       "      <th>overdue_count</th>\n",
       "      <th>overdue</th>\n",
       "      <th>credit rating</th>\n",
       "      <th>bank</th>\n",
       "      <th>cancellation</th>\n",
       "      <th>age</th>\n",
       "      <th>Mileage</th>\n",
       "    </tr>\n",
       "  </thead>\n",
       "  <tbody>\n",
       "    <tr>\n",
       "      <th>0</th>\n",
       "      <td>66758234</td>\n",
       "      <td>렌탈</td>\n",
       "      <td>Normal</td>\n",
       "      <td>서비스 방문</td>\n",
       "      <td>2019-10-20</td>\n",
       "      <td>60</td>\n",
       "      <td>CMS</td>\n",
       "      <td>K1</td>\n",
       "      <td>96900</td>\n",
       "      <td>계약확정</td>\n",
       "      <td>0</td>\n",
       "      <td>없음</td>\n",
       "      <td>9.0</td>\n",
       "      <td>새마을금고</td>\n",
       "      <td>정상</td>\n",
       "      <td>43.0</td>\n",
       "      <td>1862.0</td>\n",
       "    </tr>\n",
       "    <tr>\n",
       "      <th>1</th>\n",
       "      <td>66755948</td>\n",
       "      <td>렌탈</td>\n",
       "      <td>Extension_Rental</td>\n",
       "      <td>서비스 방문</td>\n",
       "      <td>2019-10-20</td>\n",
       "      <td>60</td>\n",
       "      <td>카드이체</td>\n",
       "      <td>K1</td>\n",
       "      <td>102900</td>\n",
       "      <td>계약확정</td>\n",
       "      <td>0</td>\n",
       "      <td>없음</td>\n",
       "      <td>2.0</td>\n",
       "      <td>현대카드</td>\n",
       "      <td>정상</td>\n",
       "      <td>62.0</td>\n",
       "      <td>2532.0</td>\n",
       "    </tr>\n",
       "    <tr>\n",
       "      <th>2</th>\n",
       "      <td>66756657</td>\n",
       "      <td>렌탈</td>\n",
       "      <td>Normal</td>\n",
       "      <td>홈쇼핑/방송</td>\n",
       "      <td>2019-10-20</td>\n",
       "      <td>60</td>\n",
       "      <td>CMS</td>\n",
       "      <td>K1</td>\n",
       "      <td>96900</td>\n",
       "      <td>계약확정</td>\n",
       "      <td>0</td>\n",
       "      <td>없음</td>\n",
       "      <td>8.0</td>\n",
       "      <td>우리은행</td>\n",
       "      <td>정상</td>\n",
       "      <td>60.0</td>\n",
       "      <td>2363.0</td>\n",
       "    </tr>\n",
       "    <tr>\n",
       "      <th>3</th>\n",
       "      <td>66423450</td>\n",
       "      <td>멤버십</td>\n",
       "      <td>TAS</td>\n",
       "      <td>렌탈재계약</td>\n",
       "      <td>2019-10-20</td>\n",
       "      <td>12</td>\n",
       "      <td>CMS</td>\n",
       "      <td>K1</td>\n",
       "      <td>66900</td>\n",
       "      <td>계약확정</td>\n",
       "      <td>0</td>\n",
       "      <td>없음</td>\n",
       "      <td>5.0</td>\n",
       "      <td>농협은행</td>\n",
       "      <td>정상</td>\n",
       "      <td>60.0</td>\n",
       "      <td>2449.0</td>\n",
       "    </tr>\n",
       "    <tr>\n",
       "      <th>4</th>\n",
       "      <td>66423204</td>\n",
       "      <td>멤버십</td>\n",
       "      <td>TAS</td>\n",
       "      <td>렌탈재계약</td>\n",
       "      <td>2019-10-20</td>\n",
       "      <td>12</td>\n",
       "      <td>CMS</td>\n",
       "      <td>K1</td>\n",
       "      <td>66900</td>\n",
       "      <td>해약확정</td>\n",
       "      <td>12</td>\n",
       "      <td>있음</td>\n",
       "      <td>8.0</td>\n",
       "      <td>농협은행</td>\n",
       "      <td>해약</td>\n",
       "      <td>51.0</td>\n",
       "      <td>1942.0</td>\n",
       "    </tr>\n",
       "  </tbody>\n",
       "</table>\n",
       "</div>"
      ],
      "text/plain": [
       "         id type_of_contract type_of_contract2 channel    datetime  Term  \\\n",
       "0  66758234               렌탈            Normal  서비스 방문  2019-10-20    60   \n",
       "1  66755948               렌탈  Extension_Rental  서비스 방문  2019-10-20    60   \n",
       "2  66756657               렌탈            Normal  홈쇼핑/방송  2019-10-20    60   \n",
       "3  66423450              멤버십               TAS   렌탈재계약  2019-10-20    12   \n",
       "4  66423204              멤버십               TAS   렌탈재계약  2019-10-20    12   \n",
       "\n",
       "  payment_type product  amount state  overdue_count overdue  credit rating  \\\n",
       "0          CMS      K1   96900  계약확정              0      없음            9.0   \n",
       "1         카드이체      K1  102900  계약확정              0      없음            2.0   \n",
       "2          CMS      K1   96900  계약확정              0      없음            8.0   \n",
       "3          CMS      K1   66900  계약확정              0      없음            5.0   \n",
       "4          CMS      K1   66900  해약확정             12      있음            8.0   \n",
       "\n",
       "    bank cancellation   age  Mileage  \n",
       "0  새마을금고           정상  43.0   1862.0  \n",
       "1   현대카드           정상  62.0   2532.0  \n",
       "2   우리은행           정상  60.0   2363.0  \n",
       "3   농협은행           정상  60.0   2449.0  \n",
       "4   농협은행           해약  51.0   1942.0  "
      ]
     },
     "execution_count": 3,
     "metadata": {},
     "output_type": "execute_result"
    }
   ],
   "source": [
    "import pandas as pd\n",
    "df_TOCC = pd.read_csv('../../datasets/TypeOfContractChannel.csv')\n",
    "df_TOCC[:5]"
   ]
  },
  {
   "cell_type": "markdown",
   "id": "5f0e0c50-493c-435c-a387-70f9cb38ac8a",
   "metadata": {},
   "source": [
    "#### 결측치\n",
    "- 결측치 확인 : df.isnull().sum()\n",
    "- 결측치 치환 : 대표값 또는 knn(머신러닝의 한 종류.)\n",
    "- 결측치 삭제 : df.dropna(subset=['']) null값이 있는 레코드를 전체 삭제한다."
   ]
  },
  {
   "cell_type": "code",
   "execution_count": 6,
   "id": "c8e29e6e-928a-4cc3-9e11-4c0dbdb92c45",
   "metadata": {
    "tags": []
   },
   "outputs": [
    {
     "name": "stdout",
     "output_type": "stream",
     "text": [
      "<class 'pandas.core.frame.DataFrame'>\n",
      "RangeIndex: 51304 entries, 0 to 51303\n",
      "Data columns (total 17 columns):\n",
      " #   Column             Non-Null Count  Dtype  \n",
      "---  ------             --------------  -----  \n",
      " 0   id                 51304 non-null  int64  \n",
      " 1   type_of_contract   51300 non-null  object \n",
      " 2   type_of_contract2  51303 non-null  object \n",
      " 3   channel            51304 non-null  object \n",
      " 4   datetime           51304 non-null  object \n",
      " 5   Term               51304 non-null  int64  \n",
      " 6   payment_type       51304 non-null  object \n",
      " 7   product            51303 non-null  object \n",
      " 8   amount             51304 non-null  int64  \n",
      " 9   state              51304 non-null  object \n",
      " 10  overdue_count      51304 non-null  int64  \n",
      " 11  overdue            51302 non-null  object \n",
      " 12  credit rating      42521 non-null  float64\n",
      " 13  bank               48544 non-null  object \n",
      " 14  cancellation       51279 non-null  object \n",
      " 15  age                40509 non-null  float64\n",
      " 16  Mileage            40509 non-null  float64\n",
      "dtypes: float64(3), int64(4), object(10)\n",
      "memory usage: 6.7+ MB\n"
     ]
    }
   ],
   "source": [
    "df_TOCC.info()"
   ]
  },
  {
   "cell_type": "code",
   "execution_count": 9,
   "id": "10843559-5356-4763-a14b-ab659f9ae22f",
   "metadata": {
    "collapsed": true,
    "jupyter": {
     "outputs_hidden": true
    },
    "tags": []
   },
   "outputs": [
    {
     "data": {
      "text/plain": [
       "id                       0\n",
       "type_of_contract         4\n",
       "type_of_contract2        1\n",
       "channel                  0\n",
       "datetime                 0\n",
       "Term                     0\n",
       "payment_type             0\n",
       "product                  1\n",
       "amount                   0\n",
       "state                    0\n",
       "overdue_count            0\n",
       "overdue                  2\n",
       "credit rating         8783\n",
       "bank                  2760\n",
       "cancellation            25\n",
       "age                  10795\n",
       "Mileage              10795\n",
       "dtype: int64"
      ]
     },
     "execution_count": 9,
     "metadata": {},
     "output_type": "execute_result"
    }
   ],
   "source": [
    "df_TOCC.isnull().sum() #null 확인 및 컬럼당 null 값의 갯수 확인."
   ]
  },
  {
   "cell_type": "code",
   "execution_count": 13,
   "id": "4251291c-06f4-468a-9998-b8886b0693a2",
   "metadata": {
    "collapsed": true,
    "jupyter": {
     "outputs_hidden": true
    },
    "tags": []
   },
   "outputs": [
    {
     "name": "stdout",
     "output_type": "stream",
     "text": [
      "<class 'pandas.core.frame.DataFrame'>\n",
      "Int64Index: 40480 entries, 0 to 51303\n",
      "Data columns (total 17 columns):\n",
      " #   Column             Non-Null Count  Dtype  \n",
      "---  ------             --------------  -----  \n",
      " 0   id                 40480 non-null  int64  \n",
      " 1   type_of_contract   40480 non-null  object \n",
      " 2   type_of_contract2  40480 non-null  object \n",
      " 3   channel            40480 non-null  object \n",
      " 4   datetime           40480 non-null  object \n",
      " 5   Term               40480 non-null  int64  \n",
      " 6   payment_type       40480 non-null  object \n",
      " 7   product            40480 non-null  object \n",
      " 8   amount             40480 non-null  int64  \n",
      " 9   state              40480 non-null  object \n",
      " 10  overdue_count      40480 non-null  int64  \n",
      " 11  overdue            40480 non-null  object \n",
      " 12  credit rating      40480 non-null  float64\n",
      " 13  bank               40480 non-null  object \n",
      " 14  cancellation       40480 non-null  object \n",
      " 15  age                40480 non-null  float64\n",
      " 16  Mileage            40480 non-null  float64\n",
      "dtypes: float64(3), int64(4), object(10)\n",
      "memory usage: 5.6+ MB\n"
     ]
    }
   ],
   "source": [
    "df_TOCC_dropna = df_TOCC.dropna()\n",
    "df_TOCC_dropna.info()"
   ]
  },
  {
   "cell_type": "code",
   "execution_count": 15,
   "id": "3e8207f8-e774-45fe-a835-ba007af72115",
   "metadata": {
    "collapsed": true,
    "jupyter": {
     "outputs_hidden": true
    },
    "tags": []
   },
   "outputs": [
    {
     "name": "stdout",
     "output_type": "stream",
     "text": [
      "<class 'pandas.core.frame.DataFrame'>\n",
      "Int64Index: 48544 entries, 0 to 51303\n",
      "Data columns (total 17 columns):\n",
      " #   Column             Non-Null Count  Dtype  \n",
      "---  ------             --------------  -----  \n",
      " 0   id                 48544 non-null  int64  \n",
      " 1   type_of_contract   48540 non-null  object \n",
      " 2   type_of_contract2  48543 non-null  object \n",
      " 3   channel            48544 non-null  object \n",
      " 4   datetime           48544 non-null  object \n",
      " 5   Term               48544 non-null  int64  \n",
      " 6   payment_type       48544 non-null  object \n",
      " 7   product            48543 non-null  object \n",
      " 8   amount             48544 non-null  int64  \n",
      " 9   state              48544 non-null  object \n",
      " 10  overdue_count      48544 non-null  int64  \n",
      " 11  overdue            48542 non-null  object \n",
      " 12  credit rating      42519 non-null  float64\n",
      " 13  bank               48544 non-null  object \n",
      " 14  cancellation       48519 non-null  object \n",
      " 15  age                40507 non-null  float64\n",
      " 16  Mileage            40507 non-null  float64\n",
      "dtypes: float64(3), int64(4), object(10)\n",
      "memory usage: 6.7+ MB\n"
     ]
    }
   ],
   "source": [
    "df_TOCC.dropna(subset=['bank']).info() #bank 컬럼의 null값이 있는 레코드를 삭제 함."
   ]
  },
  {
   "cell_type": "markdown",
   "id": "ece4ca8f-7134-4816-ac06-dbd33f816768",
   "metadata": {
    "tags": []
   },
   "source": [
    "#### 이상치 : 4분위 외의 값\n",
    "- Q1 - 1.5 * IQR, Q3 + 1.5 * IQR 의 밖에 값"
   ]
  },
  {
   "cell_type": "code",
   "execution_count": 17,
   "id": "c8b1e00b-ce1f-41d8-ba54-fcac11806225",
   "metadata": {
    "tags": []
   },
   "outputs": [
    {
     "data": {
      "text/plain": [
       "count    40509.000000\n",
       "mean        46.608285\n",
       "std         13.465977\n",
       "min         20.000000\n",
       "25%         37.000000\n",
       "50%         46.000000\n",
       "75%         56.000000\n",
       "max        107.000000\n",
       "Name: age, dtype: float64"
      ]
     },
     "execution_count": 17,
     "metadata": {},
     "output_type": "execute_result"
    }
   ],
   "source": [
    "df_TOCC['age'].describe()"
   ]
  },
  {
   "cell_type": "code",
   "execution_count": 23,
   "id": "cdde458c-0e67-4038-8776-a58192dd2c56",
   "metadata": {
    "tags": []
   },
   "outputs": [],
   "source": [
    "# Q1, Q3 구함.\n",
    "Q1 = df_TOCC['age'].describe()['25%']\n",
    "Q3 = df_TOCC['age'].describe()['75%']\n",
    "IQR = Q3 - Q1"
   ]
  },
  {
   "cell_type": "code",
   "execution_count": 25,
   "id": "d1c93e49-606b-4769-a96c-fcc2606617d5",
   "metadata": {
    "tags": []
   },
   "outputs": [
    {
     "data": {
      "text/plain": [
       "(37.0, 56.0, 19.0)"
      ]
     },
     "execution_count": 25,
     "metadata": {},
     "output_type": "execute_result"
    }
   ],
   "source": [
    "Q1,Q3, IQR"
   ]
  },
  {
   "cell_type": "code",
   "execution_count": 27,
   "id": "b9938041-831c-4602-aed6-c5865be454bf",
   "metadata": {
    "tags": []
   },
   "outputs": [
    {
     "data": {
      "text/plain": [
       "(8.5, 84.5)"
      ]
     },
     "execution_count": 27,
     "metadata": {},
     "output_type": "execute_result"
    }
   ],
   "source": [
    "bound_up = Q3 + 1.5 * IQR\n",
    "bound_low = Q1 - 1.5 * IQR\n",
    "bound_low,bound_up"
   ]
  },
  {
   "cell_type": "code",
   "execution_count": 30,
   "id": "576c2c71-db63-4dcf-90a7-d489d1289bb6",
   "metadata": {
    "tags": []
   },
   "outputs": [
    {
     "data": {
      "text/plain": [
       "0         True\n",
       "1         True\n",
       "2         True\n",
       "3         True\n",
       "4         True\n",
       "         ...  \n",
       "51299    False\n",
       "51300     True\n",
       "51301     True\n",
       "51302     True\n",
       "51303     True\n",
       "Name: age, Length: 51304, dtype: bool"
      ]
     },
     "execution_count": 30,
     "metadata": {},
     "output_type": "execute_result"
    }
   ],
   "source": [
    "# filter\n",
    "condition = (df_TOCC['age'] <= bound_up) #긍정 조건 변환\n",
    "condition"
   ]
  },
  {
   "cell_type": "code",
   "execution_count": 32,
   "id": "fce25ed0-c855-49b4-8b88-82ab1679a49a",
   "metadata": {
    "tags": []
   },
   "outputs": [],
   "source": [
    "df_TOCC_condition = df_TOCC[condition]"
   ]
  },
  {
   "cell_type": "code",
   "execution_count": 33,
   "id": "77634eae-cf2f-4a5f-b812-390025a2b123",
   "metadata": {
    "tags": []
   },
   "outputs": [],
   "source": [
    "import seaborn as sns"
   ]
  },
  {
   "cell_type": "code",
   "execution_count": 37,
   "id": "a8bec856-2f7b-46ae-ad40-466fdafd1903",
   "metadata": {
    "tags": []
   },
   "outputs": [
    {
     "data": {
      "text/plain": [
       "<Axes: xlabel='age'>"
      ]
     },
     "execution_count": 37,
     "metadata": {},
     "output_type": "execute_result"
    },
    {
     "data": {
      "image/png": "[encoded data removed]",
      "text/plain": [
       "<Figure size 640x480 with 1 Axes>"
      ]
     },
     "metadata": {},
     "output_type": "display_data"
    }
   ],
   "source": [
    "sns.boxplot(data=df_TOCC_condition, x='age')"
   ]
  },
  {
   "cell_type": "code",
   "execution_count": null,
   "id": "111ac59e-3333-4621-bba8-47c9183da889",
   "metadata": {
    "tags": []
   },
   "outputs": [],
   "source": []
  },
  {
   "cell_type": "code",
   "execution_count": null,
   "id": "9619d54d-2cf7-412f-bf8e-144a96748f12",
   "metadata": {},
   "outputs": [],
   "source": []
  }
 ],
 "metadata": {
  "kernelspec": {
   "display_name": "Python 3 (ipykernel)",
   "language": "python",
   "name": "python3"
  },
  "language_info": {
   "codemirror_mode": {
    "name": "ipython",
    "version": 3
   },
   "file_extension": ".py",
   "mimetype": "text/x-python",
   "name": "python",
   "nbconvert_exporter": "python",
   "pygments_lexer": "ipython3",
   "version": "3.11.3"
  }
 },
 "nbformat": 4,
 "nbformat_minor": 5
}
