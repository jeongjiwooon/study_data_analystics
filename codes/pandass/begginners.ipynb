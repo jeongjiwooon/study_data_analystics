{
 "cells": [
  {
   "cell_type": "code",
   "execution_count": 1,
   "id": "862c638c-b633-4026-b9f0-0a5bdaa656b3",
   "metadata": {
    "tags": []
   },
   "outputs": [],
   "source": [
    "import pandas as pd"
   ]
  },
  {
   "cell_type": "code",
   "execution_count": 2,
   "id": "eeeab704-06ab-44b5-a46a-803422b0a4e6",
   "metadata": {
    "tags": []
   },
   "outputs": [
    {
     "data": {
      "text/plain": [
       "'1.5.3'"
      ]
     },
     "execution_count": 2,
     "metadata": {},
     "output_type": "execute_result"
    }
   ],
   "source": [
    "pd.__version__"
   ]
  },
  {
   "cell_type": "markdown",
   "id": "a4a5862f-4c96-464e-a20a-c1aafbaddf9a",
   "metadata": {
    "tags": []
   },
   "source": [
    "### Dataframe 구조\n",
    "- index(row) - column(column) - data"
   ]
  },
  {
   "cell_type": "code",
   "execution_count": 3,
   "id": "68d724e9-6f2e-4323-a006-4a1ff7913249",
   "metadata": {
    "tags": []
   },
   "outputs": [
    {
     "data": {
      "text/html": [
       "<div>\n",
       "<style scoped>\n",
       "    .dataframe tbody tr th:only-of-type {\n",
       "        vertical-align: middle;\n",
       "    }\n",
       "\n",
       "    .dataframe tbody tr th {\n",
       "        vertical-align: top;\n",
       "    }\n",
       "\n",
       "    .dataframe thead th {\n",
       "        text-align: right;\n",
       "    }\n",
       "</style>\n",
       "<table border=\"1\" class=\"dataframe\">\n",
       "  <thead>\n",
       "    <tr style=\"text-align: right;\">\n",
       "      <th></th>\n",
       "      <th>0</th>\n",
       "    </tr>\n",
       "  </thead>\n",
       "  <tbody>\n",
       "    <tr>\n",
       "      <th>0</th>\n",
       "      <td>10</td>\n",
       "    </tr>\n",
       "    <tr>\n",
       "      <th>1</th>\n",
       "      <td>20</td>\n",
       "    </tr>\n",
       "    <tr>\n",
       "      <th>2</th>\n",
       "      <td>30</td>\n",
       "    </tr>\n",
       "    <tr>\n",
       "      <th>3</th>\n",
       "      <td>40</td>\n",
       "    </tr>\n",
       "    <tr>\n",
       "      <th>4</th>\n",
       "      <td>50</td>\n",
       "    </tr>\n",
       "  </tbody>\n",
       "</table>\n",
       "</div>"
      ],
      "text/plain": [
       "    0\n",
       "0  10\n",
       "1  20\n",
       "2  30\n",
       "3  40\n",
       "4  50"
      ]
     },
     "execution_count": 3,
     "metadata": {},
     "output_type": "execute_result"
    }
   ],
   "source": [
    "num_list = [10,20,30,40,50]\n",
    "pd.DataFrame(data = num_list) #return값이 있으면 프린터가 자동으로 이루어진다."
   ]
  },
  {
   "cell_type": "code",
   "execution_count": 4,
   "id": "773aca56-cb99-4f20-9913-4c6be2338f51",
   "metadata": {
    "tags": []
   },
   "outputs": [
    {
     "data": {
      "text/html": [
       "<div>\n",
       "<style scoped>\n",
       "    .dataframe tbody tr th:only-of-type {\n",
       "        vertical-align: middle;\n",
       "    }\n",
       "\n",
       "    .dataframe tbody tr th {\n",
       "        vertical-align: top;\n",
       "    }\n",
       "\n",
       "    .dataframe thead th {\n",
       "        text-align: right;\n",
       "    }\n",
       "</style>\n",
       "<table border=\"1\" class=\"dataframe\">\n",
       "  <thead>\n",
       "    <tr style=\"text-align: right;\">\n",
       "      <th></th>\n",
       "      <th>0</th>\n",
       "      <th>1</th>\n",
       "      <th>2</th>\n",
       "      <th>3</th>\n",
       "    </tr>\n",
       "  </thead>\n",
       "  <tbody>\n",
       "    <tr>\n",
       "      <th>0</th>\n",
       "      <td>1000</td>\n",
       "      <td>과자</td>\n",
       "      <td>2019-12-31</td>\n",
       "      <td>반품</td>\n",
       "    </tr>\n",
       "    <tr>\n",
       "      <th>1</th>\n",
       "      <td>2000</td>\n",
       "      <td>음료</td>\n",
       "      <td>2020-03-02</td>\n",
       "      <td>정상</td>\n",
       "    </tr>\n",
       "    <tr>\n",
       "      <th>2</th>\n",
       "      <td>3000</td>\n",
       "      <td>아이스크림</td>\n",
       "      <td>2020-02-03</td>\n",
       "      <td>정상</td>\n",
       "    </tr>\n",
       "    <tr>\n",
       "      <th>3</th>\n",
       "      <td>1000</td>\n",
       "      <td>과자</td>\n",
       "      <td>2019-12-31</td>\n",
       "      <td>반품</td>\n",
       "    </tr>\n",
       "  </tbody>\n",
       "</table>\n",
       "</div>"
      ],
      "text/plain": [
       "      0      1           2   3\n",
       "0  1000     과자  2019-12-31  반품\n",
       "1  2000     음료  2020-03-02  정상\n",
       "2  3000  아이스크림  2020-02-03  정상\n",
       "3  1000     과자  2019-12-31  반품"
      ]
     },
     "execution_count": 4,
     "metadata": {},
     "output_type": "execute_result"
    }
   ],
   "source": [
    "double_list = [\n",
    "              [1000, '과자','2019-12-31','반품'],\n",
    "              [2000, '음료', '2020-03-02', '정상'],\n",
    "              [3000, '아이스크림', '2020-02-03','정상'],\n",
    "              [1000,'과자','2019-12-31','반품']\n",
    "             ]\n",
    "pd.DataFrame(data = double_list)"
   ]
  },
  {
   "cell_type": "code",
   "execution_count": 5,
   "id": "a470880a-bc98-4fdc-a14e-c9aac6b4e732",
   "metadata": {
    "tags": []
   },
   "outputs": [
    {
     "data": {
      "text/html": [
       "<div>\n",
       "<style scoped>\n",
       "    .dataframe tbody tr th:only-of-type {\n",
       "        vertical-align: middle;\n",
       "    }\n",
       "\n",
       "    .dataframe tbody tr th {\n",
       "        vertical-align: top;\n",
       "    }\n",
       "\n",
       "    .dataframe thead th {\n",
       "        text-align: right;\n",
       "    }\n",
       "</style>\n",
       "<table border=\"1\" class=\"dataframe\">\n",
       "  <thead>\n",
       "    <tr style=\"text-align: right;\">\n",
       "      <th></th>\n",
       "      <th>가격</th>\n",
       "      <th>종류</th>\n",
       "      <th>판매일자</th>\n",
       "      <th>반품여부</th>\n",
       "    </tr>\n",
       "  </thead>\n",
       "  <tbody>\n",
       "    <tr>\n",
       "      <th>0</th>\n",
       "      <td>1000</td>\n",
       "      <td>과자</td>\n",
       "      <td>2019-12-31</td>\n",
       "      <td>반품</td>\n",
       "    </tr>\n",
       "    <tr>\n",
       "      <th>1</th>\n",
       "      <td>2000</td>\n",
       "      <td>음료</td>\n",
       "      <td>2020-03-02</td>\n",
       "      <td>정상</td>\n",
       "    </tr>\n",
       "    <tr>\n",
       "      <th>2</th>\n",
       "      <td>3000</td>\n",
       "      <td>아이스크림</td>\n",
       "      <td>2020-02-03</td>\n",
       "      <td>정상</td>\n",
       "    </tr>\n",
       "    <tr>\n",
       "      <th>3</th>\n",
       "      <td>1000</td>\n",
       "      <td>과자</td>\n",
       "      <td>2019-12-31</td>\n",
       "      <td>반품</td>\n",
       "    </tr>\n",
       "  </tbody>\n",
       "</table>\n",
       "</div>"
      ],
      "text/plain": [
       "     가격     종류        판매일자 반품여부\n",
       "0  1000     과자  2019-12-31   반품\n",
       "1  2000     음료  2020-03-02   정상\n",
       "2  3000  아이스크림  2020-02-03   정상\n",
       "3  1000     과자  2019-12-31   반품"
      ]
     },
     "execution_count": 5,
     "metadata": {},
     "output_type": "execute_result"
    }
   ],
   "source": [
    "double_columns = ['가격','종류','판매일자','반품여부']\n",
    "df_saledays = pd.DataFrame(data = double_list, columns = double_columns)\n",
    "df_saledays"
   ]
  },
  {
   "cell_type": "code",
   "execution_count": 6,
   "id": "1d36d005-6280-4e2f-9c61-da61176a6270",
   "metadata": {
    "tags": []
   },
   "outputs": [
    {
     "data": {
      "text/plain": [
       "pandas.core.frame.DataFrame"
      ]
     },
     "execution_count": 6,
     "metadata": {},
     "output_type": "execute_result"
    }
   ],
   "source": [
    "type(df_saledays)"
   ]
  },
  {
   "cell_type": "code",
   "execution_count": 7,
   "id": "b9211092-7e83-4bfd-94e1-50dd1666bde3",
   "metadata": {
    "tags": []
   },
   "outputs": [
    {
     "data": {
      "text/plain": [
       "(Index(['가격', '종류', '판매일자', '반품여부'], dtype='object'),\n",
       " pandas.core.indexes.base.Index,\n",
       " ['가격', '종류', '판매일자', '반품여부'])"
      ]
     },
     "execution_count": 7,
     "metadata": {},
     "output_type": "execute_result"
    }
   ],
   "source": [
    "df_saledays.columns, type(df_saledays.columns),list(df_saledays.columns) # column만 확인가능."
   ]
  },
  {
   "cell_type": "code",
   "execution_count": 8,
   "id": "aaa57173-22ba-4374-93a3-0dce2f088dcf",
   "metadata": {
    "tags": []
   },
   "outputs": [
    {
     "data": {
      "text/plain": [
       "(RangeIndex(start=0, stop=4, step=1), pandas.core.indexes.range.RangeIndex)"
      ]
     },
     "execution_count": 8,
     "metadata": {},
     "output_type": "execute_result"
    }
   ],
   "source": [
    "df_saledays.index, type(df_saledays.index) #index만 확인"
   ]
  },
  {
   "cell_type": "code",
   "execution_count": 9,
   "id": "2434c188-2240-4c44-b68b-dc3850c5bcc9",
   "metadata": {
    "tags": []
   },
   "outputs": [
    {
     "data": {
      "text/plain": [
       "(array([[1000, '과자', '2019-12-31', '반품'],\n",
       "        [2000, '음료', '2020-03-02', '정상'],\n",
       "        [3000, '아이스크림', '2020-02-03', '정상'],\n",
       "        [1000, '과자', '2019-12-31', '반품']], dtype=object),\n",
       " numpy.ndarray)"
      ]
     },
     "execution_count": 9,
     "metadata": {},
     "output_type": "execute_result"
    }
   ],
   "source": [
    "df_saledays.values, type(df_saledays.values) # value만 확인"
   ]
  },
  {
   "cell_type": "code",
   "execution_count": 10,
   "id": "d4487559-ea15-4035-97a9-84719bb1938c",
   "metadata": {
    "tags": []
   },
   "outputs": [],
   "source": [
    " # df_saledays.drop(columns=['종류', '판매일자'],inplace=True) inplace=True를 추가하여 실제 column 삭제 가능\n",
    "df_saledays_dropcol = df_saledays.drop(columns=['종류', '판매일자'])"
   ]
  },
  {
   "cell_type": "code",
   "execution_count": 11,
   "id": "ef534115-9457-4f98-98d4-58dc15494571",
   "metadata": {
    "tags": []
   },
   "outputs": [
    {
     "data": {
      "text/html": [
       "<div>\n",
       "<style scoped>\n",
       "    .dataframe tbody tr th:only-of-type {\n",
       "        vertical-align: middle;\n",
       "    }\n",
       "\n",
       "    .dataframe tbody tr th {\n",
       "        vertical-align: top;\n",
       "    }\n",
       "\n",
       "    .dataframe thead th {\n",
       "        text-align: right;\n",
       "    }\n",
       "</style>\n",
       "<table border=\"1\" class=\"dataframe\">\n",
       "  <thead>\n",
       "    <tr style=\"text-align: right;\">\n",
       "      <th></th>\n",
       "      <th>가격</th>\n",
       "      <th>반품여부</th>\n",
       "    </tr>\n",
       "  </thead>\n",
       "  <tbody>\n",
       "    <tr>\n",
       "      <th>0</th>\n",
       "      <td>1000</td>\n",
       "      <td>반품</td>\n",
       "    </tr>\n",
       "    <tr>\n",
       "      <th>1</th>\n",
       "      <td>2000</td>\n",
       "      <td>정상</td>\n",
       "    </tr>\n",
       "    <tr>\n",
       "      <th>2</th>\n",
       "      <td>3000</td>\n",
       "      <td>정상</td>\n",
       "    </tr>\n",
       "    <tr>\n",
       "      <th>3</th>\n",
       "      <td>1000</td>\n",
       "      <td>반품</td>\n",
       "    </tr>\n",
       "  </tbody>\n",
       "</table>\n",
       "</div>"
      ],
      "text/plain": [
       "     가격 반품여부\n",
       "0  1000   반품\n",
       "1  2000   정상\n",
       "2  3000   정상\n",
       "3  1000   반품"
      ]
     },
     "execution_count": 11,
     "metadata": {},
     "output_type": "execute_result"
    }
   ],
   "source": [
    "df_saledays_dropcol"
   ]
  },
  {
   "cell_type": "code",
   "execution_count": 12,
   "id": "05f52def-d745-405b-a050-68d80c536780",
   "metadata": {
    "tags": []
   },
   "outputs": [
    {
     "data": {
      "text/html": [
       "<div>\n",
       "<style scoped>\n",
       "    .dataframe tbody tr th:only-of-type {\n",
       "        vertical-align: middle;\n",
       "    }\n",
       "\n",
       "    .dataframe tbody tr th {\n",
       "        vertical-align: top;\n",
       "    }\n",
       "\n",
       "    .dataframe thead th {\n",
       "        text-align: right;\n",
       "    }\n",
       "</style>\n",
       "<table border=\"1\" class=\"dataframe\">\n",
       "  <thead>\n",
       "    <tr style=\"text-align: right;\">\n",
       "      <th></th>\n",
       "      <th>가격</th>\n",
       "      <th>반품여부</th>\n",
       "    </tr>\n",
       "  </thead>\n",
       "  <tbody>\n",
       "    <tr>\n",
       "      <th>2</th>\n",
       "      <td>3000</td>\n",
       "      <td>정상</td>\n",
       "    </tr>\n",
       "  </tbody>\n",
       "</table>\n",
       "</div>"
      ],
      "text/plain": [
       "     가격 반품여부\n",
       "2  3000   정상"
      ]
     },
     "execution_count": 12,
     "metadata": {},
     "output_type": "execute_result"
    }
   ],
   "source": [
    "## 필터 : and = &, or = |\n",
    "# condition = ( df_saledays_dropcol['반품여부'] == '정상' )\n",
    "\n",
    "condition = (df_saledays_dropcol['가격'] >= 2500)\n",
    "df_saledays_dropcol.loc[condition]"
   ]
  },
  {
   "cell_type": "code",
   "execution_count": 13,
   "id": "06affd91-9a79-4b56-9b1b-21c5dd2bec23",
   "metadata": {
    "tags": []
   },
   "outputs": [
    {
     "data": {
      "text/plain": [
       "0    False\n",
       "1    False\n",
       "2     True\n",
       "3    False\n",
       "dtype: bool"
      ]
     },
     "execution_count": 13,
     "metadata": {},
     "output_type": "execute_result"
    }
   ],
   "source": [
    "# (df_saledays_dropcol['가격'] >= 2500) | (df_saledays_dropcol['가격'] <= 1000) 범위설정\n",
    "(df_saledays_dropcol['가격'] >= 2500) & (df_saledays_dropcol['반품여부'] == '정상')\n"
   ]
  },
  {
   "cell_type": "code",
   "execution_count": 14,
   "id": "e7685f97-310b-436e-bae9-bf2f072dcd68",
   "metadata": {
    "tags": []
   },
   "outputs": [
    {
     "data": {
      "text/html": [
       "<div>\n",
       "<style scoped>\n",
       "    .dataframe tbody tr th:only-of-type {\n",
       "        vertical-align: middle;\n",
       "    }\n",
       "\n",
       "    .dataframe tbody tr th {\n",
       "        vertical-align: top;\n",
       "    }\n",
       "\n",
       "    .dataframe thead th {\n",
       "        text-align: right;\n",
       "    }\n",
       "</style>\n",
       "<table border=\"1\" class=\"dataframe\">\n",
       "  <thead>\n",
       "    <tr style=\"text-align: right;\">\n",
       "      <th></th>\n",
       "      <th>가격</th>\n",
       "    </tr>\n",
       "    <tr>\n",
       "      <th>반품여부</th>\n",
       "      <th></th>\n",
       "    </tr>\n",
       "  </thead>\n",
       "  <tbody>\n",
       "    <tr>\n",
       "      <th>반품</th>\n",
       "      <td>1000</td>\n",
       "    </tr>\n",
       "    <tr>\n",
       "      <th>정상</th>\n",
       "      <td>2000</td>\n",
       "    </tr>\n",
       "  </tbody>\n",
       "</table>\n",
       "</div>"
      ],
      "text/plain": [
       "        가격\n",
       "반품여부      \n",
       "반품    1000\n",
       "정상    2000"
      ]
     },
     "execution_count": 14,
     "metadata": {},
     "output_type": "execute_result"
    }
   ],
   "source": [
    "## 요약\n",
    "# df_saledays_dropcol.pivot_table(index='반품여부',values='가격')\n",
    "# pd.pivot_table(data = df_saledays_dropcol,index='반품여부',values='가격')\n",
    "import numpy as np\n",
    "df_saledays_dropcol.pivot_table(index='반품여부',values='가격', aggfunc=np.min)"
   ]
  },
  {
   "cell_type": "code",
   "execution_count": 15,
   "id": "aef15ddc-86ea-4ed6-b700-0f9ca14fd190",
   "metadata": {
    "tags": []
   },
   "outputs": [
    {
     "data": {
      "text/html": [
       "<div>\n",
       "<style scoped>\n",
       "    .dataframe tbody tr th:only-of-type {\n",
       "        vertical-align: middle;\n",
       "    }\n",
       "\n",
       "    .dataframe tbody tr th {\n",
       "        vertical-align: top;\n",
       "    }\n",
       "\n",
       "    .dataframe thead tr th {\n",
       "        text-align: left;\n",
       "    }\n",
       "\n",
       "    .dataframe thead tr:last-of-type th {\n",
       "        text-align: right;\n",
       "    }\n",
       "</style>\n",
       "<table border=\"1\" class=\"dataframe\">\n",
       "  <thead>\n",
       "    <tr>\n",
       "      <th></th>\n",
       "      <th></th>\n",
       "      <th>sum</th>\n",
       "      <th>amin</th>\n",
       "      <th>size</th>\n",
       "    </tr>\n",
       "    <tr>\n",
       "      <th></th>\n",
       "      <th></th>\n",
       "      <th>가격</th>\n",
       "      <th>가격</th>\n",
       "      <th>가격</th>\n",
       "    </tr>\n",
       "    <tr>\n",
       "      <th>반품여부</th>\n",
       "      <th>종류</th>\n",
       "      <th></th>\n",
       "      <th></th>\n",
       "      <th></th>\n",
       "    </tr>\n",
       "  </thead>\n",
       "  <tbody>\n",
       "    <tr>\n",
       "      <th>반품</th>\n",
       "      <th>과자</th>\n",
       "      <td>2000</td>\n",
       "      <td>1000</td>\n",
       "      <td>2</td>\n",
       "    </tr>\n",
       "    <tr>\n",
       "      <th rowspan=\"2\" valign=\"top\">정상</th>\n",
       "      <th>아이스크림</th>\n",
       "      <td>3000</td>\n",
       "      <td>3000</td>\n",
       "      <td>1</td>\n",
       "    </tr>\n",
       "    <tr>\n",
       "      <th>음료</th>\n",
       "      <td>2000</td>\n",
       "      <td>2000</td>\n",
       "      <td>1</td>\n",
       "    </tr>\n",
       "  </tbody>\n",
       "</table>\n",
       "</div>"
      ],
      "text/plain": [
       "             sum  amin size\n",
       "              가격    가격   가격\n",
       "반품여부 종류                    \n",
       "반품   과자     2000  1000    2\n",
       "정상   아이스크림  3000  3000    1\n",
       "     음료     2000  2000    1"
      ]
     },
     "execution_count": 15,
     "metadata": {},
     "output_type": "execute_result"
    }
   ],
   "source": [
    "df_saledays.pivot_table(index=['반품여부', '종류'], values='가격', aggfunc=[np.sum, np.min, np.size])"
   ]
  },
  {
   "cell_type": "code",
   "execution_count": 16,
   "id": "2a2e77ad-c6fb-4451-a6b2-fccf1a1f4a55",
   "metadata": {
    "tags": []
   },
   "outputs": [
    {
     "data": {
      "text/html": [
       "<div>\n",
       "<style scoped>\n",
       "    .dataframe tbody tr th:only-of-type {\n",
       "        vertical-align: middle;\n",
       "    }\n",
       "\n",
       "    .dataframe tbody tr th {\n",
       "        vertical-align: top;\n",
       "    }\n",
       "\n",
       "    .dataframe thead th {\n",
       "        text-align: right;\n",
       "    }\n",
       "</style>\n",
       "<table border=\"1\" class=\"dataframe\">\n",
       "  <thead>\n",
       "    <tr style=\"text-align: right;\">\n",
       "      <th></th>\n",
       "      <th>가격</th>\n",
       "    </tr>\n",
       "    <tr>\n",
       "      <th>반품여부</th>\n",
       "      <th></th>\n",
       "    </tr>\n",
       "  </thead>\n",
       "  <tbody>\n",
       "    <tr>\n",
       "      <th>반품</th>\n",
       "      <td>1000</td>\n",
       "    </tr>\n",
       "    <tr>\n",
       "      <th>정상</th>\n",
       "      <td>2500</td>\n",
       "    </tr>\n",
       "  </tbody>\n",
       "</table>\n",
       "</div>"
      ],
      "text/plain": [
       "        가격\n",
       "반품여부      \n",
       "반품    1000\n",
       "정상    2500"
      ]
     },
     "execution_count": 16,
     "metadata": {},
     "output_type": "execute_result"
    }
   ],
   "source": [
    "pd.pivot_table(data = df_saledays_dropcol,index='반품여부',values='가격')"
   ]
  },
  {
   "cell_type": "code",
   "execution_count": 17,
   "id": "61a4d5bd-140f-4eb0-8218-7aee648333ca",
   "metadata": {
    "tags": []
   },
   "outputs": [
    {
     "data": {
      "text/html": [
       "<div>\n",
       "<style scoped>\n",
       "    .dataframe tbody tr th:only-of-type {\n",
       "        vertical-align: middle;\n",
       "    }\n",
       "\n",
       "    .dataframe tbody tr th {\n",
       "        vertical-align: top;\n",
       "    }\n",
       "\n",
       "    .dataframe thead th {\n",
       "        text-align: right;\n",
       "    }\n",
       "</style>\n",
       "<table border=\"1\" class=\"dataframe\">\n",
       "  <thead>\n",
       "    <tr style=\"text-align: right;\">\n",
       "      <th></th>\n",
       "      <th>가격</th>\n",
       "      <th>종류</th>\n",
       "      <th>판매일자</th>\n",
       "      <th>반품여부</th>\n",
       "    </tr>\n",
       "  </thead>\n",
       "  <tbody>\n",
       "    <tr>\n",
       "      <th>0</th>\n",
       "      <td>1000</td>\n",
       "      <td>과자</td>\n",
       "      <td>2019-12-31</td>\n",
       "      <td>반품</td>\n",
       "    </tr>\n",
       "    <tr>\n",
       "      <th>1</th>\n",
       "      <td>2000</td>\n",
       "      <td>음료</td>\n",
       "      <td>2020-03-02</td>\n",
       "      <td>정상</td>\n",
       "    </tr>\n",
       "    <tr>\n",
       "      <th>2</th>\n",
       "      <td>3000</td>\n",
       "      <td>아이스크림</td>\n",
       "      <td>2020-02-03</td>\n",
       "      <td>정상</td>\n",
       "    </tr>\n",
       "    <tr>\n",
       "      <th>3</th>\n",
       "      <td>1000</td>\n",
       "      <td>과자</td>\n",
       "      <td>2019-12-31</td>\n",
       "      <td>반품</td>\n",
       "    </tr>\n",
       "  </tbody>\n",
       "</table>\n",
       "</div>"
      ],
      "text/plain": [
       "     가격     종류        판매일자 반품여부\n",
       "0  1000     과자  2019-12-31   반품\n",
       "1  2000     음료  2020-03-02   정상\n",
       "2  3000  아이스크림  2020-02-03   정상\n",
       "3  1000     과자  2019-12-31   반품"
      ]
     },
     "execution_count": 17,
     "metadata": {},
     "output_type": "execute_result"
    }
   ],
   "source": [
    "df_saledays"
   ]
  },
  {
   "cell_type": "markdown",
   "id": "7817df9c-091f-43fd-9b33-326fa5e78912",
   "metadata": {},
   "source": [
    "### apply()"
   ]
  },
  {
   "cell_type": "markdown",
   "id": "6cf6e89d-d666-4665-ba60-c0facac7040a",
   "metadata": {
    "tags": []
   },
   "source": [
    "#### 단일변수"
   ]
  },
  {
   "cell_type": "code",
   "execution_count": 18,
   "id": "4a615eef-0f8f-474c-a4d5-ea19463e69d8",
   "metadata": {
    "tags": []
   },
   "outputs": [],
   "source": [
    "def mean_subtraction(cell_value) : \n",
    "    result = 1750 - cell_value # 가격 평균 - 개별 값\n",
    "    return result"
   ]
  },
  {
   "cell_type": "code",
   "execution_count": 19,
   "id": "a4ba3d86-8046-4a64-95f0-29641a7e2827",
   "metadata": {
    "tags": []
   },
   "outputs": [
    {
     "data": {
      "text/plain": [
       "1000"
      ]
     },
     "execution_count": 19,
     "metadata": {},
     "output_type": "execute_result"
    }
   ],
   "source": [
    "mean_subtraction(750)"
   ]
  },
  {
   "cell_type": "code",
   "execution_count": 20,
   "id": "36f1ba68-0467-465d-b47f-fddec86c9130",
   "metadata": {
    "tags": []
   },
   "outputs": [
    {
     "data": {
      "text/plain": [
       "0     750\n",
       "1    -250\n",
       "2   -1250\n",
       "3     750\n",
       "Name: 가격, dtype: int64"
      ]
     },
     "execution_count": 20,
     "metadata": {},
     "output_type": "execute_result"
    }
   ],
   "source": [
    "df_saledays['가격'].apply(mean_subtraction)"
   ]
  },
  {
   "cell_type": "code",
   "execution_count": 21,
   "id": "17872dc6-7d75-43d9-9c49-a2a69ea9aa3a",
   "metadata": {
    "tags": []
   },
   "outputs": [],
   "source": [
    "df_saledays['가격차이'] = df_saledays['가격'].apply(mean_subtraction) #각 cell당 평균 차이값"
   ]
  },
  {
   "cell_type": "code",
   "execution_count": 22,
   "id": "7d2428ca-9b67-49f8-9e2d-48e68cd62558",
   "metadata": {
    "tags": []
   },
   "outputs": [
    {
     "data": {
      "text/html": [
       "<div>\n",
       "<style scoped>\n",
       "    .dataframe tbody tr th:only-of-type {\n",
       "        vertical-align: middle;\n",
       "    }\n",
       "\n",
       "    .dataframe tbody tr th {\n",
       "        vertical-align: top;\n",
       "    }\n",
       "\n",
       "    .dataframe thead th {\n",
       "        text-align: right;\n",
       "    }\n",
       "</style>\n",
       "<table border=\"1\" class=\"dataframe\">\n",
       "  <thead>\n",
       "    <tr style=\"text-align: right;\">\n",
       "      <th></th>\n",
       "      <th>가격</th>\n",
       "      <th>종류</th>\n",
       "      <th>판매일자</th>\n",
       "      <th>반품여부</th>\n",
       "      <th>가격차이</th>\n",
       "    </tr>\n",
       "  </thead>\n",
       "  <tbody>\n",
       "    <tr>\n",
       "      <th>0</th>\n",
       "      <td>1000</td>\n",
       "      <td>과자</td>\n",
       "      <td>2019-12-31</td>\n",
       "      <td>반품</td>\n",
       "      <td>750</td>\n",
       "    </tr>\n",
       "    <tr>\n",
       "      <th>1</th>\n",
       "      <td>2000</td>\n",
       "      <td>음료</td>\n",
       "      <td>2020-03-02</td>\n",
       "      <td>정상</td>\n",
       "      <td>-250</td>\n",
       "    </tr>\n",
       "    <tr>\n",
       "      <th>2</th>\n",
       "      <td>3000</td>\n",
       "      <td>아이스크림</td>\n",
       "      <td>2020-02-03</td>\n",
       "      <td>정상</td>\n",
       "      <td>-1250</td>\n",
       "    </tr>\n",
       "    <tr>\n",
       "      <th>3</th>\n",
       "      <td>1000</td>\n",
       "      <td>과자</td>\n",
       "      <td>2019-12-31</td>\n",
       "      <td>반품</td>\n",
       "      <td>750</td>\n",
       "    </tr>\n",
       "  </tbody>\n",
       "</table>\n",
       "</div>"
      ],
      "text/plain": [
       "     가격     종류        판매일자 반품여부  가격차이\n",
       "0  1000     과자  2019-12-31   반품   750\n",
       "1  2000     음료  2020-03-02   정상  -250\n",
       "2  3000  아이스크림  2020-02-03   정상 -1250\n",
       "3  1000     과자  2019-12-31   반품   750"
      ]
     },
     "execution_count": 22,
     "metadata": {},
     "output_type": "execute_result"
    }
   ],
   "source": [
    "df_saledays"
   ]
  },
  {
   "cell_type": "markdown",
   "id": "640c7c88-16e0-44db-b2d4-eec1f187aae8",
   "metadata": {},
   "source": [
    "#### 다변수"
   ]
  },
  {
   "cell_type": "code",
   "execution_count": 39,
   "id": "d5e94f0a-d62b-41c1-b70d-e41127951a31",
   "metadata": {
    "tags": []
   },
   "outputs": [
    {
     "data": {
      "text/html": [
       "<div>\n",
       "<style scoped>\n",
       "    .dataframe tbody tr th:only-of-type {\n",
       "        vertical-align: middle;\n",
       "    }\n",
       "\n",
       "    .dataframe tbody tr th {\n",
       "        vertical-align: top;\n",
       "    }\n",
       "\n",
       "    .dataframe thead th {\n",
       "        text-align: right;\n",
       "    }\n",
       "</style>\n",
       "<table border=\"1\" class=\"dataframe\">\n",
       "  <thead>\n",
       "    <tr style=\"text-align: right;\">\n",
       "      <th></th>\n",
       "      <th>가격</th>\n",
       "      <th>종류</th>\n",
       "      <th>판매일자</th>\n",
       "      <th>반품여부</th>\n",
       "      <th>가격차이</th>\n",
       "    </tr>\n",
       "  </thead>\n",
       "  <tbody>\n",
       "    <tr>\n",
       "      <th>0</th>\n",
       "      <td>1000</td>\n",
       "      <td>과자</td>\n",
       "      <td>2019-12-31</td>\n",
       "      <td>반품</td>\n",
       "      <td>750</td>\n",
       "    </tr>\n",
       "    <tr>\n",
       "      <th>1</th>\n",
       "      <td>2000</td>\n",
       "      <td>음료</td>\n",
       "      <td>2020-03-02</td>\n",
       "      <td>정상</td>\n",
       "      <td>-250</td>\n",
       "    </tr>\n",
       "    <tr>\n",
       "      <th>2</th>\n",
       "      <td>3000</td>\n",
       "      <td>아이스크림</td>\n",
       "      <td>2020-02-03</td>\n",
       "      <td>정상</td>\n",
       "      <td>-1250</td>\n",
       "    </tr>\n",
       "    <tr>\n",
       "      <th>3</th>\n",
       "      <td>1000</td>\n",
       "      <td>과자</td>\n",
       "      <td>2019-12-31</td>\n",
       "      <td>반품</td>\n",
       "      <td>750</td>\n",
       "    </tr>\n",
       "  </tbody>\n",
       "</table>\n",
       "</div>"
      ],
      "text/plain": [
       "     가격     종류        판매일자 반품여부  가격차이\n",
       "0  1000     과자  2019-12-31   반품   750\n",
       "1  2000     음료  2020-03-02   정상  -250\n",
       "2  3000  아이스크림  2020-02-03   정상 -1250\n",
       "3  1000     과자  2019-12-31   반품   750"
      ]
     },
     "execution_count": 39,
     "metadata": {},
     "output_type": "execute_result"
    }
   ],
   "source": [
    "df_saledays"
   ]
  },
  {
   "cell_type": "code",
   "execution_count": null,
   "id": "39f6b20a-13be-4916-bdb1-2ddb9a78da0c",
   "metadata": {},
   "outputs": [],
   "source": []
  },
  {
   "cell_type": "markdown",
   "id": "742fe57a-168b-4f9c-a309-8e8184e54c31",
   "metadata": {
    "jp-MarkdownHeadingCollapsed": true,
    "tags": []
   },
   "source": [
    "### Series\n",
    "- index - data"
   ]
  },
  {
   "cell_type": "code",
   "execution_count": 23,
   "id": "6b057548-6a0d-4c99-b257-5ff643ee036e",
   "metadata": {
    "tags": []
   },
   "outputs": [
    {
     "data": {
      "text/plain": [
       "0    0.1\n",
       "1    0.2\n",
       "2    0.3\n",
       "3    0.4\n",
       "4    0.5\n",
       "dtype: float64"
      ]
     },
     "execution_count": 23,
     "metadata": {},
     "output_type": "execute_result"
    }
   ],
   "source": [
    "single_data = [0.1, 0.2, 0.3, 0.4, 0.5]\n",
    "series_float = pd.Series(data = single_data)\n",
    "series_float"
   ]
  },
  {
   "cell_type": "code",
   "execution_count": 24,
   "id": "3e583378-fa4a-40cb-8108-827a1b1faa5e",
   "metadata": {
    "tags": []
   },
   "outputs": [
    {
     "data": {
      "text/plain": [
       "pandas.core.series.Series"
      ]
     },
     "execution_count": 24,
     "metadata": {},
     "output_type": "execute_result"
    }
   ],
   "source": [
    "type(series_float)"
   ]
  },
  {
   "cell_type": "markdown",
   "id": "8a28e8f4-1e7b-4e3b-86de-55d7b8fa339b",
   "metadata": {},
   "source": [
    "### 통계 수치 표현"
   ]
  },
  {
   "cell_type": "code",
   "execution_count": 25,
   "id": "80b42abf-4a6c-498b-b199-647a943de162",
   "metadata": {
    "tags": []
   },
   "outputs": [],
   "source": [
    "import numpy as np"
   ]
  },
  {
   "cell_type": "code",
   "execution_count": 26,
   "id": "98f9abc7-3508-4a0f-8a89-00afa0e7d27d",
   "metadata": {
    "tags": []
   },
   "outputs": [
    {
     "data": {
      "text/plain": [
       "array([ 6,  4,  1,  3,  5,  3, 10,  7,  9])"
      ]
     },
     "execution_count": 26,
     "metadata": {},
     "output_type": "execute_result"
    }
   ],
   "source": [
    "arr = np.array([6, 4, 1, 3, 5, 3, 10, 7, 9])\n",
    "arr"
   ]
  },
  {
   "cell_type": "code",
   "execution_count": 27,
   "id": "4f7b974f-3b81-47a6-8dc7-a161f70e9419",
   "metadata": {
    "tags": []
   },
   "outputs": [
    {
     "data": {
      "text/plain": [
       "(5.333333333333333, 48)"
      ]
     },
     "execution_count": 27,
     "metadata": {},
     "output_type": "execute_result"
    }
   ],
   "source": [
    "# 평균 합계\n",
    "np.mean(arr), np.sum(arr)"
   ]
  },
  {
   "cell_type": "code",
   "execution_count": 28,
   "id": "8b879e43-941e-4a94-b75f-cb238ee77032",
   "metadata": {
    "tags": []
   },
   "outputs": [
    {
     "data": {
      "text/plain": [
       "5.0"
      ]
     },
     "execution_count": 28,
     "metadata": {},
     "output_type": "execute_result"
    }
   ],
   "source": [
    "# 중앙값\n",
    "np.median(arr)"
   ]
  },
  {
   "cell_type": "code",
   "execution_count": 29,
   "id": "385275dc-e80b-48b1-b067-c1fc9315cb9c",
   "metadata": {
    "tags": []
   },
   "outputs": [
    {
     "data": {
      "text/plain": [
       "(1, 10)"
      ]
     },
     "execution_count": 29,
     "metadata": {},
     "output_type": "execute_result"
    }
   ],
   "source": [
    "# 최소값, 최대값\n",
    "np.min(arr), np.max(arr)"
   ]
  },
  {
   "cell_type": "code",
   "execution_count": 30,
   "id": "84788a7d-3c23-4794-a604-b4faa8ee804a",
   "metadata": {
    "tags": []
   },
   "outputs": [
    {
     "data": {
      "text/plain": [
       "(7.777777777777778, 2.788866755113585)"
      ]
     },
     "execution_count": 30,
     "metadata": {},
     "output_type": "execute_result"
    }
   ],
   "source": [
    "# 분산, 표준편차\n",
    "np.var(arr),np.std(arr)"
   ]
  },
  {
   "cell_type": "markdown",
   "id": "aca6f861-c307-4328-93fd-7fe10e619dce",
   "metadata": {},
   "source": [
    "#### IQR"
   ]
  },
  {
   "cell_type": "code",
   "execution_count": 31,
   "id": "b8daf9b8-519e-48e7-ac61-f94d51d4b9d7",
   "metadata": {
    "tags": []
   },
   "outputs": [],
   "source": [
    "import numpy as np\n",
    "data = np.array([44, 32, 53, 75, 36, 45, 25, 49, 46, 28])"
   ]
  },
  {
   "cell_type": "code",
   "execution_count": 32,
   "id": "56c811e6-6604-4d39-8f04-c2157f3d24e8",
   "metadata": {
    "tags": []
   },
   "outputs": [],
   "source": [
    "# 25% 구간의 기준값 확인\n",
    "Q1=np.percentile(data, 25)"
   ]
  },
  {
   "cell_type": "code",
   "execution_count": 33,
   "id": "7871aaf2-82b5-49b9-ae68-c42c71d02b62",
   "metadata": {
    "tags": []
   },
   "outputs": [],
   "source": [
    "# 75% 구간의 기준값 확인\n",
    "Q3=np.percentile(data, 75)"
   ]
  },
  {
   "cell_type": "code",
   "execution_count": 34,
   "id": "9a4c8f6c-7121-4f26-8a8a-52c1ca834686",
   "metadata": {
    "tags": []
   },
   "outputs": [
    {
     "data": {
      "text/plain": [
       "(33.0, 48.25)"
      ]
     },
     "execution_count": 34,
     "metadata": {},
     "output_type": "execute_result"
    }
   ],
   "source": [
    "Q1,Q3"
   ]
  },
  {
   "cell_type": "code",
   "execution_count": 35,
   "id": "8afb581a-ee33-4b5b-a506-d3b955041002",
   "metadata": {
    "tags": []
   },
   "outputs": [
    {
     "data": {
      "text/plain": [
       "15.25"
      ]
     },
     "execution_count": 35,
     "metadata": {},
     "output_type": "execute_result"
    }
   ],
   "source": [
    "Q3 - Q1"
   ]
  },
  {
   "cell_type": "code",
   "execution_count": 36,
   "id": "3e0070a9-cf92-4ae5-bf31-32d18347564b",
   "metadata": {
    "tags": []
   },
   "outputs": [
    {
     "data": {
      "text/plain": [
       "44.5"
      ]
     },
     "execution_count": 36,
     "metadata": {},
     "output_type": "execute_result"
    }
   ],
   "source": [
    "np.median(data)"
   ]
  },
  {
   "cell_type": "code",
   "execution_count": 37,
   "id": "9295a6f7-9387-480f-a32a-ccaee94571ec",
   "metadata": {
    "tags": []
   },
   "outputs": [],
   "source": [
    "import seaborn as sns"
   ]
  },
  {
   "cell_type": "code",
   "execution_count": 38,
   "id": "9a834984-24f4-4385-a6d1-e4ab9254a956",
   "metadata": {
    "tags": []
   },
   "outputs": [
    {
     "data": {
      "text/plain": [
       "<Axes: >"
      ]
     },
     "execution_count": 38,
     "metadata": {},
     "output_type": "execute_result"
    },
    {
     "data": {
      "image/png": "[encoded data removed]",
      "text/plain": [
       "<Figure size 640x480 with 1 Axes>"
      ]
     },
     "metadata": {},
     "output_type": "display_data"
    }
   ],
   "source": [
    "sns.boxplot(data)"
   ]
  },
  {
   "cell_type": "code",
   "execution_count": null,
   "id": "78ecc800-bc7c-44a3-b7f2-89f2e4504f5c",
   "metadata": {},
   "outputs": [],
   "source": []
  }
 ],
 "metadata": {
  "kernelspec": {
   "display_name": "Python 3 (ipykernel)",
   "language": "python",
   "name": "python3"
  },
  "language_info": {
   "codemirror_mode": {
    "name": "ipython",
    "version": 3
   },
   "file_extension": ".py",
   "mimetype": "text/x-python",
   "name": "python",
   "nbconvert_exporter": "python",
   "pygments_lexer": "ipython3",
   "version": "3.11.3"
  }
 },
 "nbformat": 4,
 "nbformat_minor": 5
}
