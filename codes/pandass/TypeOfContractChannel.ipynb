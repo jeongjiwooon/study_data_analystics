{
 "cells": [
  {
   "cell_type": "markdown",
   "id": "aa0490c5-2362-46fa-a365-de4ed111d10d",
   "metadata": {},
   "source": [
    "출처\n",
    "https://blog.naver.com/data_station/222493245799"
   ]
  },
  {
   "cell_type": "code",
   "execution_count": 1,
   "id": "03b4bc4f-4b65-4d32-b3e6-0f6847c05a79",
   "metadata": {
    "tags": []
   },
   "outputs": [],
   "source": [
    "import pandas as pd"
   ]
  },
  {
   "cell_type": "code",
   "execution_count": 2,
   "id": "a5d52109-8571-4633-bd8e-333ea90c26c2",
   "metadata": {
    "tags": []
   },
   "outputs": [
    {
     "data": {
      "text/html": [
       "<div>\n",
       "<style scoped>\n",
       "    .dataframe tbody tr th:only-of-type {\n",
       "        vertical-align: middle;\n",
       "    }\n",
       "\n",
       "    .dataframe tbody tr th {\n",
       "        vertical-align: top;\n",
       "    }\n",
       "\n",
       "    .dataframe thead th {\n",
       "        text-align: right;\n",
       "    }\n",
       "</style>\n",
       "<table border=\"1\" class=\"dataframe\">\n",
       "  <thead>\n",
       "    <tr style=\"text-align: right;\">\n",
       "      <th></th>\n",
       "      <th>id</th>\n",
       "      <th>type_of_contract</th>\n",
       "      <th>type_of_contract2</th>\n",
       "      <th>channel</th>\n",
       "      <th>datetime</th>\n",
       "      <th>Term</th>\n",
       "      <th>payment_type</th>\n",
       "      <th>product</th>\n",
       "      <th>amount</th>\n",
       "      <th>state</th>\n",
       "      <th>overdue_count</th>\n",
       "      <th>overdue</th>\n",
       "      <th>credit rating</th>\n",
       "      <th>bank</th>\n",
       "      <th>cancellation</th>\n",
       "      <th>age</th>\n",
       "      <th>Mileage</th>\n",
       "    </tr>\n",
       "  </thead>\n",
       "  <tbody>\n",
       "    <tr>\n",
       "      <th>0</th>\n",
       "      <td>66758234</td>\n",
       "      <td>렌탈</td>\n",
       "      <td>Normal</td>\n",
       "      <td>서비스 방문</td>\n",
       "      <td>2019-10-20</td>\n",
       "      <td>60</td>\n",
       "      <td>CMS</td>\n",
       "      <td>K1</td>\n",
       "      <td>96900</td>\n",
       "      <td>계약확정</td>\n",
       "      <td>0</td>\n",
       "      <td>없음</td>\n",
       "      <td>9.0</td>\n",
       "      <td>새마을금고</td>\n",
       "      <td>정상</td>\n",
       "      <td>43.0</td>\n",
       "      <td>1862.0</td>\n",
       "    </tr>\n",
       "    <tr>\n",
       "      <th>1</th>\n",
       "      <td>66755948</td>\n",
       "      <td>렌탈</td>\n",
       "      <td>Extension_Rental</td>\n",
       "      <td>서비스 방문</td>\n",
       "      <td>2019-10-20</td>\n",
       "      <td>60</td>\n",
       "      <td>카드이체</td>\n",
       "      <td>K1</td>\n",
       "      <td>102900</td>\n",
       "      <td>계약확정</td>\n",
       "      <td>0</td>\n",
       "      <td>없음</td>\n",
       "      <td>2.0</td>\n",
       "      <td>현대카드</td>\n",
       "      <td>정상</td>\n",
       "      <td>62.0</td>\n",
       "      <td>2532.0</td>\n",
       "    </tr>\n",
       "    <tr>\n",
       "      <th>2</th>\n",
       "      <td>66756657</td>\n",
       "      <td>렌탈</td>\n",
       "      <td>Normal</td>\n",
       "      <td>홈쇼핑/방송</td>\n",
       "      <td>2019-10-20</td>\n",
       "      <td>60</td>\n",
       "      <td>CMS</td>\n",
       "      <td>K1</td>\n",
       "      <td>96900</td>\n",
       "      <td>계약확정</td>\n",
       "      <td>0</td>\n",
       "      <td>없음</td>\n",
       "      <td>8.0</td>\n",
       "      <td>우리은행</td>\n",
       "      <td>정상</td>\n",
       "      <td>60.0</td>\n",
       "      <td>2363.0</td>\n",
       "    </tr>\n",
       "    <tr>\n",
       "      <th>3</th>\n",
       "      <td>66423450</td>\n",
       "      <td>멤버십</td>\n",
       "      <td>TAS</td>\n",
       "      <td>렌탈재계약</td>\n",
       "      <td>2019-10-20</td>\n",
       "      <td>12</td>\n",
       "      <td>CMS</td>\n",
       "      <td>K1</td>\n",
       "      <td>66900</td>\n",
       "      <td>계약확정</td>\n",
       "      <td>0</td>\n",
       "      <td>없음</td>\n",
       "      <td>5.0</td>\n",
       "      <td>농협은행</td>\n",
       "      <td>정상</td>\n",
       "      <td>60.0</td>\n",
       "      <td>2449.0</td>\n",
       "    </tr>\n",
       "    <tr>\n",
       "      <th>4</th>\n",
       "      <td>66423204</td>\n",
       "      <td>멤버십</td>\n",
       "      <td>TAS</td>\n",
       "      <td>렌탈재계약</td>\n",
       "      <td>2019-10-20</td>\n",
       "      <td>12</td>\n",
       "      <td>CMS</td>\n",
       "      <td>K1</td>\n",
       "      <td>66900</td>\n",
       "      <td>해약확정</td>\n",
       "      <td>12</td>\n",
       "      <td>있음</td>\n",
       "      <td>8.0</td>\n",
       "      <td>농협은행</td>\n",
       "      <td>해약</td>\n",
       "      <td>51.0</td>\n",
       "      <td>1942.0</td>\n",
       "    </tr>\n",
       "    <tr>\n",
       "      <th>...</th>\n",
       "      <td>...</td>\n",
       "      <td>...</td>\n",
       "      <td>...</td>\n",
       "      <td>...</td>\n",
       "      <td>...</td>\n",
       "      <td>...</td>\n",
       "      <td>...</td>\n",
       "      <td>...</td>\n",
       "      <td>...</td>\n",
       "      <td>...</td>\n",
       "      <td>...</td>\n",
       "      <td>...</td>\n",
       "      <td>...</td>\n",
       "      <td>...</td>\n",
       "      <td>...</td>\n",
       "      <td>...</td>\n",
       "      <td>...</td>\n",
       "    </tr>\n",
       "    <tr>\n",
       "      <th>51299</th>\n",
       "      <td>66579515</td>\n",
       "      <td>NaN</td>\n",
       "      <td>Promotion</td>\n",
       "      <td>R관리방판</td>\n",
       "      <td>2020-02-03</td>\n",
       "      <td>60</td>\n",
       "      <td>무통장</td>\n",
       "      <td>K3</td>\n",
       "      <td>96900</td>\n",
       "      <td>계약확정</td>\n",
       "      <td>0</td>\n",
       "      <td>없음</td>\n",
       "      <td>NaN</td>\n",
       "      <td>롯데카드</td>\n",
       "      <td>정상</td>\n",
       "      <td>NaN</td>\n",
       "      <td>NaN</td>\n",
       "    </tr>\n",
       "    <tr>\n",
       "      <th>51300</th>\n",
       "      <td>66799558</td>\n",
       "      <td>렌탈</td>\n",
       "      <td>Normal</td>\n",
       "      <td>영업방판</td>\n",
       "      <td>2020-02-03</td>\n",
       "      <td>60</td>\n",
       "      <td>카드이체</td>\n",
       "      <td>K1</td>\n",
       "      <td>96900</td>\n",
       "      <td>해약확정</td>\n",
       "      <td>0</td>\n",
       "      <td>없음</td>\n",
       "      <td>8.0</td>\n",
       "      <td>롯데카드</td>\n",
       "      <td>해약</td>\n",
       "      <td>39.0</td>\n",
       "      <td>1753.0</td>\n",
       "    </tr>\n",
       "    <tr>\n",
       "      <th>51301</th>\n",
       "      <td>66799197</td>\n",
       "      <td>렌탈</td>\n",
       "      <td>Promotion</td>\n",
       "      <td>홈쇼핑/방송</td>\n",
       "      <td>2020-02-03</td>\n",
       "      <td>39</td>\n",
       "      <td>무통장</td>\n",
       "      <td>K5</td>\n",
       "      <td>120900</td>\n",
       "      <td>해약확정</td>\n",
       "      <td>0</td>\n",
       "      <td>없음</td>\n",
       "      <td>1.0</td>\n",
       "      <td>NaN</td>\n",
       "      <td>해약</td>\n",
       "      <td>51.0</td>\n",
       "      <td>2217.0</td>\n",
       "    </tr>\n",
       "    <tr>\n",
       "      <th>51302</th>\n",
       "      <td>66792778</td>\n",
       "      <td>NaN</td>\n",
       "      <td>Normal</td>\n",
       "      <td>렌탈총판</td>\n",
       "      <td>2020-02-03</td>\n",
       "      <td>60</td>\n",
       "      <td>카드이체</td>\n",
       "      <td>K1</td>\n",
       "      <td>96900</td>\n",
       "      <td>계약확정</td>\n",
       "      <td>0</td>\n",
       "      <td>없음</td>\n",
       "      <td>2.0</td>\n",
       "      <td>신한카드</td>\n",
       "      <td>정상</td>\n",
       "      <td>64.0</td>\n",
       "      <td>2588.0</td>\n",
       "    </tr>\n",
       "    <tr>\n",
       "      <th>51303</th>\n",
       "      <td>66799607</td>\n",
       "      <td>렌탈</td>\n",
       "      <td>Normal</td>\n",
       "      <td>하이마트</td>\n",
       "      <td>2020-02-03</td>\n",
       "      <td>60</td>\n",
       "      <td>CMS</td>\n",
       "      <td>K1</td>\n",
       "      <td>96900</td>\n",
       "      <td>해약확정</td>\n",
       "      <td>0</td>\n",
       "      <td>없음</td>\n",
       "      <td>8.0</td>\n",
       "      <td>농협은행</td>\n",
       "      <td>해약</td>\n",
       "      <td>53.0</td>\n",
       "      <td>2130.0</td>\n",
       "    </tr>\n",
       "  </tbody>\n",
       "</table>\n",
       "<p>51304 rows × 17 columns</p>\n",
       "</div>"
      ],
      "text/plain": [
       "             id type_of_contract type_of_contract2 channel    datetime  Term  \\\n",
       "0      66758234               렌탈            Normal  서비스 방문  2019-10-20    60   \n",
       "1      66755948               렌탈  Extension_Rental  서비스 방문  2019-10-20    60   \n",
       "2      66756657               렌탈            Normal  홈쇼핑/방송  2019-10-20    60   \n",
       "3      66423450              멤버십               TAS   렌탈재계약  2019-10-20    12   \n",
       "4      66423204              멤버십               TAS   렌탈재계약  2019-10-20    12   \n",
       "...         ...              ...               ...     ...         ...   ...   \n",
       "51299  66579515              NaN         Promotion   R관리방판  2020-02-03    60   \n",
       "51300  66799558               렌탈            Normal    영업방판  2020-02-03    60   \n",
       "51301  66799197               렌탈         Promotion  홈쇼핑/방송  2020-02-03    39   \n",
       "51302  66792778              NaN            Normal    렌탈총판  2020-02-03    60   \n",
       "51303  66799607               렌탈            Normal    하이마트  2020-02-03    60   \n",
       "\n",
       "      payment_type product  amount state  overdue_count overdue  \\\n",
       "0              CMS      K1   96900  계약확정              0      없음   \n",
       "1             카드이체      K1  102900  계약확정              0      없음   \n",
       "2              CMS      K1   96900  계약확정              0      없음   \n",
       "3              CMS      K1   66900  계약확정              0      없음   \n",
       "4              CMS      K1   66900  해약확정             12      있음   \n",
       "...            ...     ...     ...   ...            ...     ...   \n",
       "51299          무통장      K3   96900  계약확정              0      없음   \n",
       "51300         카드이체      K1   96900  해약확정              0      없음   \n",
       "51301          무통장      K5  120900  해약확정              0      없음   \n",
       "51302         카드이체      K1   96900  계약확정              0      없음   \n",
       "51303          CMS      K1   96900  해약확정              0      없음   \n",
       "\n",
       "       credit rating   bank cancellation   age  Mileage  \n",
       "0                9.0  새마을금고           정상  43.0   1862.0  \n",
       "1                2.0   현대카드           정상  62.0   2532.0  \n",
       "2                8.0   우리은행           정상  60.0   2363.0  \n",
       "3                5.0   농협은행           정상  60.0   2449.0  \n",
       "4                8.0   농협은행           해약  51.0   1942.0  \n",
       "...              ...    ...          ...   ...      ...  \n",
       "51299            NaN   롯데카드           정상   NaN      NaN  \n",
       "51300            8.0   롯데카드           해약  39.0   1753.0  \n",
       "51301            1.0    NaN           해약  51.0   2217.0  \n",
       "51302            2.0   신한카드           정상  64.0   2588.0  \n",
       "51303            8.0   농협은행           해약  53.0   2130.0  \n",
       "\n",
       "[51304 rows x 17 columns]"
      ]
     },
     "execution_count": 2,
     "metadata": {},
     "output_type": "execute_result"
    }
   ],
   "source": [
    "pd.read_csv('../../datasets/TypeOfContractChannel.csv')"
   ]
  },
  {
   "cell_type": "code",
   "execution_count": 3,
   "id": "1f0dcc17-26a4-4727-9d85-c325e38bd058",
   "metadata": {
    "tags": []
   },
   "outputs": [],
   "source": [
    "df_TOCC = pd.read_csv('../../datasets/TypeOfContractChannel.csv')"
   ]
  },
  {
   "cell_type": "code",
   "execution_count": 4,
   "id": "caa2dd31-a883-4fec-a478-bf7e2dc6b316",
   "metadata": {
    "tags": []
   },
   "outputs": [
    {
     "name": "stdout",
     "output_type": "stream",
     "text": [
      "<class 'pandas.core.frame.DataFrame'>\n",
      "RangeIndex: 51304 entries, 0 to 51303\n",
      "Data columns (total 17 columns):\n",
      " #   Column             Non-Null Count  Dtype  \n",
      "---  ------             --------------  -----  \n",
      " 0   id                 51304 non-null  int64  \n",
      " 1   type_of_contract   51300 non-null  object \n",
      " 2   type_of_contract2  51303 non-null  object \n",
      " 3   channel            51304 non-null  object \n",
      " 4   datetime           51304 non-null  object \n",
      " 5   Term               51304 non-null  int64  \n",
      " 6   payment_type       51304 non-null  object \n",
      " 7   product            51303 non-null  object \n",
      " 8   amount             51304 non-null  int64  \n",
      " 9   state              51304 non-null  object \n",
      " 10  overdue_count      51304 non-null  int64  \n",
      " 11  overdue            51302 non-null  object \n",
      " 12  credit rating      42521 non-null  float64\n",
      " 13  bank               48544 non-null  object \n",
      " 14  cancellation       51279 non-null  object \n",
      " 15  age                40509 non-null  float64\n",
      " 16  Mileage            40509 non-null  float64\n",
      "dtypes: float64(3), int64(4), object(10)\n",
      "memory usage: 6.7+ MB\n"
     ]
    }
   ],
   "source": [
    "df_TOCC.info()"
   ]
  },
  {
   "cell_type": "code",
   "execution_count": 5,
   "id": "a93a8da8-4c74-45ff-98b8-40e74b7930ff",
   "metadata": {
    "tags": []
   },
   "outputs": [
    {
     "data": {
      "text/html": [
       "<div>\n",
       "<style scoped>\n",
       "    .dataframe tbody tr th:only-of-type {\n",
       "        vertical-align: middle;\n",
       "    }\n",
       "\n",
       "    .dataframe tbody tr th {\n",
       "        vertical-align: top;\n",
       "    }\n",
       "\n",
       "    .dataframe thead th {\n",
       "        text-align: right;\n",
       "    }\n",
       "</style>\n",
       "<table border=\"1\" class=\"dataframe\">\n",
       "  <thead>\n",
       "    <tr style=\"text-align: right;\">\n",
       "      <th></th>\n",
       "      <th>id</th>\n",
       "      <th>Term</th>\n",
       "      <th>amount</th>\n",
       "      <th>overdue_count</th>\n",
       "      <th>credit rating</th>\n",
       "      <th>age</th>\n",
       "      <th>Mileage</th>\n",
       "    </tr>\n",
       "  </thead>\n",
       "  <tbody>\n",
       "    <tr>\n",
       "      <th>count</th>\n",
       "      <td>5.130400e+04</td>\n",
       "      <td>51304.000000</td>\n",
       "      <td>51304.000000</td>\n",
       "      <td>51304.000000</td>\n",
       "      <td>42521.000000</td>\n",
       "      <td>40509.000000</td>\n",
       "      <td>40509.000000</td>\n",
       "    </tr>\n",
       "    <tr>\n",
       "      <th>mean</th>\n",
       "      <td>6.266457e+07</td>\n",
       "      <td>55.638527</td>\n",
       "      <td>93994.980021</td>\n",
       "      <td>0.161040</td>\n",
       "      <td>3.428894</td>\n",
       "      <td>46.608285</td>\n",
       "      <td>1967.922412</td>\n",
       "    </tr>\n",
       "    <tr>\n",
       "      <th>std</th>\n",
       "      <td>1.216115e+07</td>\n",
       "      <td>12.010117</td>\n",
       "      <td>15305.147334</td>\n",
       "      <td>1.122356</td>\n",
       "      <td>2.213590</td>\n",
       "      <td>13.465977</td>\n",
       "      <td>436.707329</td>\n",
       "    </tr>\n",
       "    <tr>\n",
       "      <th>min</th>\n",
       "      <td>2.568798e+07</td>\n",
       "      <td>12.000000</td>\n",
       "      <td>54603.000000</td>\n",
       "      <td>-1.000000</td>\n",
       "      <td>0.000000</td>\n",
       "      <td>20.000000</td>\n",
       "      <td>872.000000</td>\n",
       "    </tr>\n",
       "    <tr>\n",
       "      <th>25%</th>\n",
       "      <td>6.643149e+07</td>\n",
       "      <td>60.000000</td>\n",
       "      <td>81900.000000</td>\n",
       "      <td>0.000000</td>\n",
       "      <td>1.000000</td>\n",
       "      <td>37.000000</td>\n",
       "      <td>1646.000000</td>\n",
       "    </tr>\n",
       "    <tr>\n",
       "      <th>50%</th>\n",
       "      <td>6.676578e+07</td>\n",
       "      <td>60.000000</td>\n",
       "      <td>96900.000000</td>\n",
       "      <td>0.000000</td>\n",
       "      <td>3.000000</td>\n",
       "      <td>46.000000</td>\n",
       "      <td>1946.000000</td>\n",
       "    </tr>\n",
       "    <tr>\n",
       "      <th>75%</th>\n",
       "      <td>6.678161e+07</td>\n",
       "      <td>60.000000</td>\n",
       "      <td>98400.000000</td>\n",
       "      <td>0.000000</td>\n",
       "      <td>5.000000</td>\n",
       "      <td>56.000000</td>\n",
       "      <td>2263.000000</td>\n",
       "    </tr>\n",
       "    <tr>\n",
       "      <th>max</th>\n",
       "      <td>6.696986e+07</td>\n",
       "      <td>60.000000</td>\n",
       "      <td>215700.000000</td>\n",
       "      <td>15.000000</td>\n",
       "      <td>10.000000</td>\n",
       "      <td>107.000000</td>\n",
       "      <td>3803.000000</td>\n",
       "    </tr>\n",
       "  </tbody>\n",
       "</table>\n",
       "</div>"
      ],
      "text/plain": [
       "                 id          Term         amount  overdue_count  \\\n",
       "count  5.130400e+04  51304.000000   51304.000000   51304.000000   \n",
       "mean   6.266457e+07     55.638527   93994.980021       0.161040   \n",
       "std    1.216115e+07     12.010117   15305.147334       1.122356   \n",
       "min    2.568798e+07     12.000000   54603.000000      -1.000000   \n",
       "25%    6.643149e+07     60.000000   81900.000000       0.000000   \n",
       "50%    6.676578e+07     60.000000   96900.000000       0.000000   \n",
       "75%    6.678161e+07     60.000000   98400.000000       0.000000   \n",
       "max    6.696986e+07     60.000000  215700.000000      15.000000   \n",
       "\n",
       "       credit rating           age       Mileage  \n",
       "count   42521.000000  40509.000000  40509.000000  \n",
       "mean        3.428894     46.608285   1967.922412  \n",
       "std         2.213590     13.465977    436.707329  \n",
       "min         0.000000     20.000000    872.000000  \n",
       "25%         1.000000     37.000000   1646.000000  \n",
       "50%         3.000000     46.000000   1946.000000  \n",
       "75%         5.000000     56.000000   2263.000000  \n",
       "max        10.000000    107.000000   3803.000000  "
      ]
     },
     "execution_count": 5,
     "metadata": {},
     "output_type": "execute_result"
    }
   ],
   "source": [
    "df_TOCC.describe()"
   ]
  },
  {
   "cell_type": "code",
   "execution_count": 7,
   "id": "013f1dbf-29ff-4dcd-8452-bab326c9f7d0",
   "metadata": {
    "tags": []
   },
   "outputs": [
    {
     "data": {
      "text/html": [
       "<div>\n",
       "<style scoped>\n",
       "    .dataframe tbody tr th:only-of-type {\n",
       "        vertical-align: middle;\n",
       "    }\n",
       "\n",
       "    .dataframe tbody tr th {\n",
       "        vertical-align: top;\n",
       "    }\n",
       "\n",
       "    .dataframe thead th {\n",
       "        text-align: right;\n",
       "    }\n",
       "</style>\n",
       "<table border=\"1\" class=\"dataframe\">\n",
       "  <thead>\n",
       "    <tr style=\"text-align: right;\">\n",
       "      <th></th>\n",
       "      <th>type_of_contract</th>\n",
       "      <th>type_of_contract2</th>\n",
       "      <th>channel</th>\n",
       "      <th>datetime</th>\n",
       "      <th>payment_type</th>\n",
       "      <th>product</th>\n",
       "      <th>state</th>\n",
       "      <th>overdue</th>\n",
       "      <th>bank</th>\n",
       "      <th>cancellation</th>\n",
       "    </tr>\n",
       "  </thead>\n",
       "  <tbody>\n",
       "    <tr>\n",
       "      <th>count</th>\n",
       "      <td>51300</td>\n",
       "      <td>51303</td>\n",
       "      <td>51304</td>\n",
       "      <td>51304</td>\n",
       "      <td>51304</td>\n",
       "      <td>51303</td>\n",
       "      <td>51304</td>\n",
       "      <td>51302</td>\n",
       "      <td>48544</td>\n",
       "      <td>51279</td>\n",
       "    </tr>\n",
       "    <tr>\n",
       "      <th>unique</th>\n",
       "      <td>2</td>\n",
       "      <td>9</td>\n",
       "      <td>20</td>\n",
       "      <td>101</td>\n",
       "      <td>5</td>\n",
       "      <td>6</td>\n",
       "      <td>4</td>\n",
       "      <td>2</td>\n",
       "      <td>46</td>\n",
       "      <td>2</td>\n",
       "    </tr>\n",
       "    <tr>\n",
       "      <th>top</th>\n",
       "      <td>렌탈</td>\n",
       "      <td>Promotion</td>\n",
       "      <td>서비스 방문</td>\n",
       "      <td>2019-10-29</td>\n",
       "      <td>CMS</td>\n",
       "      <td>K1</td>\n",
       "      <td>계약확정</td>\n",
       "      <td>없음</td>\n",
       "      <td>국민은행</td>\n",
       "      <td>정상</td>\n",
       "    </tr>\n",
       "    <tr>\n",
       "      <th>freq</th>\n",
       "      <td>46481</td>\n",
       "      <td>15811</td>\n",
       "      <td>15186</td>\n",
       "      <td>817</td>\n",
       "      <td>32825</td>\n",
       "      <td>39134</td>\n",
       "      <td>50350</td>\n",
       "      <td>49112</td>\n",
       "      <td>9901</td>\n",
       "      <td>50372</td>\n",
       "    </tr>\n",
       "  </tbody>\n",
       "</table>\n",
       "</div>"
      ],
      "text/plain": [
       "       type_of_contract type_of_contract2 channel    datetime payment_type  \\\n",
       "count             51300             51303   51304       51304        51304   \n",
       "unique                2                 9      20         101            5   \n",
       "top                  렌탈         Promotion  서비스 방문  2019-10-29          CMS   \n",
       "freq              46481             15811   15186         817        32825   \n",
       "\n",
       "       product  state overdue   bank cancellation  \n",
       "count    51303  51304   51302  48544        51279  \n",
       "unique       6      4       2     46            2  \n",
       "top         K1   계약확정      없음   국민은행           정상  \n",
       "freq     39134  50350   49112   9901        50372  "
      ]
     },
     "execution_count": 7,
     "metadata": {},
     "output_type": "execute_result"
    }
   ],
   "source": [
    "df_TOCC.describe(include=object)"
   ]
  },
  {
   "cell_type": "code",
   "execution_count": 8,
   "id": "c261615d-ae71-4d1e-9efc-b732eefb211f",
   "metadata": {
    "tags": []
   },
   "outputs": [
    {
     "data": {
      "text/plain": [
       "array(['렌탈', '멤버십', nan], dtype=object)"
      ]
     },
     "execution_count": 8,
     "metadata": {},
     "output_type": "execute_result"
    }
   ],
   "source": [
    "df_TOCC['type_of_contract'].unique()"
   ]
  },
  {
   "cell_type": "code",
   "execution_count": 9,
   "id": "584451f8-839a-4e2e-af45-ad3ed80820fb",
   "metadata": {
    "tags": []
   },
   "outputs": [
    {
     "data": {
      "text/plain": [
       "렌탈     46481\n",
       "멤버십     4819\n",
       "Name: type_of_contract, dtype: int64"
      ]
     },
     "execution_count": 9,
     "metadata": {},
     "output_type": "execute_result"
    }
   ],
   "source": [
    "df_TOCC['type_of_contract'].value_counts()"
   ]
  },
  {
   "cell_type": "code",
   "execution_count": 10,
   "id": "da12bcef-61ec-4a2f-8bae-6a5cb8bddee9",
   "metadata": {
    "tags": []
   },
   "outputs": [
    {
     "data": {
      "text/plain": [
       "array(['Normal', 'Extension_Rental', 'TAS', 'Promotion', 'Package', nan,\n",
       "       'TA1', 'TA3', 'Group', 'TA2'], dtype=object)"
      ]
     },
     "execution_count": 10,
     "metadata": {},
     "output_type": "execute_result"
    }
   ],
   "source": [
    "df_TOCC['type_of_contract2'].unique()"
   ]
  },
  {
   "cell_type": "code",
   "execution_count": 11,
   "id": "7477ad78-baf1-45d3-8198-d13379539f99",
   "metadata": {
    "tags": []
   },
   "outputs": [
    {
     "data": {
      "text/plain": [
       "Promotion           15811\n",
       "Normal              15324\n",
       "Package             10184\n",
       "Extension_Rental     4975\n",
       "TAS                  2627\n",
       "TA2                  2087\n",
       "Group                 190\n",
       "TA3                    92\n",
       "TA1                    13\n",
       "Name: type_of_contract2, dtype: int64"
      ]
     },
     "execution_count": 11,
     "metadata": {},
     "output_type": "execute_result"
    }
   ],
   "source": [
    "df_TOCC['type_of_contract2'].value_counts()"
   ]
  },
  {
   "cell_type": "code",
   "execution_count": 12,
   "id": "52a1c1c7-1d8e-4f1c-91b3-2f5e5e3e34e0",
   "metadata": {
    "tags": []
   },
   "outputs": [
    {
     "data": {
      "text/plain": [
       "array(['서비스 방문', '홈쇼핑/방송', '렌탈재계약', '렌탈총판', '전자랜드', '홈플러스', '일반', '영업방판',\n",
       "       '하이마트', '이마트', '홈쇼핑/인터넷', 'R빌리미', 'R유통사', 'R인터넷', 'R관리방판',\n",
       "       'R농협인터넷몰', 'R농협', 'R법인', 'R렌탈운영', 'R법인그룹'], dtype=object)"
      ]
     },
     "execution_count": 12,
     "metadata": {},
     "output_type": "execute_result"
    }
   ],
   "source": [
    "df_TOCC['channel'].unique()"
   ]
  },
  {
   "cell_type": "code",
   "execution_count": 13,
   "id": "45a0bf30-7ed4-40ae-8d63-9efde3231430",
   "metadata": {
    "tags": []
   },
   "outputs": [
    {
     "data": {
      "text/plain": [
       "서비스 방문     15186\n",
       "홈쇼핑/방송     12977\n",
       "렌탈총판        5544\n",
       "R관리방판       4727\n",
       "하이마트        3227\n",
       "영업방판        3039\n",
       "렌탈재계약       2193\n",
       "일반          1232\n",
       "전자랜드        1205\n",
       "R빌리미         560\n",
       "이마트          265\n",
       "홈플러스         225\n",
       "R인터넷         198\n",
       "R유통사         188\n",
       "홈쇼핑/인터넷      177\n",
       "R렌탈운영        120\n",
       "R농협          119\n",
       "R농협인터넷몰       83\n",
       "R법인그룹         20\n",
       "R법인           19\n",
       "Name: channel, dtype: int64"
      ]
     },
     "execution_count": 13,
     "metadata": {},
     "output_type": "execute_result"
    }
   ],
   "source": [
    "df_TOCC['channel'].value_counts()"
   ]
  },
  {
   "cell_type": "code",
   "execution_count": 14,
   "id": "80a4d9dd-3ddb-4f89-bbd7-019cdcbb597d",
   "metadata": {
    "tags": []
   },
   "outputs": [
    {
     "data": {
      "text/plain": [
       "array(['CMS', '카드이체', '가상계좌', '지로', '무통장'], dtype=object)"
      ]
     },
     "execution_count": 14,
     "metadata": {},
     "output_type": "execute_result"
    }
   ],
   "source": [
    "df_TOCC['payment_type'].unique()"
   ]
  },
  {
   "cell_type": "code",
   "execution_count": 15,
   "id": "89d174e8-063a-4803-af77-7d377bf1ef91",
   "metadata": {
    "tags": []
   },
   "outputs": [
    {
     "data": {
      "text/plain": [
       "CMS     32825\n",
       "카드이체    15717\n",
       "무통장      2085\n",
       "가상계좌      612\n",
       "지로         65\n",
       "Name: payment_type, dtype: int64"
      ]
     },
     "execution_count": 15,
     "metadata": {},
     "output_type": "execute_result"
    }
   ],
   "source": [
    "df_TOCC['payment_type'].value_counts()"
   ]
  },
  {
   "cell_type": "code",
   "execution_count": 16,
   "id": "dc4032db-ee3b-4b09-a3bf-251e8a6bcdf5",
   "metadata": {
    "tags": []
   },
   "outputs": [
    {
     "data": {
      "text/plain": [
       "array(['K1', 'K3', 'K2', 'K4', 'K6', nan, 'K5'], dtype=object)"
      ]
     },
     "execution_count": 16,
     "metadata": {},
     "output_type": "execute_result"
    }
   ],
   "source": [
    "df_TOCC['product'].unique()"
   ]
  },
  {
   "cell_type": "code",
   "execution_count": 17,
   "id": "d429f61c-620c-4b24-a407-0a36f3de3470",
   "metadata": {
    "tags": []
   },
   "outputs": [
    {
     "data": {
      "text/plain": [
       "K1    39134\n",
       "K2     8995\n",
       "K3     2082\n",
       "K5      645\n",
       "K4      327\n",
       "K6      120\n",
       "Name: product, dtype: int64"
      ]
     },
     "execution_count": 17,
     "metadata": {},
     "output_type": "execute_result"
    }
   ],
   "source": [
    "df_TOCC['product'].value_counts()"
   ]
  },
  {
   "cell_type": "code",
   "execution_count": 18,
   "id": "ff3ff416-fb2c-4b4f-98a9-a7acdf9c3f16",
   "metadata": {
    "tags": []
   },
   "outputs": [
    {
     "data": {
      "text/plain": [
       "계약확정     50350\n",
       "해약확정       907\n",
       "기간만료        33\n",
       "해약진행중       14\n",
       "Name: state, dtype: int64"
      ]
     },
     "execution_count": 18,
     "metadata": {},
     "output_type": "execute_result"
    }
   ],
   "source": [
    "\n",
    "df_TOCC['state'].value_counts()"
   ]
  },
  {
   "cell_type": "code",
   "execution_count": 19,
   "id": "0a94f623-156e-4643-b4b6-1f2e425696db",
   "metadata": {
    "tags": []
   },
   "outputs": [
    {
     "data": {
      "text/plain": [
       "array(['계약확정', '해약확정', '기간만료', '해약진행중'], dtype=object)"
      ]
     },
     "execution_count": 19,
     "metadata": {},
     "output_type": "execute_result"
    }
   ],
   "source": [
    "df_TOCC['state'].unique()"
   ]
  },
  {
   "cell_type": "code",
   "execution_count": 20,
   "id": "29d04740-e4fa-4aa6-8dfd-65934b740aab",
   "metadata": {
    "tags": []
   },
   "outputs": [
    {
     "data": {
      "text/plain": [
       "없음    49112\n",
       "있음     2190\n",
       "Name: overdue, dtype: int64"
      ]
     },
     "execution_count": 20,
     "metadata": {},
     "output_type": "execute_result"
    }
   ],
   "source": [
    "df_TOCC['overdue'].value_counts()"
   ]
  },
  {
   "cell_type": "code",
   "execution_count": 21,
   "id": "c9de8488-2d5c-47c9-9180-c0ca5cbe7403",
   "metadata": {
    "tags": []
   },
   "outputs": [
    {
     "data": {
      "text/plain": [
       "국민은행         9901\n",
       "롯데카드         9518\n",
       "농협은행         6278\n",
       "신한은행         3522\n",
       "우리은행         3386\n",
       "기업은행         1963\n",
       "신한카드         1533\n",
       "하나은행         1446\n",
       "국민카드         1311\n",
       "BC카드         1264\n",
       "새마을금고         964\n",
       "부산은행          888\n",
       "삼성카드          884\n",
       "현대카드          876\n",
       "대구은행          746\n",
       "우체국           717\n",
       "외환은행          586\n",
       "외환카드          530\n",
       "경남은행          442\n",
       "SC제일은행        439\n",
       "광주은행          347\n",
       "신협중앙회         341\n",
       "전북은행          195\n",
       "씨티은행          162\n",
       "수협중앙회         160\n",
       "제주은행           40\n",
       "유안타증권          27\n",
       "산업은행           23\n",
       "현대증권           11\n",
       "삼성증권            7\n",
       "하나SK            6\n",
       "미래에셋증권          5\n",
       "NH농협카드          4\n",
       "한국투자증권          4\n",
       "신한금융투자          4\n",
       "우리카드            3\n",
       "대우증권            2\n",
       "하이투자증권          1\n",
       "메리츠종합금융증권       1\n",
       "수협카드            1\n",
       "상호저축은행          1\n",
       "SK증권            1\n",
       "하나대투증권          1\n",
       "산림조합중앙회         1\n",
       "대신증권            1\n",
       "씨티카드            1\n",
       "Name: bank, dtype: int64"
      ]
     },
     "execution_count": 21,
     "metadata": {},
     "output_type": "execute_result"
    }
   ],
   "source": [
    "df_TOCC['bank'].value_counts()"
   ]
  },
  {
   "cell_type": "code",
   "execution_count": 22,
   "id": "7f1d7e05-da92-43da-b480-08d5f430ae8f",
   "metadata": {
    "tags": []
   },
   "outputs": [
    {
     "data": {
      "text/plain": [
       "정상    50372\n",
       "해약      907\n",
       "Name: cancellation, dtype: int64"
      ]
     },
     "execution_count": 22,
     "metadata": {},
     "output_type": "execute_result"
    }
   ],
   "source": [
    "df_TOCC['cancellation'].value_counts()"
   ]
  },
  {
   "cell_type": "code",
   "execution_count": 23,
   "id": "06db583f-31e1-4161-99da-75435dafc731",
   "metadata": {
    "tags": []
   },
   "outputs": [
    {
     "data": {
      "text/plain": [
       "43.0     1166\n",
       "40.0     1146\n",
       "42.0     1132\n",
       "48.0     1113\n",
       "47.0     1112\n",
       "         ... \n",
       "107.0       1\n",
       "104.0       1\n",
       "97.0        1\n",
       "100.0       1\n",
       "101.0       1\n",
       "Name: age, Length: 84, dtype: int64"
      ]
     },
     "execution_count": 23,
     "metadata": {},
     "output_type": "execute_result"
    }
   ],
   "source": [
    "df_TOCC['age'].value_counts()"
   ]
  },
  {
   "cell_type": "code",
   "execution_count": 25,
   "id": "c6cd6239-aed8-4080-b096-c37a8d3ea538",
   "metadata": {
    "tags": []
   },
   "outputs": [
    {
     "data": {
      "text/plain": [
       "type_of_contract  type_of_contract2\n",
       "렌탈                Promotion            15810\n",
       "                  Normal               15322\n",
       "                  Package              10184\n",
       "                  Extension_Rental      4974\n",
       "멤버십               TAS                   2627\n",
       "                  TA2                   2087\n",
       "렌탈                Group                  190\n",
       "멤버십               TA3                     92\n",
       "                  TA1                     13\n",
       "dtype: int64"
      ]
     },
     "execution_count": 25,
     "metadata": {},
     "output_type": "execute_result"
    }
   ],
   "source": [
    "df_TOCC[['type_of_contract','type_of_contract2']].value_counts()"
   ]
  },
  {
   "cell_type": "code",
   "execution_count": 26,
   "id": "38c49580-5bbb-4eca-8ac5-36d90c200aba",
   "metadata": {
    "tags": []
   },
   "outputs": [
    {
     "data": {
      "text/plain": [
       "60    44536\n",
       "36     3352\n",
       "12     2651\n",
       "39      765\n",
       "Name: Term, dtype: int64"
      ]
     },
     "execution_count": 26,
     "metadata": {},
     "output_type": "execute_result"
    }
   ],
   "source": [
    "df_TOCC['Term'].value_counts()"
   ]
  },
  {
   "cell_type": "code",
   "execution_count": 27,
   "id": "aac40d5e-868c-4e88-91fe-092c55e6a8d5",
   "metadata": {
    "tags": []
   },
   "outputs": [
    {
     "data": {
      "text/plain": [
       "Term  age  \n",
       "60    43.0     1057\n",
       "      40.0     1043\n",
       "      42.0     1030\n",
       "      48.0     1029\n",
       "      47.0     1021\n",
       "               ... \n",
       "36    107.0       1\n",
       "39    71.0        1\n",
       "      75.0        1\n",
       "      76.0        1\n",
       "36    73.0        1\n",
       "Length: 277, dtype: int64"
      ]
     },
     "execution_count": 27,
     "metadata": {},
     "output_type": "execute_result"
    }
   ],
   "source": [
    "df_TOCC[['Term','age']].value_counts()"
   ]
  },
  {
   "cell_type": "code",
   "execution_count": 31,
   "id": "a97f9b73-fd3d-4c71-bc06-296121cfe6c6",
   "metadata": {
    "tags": []
   },
   "outputs": [
    {
     "data": {
      "text/plain": [
       "amount  product\n",
       "96900   K1         18322\n",
       "105900  K1          5546\n",
       "81900   K2          4025\n",
       "        K1          3948\n",
       "66900   K1          2435\n",
       "                   ...  \n",
       "100200  K1             1\n",
       "136950  K1             1\n",
       "119400  K1             1\n",
       "120900  K3             1\n",
       "111300  K1             1\n",
       "Length: 126, dtype: int64"
      ]
     },
     "execution_count": 31,
     "metadata": {},
     "output_type": "execute_result"
    }
   ],
   "source": [
    "df_TOCC[['amount','product']].value_counts()"
   ]
  },
  {
   "cell_type": "code",
   "execution_count": 32,
   "id": "29c2af0b-92e1-4ed3-a557-017034c81cc5",
   "metadata": {
    "tags": []
   },
   "outputs": [
    {
     "data": {
      "text/plain": [
       "overdue  overdue_count\n",
       "없음        0               49095\n",
       "있음        1                 972\n",
       "          2                 388\n",
       "          3                 147\n",
       "          12                113\n",
       "          4                 111\n",
       "          5                  74\n",
       "          10                 64\n",
       "          7                  59\n",
       "          8                  57\n",
       "          11                 56\n",
       "          14                 45\n",
       "          13                 44\n",
       "          9                  44\n",
       "없음       -1                  17\n",
       "있음        15                 11\n",
       "          6                   5\n",
       "dtype: int64"
      ]
     },
     "execution_count": 32,
     "metadata": {},
     "output_type": "execute_result"
    }
   ],
   "source": [
    "df_TOCC[['overdue','overdue_count']].value_counts()"
   ]
  },
  {
   "cell_type": "code",
   "execution_count": 34,
   "id": "8933438f-53d6-43ab-8b5c-cd0031d08302",
   "metadata": {
    "tags": []
   },
   "outputs": [
    {
     "data": {
      "text/plain": [
       "credit rating  bank  \n",
       "1.0            롯데카드      3436\n",
       "2.0            롯데카드      2065\n",
       "1.0            국민은행      2032\n",
       "2.0            국민은행      1680\n",
       "4.0            국민은행      1116\n",
       "                         ... \n",
       "1.0            수협카드         1\n",
       "               삼성증권         1\n",
       "4.0            우리카드         1\n",
       "1.0            미래에셋증권       1\n",
       "0.0            SC제일은행       1\n",
       "Length: 303, dtype: int64"
      ]
     },
     "execution_count": 34,
     "metadata": {},
     "output_type": "execute_result"
    }
   ],
   "source": [
    "df_TOCC[['credit rating','bank']].value_counts()"
   ]
  },
  {
   "cell_type": "code",
   "execution_count": null,
   "id": "a13bd24d-1a9b-4807-8369-971b346cebf2",
   "metadata": {},
   "outputs": [],
   "source": []
  }
 ],
 "metadata": {
  "kernelspec": {
   "display_name": "Python 3 (ipykernel)",
   "language": "python",
   "name": "python3"
  },
  "language_info": {
   "codemirror_mode": {
    "name": "ipython",
    "version": 3
   },
   "file_extension": ".py",
   "mimetype": "text/x-python",
   "name": "python",
   "nbconvert_exporter": "python",
   "pygments_lexer": "ipython3",
   "version": "3.11.3"
  }
 },
 "nbformat": 4,
 "nbformat_minor": 5
}
