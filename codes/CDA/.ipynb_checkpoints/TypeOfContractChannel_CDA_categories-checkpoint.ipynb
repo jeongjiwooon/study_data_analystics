{
 "cells": [
  {
   "cell_type": "code",
   "execution_count": 20,
   "id": "10885c76-62ba-4e5d-8453-467cf440c4fb",
   "metadata": {
    "tags": []
   },
   "outputs": [],
   "source": [
    "import pandas as pd\n",
    "import numpy as np\n",
    "import matplotlib.pyplot as plt\n",
    "import matplotlib as mpl\n",
    "mpl.rc('font',family='Malgun Gothic')\n",
    "import seaborn as sns"
   ]
  },
  {
   "cell_type": "code",
   "execution_count": 21,
   "id": "39db615d-4e91-4daf-b5ed-169c0cf92da2",
   "metadata": {
    "tags": []
   },
   "outputs": [
    {
     "data": {
      "text/html": [
       "<div>\n",
       "<style scoped>\n",
       "    .dataframe tbody tr th:only-of-type {\n",
       "        vertical-align: middle;\n",
       "    }\n",
       "\n",
       "    .dataframe tbody tr th {\n",
       "        vertical-align: top;\n",
       "    }\n",
       "\n",
       "    .dataframe thead th {\n",
       "        text-align: right;\n",
       "    }\n",
       "</style>\n",
       "<table border=\"1\" class=\"dataframe\">\n",
       "  <thead>\n",
       "    <tr style=\"text-align: right;\">\n",
       "      <th></th>\n",
       "      <th>id</th>\n",
       "      <th>type_of_contract</th>\n",
       "      <th>type_of_contract2</th>\n",
       "      <th>channel</th>\n",
       "      <th>datetime</th>\n",
       "      <th>Term</th>\n",
       "      <th>payment_type</th>\n",
       "      <th>product</th>\n",
       "      <th>amount</th>\n",
       "      <th>state</th>\n",
       "      <th>overdue_count</th>\n",
       "      <th>overdue</th>\n",
       "      <th>credit rating</th>\n",
       "      <th>bank</th>\n",
       "      <th>cancellation</th>\n",
       "      <th>age</th>\n",
       "      <th>Mileage</th>\n",
       "    </tr>\n",
       "  </thead>\n",
       "  <tbody>\n",
       "    <tr>\n",
       "      <th>0</th>\n",
       "      <td>66758234</td>\n",
       "      <td>렌탈</td>\n",
       "      <td>Normal</td>\n",
       "      <td>서비스 방문</td>\n",
       "      <td>2019-10-20</td>\n",
       "      <td>60</td>\n",
       "      <td>CMS</td>\n",
       "      <td>K1</td>\n",
       "      <td>96900</td>\n",
       "      <td>계약확정</td>\n",
       "      <td>0</td>\n",
       "      <td>없음</td>\n",
       "      <td>9.0</td>\n",
       "      <td>새마을금고</td>\n",
       "      <td>정상</td>\n",
       "      <td>43.0</td>\n",
       "      <td>1862.0</td>\n",
       "    </tr>\n",
       "    <tr>\n",
       "      <th>1</th>\n",
       "      <td>66755948</td>\n",
       "      <td>렌탈</td>\n",
       "      <td>Extension_Rental</td>\n",
       "      <td>서비스 방문</td>\n",
       "      <td>2019-10-20</td>\n",
       "      <td>60</td>\n",
       "      <td>카드이체</td>\n",
       "      <td>K1</td>\n",
       "      <td>102900</td>\n",
       "      <td>계약확정</td>\n",
       "      <td>0</td>\n",
       "      <td>없음</td>\n",
       "      <td>2.0</td>\n",
       "      <td>현대카드</td>\n",
       "      <td>정상</td>\n",
       "      <td>62.0</td>\n",
       "      <td>2532.0</td>\n",
       "    </tr>\n",
       "  </tbody>\n",
       "</table>\n",
       "</div>"
      ],
      "text/plain": [
       "         id type_of_contract type_of_contract2 channel    datetime  Term  \\\n",
       "0  66758234               렌탈            Normal  서비스 방문  2019-10-20    60   \n",
       "1  66755948               렌탈  Extension_Rental  서비스 방문  2019-10-20    60   \n",
       "\n",
       "  payment_type product  amount state  overdue_count overdue  credit rating  \\\n",
       "0          CMS      K1   96900  계약확정              0      없음            9.0   \n",
       "1         카드이체      K1  102900  계약확정              0      없음            2.0   \n",
       "\n",
       "    bank cancellation   age  Mileage  \n",
       "0  새마을금고           정상  43.0   1862.0  \n",
       "1   현대카드           정상  62.0   2532.0  "
      ]
     },
     "execution_count": 21,
     "metadata": {},
     "output_type": "execute_result"
    }
   ],
   "source": [
    "df_TOCC = pd.read_csv('../../datasets/TypeOfContractChannel.csv')\n",
    "df_TOCC[:2]"
   ]
  },
  {
   "cell_type": "markdown",
   "id": "1117c541-ae0e-4195-8879-27510b0397e1",
   "metadata": {
    "tags": []
   },
   "source": [
    "### x는 범부형, y는 범주형 : 주로 독립성 증명\n"
   ]
  },
  {
   "cell_type": "markdown",
   "id": "4ef15770-44d5-44c0-aa1c-088160463648",
   "metadata": {},
   "source": [
    "#### 선정 변수 : type_of_contract, cancellation\n",
    "- 분석내용 : 계약유형에 따라 해약여부가 달라지는가??\n",
    "    - 귀무가설 : 계약유형에 따라 해약여부가 달라지지 않는다.\n",
    "    - 대립가설 : 계약유형에 대한 해약여부가 달라진다.\n",
    "- 분석 결론(기준:p-value 0.05)\n",
    "    - 통계 결론 : 대립가설이 참.\n",
    "    - 사실 결론 : 계약유형에 대한 해약여부가 달라진다."
   ]
  },
  {
   "cell_type": "code",
   "execution_count": 22,
   "id": "48a3cc0e-13c6-477b-b456-42b0ca4b474b",
   "metadata": {
    "tags": []
   },
   "outputs": [],
   "source": [
    "import scipy\n",
    "scipy.__version__\n",
    "import scipy.stats as stats"
   ]
  },
  {
   "cell_type": "code",
   "execution_count": 23,
   "id": "0f30a9db-8409-4de6-b38c-9ca69ac4511c",
   "metadata": {
    "tags": []
   },
   "outputs": [
    {
     "data": {
      "text/html": [
       "<div>\n",
       "<style scoped>\n",
       "    .dataframe tbody tr th:only-of-type {\n",
       "        vertical-align: middle;\n",
       "    }\n",
       "\n",
       "    .dataframe tbody tr th {\n",
       "        vertical-align: top;\n",
       "    }\n",
       "\n",
       "    .dataframe thead th {\n",
       "        text-align: right;\n",
       "    }\n",
       "</style>\n",
       "<table border=\"1\" class=\"dataframe\">\n",
       "  <thead>\n",
       "    <tr style=\"text-align: right;\">\n",
       "      <th></th>\n",
       "      <th>type_of_contract</th>\n",
       "      <th>cancellation</th>\n",
       "    </tr>\n",
       "  </thead>\n",
       "  <tbody>\n",
       "    <tr>\n",
       "      <th>count</th>\n",
       "      <td>51300</td>\n",
       "      <td>51279</td>\n",
       "    </tr>\n",
       "    <tr>\n",
       "      <th>unique</th>\n",
       "      <td>2</td>\n",
       "      <td>2</td>\n",
       "    </tr>\n",
       "    <tr>\n",
       "      <th>top</th>\n",
       "      <td>렌탈</td>\n",
       "      <td>정상</td>\n",
       "    </tr>\n",
       "    <tr>\n",
       "      <th>freq</th>\n",
       "      <td>46481</td>\n",
       "      <td>50372</td>\n",
       "    </tr>\n",
       "  </tbody>\n",
       "</table>\n",
       "</div>"
      ],
      "text/plain": [
       "       type_of_contract cancellation\n",
       "count             51300        51279\n",
       "unique                2            2\n",
       "top                  렌탈           정상\n",
       "freq              46481        50372"
      ]
     },
     "execution_count": 23,
     "metadata": {},
     "output_type": "execute_result"
    }
   ],
   "source": [
    "df_TOCC[['type_of_contract','cancellation']].describe()"
   ]
  },
  {
   "cell_type": "code",
   "execution_count": 24,
   "id": "67436ec4-6f48-4384-aab5-b0d6fc11f2a6",
   "metadata": {
    "tags": []
   },
   "outputs": [],
   "source": [
    "df_TOCC_category = df_TOCC[['type_of_contract','cancellation']]"
   ]
  },
  {
   "cell_type": "code",
   "execution_count": 25,
   "id": "f0c44404-1108-41e0-ab4d-54e34da8033c",
   "metadata": {
    "tags": []
   },
   "outputs": [
    {
     "data": {
      "text/html": [
       "<div>\n",
       "<style scoped>\n",
       "    .dataframe tbody tr th:only-of-type {\n",
       "        vertical-align: middle;\n",
       "    }\n",
       "\n",
       "    .dataframe tbody tr th {\n",
       "        vertical-align: top;\n",
       "    }\n",
       "\n",
       "    .dataframe thead th {\n",
       "        text-align: right;\n",
       "    }\n",
       "</style>\n",
       "<table border=\"1\" class=\"dataframe\">\n",
       "  <thead>\n",
       "    <tr style=\"text-align: right;\">\n",
       "      <th>cancellation</th>\n",
       "      <th>정상</th>\n",
       "      <th>해약</th>\n",
       "    </tr>\n",
       "    <tr>\n",
       "      <th>type_of_contract</th>\n",
       "      <th></th>\n",
       "      <th></th>\n",
       "    </tr>\n",
       "  </thead>\n",
       "  <tbody>\n",
       "    <tr>\n",
       "      <th>렌탈</th>\n",
       "      <td>46137</td>\n",
       "      <td>344</td>\n",
       "    </tr>\n",
       "    <tr>\n",
       "      <th>멤버십</th>\n",
       "      <td>4231</td>\n",
       "      <td>563</td>\n",
       "    </tr>\n",
       "  </tbody>\n",
       "</table>\n",
       "</div>"
      ],
      "text/plain": [
       "cancellation         정상   해약\n",
       "type_of_contract            \n",
       "렌탈                46137  344\n",
       "멤버십                4231  563"
      ]
     },
     "execution_count": 25,
     "metadata": {},
     "output_type": "execute_result"
    }
   ],
   "source": [
    "df_TOCC_category_pivot = pd.pivot_table(data=df_TOCC_category, index='type_of_contract', columns='cancellation',aggfunc=len)\n",
    "df_TOCC_category_pivot"
   ]
  },
  {
   "cell_type": "code",
   "execution_count": 26,
   "id": "e18c5810-f69c-4e6d-bcc9-c8ad23e5f455",
   "metadata": {
    "tags": []
   },
   "outputs": [
    {
     "data": {
      "text/plain": [
       "Chi2ContingencyResult(statistic=3021.9735309482894, pvalue=0.0, dof=1, expected_freq=array([[45658.8007411,   822.1992589],\n",
       "       [ 4709.1992589,    84.8007411]]))"
      ]
     },
     "execution_count": 26,
     "metadata": {},
     "output_type": "execute_result"
    }
   ],
   "source": [
    "stats.chi2_contingency(observed=df_TOCC_category_pivot, correction=True)"
   ]
  },
  {
   "cell_type": "markdown",
   "id": "a8087f44-8f78-401b-a93b-9a1f93e415af",
   "metadata": {
    "tags": []
   },
   "source": [
    "#### 선정 변수 : product, cancellation\n",
    "- 분석내용 : 차종에 따라 해약여부가 달라지는가???\n",
    "    - 귀무가설 : 차종에 따라 해약여부가 달라지지 않는다.\n",
    "    - 대립가설 : 차종에 따라 해약여부가 달라진다.\n",
    "- 분석 결론(기준:p-value 0.05)\n",
    "    - 통계 결론 : 대립가설 참.\n",
    "    - 사실 결론 : 차종에 따라 해약여부가 달라진다."
   ]
  },
  {
   "cell_type": "code",
   "execution_count": 31,
   "id": "c7f7162e-172e-4486-a1db-64c0a7420e90",
   "metadata": {},
   "outputs": [
    {
     "data": {
      "text/html": [
       "<div>\n",
       "<style scoped>\n",
       "    .dataframe tbody tr th:only-of-type {\n",
       "        vertical-align: middle;\n",
       "    }\n",
       "\n",
       "    .dataframe tbody tr th {\n",
       "        vertical-align: top;\n",
       "    }\n",
       "\n",
       "    .dataframe thead th {\n",
       "        text-align: right;\n",
       "    }\n",
       "</style>\n",
       "<table border=\"1\" class=\"dataframe\">\n",
       "  <thead>\n",
       "    <tr style=\"text-align: right;\">\n",
       "      <th></th>\n",
       "      <th>product</th>\n",
       "      <th>cancellation</th>\n",
       "    </tr>\n",
       "  </thead>\n",
       "  <tbody>\n",
       "    <tr>\n",
       "      <th>count</th>\n",
       "      <td>51278</td>\n",
       "      <td>51278</td>\n",
       "    </tr>\n",
       "    <tr>\n",
       "      <th>unique</th>\n",
       "      <td>6</td>\n",
       "      <td>2</td>\n",
       "    </tr>\n",
       "    <tr>\n",
       "      <th>top</th>\n",
       "      <td>K1</td>\n",
       "      <td>정상</td>\n",
       "    </tr>\n",
       "    <tr>\n",
       "      <th>freq</th>\n",
       "      <td>39111</td>\n",
       "      <td>50371</td>\n",
       "    </tr>\n",
       "  </tbody>\n",
       "</table>\n",
       "</div>"
      ],
      "text/plain": [
       "       product cancellation\n",
       "count    51278        51278\n",
       "unique       6            2\n",
       "top         K1           정상\n",
       "freq     39111        50371"
      ]
     },
     "execution_count": 31,
     "metadata": {},
     "output_type": "execute_result"
    }
   ],
   "source": [
    "#다른 변수 이름 작성시 .copy() 사용하자.\n",
    "df_TOCC_product = df_TOCC[['product','cancellation']].dropna().copy()\n",
    "# df_TOCC_product[:2]\n",
    "df_TOCC_product.describe()"
   ]
  },
  {
   "cell_type": "code",
   "execution_count": 35,
   "id": "bf683323-8623-45d8-b6ae-96c389c7d240",
   "metadata": {
    "tags": []
   },
   "outputs": [
    {
     "data": {
      "text/html": [
       "<div>\n",
       "<style scoped>\n",
       "    .dataframe tbody tr th:only-of-type {\n",
       "        vertical-align: middle;\n",
       "    }\n",
       "\n",
       "    .dataframe tbody tr th {\n",
       "        vertical-align: top;\n",
       "    }\n",
       "\n",
       "    .dataframe thead th {\n",
       "        text-align: right;\n",
       "    }\n",
       "</style>\n",
       "<table border=\"1\" class=\"dataframe\">\n",
       "  <thead>\n",
       "    <tr style=\"text-align: right;\">\n",
       "      <th>cancellation</th>\n",
       "      <th>정상</th>\n",
       "      <th>해약</th>\n",
       "    </tr>\n",
       "    <tr>\n",
       "      <th>product</th>\n",
       "      <th></th>\n",
       "      <th></th>\n",
       "    </tr>\n",
       "  </thead>\n",
       "  <tbody>\n",
       "    <tr>\n",
       "      <th>K1</th>\n",
       "      <td>38291</td>\n",
       "      <td>820</td>\n",
       "    </tr>\n",
       "    <tr>\n",
       "      <th>K2</th>\n",
       "      <td>8926</td>\n",
       "      <td>67</td>\n",
       "    </tr>\n",
       "    <tr>\n",
       "      <th>K3</th>\n",
       "      <td>2072</td>\n",
       "      <td>10</td>\n",
       "    </tr>\n",
       "    <tr>\n",
       "      <th>K4</th>\n",
       "      <td>323</td>\n",
       "      <td>4</td>\n",
       "    </tr>\n",
       "    <tr>\n",
       "      <th>K5</th>\n",
       "      <td>641</td>\n",
       "      <td>4</td>\n",
       "    </tr>\n",
       "    <tr>\n",
       "      <th>K6</th>\n",
       "      <td>118</td>\n",
       "      <td>2</td>\n",
       "    </tr>\n",
       "  </tbody>\n",
       "</table>\n",
       "</div>"
      ],
      "text/plain": [
       "cancellation     정상   해약\n",
       "product                 \n",
       "K1            38291  820\n",
       "K2             8926   67\n",
       "K3             2072   10\n",
       "K4              323    4\n",
       "K5              641    4\n",
       "K6              118    2"
      ]
     },
     "execution_count": 35,
     "metadata": {},
     "output_type": "execute_result"
    }
   ],
   "source": [
    "df_TOCC_product_pivot = pd.pivot_table(data=df_TOCC_product, index='product', columns='cancellation', aggfunc=len)\n",
    "df_TOCC_product_pivot"
   ]
  },
  {
   "cell_type": "code",
   "execution_count": 36,
   "id": "26e24ea8-c39d-4ef0-8b01-cb96babc5443",
   "metadata": {
    "tags": []
   },
   "outputs": [
    {
     "data": {
      "text/plain": [
       "Chi2ContingencyResult(statistic=103.79474317337241, pvalue=8.372028115481391e-21, dof=5, expected_freq=array([[3.84192086e+04, 6.91791353e+02],\n",
       "       [8.83393274e+03, 1.59067261e+02],\n",
       "       [2.04517380e+03, 3.68262023e+01],\n",
       "       [3.21216058e+02, 5.78394243e+00],\n",
       "       [6.33591306e+02, 1.14086938e+01],\n",
       "       [1.17877452e+02, 2.12254768e+00]]))"
      ]
     },
     "execution_count": 36,
     "metadata": {},
     "output_type": "execute_result"
    }
   ],
   "source": [
    "stats.chi2_contingency(observed=df_TOCC_product_pivot,correction=True)"
   ]
  },
  {
   "cell_type": "markdown",
   "id": "b92003d5-c2b2-4514-a0b0-90476b19e6bf",
   "metadata": {},
   "source": [
    "#### 선정 변수 : state, cancellation\n",
    "- 분석내용 : 차종에 따라 해약여부가 달라지는가???\n",
    "    - 귀무가설 : 차종에 따라 해약여부가 달라지지 않는다.\n",
    "    - 대립가설 : 차종에 따라 해약여부가 달라진다.\n",
    "- 분석 결론(기준:p-value 0.05)\n",
    "    - 통계 결론 : 대립가설 참.\n",
    "    - 사실 결론 : 차종에 따라 해약여부가 달라진다."
   ]
  },
  {
   "cell_type": "code",
   "execution_count": 39,
   "id": "90a414a2-6a2d-4880-910d-d31c08836a36",
   "metadata": {
    "tags": []
   },
   "outputs": [
    {
     "data": {
      "text/html": [
       "<div>\n",
       "<style scoped>\n",
       "    .dataframe tbody tr th:only-of-type {\n",
       "        vertical-align: middle;\n",
       "    }\n",
       "\n",
       "    .dataframe tbody tr th {\n",
       "        vertical-align: top;\n",
       "    }\n",
       "\n",
       "    .dataframe thead th {\n",
       "        text-align: right;\n",
       "    }\n",
       "</style>\n",
       "<table border=\"1\" class=\"dataframe\">\n",
       "  <thead>\n",
       "    <tr style=\"text-align: right;\">\n",
       "      <th></th>\n",
       "      <th>state</th>\n",
       "      <th>cancellation</th>\n",
       "    </tr>\n",
       "  </thead>\n",
       "  <tbody>\n",
       "    <tr>\n",
       "      <th>count</th>\n",
       "      <td>51304</td>\n",
       "      <td>51279</td>\n",
       "    </tr>\n",
       "    <tr>\n",
       "      <th>unique</th>\n",
       "      <td>4</td>\n",
       "      <td>2</td>\n",
       "    </tr>\n",
       "    <tr>\n",
       "      <th>top</th>\n",
       "      <td>계약확정</td>\n",
       "      <td>정상</td>\n",
       "    </tr>\n",
       "    <tr>\n",
       "      <th>freq</th>\n",
       "      <td>50350</td>\n",
       "      <td>50372</td>\n",
       "    </tr>\n",
       "  </tbody>\n",
       "</table>\n",
       "</div>"
      ],
      "text/plain": [
       "        state cancellation\n",
       "count   51304        51279\n",
       "unique      4            2\n",
       "top      계약확정           정상\n",
       "freq    50350        50372"
      ]
     },
     "execution_count": 39,
     "metadata": {},
     "output_type": "execute_result"
    }
   ],
   "source": [
    "df_TOCC_error = df_TOCC[['state','cancellation']].copy()\n",
    "# df_TOCC_error[:2]\n",
    "df_TOCC_error.describe()"
   ]
  },
  {
   "cell_type": "code",
   "execution_count": null,
   "id": "77190ac9-b9ca-4b4c-84b2-a883b949bb37",
   "metadata": {},
   "outputs": [],
   "source": []
  }
 ],
 "metadata": {
  "kernelspec": {
   "display_name": "Python 3 (ipykernel)",
   "language": "python",
   "name": "python3"
  },
  "language_info": {
   "codemirror_mode": {
    "name": "ipython",
    "version": 3
   },
   "file_extension": ".py",
   "mimetype": "text/x-python",
   "name": "python",
   "nbconvert_exporter": "python",
   "pygments_lexer": "ipython3",
   "version": "3.11.3"
  }
 },
 "nbformat": 4,
 "nbformat_minor": 5
}
