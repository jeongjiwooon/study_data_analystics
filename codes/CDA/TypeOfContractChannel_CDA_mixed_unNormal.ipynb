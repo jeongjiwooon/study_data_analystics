{
 "cells": [
  {
   "cell_type": "code",
   "execution_count": 1,
   "id": "e4c6ee9c-efac-4c8b-81a5-0c1941d41f70",
   "metadata": {
    "tags": []
   },
   "outputs": [],
   "source": [
    "import matplotlib.pyplot as plt\n",
    "import matplotlib as mpl\n",
    "mpl.rc('font',family='Malgun Gothic')\n",
    "import seaborn as sns\n",
    "import pandas as pd\n",
    "import scipy\n",
    "scipy.__version__\n",
    "import scipy.stats as stats"
   ]
  },
  {
   "cell_type": "code",
   "execution_count": 2,
   "id": "e1e6c9f7-b29e-4f02-a51a-92b8609da2d3",
   "metadata": {
    "tags": []
   },
   "outputs": [
    {
     "data": {
      "text/html": [
       "<div>\n",
       "<style scoped>\n",
       "    .dataframe tbody tr th:only-of-type {\n",
       "        vertical-align: middle;\n",
       "    }\n",
       "\n",
       "    .dataframe tbody tr th {\n",
       "        vertical-align: top;\n",
       "    }\n",
       "\n",
       "    .dataframe thead th {\n",
       "        text-align: right;\n",
       "    }\n",
       "</style>\n",
       "<table border=\"1\" class=\"dataframe\">\n",
       "  <thead>\n",
       "    <tr style=\"text-align: right;\">\n",
       "      <th></th>\n",
       "      <th>id</th>\n",
       "      <th>type_of_contract</th>\n",
       "      <th>type_of_contract2</th>\n",
       "      <th>channel</th>\n",
       "      <th>datetime</th>\n",
       "      <th>Term</th>\n",
       "      <th>payment_type</th>\n",
       "      <th>product</th>\n",
       "      <th>amount</th>\n",
       "      <th>state</th>\n",
       "      <th>overdue_count</th>\n",
       "      <th>overdue</th>\n",
       "      <th>credit rating</th>\n",
       "      <th>bank</th>\n",
       "      <th>cancellation</th>\n",
       "      <th>age</th>\n",
       "      <th>Mileage</th>\n",
       "    </tr>\n",
       "  </thead>\n",
       "  <tbody>\n",
       "    <tr>\n",
       "      <th>0</th>\n",
       "      <td>66758234</td>\n",
       "      <td>렌탈</td>\n",
       "      <td>Normal</td>\n",
       "      <td>서비스 방문</td>\n",
       "      <td>2019-10-20</td>\n",
       "      <td>60</td>\n",
       "      <td>CMS</td>\n",
       "      <td>K1</td>\n",
       "      <td>96900</td>\n",
       "      <td>계약확정</td>\n",
       "      <td>0</td>\n",
       "      <td>없음</td>\n",
       "      <td>9.0</td>\n",
       "      <td>새마을금고</td>\n",
       "      <td>정상</td>\n",
       "      <td>43.0</td>\n",
       "      <td>1862.0</td>\n",
       "    </tr>\n",
       "    <tr>\n",
       "      <th>1</th>\n",
       "      <td>66755948</td>\n",
       "      <td>렌탈</td>\n",
       "      <td>Extension_Rental</td>\n",
       "      <td>서비스 방문</td>\n",
       "      <td>2019-10-20</td>\n",
       "      <td>60</td>\n",
       "      <td>카드이체</td>\n",
       "      <td>K1</td>\n",
       "      <td>102900</td>\n",
       "      <td>계약확정</td>\n",
       "      <td>0</td>\n",
       "      <td>없음</td>\n",
       "      <td>2.0</td>\n",
       "      <td>현대카드</td>\n",
       "      <td>정상</td>\n",
       "      <td>62.0</td>\n",
       "      <td>2532.0</td>\n",
       "    </tr>\n",
       "  </tbody>\n",
       "</table>\n",
       "</div>"
      ],
      "text/plain": [
       "         id type_of_contract type_of_contract2 channel    datetime  Term  \\\n",
       "0  66758234               렌탈            Normal  서비스 방문  2019-10-20    60   \n",
       "1  66755948               렌탈  Extension_Rental  서비스 방문  2019-10-20    60   \n",
       "\n",
       "  payment_type product  amount state  overdue_count overdue  credit rating  \\\n",
       "0          CMS      K1   96900  계약확정              0      없음            9.0   \n",
       "1         카드이체      K1  102900  계약확정              0      없음            2.0   \n",
       "\n",
       "    bank cancellation   age  Mileage  \n",
       "0  새마을금고           정상  43.0   1862.0  \n",
       "1   현대카드           정상  62.0   2532.0  "
      ]
     },
     "execution_count": 2,
     "metadata": {},
     "output_type": "execute_result"
    }
   ],
   "source": [
    "df_TOCC = pd.read_csv('../../datasets/TypeOfContractChannel.csv')\n",
    "df_TOCC[:2]"
   ]
  },
  {
   "cell_type": "markdown",
   "id": "a8e6c964-deeb-484c-be68-62ea880dd235",
   "metadata": {
    "tags": []
   },
   "source": [
    "### X : 범주형 / Y : 연속형 : 범주형 상관관계 확인. Wilcoxon TEST\n",
    "\n",
    "#### 선정 변수 : channel(항목 2), amount(비정규 분포)\n",
    "\n",
    "- 분석 내용 : 서비스 방문과 홈쇼핑에 따른 월 렌탈 비용 평균이 차이가 있다.\n",
    "\n",
    "    - 귀무가설 : 비용 평균에 차이 없다.\n",
    "    - 대립가설 : 비용 평균에 차이 있다.\n",
    "    \n",
    "\n",
    "- 분석 결론 (기준 : p-value 0.05)\n",
    "\n",
    "    - 통계 결론 : 대립가설이 참 (pvalue=0.0)\n",
    "    - 사실 결론 : 비용 평균에 차이가 있다."
   ]
  },
  {
   "cell_type": "code",
   "execution_count": 3,
   "id": "ec46a410-b4fa-4621-a310-5cca759b1f15",
   "metadata": {
    "tags": []
   },
   "outputs": [
    {
     "data": {
      "text/plain": [
       "<Axes: xlabel='channel', ylabel='count'>"
      ]
     },
     "execution_count": 3,
     "metadata": {},
     "output_type": "execute_result"
    },
    {
     "data": {
      "image/png": "[encoded data removed]",
      "text/plain": [
       "<Figure size 640x480 with 1 Axes>"
      ]
     },
     "metadata": {},
     "output_type": "display_data"
    }
   ],
   "source": [
    "sns.countplot(data=df_TOCC, x='channel')"
   ]
  },
  {
   "cell_type": "code",
   "execution_count": 4,
   "id": "7028fae8-4ba6-4777-a672-ec0d35c365ed",
   "metadata": {
    "tags": []
   },
   "outputs": [
    {
     "data": {
      "text/plain": [
       "서비스 방문     15186\n",
       "홈쇼핑/방송     12977\n",
       "렌탈총판        5544\n",
       "R관리방판       4727\n",
       "하이마트        3227\n",
       "영업방판        3039\n",
       "렌탈재계약       2193\n",
       "일반          1232\n",
       "전자랜드        1205\n",
       "R빌리미         560\n",
       "이마트          265\n",
       "홈플러스         225\n",
       "R인터넷         198\n",
       "R유통사         188\n",
       "홈쇼핑/인터넷      177\n",
       "R렌탈운영        120\n",
       "R농협          119\n",
       "R농협인터넷몰       83\n",
       "R법인그룹         20\n",
       "R법인           19\n",
       "Name: channel, dtype: int64"
      ]
     },
     "execution_count": 4,
     "metadata": {},
     "output_type": "execute_result"
    }
   ],
   "source": [
    "df_TOCC['channel'].value_counts()"
   ]
  },
  {
   "cell_type": "code",
   "execution_count": 5,
   "id": "b32ff618-4cd4-4411-ab77-e9230220d25c",
   "metadata": {
    "tags": []
   },
   "outputs": [
    {
     "data": {
      "text/html": [
       "<div>\n",
       "<style scoped>\n",
       "    .dataframe tbody tr th:only-of-type {\n",
       "        vertical-align: middle;\n",
       "    }\n",
       "\n",
       "    .dataframe tbody tr th {\n",
       "        vertical-align: top;\n",
       "    }\n",
       "\n",
       "    .dataframe thead th {\n",
       "        text-align: right;\n",
       "    }\n",
       "</style>\n",
       "<table border=\"1\" class=\"dataframe\">\n",
       "  <thead>\n",
       "    <tr style=\"text-align: right;\">\n",
       "      <th></th>\n",
       "      <th>channel</th>\n",
       "      <th>amount</th>\n",
       "    </tr>\n",
       "  </thead>\n",
       "  <tbody>\n",
       "    <tr>\n",
       "      <th>0</th>\n",
       "      <td>서비스 방문</td>\n",
       "      <td>96900</td>\n",
       "    </tr>\n",
       "    <tr>\n",
       "      <th>1</th>\n",
       "      <td>서비스 방문</td>\n",
       "      <td>102900</td>\n",
       "    </tr>\n",
       "    <tr>\n",
       "      <th>2</th>\n",
       "      <td>홈쇼핑/방송</td>\n",
       "      <td>96900</td>\n",
       "    </tr>\n",
       "    <tr>\n",
       "      <th>5</th>\n",
       "      <td>서비스 방문</td>\n",
       "      <td>90900</td>\n",
       "    </tr>\n",
       "    <tr>\n",
       "      <th>6</th>\n",
       "      <td>홈쇼핑/방송</td>\n",
       "      <td>98400</td>\n",
       "    </tr>\n",
       "    <tr>\n",
       "      <th>7</th>\n",
       "      <td>홈쇼핑/방송</td>\n",
       "      <td>80400</td>\n",
       "    </tr>\n",
       "    <tr>\n",
       "      <th>8</th>\n",
       "      <td>서비스 방문</td>\n",
       "      <td>102900</td>\n",
       "    </tr>\n",
       "    <tr>\n",
       "      <th>9</th>\n",
       "      <td>서비스 방문</td>\n",
       "      <td>105900</td>\n",
       "    </tr>\n",
       "    <tr>\n",
       "      <th>10</th>\n",
       "      <td>홈쇼핑/방송</td>\n",
       "      <td>81900</td>\n",
       "    </tr>\n",
       "    <tr>\n",
       "      <th>11</th>\n",
       "      <td>홈쇼핑/방송</td>\n",
       "      <td>81900</td>\n",
       "    </tr>\n",
       "  </tbody>\n",
       "</table>\n",
       "</div>"
      ],
      "text/plain": [
       "   channel  amount\n",
       "0   서비스 방문   96900\n",
       "1   서비스 방문  102900\n",
       "2   홈쇼핑/방송   96900\n",
       "5   서비스 방문   90900\n",
       "6   홈쇼핑/방송   98400\n",
       "7   홈쇼핑/방송   80400\n",
       "8   서비스 방문  102900\n",
       "9   서비스 방문  105900\n",
       "10  홈쇼핑/방송   81900\n",
       "11  홈쇼핑/방송   81900"
      ]
     },
     "execution_count": 5,
     "metadata": {},
     "output_type": "execute_result"
    }
   ],
   "source": [
    "## 검증 대상 항목만 필터링 and 추출\n",
    "\n",
    "condition = (df_TOCC['channel'] == '서비스 방문') | (df_TOCC['channel'] == '홈쇼핑/방송') \n",
    "df_channel_amount = df_TOCC[condition][['channel','amount']]\n",
    "df_channel_amount.head(10) \n",
    "\n",
    "# null값 찾기"
   ]
  },
  {
   "cell_type": "code",
   "execution_count": 6,
   "id": "c85edc24-65fe-4b8f-9eff-aa387cbe35a0",
   "metadata": {
    "tags": []
   },
   "outputs": [
    {
     "name": "stdout",
     "output_type": "stream",
     "text": [
      "<class 'pandas.core.frame.DataFrame'>\n",
      "Int64Index: 28163 entries, 0 to 51301\n",
      "Data columns (total 2 columns):\n",
      " #   Column   Non-Null Count  Dtype \n",
      "---  ------   --------------  ----- \n",
      " 0   channel  28163 non-null  object\n",
      " 1   amount   28163 non-null  int64 \n",
      "dtypes: int64(1), object(1)\n",
      "memory usage: 660.1+ KB\n"
     ]
    }
   ],
   "source": [
    "df_channel_amount.info()"
   ]
  },
  {
   "cell_type": "markdown",
   "id": "95c442a7-0a51-4cc4-85c0-56e97ffaf390",
   "metadata": {
    "tags": []
   },
   "source": [
    "##### 5천 건 이상 anderson tets : 정규 분포 검증"
   ]
  },
  {
   "cell_type": "code",
   "execution_count": 7,
   "id": "8d0fbc8f-e5dd-4d27-a64e-231a8d45fe75",
   "metadata": {
    "tags": []
   },
   "outputs": [
    {
     "data": {
      "text/plain": [
       "(1292.5765966678264,\n",
       " array([0.576, 0.656, 0.787, 0.918, 1.092]),\n",
       " array([15. , 10. ,  5. ,  2.5,  1. ]))"
      ]
     },
     "execution_count": 7,
     "metadata": {},
     "output_type": "execute_result"
    }
   ],
   "source": [
    "## s < cv : 정규분포 , s > cv : 비정규분포\n",
    "statistic, cv ,sl = stats.anderson(df_channel_amount['amount'])\n",
    "statistic, cv ,sl #1292 > 0.787"
   ]
  },
  {
   "cell_type": "code",
   "execution_count": 8,
   "id": "a2a3b6fe-051e-4a1f-a732-4a0a0e609044",
   "metadata": {
    "tags": []
   },
   "outputs": [
    {
     "data": {
      "text/plain": [
       "<Axes: xlabel='amount', ylabel='Count'>"
      ]
     },
     "execution_count": 8,
     "metadata": {},
     "output_type": "execute_result"
    },
    {
     "data": {
      "image/png": "[encoded data removed]",
      "text/plain": [
       "<Figure size 640x480 with 1 Axes>"
      ]
     },
     "metadata": {},
     "output_type": "display_data"
    }
   ],
   "source": [
    "sns.histplot(df_channel_amount, x='amount', kde=True)"
   ]
  },
  {
   "cell_type": "markdown",
   "id": "fcaa144b-c755-4faf-8557-164b8cd4cdfe",
   "metadata": {
    "tags": []
   },
   "source": [
    "### 범주형 항목 따라 검증 : 2개 항목"
   ]
  },
  {
   "cell_type": "code",
   "execution_count": 9,
   "id": "ae732d9f-a196-4114-a543-7ce54e182398",
   "metadata": {
    "tags": []
   },
   "outputs": [
    {
     "data": {
      "text/plain": [
       "서비스 방문    15186\n",
       "홈쇼핑/방송    12977\n",
       "Name: channel, dtype: int64"
      ]
     },
     "execution_count": 9,
     "metadata": {},
     "output_type": "execute_result"
    }
   ],
   "source": [
    "df_channel_amount['channel'].value_counts()"
   ]
  },
  {
   "cell_type": "code",
   "execution_count": 10,
   "id": "5760095b-e5bc-4d27-9461-5d023090f544",
   "metadata": {
    "tags": []
   },
   "outputs": [
    {
     "data": {
      "text/html": [
       "<div>\n",
       "<style scoped>\n",
       "    .dataframe tbody tr th:only-of-type {\n",
       "        vertical-align: middle;\n",
       "    }\n",
       "\n",
       "    .dataframe tbody tr th {\n",
       "        vertical-align: top;\n",
       "    }\n",
       "\n",
       "    .dataframe thead th {\n",
       "        text-align: right;\n",
       "    }\n",
       "</style>\n",
       "<table border=\"1\" class=\"dataframe\">\n",
       "  <thead>\n",
       "    <tr style=\"text-align: right;\">\n",
       "      <th></th>\n",
       "      <th>channel</th>\n",
       "      <th>amount</th>\n",
       "    </tr>\n",
       "  </thead>\n",
       "  <tbody>\n",
       "    <tr>\n",
       "      <th>0</th>\n",
       "      <td>서비스 방문</td>\n",
       "      <td>96900</td>\n",
       "    </tr>\n",
       "    <tr>\n",
       "      <th>1</th>\n",
       "      <td>서비스 방문</td>\n",
       "      <td>102900</td>\n",
       "    </tr>\n",
       "    <tr>\n",
       "      <th>5</th>\n",
       "      <td>서비스 방문</td>\n",
       "      <td>90900</td>\n",
       "    </tr>\n",
       "    <tr>\n",
       "      <th>8</th>\n",
       "      <td>서비스 방문</td>\n",
       "      <td>102900</td>\n",
       "    </tr>\n",
       "    <tr>\n",
       "      <th>9</th>\n",
       "      <td>서비스 방문</td>\n",
       "      <td>105900</td>\n",
       "    </tr>\n",
       "  </tbody>\n",
       "</table>\n",
       "</div>"
      ],
      "text/plain": [
       "  channel  amount\n",
       "0  서비스 방문   96900\n",
       "1  서비스 방문  102900\n",
       "5  서비스 방문   90900\n",
       "8  서비스 방문  102900\n",
       "9  서비스 방문  105900"
      ]
     },
     "execution_count": 10,
     "metadata": {},
     "output_type": "execute_result"
    }
   ],
   "source": [
    "df_service = df_channel_amount[df_channel_amount['channel'] == '서비스 방문']\n",
    "df_service.head()"
   ]
  },
  {
   "cell_type": "code",
   "execution_count": 11,
   "id": "3ffc73f4-a20a-47c5-99fa-f72dd477eba3",
   "metadata": {
    "tags": []
   },
   "outputs": [
    {
     "data": {
      "text/html": [
       "<div>\n",
       "<style scoped>\n",
       "    .dataframe tbody tr th:only-of-type {\n",
       "        vertical-align: middle;\n",
       "    }\n",
       "\n",
       "    .dataframe tbody tr th {\n",
       "        vertical-align: top;\n",
       "    }\n",
       "\n",
       "    .dataframe thead th {\n",
       "        text-align: right;\n",
       "    }\n",
       "</style>\n",
       "<table border=\"1\" class=\"dataframe\">\n",
       "  <thead>\n",
       "    <tr style=\"text-align: right;\">\n",
       "      <th></th>\n",
       "      <th>channel</th>\n",
       "      <th>amount</th>\n",
       "    </tr>\n",
       "  </thead>\n",
       "  <tbody>\n",
       "    <tr>\n",
       "      <th>2</th>\n",
       "      <td>홈쇼핑/방송</td>\n",
       "      <td>96900</td>\n",
       "    </tr>\n",
       "    <tr>\n",
       "      <th>6</th>\n",
       "      <td>홈쇼핑/방송</td>\n",
       "      <td>98400</td>\n",
       "    </tr>\n",
       "    <tr>\n",
       "      <th>7</th>\n",
       "      <td>홈쇼핑/방송</td>\n",
       "      <td>80400</td>\n",
       "    </tr>\n",
       "    <tr>\n",
       "      <th>10</th>\n",
       "      <td>홈쇼핑/방송</td>\n",
       "      <td>81900</td>\n",
       "    </tr>\n",
       "    <tr>\n",
       "      <th>11</th>\n",
       "      <td>홈쇼핑/방송</td>\n",
       "      <td>81900</td>\n",
       "    </tr>\n",
       "  </tbody>\n",
       "</table>\n",
       "</div>"
      ],
      "text/plain": [
       "   channel  amount\n",
       "2   홈쇼핑/방송   96900\n",
       "6   홈쇼핑/방송   98400\n",
       "7   홈쇼핑/방송   80400\n",
       "10  홈쇼핑/방송   81900\n",
       "11  홈쇼핑/방송   81900"
      ]
     },
     "execution_count": 11,
     "metadata": {},
     "output_type": "execute_result"
    }
   ],
   "source": [
    "df_homeshopping = df_channel_amount[df_channel_amount['channel'] == '홈쇼핑/방송']\n",
    "df_homeshopping.head()"
   ]
  },
  {
   "cell_type": "code",
   "execution_count": 12,
   "id": "dc89b760-0a70-430f-8374-f02149b4f34d",
   "metadata": {
    "tags": []
   },
   "outputs": [
    {
     "data": {
      "text/plain": [
       "RanksumsResult(statistic=74.731078009603, pvalue=0.0)"
      ]
     },
     "execution_count": 12,
     "metadata": {},
     "output_type": "execute_result"
    }
   ],
   "source": [
    "## 검증\n",
    "stats.ranksums(df_service['amount'], df_homeshopping['amount'])"
   ]
  },
  {
   "cell_type": "markdown",
   "id": "1fa019c0-d6bc-4bfd-a199-249b397ec945",
   "metadata": {
    "tags": []
   },
   "source": [
    "### X : 범주형 / Y : 연속형 비정규분포\n",
    "    - 상관관계 확인. Kruskal Test\n",
    "\n",
    "#### 선정 변수 : channel(항목 3), amount(비정규 분포)\n",
    "- amount 검증: AndersonResult_statistic, cv, sl\n",
    "\n",
    "- 분석 내용 : 채널에 따른 amount의 변화가 잇는가?\n",
    "        ['서비스 방문', '홈쇼핑/방송', '렌탈총판', 'R관리방판']\n",
    "    - 귀무가설 : 4개 채널에 따른 amount 분포 변화 없음\n",
    "    - 대립가설 : 4개 채널에 따른 amount 분포 변화 있음\n",
    "    \n",
    "\n",
    "- 분석 결론 (기준 : p-value 0.05)\n",
    "\n",
    "    - 통계 결론 : pvalue=0.0_대립가설 참\n",
    "    - 사실 결론 : 4개 채널에 따른 amount 분포 변화가 존재함. "
   ]
  },
  {
   "cell_type": "code",
   "execution_count": 13,
   "id": "d0573712-8c60-498f-8174-d0883fcf8cbd",
   "metadata": {
    "tags": []
   },
   "outputs": [
    {
     "data": {
      "text/plain": [
       "<Axes: xlabel='amount', ylabel='Count'>"
      ]
     },
     "execution_count": 13,
     "metadata": {},
     "output_type": "execute_result"
    },
    {
     "data": {
      "image/png": "[encoded data removed]",
      "text/plain": [
       "<Figure size 640x480 with 1 Axes>"
      ]
     },
     "metadata": {},
     "output_type": "display_data"
    }
   ],
   "source": [
    "sns.histplot(data=df_TOCC, x='amount', kde=True, hue='channel')"
   ]
  },
  {
   "cell_type": "code",
   "execution_count": 15,
   "id": "993a0435-07e7-4332-8ded-45678f2518f9",
   "metadata": {
    "tags": []
   },
   "outputs": [
    {
     "data": {
      "text/plain": [
       "서비스 방문    15186\n",
       "홈쇼핑/방송    12977\n",
       "렌탈총판       5544\n",
       "R관리방판      4727\n",
       "하이마트       3227\n",
       "Name: channel, dtype: int64"
      ]
     },
     "execution_count": 15,
     "metadata": {},
     "output_type": "execute_result"
    }
   ],
   "source": [
    "## '서비스 방문', '홈쇼핑/방송', '렌탈총판', 'R관리방판'\n",
    "df_TOCC['channel'].value_counts()[:5]"
   ]
  },
  {
   "cell_type": "code",
   "execution_count": 66,
   "id": "1f3186f3-4275-4004-a684-69a35d6ed38e",
   "metadata": {
    "tags": []
   },
   "outputs": [
    {
     "data": {
      "text/html": [
       "<div>\n",
       "<style scoped>\n",
       "    .dataframe tbody tr th:only-of-type {\n",
       "        vertical-align: middle;\n",
       "    }\n",
       "\n",
       "    .dataframe tbody tr th {\n",
       "        vertical-align: top;\n",
       "    }\n",
       "\n",
       "    .dataframe thead th {\n",
       "        text-align: right;\n",
       "    }\n",
       "</style>\n",
       "<table border=\"1\" class=\"dataframe\">\n",
       "  <thead>\n",
       "    <tr style=\"text-align: right;\">\n",
       "      <th></th>\n",
       "      <th>channel</th>\n",
       "      <th>amount</th>\n",
       "    </tr>\n",
       "  </thead>\n",
       "  <tbody>\n",
       "    <tr>\n",
       "      <th>0</th>\n",
       "      <td>서비스 방문</td>\n",
       "      <td>96900</td>\n",
       "    </tr>\n",
       "    <tr>\n",
       "      <th>1</th>\n",
       "      <td>서비스 방문</td>\n",
       "      <td>102900</td>\n",
       "    </tr>\n",
       "    <tr>\n",
       "      <th>2</th>\n",
       "      <td>홈쇼핑/방송</td>\n",
       "      <td>96900</td>\n",
       "    </tr>\n",
       "    <tr>\n",
       "      <th>5</th>\n",
       "      <td>서비스 방문</td>\n",
       "      <td>90900</td>\n",
       "    </tr>\n",
       "    <tr>\n",
       "      <th>6</th>\n",
       "      <td>홈쇼핑/방송</td>\n",
       "      <td>98400</td>\n",
       "    </tr>\n",
       "    <tr>\n",
       "      <th>...</th>\n",
       "      <td>...</td>\n",
       "      <td>...</td>\n",
       "    </tr>\n",
       "    <tr>\n",
       "      <th>51297</th>\n",
       "      <td>홈쇼핑/방송</td>\n",
       "      <td>96900</td>\n",
       "    </tr>\n",
       "    <tr>\n",
       "      <th>51298</th>\n",
       "      <td>R관리방판</td>\n",
       "      <td>56979</td>\n",
       "    </tr>\n",
       "    <tr>\n",
       "      <th>51299</th>\n",
       "      <td>R관리방판</td>\n",
       "      <td>96900</td>\n",
       "    </tr>\n",
       "    <tr>\n",
       "      <th>51301</th>\n",
       "      <td>홈쇼핑/방송</td>\n",
       "      <td>120900</td>\n",
       "    </tr>\n",
       "    <tr>\n",
       "      <th>51302</th>\n",
       "      <td>렌탈총판</td>\n",
       "      <td>96900</td>\n",
       "    </tr>\n",
       "  </tbody>\n",
       "</table>\n",
       "<p>38434 rows × 2 columns</p>\n",
       "</div>"
      ],
      "text/plain": [
       "      channel  amount\n",
       "0      서비스 방문   96900\n",
       "1      서비스 방문  102900\n",
       "2      홈쇼핑/방송   96900\n",
       "5      서비스 방문   90900\n",
       "6      홈쇼핑/방송   98400\n",
       "...       ...     ...\n",
       "51297  홈쇼핑/방송   96900\n",
       "51298   R관리방판   56979\n",
       "51299   R관리방판   96900\n",
       "51301  홈쇼핑/방송  120900\n",
       "51302    렌탈총판   96900\n",
       "\n",
       "[38434 rows x 2 columns]"
      ]
     },
     "execution_count": 66,
     "metadata": {},
     "output_type": "execute_result"
    }
   ],
   "source": [
    "### x가 정규인지 비정규인지 확인해야함. 고로 df 다시 만들어야함\n",
    "conditions = (df_TOCC['channel'] == '서비스 방문')|(df_TOCC['channel'] == '홈쇼핑/방송')|(df_TOCC['channel'] == '렌탈총판')|(df_TOCC['channel'] == 'R관리방판')\n",
    "df_channel4_amount = df_TOCC[conditions][['channel', 'amount']] # 필터 추출 동시\n",
    "df_channel4_amount"
   ]
  },
  {
   "cell_type": "code",
   "execution_count": 67,
   "id": "caea092c-7b26-4743-9529-143a8bba79e1",
   "metadata": {
    "tags": []
   },
   "outputs": [
    {
     "data": {
      "text/plain": [
       "channel    0\n",
       "amount     0\n",
       "dtype: int64"
      ]
     },
     "execution_count": 67,
     "metadata": {},
     "output_type": "execute_result"
    }
   ],
   "source": [
    "df_channel4_amount.isnull().sum()"
   ]
  },
  {
   "cell_type": "code",
   "execution_count": 68,
   "id": "850dbaaf-c468-4606-8331-8053dca32d0a",
   "metadata": {
    "tags": []
   },
   "outputs": [
    {
     "data": {
      "text/html": [
       "<div>\n",
       "<style scoped>\n",
       "    .dataframe tbody tr th:only-of-type {\n",
       "        vertical-align: middle;\n",
       "    }\n",
       "\n",
       "    .dataframe tbody tr th {\n",
       "        vertical-align: top;\n",
       "    }\n",
       "\n",
       "    .dataframe thead th {\n",
       "        text-align: right;\n",
       "    }\n",
       "</style>\n",
       "<table border=\"1\" class=\"dataframe\">\n",
       "  <thead>\n",
       "    <tr style=\"text-align: right;\">\n",
       "      <th></th>\n",
       "      <th>channel</th>\n",
       "      <th>amount</th>\n",
       "    </tr>\n",
       "  </thead>\n",
       "  <tbody>\n",
       "    <tr>\n",
       "      <th>0</th>\n",
       "      <td>서비스 방문</td>\n",
       "      <td>96900</td>\n",
       "    </tr>\n",
       "    <tr>\n",
       "      <th>1</th>\n",
       "      <td>서비스 방문</td>\n",
       "      <td>102900</td>\n",
       "    </tr>\n",
       "  </tbody>\n",
       "</table>\n",
       "</div>"
      ],
      "text/plain": [
       "  channel  amount\n",
       "0  서비스 방문   96900\n",
       "1  서비스 방문  102900"
      ]
     },
     "execution_count": 68,
     "metadata": {},
     "output_type": "execute_result"
    }
   ],
   "source": [
    "df_channel4_amount[:2]"
   ]
  },
  {
   "cell_type": "code",
   "execution_count": 69,
   "id": "14586b67-35a9-4d2e-8bb4-6bb1e7473460",
   "metadata": {
    "tags": []
   },
   "outputs": [
    {
     "data": {
      "text/plain": [
       "서비스 방문    15186\n",
       "홈쇼핑/방송    12977\n",
       "렌탈총판       5544\n",
       "R관리방판      4727\n",
       "Name: channel, dtype: int64"
      ]
     },
     "execution_count": 69,
     "metadata": {},
     "output_type": "execute_result"
    }
   ],
   "source": [
    "df_channel4_amount['channel'].value_counts()"
   ]
  },
  {
   "cell_type": "code",
   "execution_count": 70,
   "id": "38a9f41d-554f-4fbb-96d8-b9ca4f9005ca",
   "metadata": {
    "tags": []
   },
   "outputs": [
    {
     "data": {
      "text/plain": [
       "<Axes: xlabel='amount', ylabel='Count'>"
      ]
     },
     "execution_count": 70,
     "metadata": {},
     "output_type": "execute_result"
    },
    {
     "data": {
      "image/png": "[encoded data removed]",
      "text/plain": [
       "<Figure size 640x480 with 1 Axes>"
      ]
     },
     "metadata": {},
     "output_type": "display_data"
    }
   ],
   "source": [
    "### 그래프확인\n",
    "sns.histplot(data=df_channel4_amount, x='amount', kde=True)"
   ]
  },
  {
   "cell_type": "markdown",
   "id": "019e8317-371d-4f08-9823-98f124b5d219",
   "metadata": {},
   "source": [
    "### statistic, cv, sl\n",
    "stats.anderson(df_channel4_amount['amount'])\n",
    "- statistic, cv, sl =(1307.6338010715626,array([0.576, 0.656, 0.787, 0.918, 1.092]),array([15. , 10. ,  5. ,  2.5,  1. ]))\n",
    "     - 주로 가운데 봐야함. 5. 이것과 동일한 위치의 cv 값을 본다. 0.787 / 이 두개를 기준으로 statistic과 비교하면 \n",
    "##  sl의 가운데와 맞는 cv를 기준으로 s < cv : 정규분포 , s > cv : 비정규분포\n",
    " "
   ]
  },
  {
   "cell_type": "code",
   "execution_count": 71,
   "id": "9a46cd84-eb86-4f34-9388-307b1de95076",
   "metadata": {
    "tags": []
   },
   "outputs": [
    {
     "data": {
      "text/plain": [
       "(1476.100903137849,\n",
       " array([0.576, 0.656, 0.787, 0.918, 1.092]),\n",
       " array([15. , 10. ,  5. ,  2.5,  1. ]))"
      ]
     },
     "execution_count": 71,
     "metadata": {},
     "output_type": "execute_result"
    }
   ],
   "source": [
    "### 5000 이상, anderson은 변수로 지정해서 봐야함.\n",
    "statistic, cv, sl = stats.anderson(df_channel4_amount['amount'])\n",
    "statistic, cv, sl"
   ]
  },
  {
   "cell_type": "code",
   "execution_count": 72,
   "id": "6959dd9d-d252-4c5d-919c-cf4313691e08",
   "metadata": {
    "tags": []
   },
   "outputs": [],
   "source": [
    "condition = (df_channel4_amount['channel'] == '서비스 방문')\n",
    "df_result = df_channel4_amount[condition]"
   ]
  },
  {
   "cell_type": "markdown",
   "id": "1186954a-c45f-4667-9c45-83d560ef5a00",
   "metadata": {},
   "source": [
    "##### 범주형 항목이 3개 이상일 때 검증"
   ]
  },
  {
   "cell_type": "code",
   "execution_count": 85,
   "id": "45cd42ab-b9a1-4272-9e3c-a1a2b5ee418f",
   "metadata": {
    "tags": []
   },
   "outputs": [
    {
     "data": {
      "text/plain": [
       "['서비스 방문', '홈쇼핑/방송', '렌탈총판', 'R관리방판']"
      ]
     },
     "execution_count": 85,
     "metadata": {},
     "output_type": "execute_result"
    }
   ],
   "source": [
    "#type(df_channel4_amount['channel'].value_counts())\n",
    "df_channel_list = df_channel4_amount['channel'].value_counts().index.to_list()\n",
    "df_channel_list"
   ]
  },
  {
   "cell_type": "code",
   "execution_count": 89,
   "id": "f1e62ee2-a20b-44df-9214-f3ef31e3e268",
   "metadata": {
    "tags": []
   },
   "outputs": [
    {
     "data": {
      "text/plain": [
       "4"
      ]
     },
     "execution_count": 89,
     "metadata": {},
     "output_type": "execute_result"
    }
   ],
   "source": [
    "# 이걸 for looping 돌릴 수 있다. \n",
    "df_result = [] # list()\n",
    "for item in df_channel_list : \n",
    "    condition = (df_channel4_amount['channel'] == item)\n",
    "    df_result.append(df_channel4_amount[condition]) ## list_index에 value가 쌓일때 DataFrame 형식으로 쌓이는거 같음\n",
    "    ### 검증이 일어나는 변수는 4개. 각각 변수를 담는다. \n",
    "len(df_result)\n",
    "## 원래는 df_result.append(df_channel4_amount[condition]) 이렇게 담는게 아니고 amount에 해당하는 것만 series로 담는다. \n",
    "## ⇒ df_result.append(df_channel4_amount[condition]['amount'])"
   ]
  },
  {
   "cell_type": "code",
   "execution_count": 87,
   "id": "7ff6ee29-4851-40ae-8e21-873d9fe361cc",
   "metadata": {
    "tags": []
   },
   "outputs": [
    {
     "data": {
      "text/plain": [
       "list"
      ]
     },
     "execution_count": 87,
     "metadata": {},
     "output_type": "execute_result"
    }
   ],
   "source": [
    "type(df_result)"
   ]
  },
  {
   "cell_type": "code",
   "execution_count": 90,
   "id": "e5253057-1176-45ff-b690-c6a35cbc706e",
   "metadata": {
    "tags": []
   },
   "outputs": [
    {
     "data": {
      "text/html": [
       "<div>\n",
       "<style scoped>\n",
       "    .dataframe tbody tr th:only-of-type {\n",
       "        vertical-align: middle;\n",
       "    }\n",
       "\n",
       "    .dataframe tbody tr th {\n",
       "        vertical-align: top;\n",
       "    }\n",
       "\n",
       "    .dataframe thead th {\n",
       "        text-align: right;\n",
       "    }\n",
       "</style>\n",
       "<table border=\"1\" class=\"dataframe\">\n",
       "  <thead>\n",
       "    <tr style=\"text-align: right;\">\n",
       "      <th></th>\n",
       "      <th>channel</th>\n",
       "      <th>amount</th>\n",
       "    </tr>\n",
       "  </thead>\n",
       "  <tbody>\n",
       "    <tr>\n",
       "      <th>1339</th>\n",
       "      <td>R관리방판</td>\n",
       "      <td>66900</td>\n",
       "    </tr>\n",
       "    <tr>\n",
       "      <th>3655</th>\n",
       "      <td>R관리방판</td>\n",
       "      <td>66900</td>\n",
       "    </tr>\n",
       "  </tbody>\n",
       "</table>\n",
       "</div>"
      ],
      "text/plain": [
       "     channel  amount\n",
       "1339   R관리방판   66900\n",
       "3655   R관리방판   66900"
      ]
     },
     "execution_count": 90,
     "metadata": {},
     "output_type": "execute_result"
    }
   ],
   "source": [
    "## df_result[3][:2] 3은 list의 3, :2는 row 2개\n",
    "df_result[3][:2]"
   ]
  },
  {
   "cell_type": "code",
   "execution_count": 92,
   "id": "f912190a-0918-4a1e-9881-f6a9e1bdcb1d",
   "metadata": {
    "tags": []
   },
   "outputs": [
    {
     "data": {
      "text/plain": [
       "KruskalResult(statistic=8271.821667245342, pvalue=0.0)"
      ]
     },
     "execution_count": 92,
     "metadata": {},
     "output_type": "execute_result"
    }
   ],
   "source": [
    "### 검증 변수 4개 _ dataframe으로 들어가긴 너무 커. list의 amount만 넣어야함. \n",
    "stats.kruskal(df_result[0]['amount'],df_result[1]['amount'],df_result[2]['amount'],df_result[3]['amount'],)"
   ]
  },
  {
   "cell_type": "code",
   "execution_count": null,
   "id": "7f4f9d4b-ce6f-4d8b-bdf1-f298bcd2e297",
   "metadata": {},
   "outputs": [],
   "source": []
  }
 ],
 "metadata": {
  "kernelspec": {
   "display_name": "Python 3 (ipykernel)",
   "language": "python",
   "name": "python3"
  },
  "language_info": {
   "codemirror_mode": {
    "name": "ipython",
    "version": 3
   },
   "file_extension": ".py",
   "mimetype": "text/x-python",
   "name": "python",
   "nbconvert_exporter": "python",
   "pygments_lexer": "ipython3",
   "version": "3.11.3"
  }
 },
 "nbformat": 4,
 "nbformat_minor": 5
}
