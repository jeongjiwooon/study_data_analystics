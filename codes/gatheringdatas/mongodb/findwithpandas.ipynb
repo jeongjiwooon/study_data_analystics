{
 "cells": [
  {
   "cell_type": "code",
   "execution_count": null,
   "id": "4fbb3b98-dee9-4f77-9e28-b23328ac28e6",
   "metadata": {
    "tags": []
   },
   "outputs": [],
   "source": [
    "# %conda install pymongo"
   ]
  },
  {
   "cell_type": "code",
   "execution_count": 30,
   "id": "1a009a29-b1e9-4c36-b747-666fd35c5bee",
   "metadata": {
    "tags": []
   },
   "outputs": [],
   "source": [
    "import pymongo as mg\n",
    "import pandas as pd"
   ]
  },
  {
   "cell_type": "code",
   "execution_count": 32,
   "id": "e1466e83-da17-4739-b2b1-016bed55bb20",
   "metadata": {
    "tags": []
   },
   "outputs": [
    {
     "data": {
      "text/plain": [
       "'3.12.0'"
      ]
     },
     "execution_count": 32,
     "metadata": {},
     "output_type": "execute_result"
    }
   ],
   "source": [
    "mg.__version__"
   ]
  },
  {
   "cell_type": "code",
   "execution_count": 33,
   "id": "34ef9b2d-ef1d-4dfb-bcf6-7e8227b5f272",
   "metadata": {
    "tags": []
   },
   "outputs": [
    {
     "data": {
      "text/plain": [
       "MongoClient(host=['localhost:27017'], document_class=dict, tz_aware=False, connect=True)"
      ]
     },
     "execution_count": 33,
     "metadata": {},
     "output_type": "execute_result"
    }
   ],
   "source": [
    " client = mg.MongoClient(host='mongodb://localhost:27017/') # mongodb에 접속한 상태임.\n",
    "client"
   ]
  },
  {
   "cell_type": "code",
   "execution_count": 34,
   "id": "a1d95f07-99ee-4b21-8b89-28d250426b20",
   "metadata": {
    "tags": []
   },
   "outputs": [
    {
     "data": {
      "text/plain": [
       "Database(MongoClient(host=['localhost:27017'], document_class=dict, tz_aware=False, connect=True), 'db_NHIS')"
      ]
     },
     "execution_count": 34,
     "metadata": {},
     "output_type": "execute_result"
    }
   ],
   "source": [
    "database = client['db_NHIS'] # database 접속\n",
    "database "
   ]
  },
  {
   "cell_type": "code",
   "execution_count": 35,
   "id": "7d3d7355-ebfa-46f2-af0e-ead69fc223cf",
   "metadata": {
    "tags": []
   },
   "outputs": [
    {
     "data": {
      "text/plain": [
       "Collection(Database(MongoClient(host=['localhost:27017'], document_class=dict, tz_aware=False, connect=True), 'db_NHIS'), 'NSC2_BND')"
      ]
     },
     "execution_count": 35,
     "metadata": {},
     "output_type": "execute_result"
    }
   ],
   "source": [
    "collection = database['NSC2_BND'] #collection 접속\n",
    "collection"
   ]
  },
  {
   "cell_type": "code",
   "execution_count": 39,
   "id": "ac1b5aa0-e194-45cd-a801-9106bae642a7",
   "metadata": {
    "tags": []
   },
   "outputs": [],
   "source": [
    "cursor = collection.find({}) # collection 내의 자료 확인"
   ]
  },
  {
   "cell_type": "code",
   "execution_count": 40,
   "id": "56531a0e-72ba-42aa-b017-25c01ee6ad96",
   "metadata": {
    "tags": []
   },
   "outputs": [],
   "source": [
    "list_BND = list(cursor) # list로 casting 한것"
   ]
  },
  {
   "cell_type": "code",
   "execution_count": 41,
   "id": "82ef325c-6aa6-4660-8e48-0df084aaeb0d",
   "metadata": {
    "tags": []
   },
   "outputs": [],
   "source": [
    "df_BND = pd.DataFrame(list_BND)"
   ]
  },
  {
   "cell_type": "code",
   "execution_count": 43,
   "id": "d70f11d1-0d09-4d12-a184-392dc1a86c2d",
   "metadata": {
    "tags": []
   },
   "outputs": [
    {
     "data": {
      "text/html": [
       "<div>\n",
       "<style scoped>\n",
       "    .dataframe tbody tr th:only-of-type {\n",
       "        vertical-align: middle;\n",
       "    }\n",
       "\n",
       "    .dataframe tbody tr th {\n",
       "        vertical-align: top;\n",
       "    }\n",
       "\n",
       "    .dataframe thead th {\n",
       "        text-align: right;\n",
       "    }\n",
       "</style>\n",
       "<table border=\"1\" class=\"dataframe\">\n",
       "  <thead>\n",
       "    <tr style=\"text-align: right;\">\n",
       "      <th></th>\n",
       "      <th>_id</th>\n",
       "      <th>RN_INDI</th>\n",
       "      <th>BTH_YYYY</th>\n",
       "      <th>DTH_YYYYMM</th>\n",
       "      <th>COD1</th>\n",
       "      <th>COD2</th>\n",
       "    </tr>\n",
       "  </thead>\n",
       "  <tbody>\n",
       "    <tr>\n",
       "      <th>0</th>\n",
       "      <td>64d2fd0966aeaf7c0477bf6b</td>\n",
       "      <td>294364</td>\n",
       "      <td>1921LE</td>\n",
       "      <td>200707.0</td>\n",
       "      <td>T08-T14</td>\n",
       "      <td>W00-W19</td>\n",
       "    </tr>\n",
       "    <tr>\n",
       "      <th>1</th>\n",
       "      <td>64d2fd0966aeaf7c0477bf6c</td>\n",
       "      <td>646257</td>\n",
       "      <td>1921LE</td>\n",
       "      <td>200805.0</td>\n",
       "      <td>A15-A19</td>\n",
       "      <td>NaN</td>\n",
       "    </tr>\n",
       "    <tr>\n",
       "      <th>2</th>\n",
       "      <td>64d2fd0966aeaf7c0477bf6d</td>\n",
       "      <td>733575</td>\n",
       "      <td>1921LE</td>\n",
       "      <td>201309.0</td>\n",
       "      <td>G30</td>\n",
       "      <td>NaN</td>\n",
       "    </tr>\n",
       "    <tr>\n",
       "      <th>3</th>\n",
       "      <td>64d2fd0966aeaf7c0477bf6e</td>\n",
       "      <td>966199</td>\n",
       "      <td>1921LE</td>\n",
       "      <td>201409.0</td>\n",
       "      <td>J69</td>\n",
       "      <td>NaN</td>\n",
       "    </tr>\n",
       "    <tr>\n",
       "      <th>4</th>\n",
       "      <td>64d2fd0966aeaf7c0477bf6f</td>\n",
       "      <td>972598</td>\n",
       "      <td>1921LE</td>\n",
       "      <td>201205.0</td>\n",
       "      <td>C44</td>\n",
       "      <td>NaN</td>\n",
       "    </tr>\n",
       "    <tr>\n",
       "      <th>...</th>\n",
       "      <td>...</td>\n",
       "      <td>...</td>\n",
       "      <td>...</td>\n",
       "      <td>...</td>\n",
       "      <td>...</td>\n",
       "      <td>...</td>\n",
       "    </tr>\n",
       "    <tr>\n",
       "      <th>995</th>\n",
       "      <td>64d2fd0966aeaf7c0477c34e</td>\n",
       "      <td>2057743</td>\n",
       "      <td>2015</td>\n",
       "      <td>NaN</td>\n",
       "      <td>NaN</td>\n",
       "      <td>NaN</td>\n",
       "    </tr>\n",
       "    <tr>\n",
       "      <th>996</th>\n",
       "      <td>64d2fd0966aeaf7c0477c34f</td>\n",
       "      <td>2063541</td>\n",
       "      <td>2015</td>\n",
       "      <td>NaN</td>\n",
       "      <td>NaN</td>\n",
       "      <td>NaN</td>\n",
       "    </tr>\n",
       "    <tr>\n",
       "      <th>997</th>\n",
       "      <td>64d2fd0966aeaf7c0477c350</td>\n",
       "      <td>2070251</td>\n",
       "      <td>2015</td>\n",
       "      <td>NaN</td>\n",
       "      <td>NaN</td>\n",
       "      <td>NaN</td>\n",
       "    </tr>\n",
       "    <tr>\n",
       "      <th>998</th>\n",
       "      <td>64d2fd0966aeaf7c0477c351</td>\n",
       "      <td>2077125</td>\n",
       "      <td>2015</td>\n",
       "      <td>NaN</td>\n",
       "      <td>NaN</td>\n",
       "      <td>NaN</td>\n",
       "    </tr>\n",
       "    <tr>\n",
       "      <th>999</th>\n",
       "      <td>64d2fd0966aeaf7c0477c352</td>\n",
       "      <td>3000758</td>\n",
       "      <td>2015</td>\n",
       "      <td>NaN</td>\n",
       "      <td>NaN</td>\n",
       "      <td>NaN</td>\n",
       "    </tr>\n",
       "  </tbody>\n",
       "</table>\n",
       "<p>1000 rows × 6 columns</p>\n",
       "</div>"
      ],
      "text/plain": [
       "                          _id  RN_INDI BTH_YYYY  DTH_YYYYMM     COD1     COD2\n",
       "0    64d2fd0966aeaf7c0477bf6b   294364   1921LE    200707.0  T08-T14  W00-W19\n",
       "1    64d2fd0966aeaf7c0477bf6c   646257   1921LE    200805.0  A15-A19      NaN\n",
       "2    64d2fd0966aeaf7c0477bf6d   733575   1921LE    201309.0      G30      NaN\n",
       "3    64d2fd0966aeaf7c0477bf6e   966199   1921LE    201409.0      J69      NaN\n",
       "4    64d2fd0966aeaf7c0477bf6f   972598   1921LE    201205.0      C44      NaN\n",
       "..                        ...      ...      ...         ...      ...      ...\n",
       "995  64d2fd0966aeaf7c0477c34e  2057743     2015         NaN      NaN      NaN\n",
       "996  64d2fd0966aeaf7c0477c34f  2063541     2015         NaN      NaN      NaN\n",
       "997  64d2fd0966aeaf7c0477c350  2070251     2015         NaN      NaN      NaN\n",
       "998  64d2fd0966aeaf7c0477c351  2077125     2015         NaN      NaN      NaN\n",
       "999  64d2fd0966aeaf7c0477c352  3000758     2015         NaN      NaN      NaN\n",
       "\n",
       "[1000 rows x 6 columns]"
      ]
     },
     "execution_count": 43,
     "metadata": {},
     "output_type": "execute_result"
    }
   ],
   "source": [
    "df_BND"
   ]
  },
  {
   "cell_type": "code",
   "execution_count": 44,
   "id": "0e6cdfe9-f58e-431c-995b-433c6f43ea47",
   "metadata": {
    "tags": []
   },
   "outputs": [
    {
     "name": "stdout",
     "output_type": "stream",
     "text": [
      "<class 'pandas.core.frame.DataFrame'>\n",
      "RangeIndex: 1000 entries, 0 to 999\n",
      "Data columns (total 6 columns):\n",
      " #   Column      Non-Null Count  Dtype  \n",
      "---  ------      --------------  -----  \n",
      " 0   _id         1000 non-null   object \n",
      " 1   RN_INDI     1000 non-null   int64  \n",
      " 2   BTH_YYYY    1000 non-null   object \n",
      " 3   DTH_YYYYMM  71 non-null     float64\n",
      " 4   COD1        60 non-null     object \n",
      " 5   COD2        7 non-null      object \n",
      "dtypes: float64(1), int64(1), object(4)\n",
      "memory usage: 47.0+ KB\n"
     ]
    }
   ],
   "source": [
    "df_BND.info()"
   ]
  },
  {
   "cell_type": "code",
   "execution_count": 46,
   "id": "7f77f7e3-1665-4c85-b892-7fabe75f9528",
   "metadata": {
    "tags": []
   },
   "outputs": [
    {
     "data": {
      "text/html": [
       "<div>\n",
       "<style scoped>\n",
       "    .dataframe tbody tr th:only-of-type {\n",
       "        vertical-align: middle;\n",
       "    }\n",
       "\n",
       "    .dataframe tbody tr th {\n",
       "        vertical-align: top;\n",
       "    }\n",
       "\n",
       "    .dataframe thead th {\n",
       "        text-align: right;\n",
       "    }\n",
       "</style>\n",
       "<table border=\"1\" class=\"dataframe\">\n",
       "  <thead>\n",
       "    <tr style=\"text-align: right;\">\n",
       "      <th></th>\n",
       "      <th>RN_INDI</th>\n",
       "      <th>DTH_YYYYMM</th>\n",
       "    </tr>\n",
       "  </thead>\n",
       "  <tbody>\n",
       "    <tr>\n",
       "      <th>count</th>\n",
       "      <td>1.000000e+03</td>\n",
       "      <td>71.000000</td>\n",
       "    </tr>\n",
       "    <tr>\n",
       "      <th>mean</th>\n",
       "      <td>6.404133e+05</td>\n",
       "      <td>201471.873239</td>\n",
       "    </tr>\n",
       "    <tr>\n",
       "      <th>std</th>\n",
       "      <td>5.241253e+05</td>\n",
       "      <td>432.203819</td>\n",
       "    </tr>\n",
       "    <tr>\n",
       "      <th>min</th>\n",
       "      <td>1.433000e+03</td>\n",
       "      <td>200707.000000</td>\n",
       "    </tr>\n",
       "    <tr>\n",
       "      <th>25%</th>\n",
       "      <td>2.812005e+05</td>\n",
       "      <td>201104.000000</td>\n",
       "    </tr>\n",
       "    <tr>\n",
       "      <th>50%</th>\n",
       "      <td>5.499230e+05</td>\n",
       "      <td>201508.000000</td>\n",
       "    </tr>\n",
       "    <tr>\n",
       "      <th>75%</th>\n",
       "      <td>8.177570e+05</td>\n",
       "      <td>201904.500000</td>\n",
       "    </tr>\n",
       "    <tr>\n",
       "      <th>max</th>\n",
       "      <td>3.000758e+06</td>\n",
       "      <td>202105.000000</td>\n",
       "    </tr>\n",
       "  </tbody>\n",
       "</table>\n",
       "</div>"
      ],
      "text/plain": [
       "            RN_INDI     DTH_YYYYMM\n",
       "count  1.000000e+03      71.000000\n",
       "mean   6.404133e+05  201471.873239\n",
       "std    5.241253e+05     432.203819\n",
       "min    1.433000e+03  200707.000000\n",
       "25%    2.812005e+05  201104.000000\n",
       "50%    5.499230e+05  201508.000000\n",
       "75%    8.177570e+05  201904.500000\n",
       "max    3.000758e+06  202105.000000"
      ]
     },
     "execution_count": 46,
     "metadata": {},
     "output_type": "execute_result"
    }
   ],
   "source": [
    "df_BND.describe()"
   ]
  },
  {
   "cell_type": "code",
   "execution_count": 48,
   "id": "730f190d-6362-4c55-80d2-5fa6b5c01dbe",
   "metadata": {
    "tags": []
   },
   "outputs": [],
   "source": [
    "df_BND.to_csv('./NSC2_BND.csv') #csv형식으로 경로를 설정하여 저장함."
   ]
  },
  {
   "cell_type": "code",
   "execution_count": null,
   "id": "33c37488-e051-4b19-b7ad-d6e98a5efa0d",
   "metadata": {},
   "outputs": [],
   "source": []
  }
 ],
 "metadata": {
  "kernelspec": {
   "display_name": "Python 3 (ipykernel)",
   "language": "python",
   "name": "python3"
  },
  "language_info": {
   "codemirror_mode": {
    "name": "ipython",
    "version": 3
   },
   "file_extension": ".py",
   "mimetype": "text/x-python",
   "name": "python",
   "nbconvert_exporter": "python",
   "pygments_lexer": "ipython3",
   "version": "3.11.3"
  }
 },
 "nbformat": 4,
 "nbformat_minor": 5
}
