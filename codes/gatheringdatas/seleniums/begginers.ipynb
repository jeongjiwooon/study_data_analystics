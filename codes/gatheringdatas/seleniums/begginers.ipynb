{
 "cells": [
  {
   "cell_type": "code",
   "execution_count": 1,
   "id": "87a20517-6a71-4cc2-b535-5ea007574217",
   "metadata": {
    "tags": []
   },
   "outputs": [],
   "source": [
    "from selenium import webdriver"
   ]
  },
  {
   "cell_type": "code",
   "execution_count": 2,
   "id": "7b74008b-5151-47a2-9a2c-edbb57b4e6dd",
   "metadata": {
    "tags": []
   },
   "outputs": [],
   "source": [
    "# open chrome browser\n",
    "browser =  webdriver.Chrome(executable_path='../../../../chromedriver.exe')"
   ]
  },
  {
   "cell_type": "code",
   "execution_count": 3,
   "id": "320cb4e3-7486-40df-b198-9c459915b035",
   "metadata": {
    "tags": []
   },
   "outputs": [],
   "source": [
    "# url in address window\n",
    "browser.get('https://www.w3schools.com/')"
   ]
  },
  {
   "cell_type": "code",
   "execution_count": 4,
   "id": "be490619-fb7c-4ad1-a0d7-928cede1e266",
   "metadata": {
    "tags": []
   },
   "outputs": [],
   "source": [
    "# browser.save_screenshot('./begginers.png') # 현재 화면을 캡쳐한다."
   ]
  },
  {
   "cell_type": "markdown",
   "id": "f7545fc2-701a-4a48-878f-f2a8882c3da0",
   "metadata": {},
   "source": [
    "## 마우스 스크롤 기능 구현"
   ]
  },
  {
   "cell_type": "code",
   "execution_count": 11,
   "id": "b6915914-6448-4092-a8ad-dbef3aedb329",
   "metadata": {},
   "outputs": [],
   "source": [
    "from selenium.webdriver.common.keys import Keys"
   ]
  },
  {
   "cell_type": "code",
   "execution_count": 24,
   "id": "5e86ed06-0258-4a84-8570-d2f9d3a30ca7",
   "metadata": {
    "tags": []
   },
   "outputs": [],
   "source": [
    "# PAGE_DOWN\n",
    "browser.find_element_by_css_selector('body').send_keys('\\ue00f')"
   ]
  },
  {
   "cell_type": "code",
   "execution_count": 25,
   "id": "0ba53140-0aa8-4a3d-92db-9601124a5a24",
   "metadata": {
    "tags": []
   },
   "outputs": [],
   "source": [
    "# PAGE_UP\n",
    "browser.find_element_by_css_selector('body').send_keys('\\ue00e')"
   ]
  },
  {
   "cell_type": "code",
   "execution_count": 26,
   "id": "b3a5d3d0-b47b-49a9-b4b1-f57897e56fdf",
   "metadata": {
    "tags": []
   },
   "outputs": [
    {
     "name": "stdout",
     "output_type": "stream",
     "text": [
      "873 19411\n"
     ]
    }
   ],
   "source": [
    "## 화면 끝까지 이동\n",
    "screen_height = browser.execute_script('return window.innerHeight')\n",
    "document_height = browser.execute_script('return document.body.scrollHeight')\n",
    "print(screen_height,document_height)"
   ]
  },
  {
   "cell_type": "code",
   "execution_count": 22,
   "id": "fc969a53-eea9-4fa8-ba0a-1a49e6aac03f",
   "metadata": {
    "tags": []
   },
   "outputs": [
    {
     "name": "stdout",
     "output_type": "stream",
     "text": [
      "1636 873\n",
      "2399 873\n",
      "3162 873\n",
      "3925 873\n",
      "4688 873\n",
      "5451 873\n",
      "6214 873\n",
      "6977 873\n",
      "7740 873\n",
      "8503 873\n",
      "9266 873\n",
      "10029 873\n",
      "10792 873\n",
      "11555 873\n",
      "12318 873\n",
      "13081 873\n",
      "13844 873\n",
      "14607 873\n",
      "15370 873\n",
      "16133 873\n",
      "16896 873\n",
      "17659 873\n",
      "18422 873\n"
     ]
    }
   ],
   "source": [
    "import time\n",
    "while True :\n",
    "    browser.find_element_by_css_selector('body').send_keys('\\ue00f')\n",
    "    time.sleep(1)\n",
    "    #window.pageYOffset이용\n",
    "    current_scroll_position = browser.execute_script('return window.pageYOffset + {0}'.format(screen_height))\n",
    "    \n",
    "    print(current_scroll_position, screen_height)\n",
    "    if current_scroll_position >= document_height :\n",
    "        break"
   ]
  },
  {
   "cell_type": "code",
   "execution_count": null,
   "id": "61d06f41-80d6-407c-a914-82cdcf0f2a8a",
   "metadata": {
    "tags": []
   },
   "outputs": [],
   "source": [
    "# brower.quit()"
   ]
  },
  {
   "cell_type": "code",
   "execution_count": null,
   "id": "95bc7287-a087-4f72-9c2a-55f7d1ba314a",
   "metadata": {},
   "outputs": [],
   "source": []
  }
 ],
 "metadata": {
  "kernelspec": {
   "display_name": "Python 3 (ipykernel)",
   "language": "python",
   "name": "python3"
  },
  "language_info": {
   "codemirror_mode": {
    "name": "ipython",
    "version": 3
   },
   "file_extension": ".py",
   "mimetype": "text/x-python",
   "name": "python",
   "nbconvert_exporter": "python",
   "pygments_lexer": "ipython3",
   "version": "3.11.3"
  }
 },
 "nbformat": 4,
 "nbformat_minor": 5
}
