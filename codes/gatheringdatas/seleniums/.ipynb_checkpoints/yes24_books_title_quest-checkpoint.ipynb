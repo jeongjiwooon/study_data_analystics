{
 "cells": [
  {
   "cell_type": "code",
   "execution_count": 25,
   "id": "87a20517-6a71-4cc2-b535-5ea007574217",
   "metadata": {
    "tags": []
   },
   "outputs": [],
   "source": [
    "from selenium import webdriver"
   ]
  },
  {
   "cell_type": "code",
   "execution_count": 26,
   "id": "7b74008b-5151-47a2-9a2c-edbb57b4e6dd",
   "metadata": {
    "tags": []
   },
   "outputs": [],
   "source": [
    "# open chrome browser\n",
    "browser =  webdriver.Chrome(executable_path='../../../../chromedriver.exe')"
   ]
  },
  {
   "cell_type": "code",
   "execution_count": 27,
   "id": "320cb4e3-7486-40df-b198-9c459915b035",
   "metadata": {
    "tags": []
   },
   "outputs": [],
   "source": [
    "# url in address window\n",
    "browser.get('https://brunch.co.kr/keyword/%EC%B1%85%EB%A6%AC%EB%B7%B0')"
   ]
  },
  {
   "cell_type": "code",
   "execution_count": 74,
   "id": "80148ece-2761-488a-8ee7-7babfbb973da",
   "metadata": {
    "tags": []
   },
   "outputs": [
    {
     "data": {
      "text/plain": [
       "list"
      ]
     },
     "execution_count": 74,
     "metadata": {},
     "output_type": "execute_result"
    }
   ],
   "source": [
    "element = '.tit_sub'\n",
    "element_list=browser.find_elements_by_css_selector(element)\n",
    "type(element_list)"
   ]
  },
  {
   "cell_type": "code",
   "execution_count": 86,
   "id": "6046f9f2-e357-44d6-a795-29b0a619c4d3",
   "metadata": {
    "tags": []
   },
   "outputs": [],
   "source": [
    "#namelist에 텍스트 담아 내기\n",
    "for bookname in element_list:\n",
    "    namelist.append(bookname.text)\n"
   ]
  },
  {
   "cell_type": "code",
   "execution_count": 87,
   "id": "94aca600-72c9-4954-a317-d31ebea64b82",
   "metadata": {
    "tags": []
   },
   "outputs": [
    {
     "data": {
      "text/plain": [
       "['고슴도치 엑스, 노인경',\n",
       " '러일전쟁 - 와다 하루키(한길사)  ●●●●●●●●◐○',\n",
       " '『우리 대화는 밤새도록 끝이 없지』- 허휘수, 서솔, 상상 출판',\n",
       " '『불안할 땐 뇌과학』- 캐서린 피트먼, 엘리자베스 칼. 현대지성',\n",
       " '그림책 리뷰',\n",
       " '동해선에서 읽은 책 61',\n",
       " 'Jane Kallir',\n",
       " '',\n",
       " '',\n",
       " \"'디자이너 생각위를 걷다'에서 느끼는 사업가의 삶의 지혜\",\n",
       " 'Feat. 부부가 둘 다 놀고 있습니다',\n",
       " '도파민네이션과 최선의 고통을 읽고',\n",
       " '집이라는 모험, 신순화',\n",
       " '1차원이 되고 싶어, 박상영',\n",
       " '나는 단순하게 살기로 했다, 사사키 후미오',\n",
       " 'by 스콧 피츠제럴드',\n",
       " \"'더티 워크'를 읽고 (소원책담 독서모임 - 담쟁이 독서회)\",\n",
       " '숏 컷 - 레이먼드 카버(집사재) ●●●●●●●◐○○',\n",
       " '최초의 직업 프로그래머는 여자라는 사실',\n",
       " '가난해지지 않는 마음, 양다솔',\n",
       " '고슴도치 엑스, 노인경']"
      ]
     },
     "execution_count": 87,
     "metadata": {},
     "output_type": "execute_result"
    }
   ],
   "source": [
    "namelist"
   ]
  },
  {
   "cell_type": "code",
   "execution_count": 88,
   "id": "4204f43c-be15-4675-8609-a255102d895d",
   "metadata": {
    "tags": []
   },
   "outputs": [],
   "source": [
    "import pandas as pd"
   ]
  },
  {
   "cell_type": "code",
   "execution_count": 96,
   "id": "062ea7c2-ba00-4ec4-a733-21423d542b3b",
   "metadata": {
    "tags": []
   },
   "outputs": [
    {
     "data": {
      "text/html": [
       "<div>\n",
       "<style scoped>\n",
       "    .dataframe tbody tr th:only-of-type {\n",
       "        vertical-align: middle;\n",
       "    }\n",
       "\n",
       "    .dataframe tbody tr th {\n",
       "        vertical-align: top;\n",
       "    }\n",
       "\n",
       "    .dataframe thead th {\n",
       "        text-align: right;\n",
       "    }\n",
       "</style>\n",
       "<table border=\"1\" class=\"dataframe\">\n",
       "  <thead>\n",
       "    <tr style=\"text-align: right;\">\n",
       "      <th></th>\n",
       "      <th>0</th>\n",
       "    </tr>\n",
       "  </thead>\n",
       "  <tbody>\n",
       "    <tr>\n",
       "      <th>0</th>\n",
       "      <td>고슴도치 엑스, 노인경</td>\n",
       "    </tr>\n",
       "    <tr>\n",
       "      <th>1</th>\n",
       "      <td>러일전쟁 - 와다 하루키(한길사)  ●●●●●●●●◐○</td>\n",
       "    </tr>\n",
       "    <tr>\n",
       "      <th>2</th>\n",
       "      <td>『우리 대화는 밤새도록 끝이 없지』- 허휘수, 서솔, 상상 출판</td>\n",
       "    </tr>\n",
       "    <tr>\n",
       "      <th>3</th>\n",
       "      <td>『불안할 땐 뇌과학』- 캐서린 피트먼, 엘리자베스 칼. 현대지성</td>\n",
       "    </tr>\n",
       "    <tr>\n",
       "      <th>4</th>\n",
       "      <td>그림책 리뷰</td>\n",
       "    </tr>\n",
       "    <tr>\n",
       "      <th>5</th>\n",
       "      <td>동해선에서 읽은 책 61</td>\n",
       "    </tr>\n",
       "    <tr>\n",
       "      <th>6</th>\n",
       "      <td>Jane Kallir</td>\n",
       "    </tr>\n",
       "    <tr>\n",
       "      <th>7</th>\n",
       "      <td></td>\n",
       "    </tr>\n",
       "    <tr>\n",
       "      <th>8</th>\n",
       "      <td></td>\n",
       "    </tr>\n",
       "    <tr>\n",
       "      <th>9</th>\n",
       "      <td>'디자이너 생각위를 걷다'에서 느끼는 사업가의 삶의 지혜</td>\n",
       "    </tr>\n",
       "    <tr>\n",
       "      <th>10</th>\n",
       "      <td>Feat. 부부가 둘 다 놀고 있습니다</td>\n",
       "    </tr>\n",
       "    <tr>\n",
       "      <th>11</th>\n",
       "      <td>도파민네이션과 최선의 고통을 읽고</td>\n",
       "    </tr>\n",
       "    <tr>\n",
       "      <th>12</th>\n",
       "      <td>집이라는 모험, 신순화</td>\n",
       "    </tr>\n",
       "    <tr>\n",
       "      <th>13</th>\n",
       "      <td>1차원이 되고 싶어, 박상영</td>\n",
       "    </tr>\n",
       "    <tr>\n",
       "      <th>14</th>\n",
       "      <td>나는 단순하게 살기로 했다, 사사키 후미오</td>\n",
       "    </tr>\n",
       "    <tr>\n",
       "      <th>15</th>\n",
       "      <td>by 스콧 피츠제럴드</td>\n",
       "    </tr>\n",
       "    <tr>\n",
       "      <th>16</th>\n",
       "      <td>'더티 워크'를 읽고 (소원책담 독서모임 - 담쟁이 독서회)</td>\n",
       "    </tr>\n",
       "    <tr>\n",
       "      <th>17</th>\n",
       "      <td>숏 컷 - 레이먼드 카버(집사재) ●●●●●●●◐○○</td>\n",
       "    </tr>\n",
       "    <tr>\n",
       "      <th>18</th>\n",
       "      <td>최초의 직업 프로그래머는 여자라는 사실</td>\n",
       "    </tr>\n",
       "    <tr>\n",
       "      <th>19</th>\n",
       "      <td>가난해지지 않는 마음, 양다솔</td>\n",
       "    </tr>\n",
       "    <tr>\n",
       "      <th>20</th>\n",
       "      <td>고슴도치 엑스, 노인경</td>\n",
       "    </tr>\n",
       "  </tbody>\n",
       "</table>\n",
       "</div>"
      ],
      "text/plain": [
       "                                      0\n",
       "0                          고슴도치 엑스, 노인경\n",
       "1        러일전쟁 - 와다 하루키(한길사)  ●●●●●●●●◐○\n",
       "2   『우리 대화는 밤새도록 끝이 없지』- 허휘수, 서솔, 상상 출판\n",
       "3   『불안할 땐 뇌과학』- 캐서린 피트먼, 엘리자베스 칼. 현대지성\n",
       "4                                그림책 리뷰\n",
       "5                         동해선에서 읽은 책 61\n",
       "6                           Jane Kallir\n",
       "7                                      \n",
       "8                                      \n",
       "9       '디자이너 생각위를 걷다'에서 느끼는 사업가의 삶의 지혜\n",
       "10                Feat. 부부가 둘 다 놀고 있습니다\n",
       "11                   도파민네이션과 최선의 고통을 읽고\n",
       "12                         집이라는 모험, 신순화\n",
       "13                      1차원이 되고 싶어, 박상영\n",
       "14              나는 단순하게 살기로 했다, 사사키 후미오\n",
       "15                          by 스콧 피츠제럴드\n",
       "16    '더티 워크'를 읽고 (소원책담 독서모임 - 담쟁이 독서회)\n",
       "17        숏 컷 - 레이먼드 카버(집사재) ●●●●●●●◐○○\n",
       "18                최초의 직업 프로그래머는 여자라는 사실\n",
       "19                     가난해지지 않는 마음, 양다솔\n",
       "20                         고슴도치 엑스, 노인경"
      ]
     },
     "execution_count": 96,
     "metadata": {},
     "output_type": "execute_result"
    }
   ],
   "source": [
    "booknames=pd.DataFrame(data=namelist)\n",
    "booknames"
   ]
  },
  {
   "cell_type": "code",
   "execution_count": 98,
   "id": "9f0cbcba-905b-49e4-9245-4c8037f19f5b",
   "metadata": {
    "tags": []
   },
   "outputs": [],
   "source": [
    "booknames.to_csv('./yes24_books_title.csv')"
   ]
  },
  {
   "cell_type": "code",
   "execution_count": null,
   "id": "6a82da78-0b0b-4e1b-ad64-4e6e89eb4d8c",
   "metadata": {},
   "outputs": [],
   "source": []
  }
 ],
 "metadata": {
  "kernelspec": {
   "display_name": "Python 3 (ipykernel)",
   "language": "python",
   "name": "python3"
  },
  "language_info": {
   "codemirror_mode": {
    "name": "ipython",
    "version": 3
   },
   "file_extension": ".py",
   "mimetype": "text/x-python",
   "name": "python",
   "nbconvert_exporter": "python",
   "pygments_lexer": "ipython3",
   "version": "3.11.3"
  }
 },
 "nbformat": 4,
 "nbformat_minor": 5
}
