{
 "cells": [
  {
   "cell_type": "code",
   "execution_count": 1,
   "id": "87a20517-6a71-4cc2-b535-5ea007574217",
   "metadata": {
    "tags": []
   },
   "outputs": [],
   "source": [
    "from selenium import webdriver"
   ]
  },
  {
   "cell_type": "code",
   "execution_count": 2,
   "id": "7b74008b-5151-47a2-9a2c-edbb57b4e6dd",
   "metadata": {
    "tags": []
   },
   "outputs": [],
   "source": [
    "# open chrome browser\n",
    "browser =  webdriver.Chrome(executable_path='../../../../chromedriver.exe')"
   ]
  },
  {
   "cell_type": "code",
   "execution_count": 3,
   "id": "320cb4e3-7486-40df-b198-9c459915b035",
   "metadata": {
    "tags": []
   },
   "outputs": [],
   "source": [
    "# url in address window\n",
    "browser.get('https://www.w3schools.com/')"
   ]
  },
  {
   "cell_type": "code",
   "execution_count": 4,
   "id": "be490619-fb7c-4ad1-a0d7-928cede1e266",
   "metadata": {
    "tags": []
   },
   "outputs": [],
   "source": [
    "# browser.save_screenshot('./begginers.png') # 현재 화면을 캡쳐한다."
   ]
  },
  {
   "cell_type": "markdown",
   "id": "f7545fc2-701a-4a48-878f-f2a8882c3da0",
   "metadata": {},
   "source": [
    "## 마우스 스크롤 기능 구현"
   ]
  },
  {
   "cell_type": "code",
   "execution_count": 11,
   "id": "b6915914-6448-4092-a8ad-dbef3aedb329",
   "metadata": {},
   "outputs": [],
   "source": [
    "from selenium.webdriver.common.keys import Keys"
   ]
  },
  {
   "cell_type": "code",
   "execution_count": 17,
   "id": "5e86ed06-0258-4a84-8570-d2f9d3a30ca7",
   "metadata": {
    "tags": []
   },
   "outputs": [
    {
     "ename": "NameError",
     "evalue": "name 'PAGE_DOWN' is not defined",
     "output_type": "error",
     "traceback": [
      "\u001b[1;31m---------------------------------------------------------------------------\u001b[0m",
      "\u001b[1;31mNameError\u001b[0m                                 Traceback (most recent call last)",
      "Cell \u001b[1;32mIn[17], line 1\u001b[0m\n\u001b[1;32m----> 1\u001b[0m browser\u001b[38;5;241m.\u001b[39mfind_element_by_css_selector(\u001b[38;5;124m'\u001b[39m\u001b[38;5;124mbody\u001b[39m\u001b[38;5;124m'\u001b[39m)\u001b[38;5;241m.\u001b[39msend_keys(PAGE_DOWN)\n",
      "\u001b[1;31mNameError\u001b[0m: name 'PAGE_DOWN' is not defined"
     ]
    }
   ],
   "source": [
    "browser.find_element_by_css_selector('body').send_keys('\\ue00f')"
   ]
  },
  {
   "cell_type": "code",
   "execution_count": 16,
   "id": "0ba53140-0aa8-4a3d-92db-9601124a5a24",
   "metadata": {
    "tags": []
   },
   "outputs": [
    {
     "ename": "NameError",
     "evalue": "name 'keys' is not defined",
     "output_type": "error",
     "traceback": [
      "\u001b[1;31m---------------------------------------------------------------------------\u001b[0m",
      "\u001b[1;31mNameError\u001b[0m                                 Traceback (most recent call last)",
      "Cell \u001b[1;32mIn[16], line 1\u001b[0m\n\u001b[1;32m----> 1\u001b[0m browser\u001b[38;5;241m.\u001b[39mfind_element_by_css_selector(\u001b[38;5;124m'\u001b[39m\u001b[38;5;124mbody\u001b[39m\u001b[38;5;124m'\u001b[39m)\u001b[38;5;241m.\u001b[39msend_keys(keys\u001b[38;5;241m.\u001b[39mPAGE_UP)\n",
      "\u001b[1;31mNameError\u001b[0m: name 'keys' is not defined"
     ]
    }
   ],
   "source": [
    "browser.find_element_by_css_selector('body').send_keys(keys.PAGE_UP)"
   ]
  },
  {
   "cell_type": "code",
   "execution_count": 14,
   "id": "b3a5d3d0-b47b-49a9-b4b1-f57897e56fdf",
   "metadata": {
    "tags": []
   },
   "outputs": [
    {
     "name": "stdout",
     "output_type": "stream",
     "text": [
      "873 17832\n"
     ]
    }
   ],
   "source": [
    "## 화면 끝까지 이동\n",
    "screen_height = browser.execute_script('return window.innerHeight')\n",
    "document_height = browser.execute_script('return document.body.scrollHeight')\n",
    "print(screen_height,document_height)"
   ]
  },
  {
   "cell_type": "code",
   "execution_count": 15,
   "id": "fc969a53-eea9-4fa8-ba0a-1a49e6aac03f",
   "metadata": {
    "tags": []
   },
   "outputs": [
    {
     "ename": "NameError",
     "evalue": "name 'keys' is not defined",
     "output_type": "error",
     "traceback": [
      "\u001b[1;31m---------------------------------------------------------------------------\u001b[0m",
      "\u001b[1;31mNameError\u001b[0m                                 Traceback (most recent call last)",
      "Cell \u001b[1;32mIn[15], line 3\u001b[0m\n\u001b[0;32m      1\u001b[0m \u001b[38;5;28;01mimport\u001b[39;00m \u001b[38;5;21;01mtime\u001b[39;00m\n\u001b[0;32m      2\u001b[0m \u001b[38;5;28;01mwhile\u001b[39;00m \u001b[38;5;28;01mTrue\u001b[39;00m :\n\u001b[1;32m----> 3\u001b[0m     browser\u001b[38;5;241m.\u001b[39mfind_element_by_css_selector(\u001b[38;5;124m'\u001b[39m\u001b[38;5;124mbody\u001b[39m\u001b[38;5;124m'\u001b[39m)\u001b[38;5;241m.\u001b[39msend_keys(keys\u001b[38;5;241m.\u001b[39mPAGE_DOWN)\n\u001b[0;32m      4\u001b[0m     time\u001b[38;5;241m.\u001b[39msleep(\u001b[38;5;241m1\u001b[39m)\n\u001b[0;32m      5\u001b[0m     \u001b[38;5;66;03m#window.pageYOffset이용\u001b[39;00m\n",
      "\u001b[1;31mNameError\u001b[0m: name 'keys' is not defined"
     ]
    }
   ],
   "source": [
    "import time\n",
    "while True :\n",
    "    browser.find_element_by_css_selector('body').send_keys(keys.PAGE_DOWN)\n",
    "    time.sleep(1)\n",
    "    #window.pageYOffset이용\n",
    "    current_scroll_position = browser.execute_script('return window.pageYOffset + {0}'.format(screen_height))\n",
    "    \n",
    "    print(current_scroll_position, screen_height)\n",
    "    if current_scroll_position >= document_height :\n",
    "        break"
   ]
  },
  {
   "cell_type": "code",
   "execution_count": null,
   "id": "61d06f41-80d6-407c-a914-82cdcf0f2a8a",
   "metadata": {
    "tags": []
   },
   "outputs": [],
   "source": [
    "# brower.quit()"
   ]
  },
  {
   "cell_type": "code",
   "execution_count": null,
   "id": "95bc7287-a087-4f72-9c2a-55f7d1ba314a",
   "metadata": {},
   "outputs": [],
   "source": []
  }
 ],
 "metadata": {
  "kernelspec": {
   "display_name": "Python 3 (ipykernel)",
   "language": "python",
   "name": "python3"
  },
  "language_info": {
   "codemirror_mode": {
    "name": "ipython",
    "version": 3
   },
   "file_extension": ".py",
   "mimetype": "text/x-python",
   "name": "python",
   "nbconvert_exporter": "python",
   "pygments_lexer": "ipython3",
   "version": "3.11.3"
  }
 },
 "nbformat": 4,
 "nbformat_minor": 5
}
