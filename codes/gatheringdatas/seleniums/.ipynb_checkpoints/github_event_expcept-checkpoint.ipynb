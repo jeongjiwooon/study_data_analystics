{
 "cells": [
  {
   "cell_type": "markdown",
   "id": "aa196062-878a-4b04-8d98-0fdc88254456",
   "metadata": {},
   "source": [
    "### Github signin"
   ]
  },
  {
   "cell_type": "code",
   "execution_count": 29,
   "id": "34b2d281-923b-4dd8-99d9-db4d728d279d",
   "metadata": {
    "tags": []
   },
   "outputs": [],
   "source": [
    "from selenium import webdriver\n",
    "options = webdriver.ChromeOptions()\n",
    "options.add_argument(\"--window-size=1560,840\") # 옵션으로 브라우저의 크기를 설정하여 줌.\n",
    "browser = webdriver.Chrome(executable_path='../../../../chromedriver.exe', options=options)\n",
    "browser.get('https://github.com/')"
   ]
  },
  {
   "cell_type": "markdown",
   "id": "c369c75e-e528-4391-a4d7-3671dd0f5672",
   "metadata": {},
   "source": [
    "#### Login 화면 링크 tag \n",
    "- 접힌 메뉴 tag : body > div.logged-out.env-production.page-responsive.header-overlay.home-campaign > div.position-relative.js-header-wrapper > header > div > div.d-flex.flex-justify-between.flex-items-center.width-full.width-lg-auto > div.flex-1.flex-order-2.text-right > button > span > span\n",
    "- click tag : div > div > div > a.HeaderMenu-link.HeaderMenu-link--sign-in"
   ]
  },
  {
   "cell_type": "code",
   "execution_count": 30,
   "id": "c41d7531-7ea8-4fa6-ac39-43b6da23df7d",
   "metadata": {
    "tags": []
   },
   "outputs": [],
   "source": [
    "element_path = 'body > div.logged-out.env-production.page-responsive.header-overlay.home-campaign > div.position-relative.js-header-wrapper > header > div > div.d-flex.flex-justify-between.flex-items-center.width-full.width-lg-auto > div.flex-1.flex-order-2.text-right > button > span > span'\n",
    "try :\n",
    "    callapsed_menu = browser.find_element_by_css_selector(element_path)\n",
    "    callapsed_menu.click()\n",
    "except : \n",
    "    pass #동작을 다음으로 넘겨줘야 할때 씀."
   ]
  },
  {
   "cell_type": "code",
   "execution_count": 31,
   "id": "cb140a37-459f-44d0-9e50-681570d18448",
   "metadata": {
    "tags": []
   },
   "outputs": [
    {
     "data": {
      "text/plain": [
       "selenium.webdriver.remote.webelement.WebElement"
      ]
     },
     "execution_count": 31,
     "metadata": {},
     "output_type": "execute_result"
    }
   ],
   "source": [
    "element_path = '.HeaderMenu-link.HeaderMenu-link--sign-in'\n",
    "singin_button = browser.find_element_by_css_selector(element_path)\n",
    "type(singin_button)"
   ]
  },
  {
   "cell_type": "code",
   "execution_count": 32,
   "id": "cac8cd09-5492-4172-afa6-d8da7b89bd94",
   "metadata": {
    "tags": []
   },
   "outputs": [],
   "source": [
    "singin_button.click()"
   ]
  },
  {
   "cell_type": "markdown",
   "id": "b036138a-ebc8-42a3-866d-afc6dd12e6e5",
   "metadata": {
    "tags": []
   },
   "source": [
    "#### Login 화면\n",
    "- user id input tag : #login_field\n",
    "- password input tag : #password\n",
    "- click tag : input.btn.btn-primary.btn-block.js-sign-in-button"
   ]
  },
  {
   "cell_type": "code",
   "execution_count": 33,
   "id": "9844c3eb-97f9-4bd6-82ef-62a07bd6f040",
   "metadata": {
    "tags": []
   },
   "outputs": [],
   "source": [
    "element_path = '#login_field'\n",
    "login_field = browser.find_element_by_css_selector(element_path)\n",
    "login_field.send_keys('leeban1004@gmail.com')"
   ]
  },
  {
   "cell_type": "code",
   "execution_count": 34,
   "id": "65c066a2-c994-4bed-bccd-6637eff25468",
   "metadata": {
    "tags": []
   },
   "outputs": [],
   "source": [
    "element_path = '#password'\n",
    "password_field = browser.find_element_by_css_selector(element_path)\n",
    "password_field.send_keys('password')"
   ]
  },
  {
   "cell_type": "code",
   "execution_count": 35,
   "id": "f57e9198-e328-466d-9d98-23a83caca685",
   "metadata": {
    "tags": []
   },
   "outputs": [],
   "source": [
    "element_path = 'input.btn.btn-primary.btn-block.js-sign-in-button'\n",
    "signin_button = browser.find_element_by_css_selector(element_path)\n",
    "signin_button.click()"
   ]
  },
  {
   "cell_type": "code",
   "execution_count": 24,
   "id": "8fd9c857-fd26-44dd-a893-fa438123f3f3",
   "metadata": {
    "tags": []
   },
   "outputs": [],
   "source": [
    "browser.close()"
   ]
  },
  {
   "cell_type": "code",
   "execution_count": null,
   "id": "5eb68570-644d-424a-8de7-f4808851b164",
   "metadata": {},
   "outputs": [],
   "source": []
  }
 ],
 "metadata": {
  "kernelspec": {
   "display_name": "Python 3 (ipykernel)",
   "language": "python",
   "name": "python3"
  },
  "language_info": {
   "codemirror_mode": {
    "name": "ipython",
    "version": 3
   },
   "file_extension": ".py",
   "mimetype": "text/x-python",
   "name": "python",
   "nbconvert_exporter": "python",
   "pygments_lexer": "ipython3",
   "version": "3.11.3"
  }
 },
 "nbformat": 4,
 "nbformat_minor": 5
}
