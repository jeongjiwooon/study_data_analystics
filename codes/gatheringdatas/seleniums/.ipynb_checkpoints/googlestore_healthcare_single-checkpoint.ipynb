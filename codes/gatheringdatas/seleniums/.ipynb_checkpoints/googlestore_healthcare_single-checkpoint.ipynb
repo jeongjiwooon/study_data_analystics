{
 "cells": [
  {
   "cell_type": "code",
   "execution_count": 1,
   "id": "03ee747d-40d3-4a84-8a7c-5c5902127571",
   "metadata": {
    "tags": []
   },
   "outputs": [],
   "source": [
    "from selenium import webdriver"
   ]
  },
  {
   "cell_type": "code",
   "execution_count": 2,
   "id": "478287f0-a503-436f-87c9-1bd7c782bbfb",
   "metadata": {
    "tags": []
   },
   "outputs": [],
   "source": [
    "browser =  webdriver.Chrome(executable_path='../../../../chromedriver.exe')"
   ]
  },
  {
   "cell_type": "code",
   "execution_count": 3,
   "id": "f4f4c54a-8151-469d-933e-befdbd5b3b97",
   "metadata": {
    "tags": []
   },
   "outputs": [],
   "source": [
    "browser.get('https://play.google.com/store/search?q=%ED%97%AC%EC%8A%A4%EC%BC%80%EC%96%B4%EC%95%B1&c=apps&hl=ko-KR')"
   ]
  },
  {
   "cell_type": "code",
   "execution_count": 4,
   "id": "749d55bf-81ff-4f64-95ce-cbaea4a01444",
   "metadata": {
    "tags": []
   },
   "outputs": [],
   "source": [
    "browser.implicitly_wait(10)"
   ]
  },
  {
   "cell_type": "markdown",
   "id": "2f878bbd-df04-42c4-b56d-f7de7de35df1",
   "metadata": {},
   "source": [
    "## 제품 클릭\n",
    "- section > div > div > div > div:nth-child(2) > div > div > div"
   ]
  },
  {
   "cell_type": "code",
   "execution_count": 5,
   "id": "13430763-e11f-4863-b289-499242a2dda3",
   "metadata": {
    "tags": []
   },
   "outputs": [],
   "source": [
    "click_path = 'section > div > div > div > div:nth-child(2) > div > div > div'\n",
    "browser.find_element_by_css_selector(click_path).click()"
   ]
  },
  {
   "cell_type": "markdown",
   "id": "1816f41c-2483-4e83-b63f-0b987acc62a3",
   "metadata": {},
   "source": [
    "## 제품정보\n",
    "- 서비스명 tag : div > h1 > span\n",
    "- 제작회사 tag : div.Il7kR> div > div > div > a > span\n",
    "- 앱정보 tag : div:nth-child(1) > c-wiz:nth-child(2) > div > section > div"
   ]
  },
  {
   "cell_type": "code",
   "execution_count": 6,
   "id": "deb4a0f2-02ef-4e9f-a4ec-6c49b23084e2",
   "metadata": {
    "tags": []
   },
   "outputs": [
    {
     "data": {
      "text/plain": [
       "['NH헬스케어',\n",
       " 'NH농협생명',\n",
       " '한국인의 건강관리 NH 헬스케어!\\n\\n지인들과 재밌고 건강하게 즐기는 NH헬스케어만의 새로운 걷기 방법 – 걷기 배틀\\n걷기 목표 달성시 지급되는 포인트로 완성하는 온라인 텃밭 – 랜선 텃밭 가꾸기\\n\\n즐겁고 과학적인 당신만을 위한 건강 솔루션 NH 헬스케어!\\n업데이트 날짜\\n2023. 7. 21.\\n건강/운동']"
      ]
     },
     "execution_count": 6,
     "metadata": {},
     "output_type": "execute_result"
    }
   ],
   "source": [
    "service_name = browser.find_element_by_css_selector('div > h1 > span').text\n",
    "company_name = browser.find_element_by_css_selector('div.Il7kR> div > div > div > a > span').text\n",
    "app_infomation = browser.find_element_by_css_selector('div:nth-child(1) > c-wiz:nth-child(2) > div > section > div').text\n",
    "\n",
    "[service_name,company_name,app_infomation]"
   ]
  },
  {
   "cell_type": "markdown",
   "id": "eec9ad55-5425-420a-a8e9-9e413f10d97b",
   "metadata": {},
   "source": [
    "## 리뷰 모두 보기\n",
    "- click tag : div:nth-child(5) > div > div > button > span"
   ]
  },
  {
   "cell_type": "code",
   "execution_count": 9,
   "id": "74c828a3-f084-4f86-87f3-77e1a2cd1822",
   "metadata": {
    "tags": []
   },
   "outputs": [],
   "source": [
    "browser.find_element_by_css_selector('#ow127 > section > div > div.Jwxk6d > div:nth-child(5) > div > div > button').click()"
   ]
  },
  {
   "cell_type": "markdown",
   "id": "c053cd70-a504-4821-9a2a-befb07daf640",
   "metadata": {},
   "source": [
    "## 리뷰 내용 가져오기\n",
    "- 리뷰 묶음 tag : div.fysCi > div > div:nth-child(2) > div\n",
    "- 내용 tag : div.h3YV2d\n",
    "- 날짜 tag : header > div.Jx4nYe > span\n",
    "- 별점 tag : header > div.Jx4nYe > div"
   ]
  },
  {
   "cell_type": "code",
   "execution_count": null,
   "id": "36fd7dbb-b9ae-4c90-baab-1e3e7c186b3b",
   "metadata": {
    "tags": []
   },
   "outputs": [],
   "source": [
    "reviews_bundle = browser.find_elements_by_css_selector('div.fysCi > div > div:nth-child(2) > div')\n",
    "len(reviews_bundle)"
   ]
  },
  {
   "cell_type": "code",
   "execution_count": null,
   "id": "458f0f45-08be-48d7-a82f-8e08c60a8fbd",
   "metadata": {
    "tags": []
   },
   "outputs": [],
   "source": [
    "\n",
    "content = reviews_bundle[0].find_element_by_css_selector('div.h3YV2d').text\n",
    "date = reviews_bundle[0].find_element_by_css_selector('header > div.Jx4nYe > span').text\n",
    "starts = reviews_bundle[0].find_element_by_css_selector('header > div.Jx4nYe > div').get_attribute('aria-label') #aria-label에서 잡아오는것"
   ]
  },
  {
   "cell_type": "code",
   "execution_count": null,
   "id": "2dcdc401-b5d1-4bfa-8ff0-7799228af36c",
   "metadata": {
    "tags": []
   },
   "outputs": [],
   "source": [
    "[content, date, starts]"
   ]
  },
  {
   "cell_type": "code",
   "execution_count": null,
   "id": "2e3f1898-876e-4d99-ac75-196fd3d14d02",
   "metadata": {},
   "outputs": [],
   "source": []
  }
 ],
 "metadata": {
  "kernelspec": {
   "display_name": "Python 3 (ipykernel)",
   "language": "python",
   "name": "python3"
  },
  "language_info": {
   "codemirror_mode": {
    "name": "ipython",
    "version": 3
   },
   "file_extension": ".py",
   "mimetype": "text/x-python",
   "name": "python",
   "nbconvert_exporter": "python",
   "pygments_lexer": "ipython3",
   "version": "3.11.3"
  }
 },
 "nbformat": 4,
 "nbformat_minor": 5
}
