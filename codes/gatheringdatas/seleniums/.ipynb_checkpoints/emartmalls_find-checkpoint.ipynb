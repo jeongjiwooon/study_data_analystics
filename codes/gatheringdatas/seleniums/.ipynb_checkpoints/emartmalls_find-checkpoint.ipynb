{
 "cells": [
  {
   "cell_type": "code",
   "execution_count": 1,
   "id": "87a20517-6a71-4cc2-b535-5ea007574217",
   "metadata": {
    "tags": []
   },
   "outputs": [],
   "source": [
    "from selenium import webdriver"
   ]
  },
  {
   "cell_type": "code",
   "execution_count": 2,
   "id": "7b74008b-5151-47a2-9a2c-edbb57b4e6dd",
   "metadata": {
    "tags": []
   },
   "outputs": [],
   "source": [
    "# open chrome browser\n",
    "browser =  webdriver.Chrome(executable_path='../../../../chromedriver.exe')"
   ]
  },
  {
   "cell_type": "code",
   "execution_count": 3,
   "id": "320cb4e3-7486-40df-b198-9c459915b035",
   "metadata": {
    "tags": []
   },
   "outputs": [],
   "source": [
    "# url in address window\n",
    "browser.get('https://emart.ssg.com/disp/category.ssg?dispCtgId=6000214033')"
   ]
  },
  {
   "cell_type": "markdown",
   "id": "3b424ed1-6ed6-4093-b905-986d3a206fb8",
   "metadata": {},
   "source": [
    "### 하나의 element 가져오기"
   ]
  },
  {
   "cell_type": "code",
   "execution_count": 13,
   "id": "01390663-a8c9-4ec6-99a8-464ea35422e5",
   "metadata": {
    "scrolled": true,
    "tags": []
   },
   "outputs": [
    {
     "data": {
      "text/plain": [
       "selenium.webdriver.remote.webelement.WebElement"
      ]
     },
     "execution_count": 13,
     "metadata": {},
     "output_type": "execute_result"
    }
   ],
   "source": [
    "element_path = 'li.mnemitem_grid_item.swiper-slide.swiper-slide-active > div'\n",
    "element = browser.find_element_by_css_selector(element_path) # 단수 찾기\n",
    "type(element)"
   ]
  },
  {
   "cell_type": "code",
   "execution_count": 14,
   "id": "3fd2a3a4-1adb-4d1f-8b56-1831ce838db0",
   "metadata": {
    "tags": []
   },
   "outputs": [
    {
     "data": {
      "text/plain": [
       "\"장바구니 담기\\n쓱배송\\n새벽배송 가능\\nMOLLY'S 몰리스 쉬야응가 1회용 패드 L 50매\\n판매가격\\n13,900\\n원\\n1포 당 278원\\n상품평점 5점 만점에\\n4.9\\n상품평 개수\\n(1,478)\""
      ]
     },
     "execution_count": 14,
     "metadata": {},
     "output_type": "execute_result"
    }
   ],
   "source": [
    "element.text"
   ]
  },
  {
   "cell_type": "code",
   "execution_count": 15,
   "id": "e83089b7-cdda-47b5-b921-270febc56fc4",
   "metadata": {
    "tags": []
   },
   "outputs": [
    {
     "data": {
      "text/plain": [
       "'mnemitem_unit'"
      ]
     },
     "execution_count": 15,
     "metadata": {},
     "output_type": "execute_result"
    }
   ],
   "source": [
    "element.get_attribute('class')"
   ]
  },
  {
   "cell_type": "markdown",
   "id": "6e34d67a-bb75-4ac2-bcbb-3a7cb2a826ad",
   "metadata": {},
   "source": [
    "### 여러개 element 가져오기"
   ]
  },
  {
   "cell_type": "code",
   "execution_count": null,
   "id": "61d06f41-80d6-407c-a914-82cdcf0f2a8a",
   "metadata": {
    "tags": []
   },
   "outputs": [],
   "source": [
    "# brower.quit()"
   ]
  },
  {
   "cell_type": "code",
   "execution_count": 16,
   "id": "95bc7287-a087-4f72-9c2a-55f7d1ba314a",
   "metadata": {},
   "outputs": [
    {
     "data": {
      "text/plain": [
       "(list, selenium.webdriver.remote.webelement.WebElement)"
      ]
     },
     "execution_count": 16,
     "metadata": {},
     "output_type": "execute_result"
    }
   ],
   "source": [
    "element_paths = '.mnemitem_goods_tit'\n",
    "elements = browser.find_elements_by_css_selector(element_paths)\n",
    "type(elements), type(elements[0])"
   ]
  },
  {
   "cell_type": "code",
   "execution_count": 17,
   "id": "f4d62c30-5730-4a12-96e4-6e901786b98b",
   "metadata": {
    "tags": []
   },
   "outputs": [
    {
     "name": "stdout",
     "output_type": "stream",
     "text": [
      "몰리스 쉬야응가 1회용 패드 L 50매\n",
      "몰리스 쉬야응가 1회용 패드 L 50매\n",
      "몰리스 쉬야응가 1회용 패드 M 100매\n",
      "몰리스 쉬야응가 1회용 패드 M 100매\n",
      "\n",
      "\n",
      "\n",
      "\n",
      "\n",
      "\n",
      "\n",
      "\n",
      "\n",
      "\n",
      "\n",
      "\n",
      "\n",
      "\n",
      "\n",
      "\n",
      "반려견패드(중)40*50cm*100매\n",
      "반려견패드(대)60*70cm*45매\n",
      "순살듬뿍 치킨말이스틱 30P (300g)\n",
      "순살듬뿍 오리말이스틱 30P (300g)\n",
      "건강한간식 순살듬뿍 고구마 오리말이 300g\n",
      "건강한간식 순살듬뿍 고구마 치킨말이 300g\n",
      "몰리스픽 반려견 패드 L 45매\n",
      "건강한간식 순살듬뿍 안심오리 300g\n",
      "반려견 사료 10kg\n",
      "몰리스 화이트 스틱껌 소프트치킨 400g\n",
      "템테이션 맛있는 닭고기맛 75g\n",
      "몰리스픽 반려견 패드 M 100매\n",
      "국민가격 DTC 치킨고구마 져키 1kg\n",
      "몰리스 미끄러지지 않는 패드 M 80매\n",
      "몰리스 쉬야응가 1회용 패드 M 100매\n",
      "템테이션 고소한 참치맛 75g\n",
      "건강한간식 순살듬뿍 안심치킨 300g\n",
      "치킨 슬라이스 1kg\n",
      "몰리스 미니 닭가슴살과 연어\n",
      "포켄스 덴탈스틱 후레시 칼슘 S 작은별 220g\n",
      "템테이션 믹스업 참치 연어 새우맛 75g\n",
      "츄잉스틱 플레인요거트 250g\n",
      "자연소재 양고기육포&쌀 460g\n",
      "밥이보약 Dog 튼튼한 관절 8kg (네오2 유통기한 23.10.17)\n",
      "템테이션 풍부한 해산물 맛75g\n",
      "몰리스 3~4회용 패드 L 35매\n",
      "포켄스 덴탈스틱 후레시 블루베리 S 작은별 220g\n",
      "[몰리스]프로발란스 어덜트 8kg\n",
      "(이마트가 직접 수입한) 딱 한번 반려견 패드 M 200매\n",
      "자연소재 소고기육포스틱 180g\n",
      "국민 두부 고양이 모래(오리지널)\n",
      "포켄스 덴티페어리 M 75g\n",
      "포켄스 덴티페어리 SS 150g\n",
      "맥시 비프져키 800g\n",
      "몰리스미니참치와도미\n",
      "[포켄스] 덴티 페어리(소)\n",
      "원더푸드 반려견 고구마말랭이 간식 1kg\n",
      "챠오 츄루 참치 4개입\n",
      "챠오 츄르 참치/해물믹스맛 20개입\n",
      "순살간식 오리고기 순살 300g\n",
      "해피밀 황태와 소고기 1.2kg\n",
      "몰리스 미끄러지지 않는 패드 L 35매\n",
      "포켄스 덴탈스틱 후레시 오메가3 S 작은별 220g\n",
      "몰리스픽 전연령 반려묘사료 15KG\n",
      "몰리스 닭가슴살과흰살생선\n",
      "슈퍼츄 터키츄 본S 10개입\n",
      "Think your Dog Teeth 소고기우유껌 15P\n",
      "[시저] 연어와 감자 (100g*3개)\n",
      "몰리스 3~4회용 패드 M 80매\n",
      "반려묘사료 10kg\n",
      "몰리스 크런치홀릭 닭고기 60g\n",
      "템테이션 연어맛 75g\n",
      "[쉬바] 참치 흰 살과 도미와 그레이비 소스 85g\n",
      "칠면조힘줄 스트립 85g\n",
      "챠오 츄르 닭가슴살 4개입\n",
      "몰리스픽 전연령 반려묘사료 5KG\n",
      "Natural 밀크스틱27P(80g)\n",
      "몰리스미니참치와게맛살\n",
      "[시저 Cesar] 비프 사료 100g*3\n",
      "후코홀릭 명태베리\n",
      "[쉬바] 촉촉한 닭가슴살과 그레이비 소스 85g\n",
      "위스카스 캣 주니어 포켓 오션피쉬 1.1kg (2~12개월)\n",
      "해피밀 황태와 오리 1.2kg\n",
      "몰리스 크런치홀릭 연어 60g\n",
      "국민 두부 고양이 모래(녹차)\n",
      "헌터본 연어 16P 240g\n",
      "챠오 츄르 가다랑어 4개입\n",
      "해피밀 황태와 연어 1.2kg\n",
      "몰리스 쉬야응가 1회용 패드 XL 40매\n",
      "템테이션 부드러운 우유맛 75g\n",
      "[시저] 흰살생선과 야채 (100g*3개)\n",
      "슈퍼츄 터키츄 링S 1개입\n",
      "내츄럴랩 건강한치즈 애견간식 요거트 스틱 100g\n",
      "보양대첩 쿨링 30g캔 *8입\n",
      "자연소재 오리고기 육포스틱 460g\n",
      "츄르비 닭가슴살&구운가다랑어 4개입\n",
      "몰리스 냄새잡는 패드 M 80매\n",
      "츄잉스틱 딸기요거트 250g\n",
      "가 직접 수입한 치킨 화이트본 S 13개입\n",
      "몰리스 치즈 화이트스틱껌 치킨 270g\n"
     ]
    }
   ],
   "source": [
    "for webelement in elements:\n",
    "    print(webelement.text)"
   ]
  },
  {
   "cell_type": "markdown",
   "id": "c5f6b86d-4979-445e-bc1a-875615717236",
   "metadata": {},
   "source": [
    "### 여러개 element from bundle Webelement"
   ]
  },
  {
   "cell_type": "code",
   "execution_count": 22,
   "id": "75cd7bdd-7b88-4ac5-a7b2-9ccb18bebc9a",
   "metadata": {
    "tags": []
   },
   "outputs": [
    {
     "data": {
      "text/plain": [
       "selenium.webdriver.remote.webelement.WebElement"
      ]
     },
     "execution_count": 22,
     "metadata": {},
     "output_type": "execute_result"
    }
   ],
   "source": [
    "element_bundle_path = 'li.mnemitem_grid_item.swiper-slide.swiper-slide-active > div'\n",
    "element_bundle = browser.find_element_by_css_selector(element_bundle_path)\n",
    "type(element_bundle)"
   ]
  },
  {
   "cell_type": "code",
   "execution_count": 23,
   "id": "25112cf3-dcd5-465e-b234-a14f6d68185d",
   "metadata": {
    "tags": []
   },
   "outputs": [
    {
     "data": {
      "text/plain": [
       "\"장바구니 담기\\n쓱배송\\n새벽배송 가능\\nMOLLY'S 몰리스 쉬야응가 1회용 패드 L 50매\\n판매가격\\n13,900\\n원\\n1포 당 278원\\n상품평점 5점 만점에\\n4.9\\n상품평 개수\\n(1,478)\""
      ]
     },
     "execution_count": 23,
     "metadata": {},
     "output_type": "execute_result"
    }
   ],
   "source": [
    "element_bundle.text"
   ]
  },
  {
   "cell_type": "code",
   "execution_count": 32,
   "id": "b5810523-3cf4-46ad-9003-2e78d096787b",
   "metadata": {
    "tags": []
   },
   "outputs": [
    {
     "data": {
      "text/plain": [
       "['몰리스 쉬야응가 1회용 패드 L 50매',\n",
       " '13,900',\n",
       " '',\n",
       " 'https://sitem.ssgcdn.com/03/29/31/item/1000021312903_i1_232.jpg',\n",
       " 'emartmalls_images/image3.png']"
      ]
     },
     "execution_count": 32,
     "metadata": {},
     "output_type": "execute_result"
    }
   ],
   "source": [
    "# 회사명, 제품명(title), 가격(price), 단위 가격, 선호도, 해쉬테그(hashtags)\n",
    "title = element_bundle.find_element_by_css_selector('.mnemitem_goods_tit').text\n",
    "price = element_bundle.find_element_by_css_selector('.ssg_price').text\n",
    "\n",
    "try :\n",
    "    hashtags = element_bundle.find_element_by_css_selector('.mnemitem_tag_linkarea').text\n",
    "except:\n",
    "    hashtags = str()\n",
    "image_src = element_bundle.find_element_by_css_selector('.mnemitem_thmb_img').get_attribute('src')\n",
    "\n",
    "import urllib.request # 이미지를 저장하는 방법\n",
    "# image_src_tranform = 'emartmalls_images/image{}.png'.format(3)\n",
    "# urllib.request.urlretrieve(image_src,image_src_tranform)\n",
    "\n",
    "# [title, price, hashtags,image_src,image_src_tranform]\n",
    "[title, price, hashtags,image_src]"
   ]
  },
  {
   "cell_type": "markdown",
   "id": "b192e4b5-4063-4113-a579-c6ad5c41c94f",
   "metadata": {},
   "source": [
    "#### 묶음에서 list 만들기"
   ]
  },
  {
   "cell_type": "code",
   "execution_count": 10,
   "id": "605277f4-44af-408f-be87-2507521f9732",
   "metadata": {
    "tags": []
   },
   "outputs": [
    {
     "name": "stdout",
     "output_type": "stream",
     "text": [
      "100\n"
     ]
    }
   ],
   "source": [
    "elements_bundle_path = 'div.mnemitem_unit'\n",
    "elements_bundle = browser.find_elements_by_css_selector(elements_bundle_path)\n",
    "print(len(elements_bundle))"
   ]
  },
  {
   "cell_type": "code",
   "execution_count": 11,
   "id": "358025b9-1a9d-49ab-9439-4b7194ec289b",
   "metadata": {
    "tags": []
   },
   "outputs": [],
   "source": [
    "elements_bundle_list = list() #리스트를 만들기\n",
    "for element_bundle in elements_bundle :\n",
    "    title = element_bundle.find_element_by_css_selector('.mnemitem_goods_tit').text\n",
    "    price = element_bundle.find_element_by_css_selector('.ssg_price').text\n",
    "\n",
    "    try :\n",
    "        hashtags = element_bundle.find_element_by_css_selector('.mnemitem_tag_linkarea').text\n",
    "    except:\n",
    "        hashtags = str()\n",
    "    element_bundle_list = [title, price, hashtags]\n",
    "    elements_bundle_list.append(element_bundle_list) #리스트에 담기"
   ]
  },
  {
   "cell_type": "code",
   "execution_count": 12,
   "id": "aa431497-0b1e-4f24-8f0e-b637c203d80f",
   "metadata": {
    "tags": []
   },
   "outputs": [
    {
     "data": {
      "text/plain": [
       "[['몰리스 쉬야응가 1회용 패드 L 50매', '13,900', ''],\n",
       " ['몰리스 쉬야응가 1회용 패드 L 50매', '13,900', ''],\n",
       " ['몰리스 쉬야응가 1회용 패드 M 100매', '13,900', ''],\n",
       " ['몰리스 쉬야응가 1회용 패드 M 100매', '13,900', ''],\n",
       " ['', '', ''],\n",
       " ['', '', ''],\n",
       " ['', '', ''],\n",
       " ['', '', ''],\n",
       " ['', '', ''],\n",
       " ['', '', ''],\n",
       " ['', '', ''],\n",
       " ['', '', ''],\n",
       " ['', '', ''],\n",
       " ['', '', ''],\n",
       " ['', '', ''],\n",
       " ['', '', ''],\n",
       " ['', '', ''],\n",
       " ['', '', ''],\n",
       " ['', '', ''],\n",
       " ['', '', ''],\n",
       " ['반려견패드(중)40*50cm*100매', '8,480', ''],\n",
       " ['반려견패드(대)60*70cm*45매', '8,480', ''],\n",
       " ['순살듬뿍 치킨말이스틱 30P (300g)', '9,900', '#간식용 #강아지간식'],\n",
       " ['순살듬뿍 오리말이스틱 30P (300g)', '9,900', '#강아지간식 #애견간식'],\n",
       " ['건강한간식 순살듬뿍 고구마 오리말이 300g', '9,900', '#간식 #간식용'],\n",
       " ['건강한간식 순살듬뿍 고구마 치킨말이 300g', '9,900', '#강아지간식 #간식'],\n",
       " ['몰리스픽 반려견 패드 L 45매', '8,500', ''],\n",
       " ['건강한간식 순살듬뿍 안심오리 300g', '13,000', '#강아지간식 #애견간식'],\n",
       " ['반려견 사료 10kg', '14,980', ''],\n",
       " ['몰리스 화이트 스틱껌 소프트치킨 400g', '11,000', '#강아지간식 #애견간식'],\n",
       " ['템테이션 맛있는 닭고기맛 75g', '4,300', '#고양이간식'],\n",
       " ['몰리스픽 반려견 패드 M 100매', '8,500', ''],\n",
       " ['국민가격 DTC 치킨고구마 져키 1kg', '12,000', '#강아지간식 #애견간식'],\n",
       " ['몰리스 미끄러지지 않는 패드 M 80매', '19,900', ''],\n",
       " ['몰리스 쉬야응가 1회용 패드 M 100매', '13,900', ''],\n",
       " ['템테이션 고소한 참치맛 75g', '4,300', '#고소한맛 #고양이간식'],\n",
       " ['건강한간식 순살듬뿍 안심치킨 300g', '13,000', '#강아지간식 #간식'],\n",
       " ['치킨 슬라이스 1kg', '23,000', '#강아지간식 #애견간식'],\n",
       " ['몰리스 미니 닭가슴살과 연어', '4,200', '#닭가슴살 #고양이간식'],\n",
       " ['포켄스 덴탈스틱 후레시 칼슘 S 작은별 220g', '10,500', '#강아지간식'],\n",
       " ['템테이션 믹스업 참치 연어 새우맛 75g', '4,300', ''],\n",
       " ['츄잉스틱 플레인요거트 250g', '5,480', '#강아지간식'],\n",
       " ['자연소재 양고기육포&쌀 460g', '12,500', '#강아지간식 #애견간식'],\n",
       " ['밥이보약 Dog 튼튼한 관절 8kg (네오2 유통기한 23.10.17)', '85,800', ''],\n",
       " ['템테이션 풍부한 해산물 맛75g', '4,300', '#고양이간식'],\n",
       " ['몰리스 3~4회용 패드 L 35매', '21,500', ''],\n",
       " ['포켄스 덴탈스틱 후레시 블루베리 S 작은별 220g', '10,500', '#강아지간식'],\n",
       " ['[몰리스]프로발란스 어덜트 8kg', '24,500', ''],\n",
       " ['(이마트가 직접 수입한) 딱 한번 반려견 패드 M 200매', '14,900', ''],\n",
       " ['자연소재 소고기육포스틱 180g', '7,500', '#강아지간식'],\n",
       " ['국민 두부 고양이 모래(오리지널)', '6,900', ''],\n",
       " ['포켄스 덴티페어리 M 75g', '4,800', '#강아지간식'],\n",
       " ['포켄스 덴티페어리 SS 150g', '9,900', ''],\n",
       " ['맥시 비프져키 800g', '13,500', '#강아지간식 #애견간식'],\n",
       " ['몰리스미니참치와도미', '4,200', '#고양이간식'],\n",
       " ['[포켄스] 덴티 페어리(소)', '4,800', '#강아지간식'],\n",
       " ['원더푸드 반려견 고구마말랭이 간식 1kg', '15,900', ''],\n",
       " ['챠오 츄루 참치 4개입', '3,000', ''],\n",
       " ['챠오 츄르 참치/해물믹스맛 20개입', '13,500', ''],\n",
       " ['순살간식 오리고기 순살 300g', '8,980', '#강아지간식'],\n",
       " ['해피밀 황태와 소고기 1.2kg', '14,300', ''],\n",
       " ['몰리스 미끄러지지 않는 패드 L 35매', '19,900', ''],\n",
       " ['포켄스 덴탈스틱 후레시 오메가3 S 작은별 220g', '10,500', '#강아지간식'],\n",
       " ['몰리스픽 전연령 반려묘사료 15KG', '49,500', ''],\n",
       " ['몰리스 닭가슴살과흰살생선', '4,200', '#고양이간식 #닭가슴살'],\n",
       " ['슈퍼츄 터키츄 본S 10개입', '9,900', '#애견간식'],\n",
       " ['Think your Dog Teeth 소고기우유껌 15P', '7,900', ''],\n",
       " ['[시저] 연어와 감자 (100g*3개)', '6,200', ''],\n",
       " ['몰리스 3~4회용 패드 M 80매', '21,500', ''],\n",
       " ['반려묘사료 10kg', '25,980', ''],\n",
       " ['몰리스 크런치홀릭 닭고기 60g', '2,800', '#고양이간식'],\n",
       " ['템테이션 연어맛 75g', '4,300', ''],\n",
       " ['[쉬바] 참치 흰 살과 도미와 그레이비 소스 85g', '2,400', ''],\n",
       " ['칠면조힘줄 스트립 85g', '16,800', ''],\n",
       " ['챠오 츄르 닭가슴살 4개입', '3,000', ''],\n",
       " ['몰리스픽 전연령 반려묘사료 5KG', '19,000', ''],\n",
       " ['Natural 밀크스틱27P(80g)', '6,100', '#강아지간식 #애견간식'],\n",
       " ['몰리스미니참치와게맛살', '4,200', '#고양이간식'],\n",
       " ['[시저 Cesar] 비프 사료 100g*3', '6,200', ''],\n",
       " ['후코홀릭 명태베리', '9,800', '#강아지간식 #애견간식'],\n",
       " ['[쉬바] 촉촉한 닭가슴살과 그레이비 소스 85g', '2,400', '#고양이간식 #닭가슴살'],\n",
       " ['위스카스 캣 주니어 포켓 오션피쉬 1.1kg (2~12개월)', '10,900', ''],\n",
       " ['해피밀 황태와 오리 1.2kg', '14,300', ''],\n",
       " ['몰리스 크런치홀릭 연어 60g', '2,800', '#고양이간식'],\n",
       " ['국민 두부 고양이 모래(녹차)', '6,900', ''],\n",
       " ['헌터본 연어 16P 240g', '10,000', ''],\n",
       " ['챠오 츄르 가다랑어 4개입', '3,000', '#고양이간식'],\n",
       " ['해피밀 황태와 연어 1.2kg', '14,300', ''],\n",
       " ['몰리스 쉬야응가 1회용 패드 XL 40매', '13,900', ''],\n",
       " ['템테이션 부드러운 우유맛 75g', '4,300', ''],\n",
       " ['[시저] 흰살생선과 야채 (100g*3개)', '6,200', ''],\n",
       " ['슈퍼츄 터키츄 링S 1개입', '1,090', '#강아지간식 #애견간식'],\n",
       " ['내츄럴랩 건강한치즈 애견간식 요거트 스틱 100g', '4,700', '#애견간식'],\n",
       " ['보양대첩 쿨링 30g캔 *8입', '10,700', ''],\n",
       " ['자연소재 오리고기 육포스틱 460g', '12,500', '#강아지간식 #애견간식'],\n",
       " ['츄르비 닭가슴살&구운가다랑어 4개입', '3,500', ''],\n",
       " ['몰리스 냄새잡는 패드 M 80매', '19,900', ''],\n",
       " ['츄잉스틱 딸기요거트 250g', '5,480', ''],\n",
       " ['가 직접 수입한 치킨 화이트본 S 13개입', '10,000', '#강아지간식 #강아지우유껌용'],\n",
       " ['몰리스 치즈 화이트스틱껌 치킨 270g', '11,000', '']]"
      ]
     },
     "execution_count": 12,
     "metadata": {},
     "output_type": "execute_result"
    }
   ],
   "source": [
    "elements_bundle_list"
   ]
  },
  {
   "cell_type": "code",
   "execution_count": null,
   "id": "8953f212-6c44-445b-ae76-52a627ef5776",
   "metadata": {},
   "outputs": [],
   "source": []
  }
 ],
 "metadata": {
  "kernelspec": {
   "display_name": "Python 3 (ipykernel)",
   "language": "python",
   "name": "python3"
  },
  "language_info": {
   "codemirror_mode": {
    "name": "ipython",
    "version": 3
   },
   "file_extension": ".py",
   "mimetype": "text/x-python",
   "name": "python",
   "nbconvert_exporter": "python",
   "pygments_lexer": "ipython3",
   "version": "3.11.3"
  }
 },
 "nbformat": 4,
 "nbformat_minor": 5
}
