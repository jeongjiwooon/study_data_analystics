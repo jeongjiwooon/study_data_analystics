{
 "cells": [
  {
   "cell_type": "code",
   "execution_count": 1,
   "id": "4df38c66-2bbd-41f5-adbc-59abd541a85d",
   "metadata": {
    "tags": []
   },
   "outputs": [],
   "source": [
    "from selenium import webdriver"
   ]
  },
  {
   "cell_type": "code",
   "execution_count": 2,
   "id": "cc2daeec-90cf-4350-af76-41ef2eb18635",
   "metadata": {
    "tags": []
   },
   "outputs": [],
   "source": [
    "browser =  webdriver.Chrome(executable_path='../../../../chromedriver.exe')"
   ]
  },
  {
   "cell_type": "code",
   "execution_count": 3,
   "id": "36cf097f-f95d-454d-980a-b95ca53e7863",
   "metadata": {
    "tags": []
   },
   "outputs": [],
   "source": [
    "browser.get('https://cafe.naver.com/peopledisc')"
   ]
  },
  {
   "cell_type": "code",
   "execution_count": 4,
   "id": "705a781b-5d02-42f9-9621-2ca460780723",
   "metadata": {
    "tags": []
   },
   "outputs": [],
   "source": [
    "browser.find_element_by_css_selector('#gnb_login_button').click()"
   ]
  },
  {
   "cell_type": "markdown",
   "id": "69d8fb52-48c1-40cc-821c-9253e59aaaf9",
   "metadata": {
    "tags": []
   },
   "source": [
    "### ID, password 입력"
   ]
  },
  {
   "cell_type": "code",
   "execution_count": 6,
   "id": "811cc481-7164-4ec5-8b54-d49347d2962f",
   "metadata": {
    "tags": []
   },
   "outputs": [],
   "source": [
    "browser.find_element_by_css_selector('#log\\.login').click()\n",
    "# 로그인 완료 후"
   ]
  },
  {
   "cell_type": "code",
   "execution_count": 7,
   "id": "00afef6f-1b58-4fa0-965c-c121b70a7614",
   "metadata": {
    "tags": []
   },
   "outputs": [],
   "source": [
    "browser.find_element_by_css_selector('#menuLink84').click()\n"
   ]
  },
  {
   "cell_type": "code",
   "execution_count": 8,
   "id": "270d29dc-c641-4709-b1e4-a59888e3021f",
   "metadata": {
    "tags": []
   },
   "outputs": [],
   "source": [
    "browser.switch_to.frame('cafe_main') #iframe을 html로 전환시킴."
   ]
  },
  {
   "cell_type": "code",
   "execution_count": 9,
   "id": "636e1e22-39c5-4bf4-b5ea-b5a86ad732b4",
   "metadata": {
    "tags": []
   },
   "outputs": [
    {
     "data": {
      "text/plain": [
       "str"
      ]
     },
     "execution_count": 9,
     "metadata": {},
     "output_type": "execute_result"
    }
   ],
   "source": [
    "type(browser.page_source)"
   ]
  },
  {
   "cell_type": "code",
   "execution_count": 17,
   "id": "464e9b7d-3e10-4739-a59e-7b2e728c3296",
   "metadata": {
    "tags": []
   },
   "outputs": [],
   "source": [
    "browser.find_element_by_css_selector('#main-area > div:nth-child(4) > table > tbody > tr:nth-child(2) > td.td_article > div.board-list > div > a.article').click() #게시판선택"
   ]
  },
  {
   "cell_type": "code",
   "execution_count": 22,
   "id": "25b9d647-27ed-4a55-b6d0-fd4d42d5ccf0",
   "metadata": {
    "tags": []
   },
   "outputs": [
    {
     "data": {
      "text/plain": [
       "'안녕하세요, 대학병원 진료 받으라고 해서\\nㄱㄷㅇㅅㅂㅇ 신경외과 ㅈㅅ 교수님께 진료 받았습니다.\\n빠른 예약으로 바로 가눙했어요.\\n서고 걷고 하눈건 괜찮고 허리랑 엉치뼈 쪽 통증이 있다, 엠알아이 보여드리면서 디스크내장증 아닌지 여쭤봤는데, 디스크내장증 아니에요~ 라고 하셨어요..\\n탈출도 심하지 않고, 수술할 필요 없다. 환자가 통증을 느끼는 범위는 엠알아이 상에서는 모르니까 통증 어떤지 물어보시고, 앉을 수기 없다 힘들다 했는데, 일단 약으로 치료 해보자 하셨어요.\\n질병분류는 m51.1, g55.1 이구 (원래 s였는데 왜 g가 됐을까요?)\\n약은 낙소졸정 500/20mg, 에페신sr정 75mg, 리리카캡슐 150mg(비아트리스)\\n아침 저녁으로 먹고 오라고 하셨어요..\\n카페 회원님들 굴 보니까 리리카는 부작용도 심한것 같은데, ㅠㅡㅠ 괜찮겠죠? 아 너무 어렴고 무섭네요\\n앉을 수 있겠죠?'"
      ]
     },
     "execution_count": 22,
     "metadata": {},
     "output_type": "execute_result"
    }
   ],
   "source": [
    "content=browser.find_element_by_css_selector('#SE-c6650f59-e551-492c-b25d-31420995360d > div').text"
   ]
  },
  {
   "cell_type": "code",
   "execution_count": 26,
   "id": "96da292e-0586-44c1-95e7-e5344d64a307",
   "metadata": {
    "tags": []
   },
   "outputs": [
    {
     "name": "stdout",
     "output_type": "stream",
     "text": [
      "2023.09.08. 15:33\n"
     ]
    }
   ],
   "source": [
    "date=browser.find_element_by_css_selector('div.article_info > span.date').text\n",
    "print(date)"
   ]
  },
  {
   "cell_type": "code",
   "execution_count": 28,
   "id": "33793fb8-269a-458f-885a-216d172ff203",
   "metadata": {
    "tags": []
   },
   "outputs": [
    {
     "data": {
      "text/plain": [
       "'스꾸'"
      ]
     },
     "execution_count": 28,
     "metadata": {},
     "output_type": "execute_result"
    }
   ],
   "source": [
    "name=browser.find_element_by_css_selector('#writerInfoadorable_forever').text\n",
    "name"
   ]
  },
  {
   "cell_type": "code",
   "execution_count": 30,
   "id": "43ba5bdf-9531-48fe-a253-9862b426551a",
   "metadata": {
    "tags": []
   },
   "outputs": [
    {
     "data": {
      "text/plain": [
       "0"
      ]
     },
     "execution_count": 30,
     "metadata": {},
     "output_type": "execute_result"
    }
   ],
   "source": [
    "#content-area\n",
    "lists = browser.find_elements_by_css_selector('#cafe_main')\n",
    "len(lists)\n",
    "    "
   ]
  },
  {
   "cell_type": "code",
   "execution_count": 31,
   "id": "24aaaa1a-d4dd-411e-8056-4f6701cfde0a",
   "metadata": {
    "tags": []
   },
   "outputs": [],
   "source": [
    "import time"
   ]
  },
  {
   "cell_type": "code",
   "execution_count": 40,
   "id": "b5001f08-264a-4f07-8617-8265e94e77c7",
   "metadata": {
    "tags": []
   },
   "outputs": [
    {
     "ename": "NoSuchElementException",
     "evalue": "Message: no such element: Unable to locate element: {\"method\":\"css selector\",\"selector\":\"#writerInfoadorable_forever\"}\n  (Session info: chrome=116.0.5845.180)\n",
     "output_type": "error",
     "traceback": [
      "\u001b[1;31m---------------------------------------------------------------------------\u001b[0m",
      "\u001b[1;31mNoSuchElementException\u001b[0m                    Traceback (most recent call last)",
      "Cell \u001b[1;32mIn[40], line 7\u001b[0m\n\u001b[0;32m      5\u001b[0m     content\u001b[38;5;241m=\u001b[39mbrowser\u001b[38;5;241m.\u001b[39mfind_element_by_css_selector(\u001b[38;5;124m'\u001b[39m\u001b[38;5;124m.se-component-content\u001b[39m\u001b[38;5;124m'\u001b[39m)\u001b[38;5;241m.\u001b[39mtext\n\u001b[0;32m      6\u001b[0m     date\u001b[38;5;241m=\u001b[39mbrowser\u001b[38;5;241m.\u001b[39mfind_element_by_css_selector(\u001b[38;5;124m'\u001b[39m\u001b[38;5;124mdiv.article_info > span.date\u001b[39m\u001b[38;5;124m'\u001b[39m)\u001b[38;5;241m.\u001b[39mtext\n\u001b[1;32m----> 7\u001b[0m     name\u001b[38;5;241m=\u001b[39mbrowser\u001b[38;5;241m.\u001b[39mfind_element_by_css_selector(\u001b[38;5;124m'\u001b[39m\u001b[38;5;124m#writerInfoadorable_forever\u001b[39m\u001b[38;5;124m'\u001b[39m)\u001b[38;5;241m.\u001b[39mtext\n\u001b[0;32m      8\u001b[0m     browser\u001b[38;5;241m.\u001b[39mback()\n\u001b[0;32m      9\u001b[0m \u001b[38;5;28mprint\u001b[39m(content,date,name)\n",
      "File \u001b[1;32m~\\anaconda3\\Lib\\site-packages\\selenium\\webdriver\\remote\\webdriver.py:598\u001b[0m, in \u001b[0;36mWebDriver.find_element_by_css_selector\u001b[1;34m(self, css_selector)\u001b[0m\n\u001b[0;32m    582\u001b[0m \u001b[38;5;28;01mdef\u001b[39;00m \u001b[38;5;21mfind_element_by_css_selector\u001b[39m(\u001b[38;5;28mself\u001b[39m, css_selector):\n\u001b[0;32m    583\u001b[0m \u001b[38;5;250m    \u001b[39m\u001b[38;5;124;03m\"\"\"\u001b[39;00m\n\u001b[0;32m    584\u001b[0m \u001b[38;5;124;03m    Finds an element by css selector.\u001b[39;00m\n\u001b[0;32m    585\u001b[0m \n\u001b[1;32m   (...)\u001b[0m\n\u001b[0;32m    596\u001b[0m \u001b[38;5;124;03m        element = driver.find_element_by_css_selector('#foo')\u001b[39;00m\n\u001b[0;32m    597\u001b[0m \u001b[38;5;124;03m    \"\"\"\u001b[39;00m\n\u001b[1;32m--> 598\u001b[0m     \u001b[38;5;28;01mreturn\u001b[39;00m \u001b[38;5;28mself\u001b[39m\u001b[38;5;241m.\u001b[39mfind_element(by\u001b[38;5;241m=\u001b[39mBy\u001b[38;5;241m.\u001b[39mCSS_SELECTOR, value\u001b[38;5;241m=\u001b[39mcss_selector)\n",
      "File \u001b[1;32m~\\anaconda3\\Lib\\site-packages\\selenium\\webdriver\\remote\\webdriver.py:976\u001b[0m, in \u001b[0;36mWebDriver.find_element\u001b[1;34m(self, by, value)\u001b[0m\n\u001b[0;32m    974\u001b[0m         by \u001b[38;5;241m=\u001b[39m By\u001b[38;5;241m.\u001b[39mCSS_SELECTOR\n\u001b[0;32m    975\u001b[0m         value \u001b[38;5;241m=\u001b[39m \u001b[38;5;124m'\u001b[39m\u001b[38;5;124m[name=\u001b[39m\u001b[38;5;124m\"\u001b[39m\u001b[38;5;132;01m%s\u001b[39;00m\u001b[38;5;124m\"\u001b[39m\u001b[38;5;124m]\u001b[39m\u001b[38;5;124m'\u001b[39m \u001b[38;5;241m%\u001b[39m value\n\u001b[1;32m--> 976\u001b[0m \u001b[38;5;28;01mreturn\u001b[39;00m \u001b[38;5;28mself\u001b[39m\u001b[38;5;241m.\u001b[39mexecute(Command\u001b[38;5;241m.\u001b[39mFIND_ELEMENT, {\n\u001b[0;32m    977\u001b[0m     \u001b[38;5;124m'\u001b[39m\u001b[38;5;124musing\u001b[39m\u001b[38;5;124m'\u001b[39m: by,\n\u001b[0;32m    978\u001b[0m     \u001b[38;5;124m'\u001b[39m\u001b[38;5;124mvalue\u001b[39m\u001b[38;5;124m'\u001b[39m: value})[\u001b[38;5;124m'\u001b[39m\u001b[38;5;124mvalue\u001b[39m\u001b[38;5;124m'\u001b[39m]\n",
      "File \u001b[1;32m~\\anaconda3\\Lib\\site-packages\\selenium\\webdriver\\remote\\webdriver.py:321\u001b[0m, in \u001b[0;36mWebDriver.execute\u001b[1;34m(self, driver_command, params)\u001b[0m\n\u001b[0;32m    319\u001b[0m response \u001b[38;5;241m=\u001b[39m \u001b[38;5;28mself\u001b[39m\u001b[38;5;241m.\u001b[39mcommand_executor\u001b[38;5;241m.\u001b[39mexecute(driver_command, params)\n\u001b[0;32m    320\u001b[0m \u001b[38;5;28;01mif\u001b[39;00m response:\n\u001b[1;32m--> 321\u001b[0m     \u001b[38;5;28mself\u001b[39m\u001b[38;5;241m.\u001b[39merror_handler\u001b[38;5;241m.\u001b[39mcheck_response(response)\n\u001b[0;32m    322\u001b[0m     response[\u001b[38;5;124m'\u001b[39m\u001b[38;5;124mvalue\u001b[39m\u001b[38;5;124m'\u001b[39m] \u001b[38;5;241m=\u001b[39m \u001b[38;5;28mself\u001b[39m\u001b[38;5;241m.\u001b[39m_unwrap_value(\n\u001b[0;32m    323\u001b[0m         response\u001b[38;5;241m.\u001b[39mget(\u001b[38;5;124m'\u001b[39m\u001b[38;5;124mvalue\u001b[39m\u001b[38;5;124m'\u001b[39m, \u001b[38;5;28;01mNone\u001b[39;00m))\n\u001b[0;32m    324\u001b[0m     \u001b[38;5;28;01mreturn\u001b[39;00m response\n",
      "File \u001b[1;32m~\\anaconda3\\Lib\\site-packages\\selenium\\webdriver\\remote\\errorhandler.py:242\u001b[0m, in \u001b[0;36mErrorHandler.check_response\u001b[1;34m(self, response)\u001b[0m\n\u001b[0;32m    240\u001b[0m         alert_text \u001b[38;5;241m=\u001b[39m value[\u001b[38;5;124m'\u001b[39m\u001b[38;5;124malert\u001b[39m\u001b[38;5;124m'\u001b[39m]\u001b[38;5;241m.\u001b[39mget(\u001b[38;5;124m'\u001b[39m\u001b[38;5;124mtext\u001b[39m\u001b[38;5;124m'\u001b[39m)\n\u001b[0;32m    241\u001b[0m     \u001b[38;5;28;01mraise\u001b[39;00m exception_class(message, screen, stacktrace, alert_text)\n\u001b[1;32m--> 242\u001b[0m \u001b[38;5;28;01mraise\u001b[39;00m exception_class(message, screen, stacktrace)\n",
      "\u001b[1;31mNoSuchElementException\u001b[0m: Message: no such element: Unable to locate element: {\"method\":\"css selector\",\"selector\":\"#writerInfoadorable_forever\"}\n  (Session info: chrome=116.0.5845.180)\n"
     ]
    }
   ],
   "source": [
    "for number in range(1,15) :\n",
    "    time.sleep(1)\n",
    "    browser.find_element_by_css_selector('#main-area > div:nth-child(4) > table > tbody > tr:nth-child({0}) > td.td_article > div.board-list > div > a.article'.format(number)).click() #게시판선택\n",
    "    time.sleep(1)\n",
    "    content=browser.find_element_by_css_selector('.se-component-content').text\n",
    "    date=browser.find_element_by_css_selector('div.article_info > span.date').text\n",
    "    name=browser.find_element_by_css_selector('.nickname').text\n",
    "    browser.back()\n",
    "    print(content,date,name)"
   ]
  },
  {
   "cell_type": "code",
   "execution_count": null,
   "id": "332440f6-55b8-47d6-a995-92651114088b",
   "metadata": {},
   "outputs": [],
   "source": []
  }
 ],
 "metadata": {
  "kernelspec": {
   "display_name": "Python 3 (ipykernel)",
   "language": "python",
   "name": "python3"
  },
  "language_info": {
   "codemirror_mode": {
    "name": "ipython",
    "version": 3
   },
   "file_extension": ".py",
   "mimetype": "text/x-python",
   "name": "python",
   "nbconvert_exporter": "python",
   "pygments_lexer": "ipython3",
   "version": "3.11.3"
  }
 },
 "nbformat": 4,
 "nbformat_minor": 5
}
