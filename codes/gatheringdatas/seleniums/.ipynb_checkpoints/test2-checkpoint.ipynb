{
 "cells": [
  {
   "cell_type": "code",
   "execution_count": 21,
   "id": "1c07ec78-1f8c-4876-9c22-10f5c6bf8d15",
   "metadata": {
    "tags": []
   },
   "outputs": [],
   "source": [
    "from selenium import webdriver\n",
    "import time\n",
    "browser =  webdriver.Chrome(executable_path='../../../../chromedriver.exe')"
   ]
  },
  {
   "cell_type": "code",
   "execution_count": 22,
   "id": "8cd877a6-d0ab-4f15-b950-8a385be56a10",
   "metadata": {
    "tags": []
   },
   "outputs": [],
   "source": [
    "browser.get('https://www.modoodoc.com/')\n",
    "time.sleep(1)"
   ]
  },
  {
   "cell_type": "code",
   "execution_count": 73,
   "id": "eed3d094-2c77-4677-a8da-cf4299f1d561",
   "metadata": {
    "tags": []
   },
   "outputs": [],
   "source": [
    "browser.find_element_by_css_selector(' tr:nth-child(3) > td:nth-child(1) > a ').click()\n",
    "time.sleep(1)"
   ]
  },
  {
   "cell_type": "code",
   "execution_count": 58,
   "id": "6e92cf95-74f6-48ef-9ba0-13c3cb704b9c",
   "metadata": {
    "tags": []
   },
   "outputs": [
    {
     "data": {
      "text/plain": [
       "1"
      ]
     },
     "execution_count": 58,
     "metadata": {},
     "output_type": "execute_result"
    }
   ],
   "source": [
    "hospitals_list = browser.find_elements_by_css_selector('#hospital-list')\n",
    "len(hospitals_list)"
   ]
  },
  {
   "cell_type": "code",
   "execution_count": 60,
   "id": "acfcecd0-3bf7-4214-891d-dcfe8c450e0d",
   "metadata": {
    "tags": []
   },
   "outputs": [],
   "source": [
    "browser.find_element_by_css_selector('div:nth-child(1) > div.styles_contentContainer___LMI8 > a').click() #병원선택"
   ]
  },
  {
   "cell_type": "code",
   "execution_count": 61,
   "id": "adc42a4c-3e05-4efe-b8c3-c554b4e8023e",
   "metadata": {
    "tags": []
   },
   "outputs": [],
   "source": [
    "browser.find_element_by_css_selector('div:nth-child(4) > p').click() #리뷰보기"
   ]
  },
  {
   "cell_type": "code",
   "execution_count": 62,
   "id": "af2f96da-8499-4b88-a420-368c0aad634b",
   "metadata": {
    "tags": []
   },
   "outputs": [],
   "source": [
    "browser.find_element_by_css_selector('div.styles_container__XvjIZ > section.styles_container__z1Bg1 > header > button').click() \n",
    "time.sleep(1) # 리뷰전체보기"
   ]
  },
  {
   "cell_type": "code",
   "execution_count": 63,
   "id": "af8155d8-d317-4654-92a8-ab32c904575d",
   "metadata": {
    "tags": []
   },
   "outputs": [],
   "source": [
    "browser.find_element_by_css_selector('div.styles_body__U5_ez > div > div > pre > button').click() # 댓글더보기"
   ]
  },
  {
   "cell_type": "code",
   "execution_count": 50,
   "id": "7cdbc75c-8f20-477c-99b6-7babd4db1d3e",
   "metadata": {
    "tags": []
   },
   "outputs": [
    {
     "data": {
      "text/plain": [
       "'ADHD 의심 때문에 갔었고 풀배터리 받은 후\\n꾸준히 약처방 받았습니다\\n집이 멀어지고 부작용이 심해지면서 약을 더 먹지는 못했지만 충분히 환자 입장 들어주시고 전문가답게 설명해주시는 분이었다고 생각합니다\\n접기\\n자세한 설명\\n 치료 후 결과\\n 직원의 친절\\n 청결함\\n '"
      ]
     },
     "execution_count": 50,
     "metadata": {},
     "output_type": "execute_result"
    }
   ],
   "source": [
    "review = browser.find_element_by_css_selector('div.styles_body__U5_ez > div > div > pre').text\n",
    "review"
   ]
  },
  {
   "cell_type": "code",
   "execution_count": 51,
   "id": "f25ee9a7-237a-4412-996b-de920d4b5a0f",
   "metadata": {
    "tags": []
   },
   "outputs": [
    {
     "data": {
      "text/plain": [
       "'9.8'"
      ]
     },
     "execution_count": 51,
     "metadata": {},
     "output_type": "execute_result"
    }
   ],
   "source": [
    "graid=browser.find_element_by_css_selector('div.styles_score__aUlv9').text\n",
    "graid"
   ]
  },
  {
   "cell_type": "code",
   "execution_count": 52,
   "id": "798e47cc-7724-416c-8255-c9b8cab249f6",
   "metadata": {
    "tags": []
   },
   "outputs": [
    {
     "data": {
      "text/plain": [
       "'남수단 큰가시고기'"
      ]
     },
     "execution_count": 52,
     "metadata": {},
     "output_type": "execute_result"
    }
   ],
   "source": [
    "name = browser.find_element_by_css_selector('div.styles_writer__1WQ0e > p').text\n",
    "name"
   ]
  },
  {
   "cell_type": "code",
   "execution_count": 53,
   "id": "04f24692-b0cd-479d-9486-820307bfad67",
   "metadata": {
    "tags": []
   },
   "outputs": [
    {
     "data": {
      "text/plain": [
       "'2023.06.22 리뷰 등록'"
      ]
     },
     "execution_count": 53,
     "metadata": {},
     "output_type": "execute_result"
    }
   ],
   "source": [
    "date = browser.find_element_by_css_selector('p.styles_registrationDate__e6Da6').text\n",
    "date"
   ]
  },
  {
   "cell_type": "code",
   "execution_count": 79,
   "id": "692ff6dd-1797-4637-b5a4-ce46e946ce29",
   "metadata": {
    "tags": []
   },
   "outputs": [
    {
     "ename": "ElementClickInterceptedException",
     "evalue": "Message: element click intercepted: Element <button class=\"styles_seeMore__oWZDz\" type=\"button\">...</button> is not clickable at point (270, 862). Other element would receive the click: <button type=\"button\" class=\"styles_BtnFilledSquareL___Ghm2 styles_cursor__zpch1\" style=\"height: 48px; padding: 0px 12px; background-color: var(--Violet50); min-width: 100%; border-radius: 4px;\">...</button>\n  (Session info: chrome=116.0.5845.180)\n",
     "output_type": "error",
     "traceback": [
      "\u001b[1;31m---------------------------------------------------------------------------\u001b[0m",
      "\u001b[1;31mElementClickInterceptedException\u001b[0m          Traceback (most recent call last)",
      "Cell \u001b[1;32mIn[79], line 6\u001b[0m\n\u001b[0;32m      4\u001b[0m browser\u001b[38;5;241m.\u001b[39mfind_element_by_css_selector(\u001b[38;5;124m'\u001b[39m\u001b[38;5;124mdiv:nth-child(\u001b[39m\u001b[38;5;132;01m{}\u001b[39;00m\u001b[38;5;124m) > div.styles_contentContainer___LMI8 > a\u001b[39m\u001b[38;5;124m'\u001b[39m\u001b[38;5;241m.\u001b[39mformat(i))\u001b[38;5;241m.\u001b[39mclick()\n\u001b[0;32m      5\u001b[0m time\u001b[38;5;241m.\u001b[39msleep(\u001b[38;5;241m1\u001b[39m)\n\u001b[1;32m----> 6\u001b[0m browser\u001b[38;5;241m.\u001b[39mfind_element_by_css_selector(\u001b[38;5;124m'\u001b[39m\u001b[38;5;124mdiv:nth-child(\u001b[39m\u001b[38;5;132;01m{}\u001b[39;00m\u001b[38;5;124m) > section > div.styles_body__U5_ez > div > div > pre > button\u001b[39m\u001b[38;5;124m'\u001b[39m\u001b[38;5;241m.\u001b[39mformat(j))\u001b[38;5;241m.\u001b[39mclick()\n\u001b[0;32m      7\u001b[0m time\u001b[38;5;241m.\u001b[39msleep(\u001b[38;5;241m1\u001b[39m)\n\u001b[0;32m      8\u001b[0m review \u001b[38;5;241m=\u001b[39m browser\u001b[38;5;241m.\u001b[39mfind_element_by_css_selector(\u001b[38;5;124m'\u001b[39m\u001b[38;5;124mdiv.styles_body__U5_ez > div > div > pre\u001b[39m\u001b[38;5;124m'\u001b[39m)\u001b[38;5;241m.\u001b[39mtext\n",
      "File \u001b[1;32m~\\anaconda3\\Lib\\site-packages\\selenium\\webdriver\\remote\\webelement.py:80\u001b[0m, in \u001b[0;36mWebElement.click\u001b[1;34m(self)\u001b[0m\n\u001b[0;32m     78\u001b[0m \u001b[38;5;28;01mdef\u001b[39;00m \u001b[38;5;21mclick\u001b[39m(\u001b[38;5;28mself\u001b[39m):\n\u001b[0;32m     79\u001b[0m \u001b[38;5;250m    \u001b[39m\u001b[38;5;124;03m\"\"\"Clicks the element.\"\"\"\u001b[39;00m\n\u001b[1;32m---> 80\u001b[0m     \u001b[38;5;28mself\u001b[39m\u001b[38;5;241m.\u001b[39m_execute(Command\u001b[38;5;241m.\u001b[39mCLICK_ELEMENT)\n",
      "File \u001b[1;32m~\\anaconda3\\Lib\\site-packages\\selenium\\webdriver\\remote\\webelement.py:633\u001b[0m, in \u001b[0;36mWebElement._execute\u001b[1;34m(self, command, params)\u001b[0m\n\u001b[0;32m    631\u001b[0m     params \u001b[38;5;241m=\u001b[39m {}\n\u001b[0;32m    632\u001b[0m params[\u001b[38;5;124m'\u001b[39m\u001b[38;5;124mid\u001b[39m\u001b[38;5;124m'\u001b[39m] \u001b[38;5;241m=\u001b[39m \u001b[38;5;28mself\u001b[39m\u001b[38;5;241m.\u001b[39m_id\n\u001b[1;32m--> 633\u001b[0m \u001b[38;5;28;01mreturn\u001b[39;00m \u001b[38;5;28mself\u001b[39m\u001b[38;5;241m.\u001b[39m_parent\u001b[38;5;241m.\u001b[39mexecute(command, params)\n",
      "File \u001b[1;32m~\\anaconda3\\Lib\\site-packages\\selenium\\webdriver\\remote\\webdriver.py:321\u001b[0m, in \u001b[0;36mWebDriver.execute\u001b[1;34m(self, driver_command, params)\u001b[0m\n\u001b[0;32m    319\u001b[0m response \u001b[38;5;241m=\u001b[39m \u001b[38;5;28mself\u001b[39m\u001b[38;5;241m.\u001b[39mcommand_executor\u001b[38;5;241m.\u001b[39mexecute(driver_command, params)\n\u001b[0;32m    320\u001b[0m \u001b[38;5;28;01mif\u001b[39;00m response:\n\u001b[1;32m--> 321\u001b[0m     \u001b[38;5;28mself\u001b[39m\u001b[38;5;241m.\u001b[39merror_handler\u001b[38;5;241m.\u001b[39mcheck_response(response)\n\u001b[0;32m    322\u001b[0m     response[\u001b[38;5;124m'\u001b[39m\u001b[38;5;124mvalue\u001b[39m\u001b[38;5;124m'\u001b[39m] \u001b[38;5;241m=\u001b[39m \u001b[38;5;28mself\u001b[39m\u001b[38;5;241m.\u001b[39m_unwrap_value(\n\u001b[0;32m    323\u001b[0m         response\u001b[38;5;241m.\u001b[39mget(\u001b[38;5;124m'\u001b[39m\u001b[38;5;124mvalue\u001b[39m\u001b[38;5;124m'\u001b[39m, \u001b[38;5;28;01mNone\u001b[39;00m))\n\u001b[0;32m    324\u001b[0m     \u001b[38;5;28;01mreturn\u001b[39;00m response\n",
      "File \u001b[1;32m~\\anaconda3\\Lib\\site-packages\\selenium\\webdriver\\remote\\errorhandler.py:242\u001b[0m, in \u001b[0;36mErrorHandler.check_response\u001b[1;34m(self, response)\u001b[0m\n\u001b[0;32m    240\u001b[0m         alert_text \u001b[38;5;241m=\u001b[39m value[\u001b[38;5;124m'\u001b[39m\u001b[38;5;124malert\u001b[39m\u001b[38;5;124m'\u001b[39m]\u001b[38;5;241m.\u001b[39mget(\u001b[38;5;124m'\u001b[39m\u001b[38;5;124mtext\u001b[39m\u001b[38;5;124m'\u001b[39m)\n\u001b[0;32m    241\u001b[0m     \u001b[38;5;28;01mraise\u001b[39;00m exception_class(message, screen, stacktrace, alert_text)\n\u001b[1;32m--> 242\u001b[0m \u001b[38;5;28;01mraise\u001b[39;00m exception_class(message, screen, stacktrace)\n",
      "\u001b[1;31mElementClickInterceptedException\u001b[0m: Message: element click intercepted: Element <button class=\"styles_seeMore__oWZDz\" type=\"button\">...</button> is not clickable at point (270, 862). Other element would receive the click: <button type=\"button\" class=\"styles_BtnFilledSquareL___Ghm2 styles_cursor__zpch1\" style=\"height: 48px; padding: 0px 12px; background-color: var(--Violet50); min-width: 100%; border-radius: 4px;\">...</button>\n  (Session info: chrome=116.0.5845.180)\n"
     ]
    }
   ],
   "source": [
    "mongo_list = list()\n",
    "i = 1\n",
    "j = 9\n",
    "browser.find_element_by_css_selector('div:nth-child({0}) > div.styles_contentContainer___LMI8 > a'.format(i)).click()\n",
    "time.sleep(1)\n",
    "browser.find_element_by_css_selector('div:nth-child({0}) > section > div.styles_body__U5_ez > div > div > pre > button'.format(j)).click()\n",
    "time.sleep(1)\n",
    "review = browser.find_element_by_css_selector('div.styles_body__U5_ez > div > div > pre').text\n",
    "time.sleep(1)\n",
    "graid=browser.find_element_by_css_selector('div.styles_score__aUlv9').text\n",
    "time.sleep(1)\n",
    "name = browser.find_element_by_css_selector('div.styles_writer__1WQ0e > p').text\n",
    "time.sleep(1)\n",
    "date = browser.find_element_by_css_selector('p.styles_registrationDate__e6Da6').text\n",
    "time.sleep(1)\n",
    "i = i + 2\n",
    "j = j + 1\n",
    "browser.back() # 뒤돌아가기\n",
    "mongo_list = [review,graid,name,date]\n",
    "print(review,graid,name,date)"
   ]
  },
  {
   "cell_type": "code",
   "execution_count": null,
   "id": "6071f458-3be4-4ec9-b99d-e469cc9c8adb",
   "metadata": {},
   "outputs": [],
   "source": []
  }
 ],
 "metadata": {
  "kernelspec": {
   "display_name": "Python 3 (ipykernel)",
   "language": "python",
   "name": "python3"
  },
  "language_info": {
   "codemirror_mode": {
    "name": "ipython",
    "version": 3
   },
   "file_extension": ".py",
   "mimetype": "text/x-python",
   "name": "python",
   "nbconvert_exporter": "python",
   "pygments_lexer": "ipython3",
   "version": "3.11.3"
  }
 },
 "nbformat": 4,
 "nbformat_minor": 5
}
