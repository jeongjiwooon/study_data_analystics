{
 "cells": [
  {
   "cell_type": "code",
   "execution_count": 1,
   "id": "87a20517-6a71-4cc2-b535-5ea007574217",
   "metadata": {
    "tags": []
   },
   "outputs": [],
   "source": [
    "from selenium import webdriver"
   ]
  },
  {
   "cell_type": "code",
   "execution_count": 2,
   "id": "7b74008b-5151-47a2-9a2c-edbb57b4e6dd",
   "metadata": {
    "tags": []
   },
   "outputs": [],
   "source": [
    "# open chrome browser\n",
    "browser =  webdriver.Chrome(executable_path='../../../../chromedriver.exe')"
   ]
  },
  {
   "cell_type": "code",
   "execution_count": 3,
   "id": "320cb4e3-7486-40df-b198-9c459915b035",
   "metadata": {
    "tags": []
   },
   "outputs": [],
   "source": [
    "# url in address window\n",
    "browser.get('https://brunch.co.kr/keyword/%EC%B1%85%EB%A6%AC%EB%B7%B0')"
   ]
  },
  {
   "cell_type": "code",
   "execution_count": 4,
   "id": "80148ece-2761-488a-8ee7-7babfbb973da",
   "metadata": {
    "tags": []
   },
   "outputs": [
    {
     "data": {
      "text/plain": [
       "list"
      ]
     },
     "execution_count": 4,
     "metadata": {},
     "output_type": "execute_result"
    }
   ],
   "source": [
    "element = '.tit_sub'\n",
    "element_list=browser.find_elements_by_css_selector(element)\n",
    "type(element_list)"
   ]
  },
  {
   "cell_type": "code",
   "execution_count": 17,
   "id": "6046f9f2-e357-44d6-a795-29b0a619c4d3",
   "metadata": {
    "tags": []
   },
   "outputs": [],
   "source": [
    "#namelist에 텍스트 담아 내기\n",
    "namelist=[]\n",
    "for bookname in element_list:\n",
    "    namelist.append(bookname.text)\n"
   ]
  },
  {
   "cell_type": "code",
   "execution_count": 18,
   "id": "94aca600-72c9-4954-a317-d31ebea64b82",
   "metadata": {
    "tags": []
   },
   "outputs": [
    {
     "data": {
      "text/plain": [
       "['', \"'시인의 책상' 리뷰\", '히가시노 게이고 <블랙 쇼맨과 환상의 여자>', '정여울, <그때, 나에게 미처 하지 못한 말>']"
      ]
     },
     "execution_count": 18,
     "metadata": {},
     "output_type": "execute_result"
    }
   ],
   "source": [
    "namelist"
   ]
  },
  {
   "cell_type": "code",
   "execution_count": 8,
   "id": "4204f43c-be15-4675-8609-a255102d895d",
   "metadata": {
    "tags": []
   },
   "outputs": [],
   "source": [
    "import pandas as pd"
   ]
  },
  {
   "cell_type": "code",
   "execution_count": 9,
   "id": "062ea7c2-ba00-4ec4-a733-21423d542b3b",
   "metadata": {
    "tags": []
   },
   "outputs": [
    {
     "data": {
      "text/html": [
       "<div>\n",
       "<style scoped>\n",
       "    .dataframe tbody tr th:only-of-type {\n",
       "        vertical-align: middle;\n",
       "    }\n",
       "\n",
       "    .dataframe tbody tr th {\n",
       "        vertical-align: top;\n",
       "    }\n",
       "\n",
       "    .dataframe thead th {\n",
       "        text-align: right;\n",
       "    }\n",
       "</style>\n",
       "<table border=\"1\" class=\"dataframe\">\n",
       "  <thead>\n",
       "    <tr style=\"text-align: right;\">\n",
       "      <th></th>\n",
       "      <th>0</th>\n",
       "    </tr>\n",
       "  </thead>\n",
       "  <tbody>\n",
       "    <tr>\n",
       "      <th>0</th>\n",
       "      <td></td>\n",
       "    </tr>\n",
       "    <tr>\n",
       "      <th>1</th>\n",
       "      <td>'시인의 책상' 리뷰</td>\n",
       "    </tr>\n",
       "    <tr>\n",
       "      <th>2</th>\n",
       "      <td>히가시노 게이고 &lt;블랙 쇼맨과 환상의 여자&gt;</td>\n",
       "    </tr>\n",
       "    <tr>\n",
       "      <th>3</th>\n",
       "      <td>정여울, &lt;그때, 나에게 미처 하지 못한 말&gt;</td>\n",
       "    </tr>\n",
       "  </tbody>\n",
       "</table>\n",
       "</div>"
      ],
      "text/plain": [
       "                           0\n",
       "0                           \n",
       "1                '시인의 책상' 리뷰\n",
       "2   히가시노 게이고 <블랙 쇼맨과 환상의 여자>\n",
       "3  정여울, <그때, 나에게 미처 하지 못한 말>"
      ]
     },
     "execution_count": 9,
     "metadata": {},
     "output_type": "execute_result"
    }
   ],
   "source": [
    "booknames=pd.DataFrame(data=namelist)\n",
    "booknames"
   ]
  },
  {
   "cell_type": "code",
   "execution_count": null,
   "id": "9f0cbcba-905b-49e4-9245-4c8037f19f5b",
   "metadata": {
    "tags": []
   },
   "outputs": [],
   "source": [
    "# booknames.to_csv('./yes24_books_title.csv')"
   ]
  },
  {
   "cell_type": "code",
   "execution_count": null,
   "id": "6a82da78-0b0b-4e1b-ad64-4e6e89eb4d8c",
   "metadata": {},
   "outputs": [],
   "source": []
  }
 ],
 "metadata": {
  "kernelspec": {
   "display_name": "Python 3 (ipykernel)",
   "language": "python",
   "name": "python3"
  },
  "language_info": {
   "codemirror_mode": {
    "name": "ipython",
    "version": 3
   },
   "file_extension": ".py",
   "mimetype": "text/x-python",
   "name": "python",
   "nbconvert_exporter": "python",
   "pygments_lexer": "ipython3",
   "version": "3.11.3"
  }
 },
 "nbformat": 4,
 "nbformat_minor": 5
}
