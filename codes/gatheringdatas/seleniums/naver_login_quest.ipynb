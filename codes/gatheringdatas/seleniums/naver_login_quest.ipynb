{
 "cells": [
  {
   "cell_type": "markdown",
   "id": "aa196062-878a-4b04-8d98-0fdc88254456",
   "metadata": {},
   "source": [
    "### naver signin"
   ]
  },
  {
   "cell_type": "code",
   "execution_count": 7,
   "id": "34b2d281-923b-4dd8-99d9-db4d728d279d",
   "metadata": {
    "tags": []
   },
   "outputs": [],
   "source": [
    "from selenium import webdriver\n",
    "browser =  webdriver.Chrome(executable_path='../../../../chromedriver.exe')\n",
    "browser.get('https://www.naver.com/')"
   ]
  },
  {
   "cell_type": "markdown",
   "id": "c369c75e-e528-4391-a4d7-3671dd0f5672",
   "metadata": {},
   "source": [
    "#### Login 화면 링크 tag \n",
    "- click tag : #account > div > a"
   ]
  },
  {
   "cell_type": "code",
   "execution_count": 8,
   "id": "c41d7531-7ea8-4fa6-ac39-43b6da23df7d",
   "metadata": {
    "tags": []
   },
   "outputs": [],
   "source": [
    "element_path = '#account > div > a'\n",
    "login_menu = browser.find_element_by_css_selector(element_path)\n",
    "login_menu.click()"
   ]
  },
  {
   "cell_type": "markdown",
   "id": "b036138a-ebc8-42a3-866d-afc6dd12e6e5",
   "metadata": {
    "tags": []
   },
   "source": [
    "#### Login 화면\n",
    "- user id input tag : #id\n",
    "- password input tag : #pw\n",
    "- click tag : #log\\.login\n",
    "- click mail : #shortcutArea > ul > li:nth-child(1) > a"
   ]
  },
  {
   "cell_type": "code",
   "execution_count": 9,
   "id": "9844c3eb-97f9-4bd6-82ef-62a07bd6f040",
   "metadata": {
    "tags": []
   },
   "outputs": [],
   "source": [
    "element_path = '#id'\n",
    "login_field = browser.find_element_by_css_selector(element_path)\n",
    "login_field.send_keys('leeban21')"
   ]
  },
  {
   "cell_type": "code",
   "execution_count": 10,
   "id": "65c066a2-c994-4bed-bccd-6637eff25468",
   "metadata": {
    "tags": []
   },
   "outputs": [],
   "source": [
    "element_path = '#pw'\n",
    "password_field = browser.find_element_by_css_selector(element_path)\n",
    "password_field.send_keys('password')"
   ]
  },
  {
   "cell_type": "code",
   "execution_count": 11,
   "id": "f57e9198-e328-466d-9d98-23a83caca685",
   "metadata": {
    "tags": []
   },
   "outputs": [],
   "source": [
    "element_path = '#log\\.login'\n",
    "signin_button = browser.find_element_by_css_selector(element_path)\n",
    "signin_button.click()"
   ]
  },
  {
   "cell_type": "code",
   "execution_count": 12,
   "id": "8fd9c857-fd26-44dd-a893-fa438123f3f3",
   "metadata": {},
   "outputs": [],
   "source": [
    "element_path = '#shortcutArea > ul > li:nth-child(1) > a'\n",
    "mail_button = browser.find_element_by_css_selector(element_path)\n",
    "mail_button.click()"
   ]
  },
  {
   "cell_type": "code",
   "execution_count": 13,
   "id": "e5df3b16-9e8f-4bce-aa8c-2715688598f8",
   "metadata": {
    "tags": []
   },
   "outputs": [],
   "source": [
    "browser.close()"
   ]
  },
  {
   "cell_type": "code",
   "execution_count": null,
   "id": "bcacc221-db25-459d-97b9-c325b1ce0f58",
   "metadata": {},
   "outputs": [],
   "source": []
  }
 ],
 "metadata": {
  "kernelspec": {
   "display_name": "Python 3 (ipykernel)",
   "language": "python",
   "name": "python3"
  },
  "language_info": {
   "codemirror_mode": {
    "name": "ipython",
    "version": 3
   },
   "file_extension": ".py",
   "mimetype": "text/x-python",
   "name": "python",
   "nbconvert_exporter": "python",
   "pygments_lexer": "ipython3",
   "version": "3.11.3"
  }
 },
 "nbformat": 4,
 "nbformat_minor": 5
}
